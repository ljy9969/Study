{
  "nbformat": 4,
  "nbformat_minor": 0,
  "metadata": {
    "colab": {
      "name": "22-03-28 Python.ipynb",
      "provenance": [],
      "collapsed_sections": [],
      "authorship_tag": "ABX9TyPwl/BYEh38eF5L2zNSggUi",
      "include_colab_link": true
    },
    "kernelspec": {
      "name": "python3",
      "display_name": "Python 3"
    },
    "language_info": {
      "name": "python"
    }
  },
  "cells": [
    {
      "cell_type": "markdown",
      "metadata": {
        "id": "view-in-github",
        "colab_type": "text"
      },
      "source": [
        "<a href=\"https://colab.research.google.com/github/ljy9969/Study/blob/master/22-03-28%20Python.ipynb\" target=\"_parent\"><img src=\"https://colab.research.google.com/assets/colab-badge.svg\" alt=\"Open In Colab\"/></a>"
      ]
    },
    {
      "cell_type": "markdown",
      "source": [
        "백준 조건문 2525번 오븐 시계\n",
        "\n",
        "훈제오리구이를 시작하는 시각과 오븐구이를 하는 데 필요한 시간이 분단위로 주어졌을 때, 오븐구이가 끝나는 시각을 계산하는 프로그램을 작성하시오."
      ],
      "metadata": {
        "id": "wyxZIMKn6lNz"
      }
    },
    {
      "cell_type": "code",
      "source": [
        "# H, M = map(int, input().split())\n",
        "# if 24 >= H >= 0 and 60 >= M >= 45:\n",
        "#   print(H, M - 45)\n",
        "# elif 0 == H and 45 > M:\n",
        "#   print(H + 23, M + 15)\n",
        "# elif 24 >= H > 0 and 45 > M:\n",
        "#   print(H - 1, M + 15)\n",
        "\n",
        "A, B = map(int, input().split())\n",
        "C = int(input())\n",
        "if 0 <= A <= 24 and (B + C) <= 59:\n",
        "  print(A,(B + C))\n",
        "elif 0 <= A < 23 and (B + C) == 60:\n",
        "  print(A + 1, 0)\n",
        "elif 0 <= A < 23 and (B + C) > 60:\n",
        "  print(A + 1, (B + C - 60))\n",
        "elif A == 23 and (B + C) > 59:\n",
        "  print(0, (B + C - 60))"
      ],
      "metadata": {
        "colab": {
          "base_uri": "https://localhost:8080/"
        },
        "id": "fqb6sToZ6muQ",
        "outputId": "38ca1895-4a7f-41e8-b0b3-4c327b5a7f7e"
      },
      "execution_count": 13,
      "outputs": [
        {
          "output_type": "stream",
          "name": "stdout",
          "text": [
            "17 40\n",
            "80\n",
            "18 60\n"
          ]
        }
      ]
    },
    {
      "cell_type": "markdown",
      "source": [
        ""
      ],
      "metadata": {
        "id": "KVKgwL-L6mFw"
      }
    },
    {
      "cell_type": "code",
      "source": [
        ""
      ],
      "metadata": {
        "id": "tgwu1w0q6mOJ"
      },
      "execution_count": null,
      "outputs": []
    },
    {
      "cell_type": "markdown",
      "source": [
        ""
      ],
      "metadata": {
        "id": "MSHZSDLs6mV4"
      }
    },
    {
      "cell_type": "code",
      "source": [
        ""
      ],
      "metadata": {
        "id": "B5Q3CWnj6meB"
      },
      "execution_count": null,
      "outputs": []
    },
    {
      "cell_type": "markdown",
      "source": [
        ""
      ],
      "metadata": {
        "id": "u2U06OLf6mmq"
      }
    },
    {
      "cell_type": "code",
      "execution_count": null,
      "metadata": {
        "id": "KI3RRZZR6egP"
      },
      "outputs": [],
      "source": [
        ""
      ]
    },
    {
      "cell_type": "markdown",
      "source": [
        ""
      ],
      "metadata": {
        "id": "IrbBAAPX6qkI"
      }
    },
    {
      "cell_type": "code",
      "source": [
        ""
      ],
      "metadata": {
        "id": "hRixq87k6qtA"
      },
      "execution_count": null,
      "outputs": []
    }
  ]
}