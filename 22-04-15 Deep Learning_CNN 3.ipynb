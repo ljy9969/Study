{
  "nbformat": 4,
  "nbformat_minor": 0,
  "metadata": {
    "colab": {
      "name": "0415 MNIST CNN Tensorflow 2.x.ipynb",
      "provenance": [],
      "collapsed_sections": [],
      "mount_file_id": "1rcux3h7vmnGgonH6bQ7tjyvwW43SmC1H",
      "authorship_tag": "ABX9TyNPq069RonVJvuJxGhlO4fJ",
      "include_colab_link": true
    },
    "kernelspec": {
      "name": "python3",
      "display_name": "Python 3"
    },
    "language_info": {
      "name": "python"
    },
    "accelerator": "GPU"
  },
  "cells": [
    {
      "cell_type": "markdown",
      "metadata": {
        "id": "view-in-github",
        "colab_type": "text"
      },
      "source": [
        "<a href=\"https://colab.research.google.com/github/ljy9969/Study/blob/master/22-04-15%20Deep%20Learning_CNN%203.ipynb\" target=\"_parent\"><img src=\"https://colab.research.google.com/assets/colab-badge.svg\" alt=\"Open In Colab\"/></a>"
      ]
    },
    {
      "cell_type": "code",
      "execution_count": null,
      "metadata": {
        "id": "-rSuimYZjuuP"
      },
      "outputs": [],
      "source": [
        "import numpy as np\n",
        "import pandas as pd\n",
        "import tensorflow as tf\n",
        "from tensorflow.keras.models import Sequential\n",
        "from tensorflow.keras.layers import Flatten, Dense\n",
        "from tensorflow.keras.layers import Conv2D, MaxPooling2D, Dropout\n",
        "from tensorflow.keras.optimizers import Adam\n",
        "from sklearn.preprocessing import MinMaxScaler\n",
        "from sklearn.model_selection import train_test_split\n",
        "import matplotlib.pyplot as plt"
      ]
    },
    {
      "cell_type": "code",
      "source": [
        "# Raw Data Loading\n",
        "\n",
        "df = pd.read_csv('/content/drive/MyDrive/Colab 멀캠 이지연/mnist/train.csv')\n",
        "\n",
        "# Data Preprocessing : 결측치, 이상치, 정규화, feature engineering\n",
        "\n",
        "# Data Split\n",
        "train_x_data, test_x_data, train_t_data, test_t_data = \\\n",
        "train_test_split(df.drop('label', axis=1, inplace=False),\n",
        "                 df['label'],\n",
        "                 test_size=0.3,\n",
        "                 random_state=1,\n",
        "                 stratify=df['label'])\n",
        "\n",
        "# x_data 정규화\n",
        "scaler = MinMaxScaler()\n",
        "scaler.fit(train_x_data)\n",
        "norm_train_x_data = scaler.transform(train_x_data)\n",
        "norm_test_x_data = scaler.transform(test_x_data)\n",
        "\n",
        "# t_data One-Hot Encoding 진행 필요 없음"
      ],
      "metadata": {
        "id": "Lixc1UWaoE4q"
      },
      "execution_count": null,
      "outputs": []
    },
    {
      "cell_type": "code",
      "source": [
        "# Keras 구현\n",
        "\n",
        "model = Sequential()\n",
        "model.add(Conv2D(filters=32, kernel_size=(3,3), # filter 개수, kernel_size=3\n",
        "                 activation='relu',\n",
        "                 input_shape=(28,28,1), # (이미지 개수, 이미지 height, 이미지 width, Channel)\n",
        "                 padding='valid',\n",
        "                 strides=(1,1))) # strides=1\n",
        "\n",
        "model.add(MaxPooling2D(pool_size=(2,2))) # strides는 알아서 ksize와 동일하게 잡음. 1/2\n",
        "\n",
        "model.add(Conv2D(filters=64, kernel_size=(3,3),\n",
        "                 activation='relu',\n",
        "                 padding='valid',\n",
        "                 strides=(1,1)))\n",
        "\n",
        "model.add(MaxPooling2D(pool_size=(2,2)))\n",
        "\n",
        "model.add(Conv2D(filters=64, kernel_size=(3,3),\n",
        "                 activation='relu',\n",
        "                 padding='valid',\n",
        "                 strides=(1,1))) # (None, 3, 3, 64)\n",
        "\n",
        "model.add(Flatten()) # 이미지 개수를 제외한 output(3차원)을 1차원으로 펴줌\n",
        "model.add(Dropout(rate=0.5))\n",
        "model.add(Dense(units=256, # hidden layer\n",
        "                activation='relu'))\n",
        "\n",
        "model.add(Dense(units=10,\n",
        "                activation='softmax'))\n",
        "\n",
        "print(model.summary()) # Model 명세"
      ],
      "metadata": {
        "colab": {
          "base_uri": "https://localhost:8080/"
        },
        "id": "wo4ydPcvwiRX",
        "outputId": "edc258d8-3c8f-43c3-8353-37be152b88f9"
      },
      "execution_count": null,
      "outputs": [
        {
          "output_type": "stream",
          "name": "stdout",
          "text": [
            "Model: \"sequential\"\n",
            "_________________________________________________________________\n",
            " Layer (type)                Output Shape              Param #   \n",
            "=================================================================\n",
            " conv2d (Conv2D)             (None, 26, 26, 32)        320       \n",
            "                                                                 \n",
            " max_pooling2d (MaxPooling2D  (None, 13, 13, 32)       0         \n",
            " )                                                               \n",
            "                                                                 \n",
            " conv2d_1 (Conv2D)           (None, 11, 11, 64)        18496     \n",
            "                                                                 \n",
            " max_pooling2d_1 (MaxPooling  (None, 5, 5, 64)         0         \n",
            " 2D)                                                             \n",
            "                                                                 \n",
            " conv2d_2 (Conv2D)           (None, 3, 3, 64)          36928     \n",
            "                                                                 \n",
            " flatten (Flatten)           (None, 576)               0         \n",
            "                                                                 \n",
            " dropout (Dropout)           (None, 576)               0         \n",
            "                                                                 \n",
            " dense (Dense)               (None, 256)               147712    \n",
            "                                                                 \n",
            " dense_1 (Dense)             (None, 10)                2570      \n",
            "                                                                 \n",
            "=================================================================\n",
            "Total params: 206,026\n",
            "Trainable params: 206,026\n",
            "Non-trainable params: 0\n",
            "_________________________________________________________________\n",
            "None\n"
          ]
        }
      ]
    },
    {
      "cell_type": "code",
      "source": [
        "# model 실행 옵션\n",
        "model.compile(optimizer=Adam(learning_rate=1e-3), # 어떤 optimizer를 사용하느냐에 따라 learning rate가 달라짐(알고리즘이 다르기 때문)\n",
        "              loss='sparse_categorical_crossentropy',\n",
        "              metrics=['accuracy'])"
      ],
      "metadata": {
        "id": "IXj8GY5tBiOn"
      },
      "execution_count": null,
      "outputs": []
    },
    {
      "cell_type": "code",
      "source": [
        "# model 학습\n",
        "\n",
        "# t_data의 일부를 valid_data로 활용해서, 학습이 진행될 때(epoch)마다 평가를 함께 진행\n",
        "history = model.fit(norm_train_x_data.reshape(-1,28,28,1),\n",
        "                    train_t_data,\n",
        "                    epochs=200,\n",
        "                    batch_size=100,\n",
        "                    verbose=0,\n",
        "                    validation_split=0.3)"
      ],
      "metadata": {
        "id": "sWb2jeADCx5B"
      },
      "execution_count": null,
      "outputs": []
    },
    {
      "cell_type": "code",
      "source": [
        "# print(type(history)) # <class 'keras.callbacks.History'>\n",
        "# print(history.history.keys()) # dict_keys(['loss', 'accuracy', 'val_loss', 'val_accuracy'])\n",
        "\n",
        "figure = plt.figure(figsize=(15, 5))\n",
        "\n",
        "ax1 = figure.add_subplot(1,2,1)\n",
        "ax2 = figure.add_subplot(1,2,2)\n",
        "\n",
        "ax1.plot(history.history['loss'], color='r')\n",
        "ax1.plot(history.history['val_loss'], color='b')\n",
        "\n",
        "ax2.plot(history.history['accuracy'], color='r')\n",
        "ax2.plot(history.history['val_accuracy'], color='b')"
      ],
      "metadata": {
        "colab": {
          "base_uri": "https://localhost:8080/",
          "height": 374
        },
        "id": "ByxmgWICn4a5",
        "outputId": "1a750b1f-7af8-4838-e58a-b13f5e6b4cfc"
      },
      "execution_count": null,
      "outputs": [
        {
          "output_type": "stream",
          "name": "stdout",
          "text": [
            "<class 'keras.callbacks.History'>\n",
            "dict_keys(['loss', 'accuracy', 'val_loss', 'val_accuracy'])\n"
          ]
        },
        {
          "output_type": "execute_result",
          "data": {
            "text/plain": [
              "[<matplotlib.lines.Line2D at 0x7fbef606c050>]"
            ]
          },
          "metadata": {},
          "execution_count": 15
        },
        {
          "output_type": "display_data",
          "data": {
            "text/plain": [
              "<Figure size 1080x360 with 2 Axes>"
            ],
            "image/png": "[encoded data removed]"
          },
          "metadata": {
            "needs_background": "light"
          }
        }
      ]
    },
    {
      "cell_type": "code",
      "source": [
        "# 세션 튕겨도 재학습할 필요 없게 학습된 모델 저장(모델의 구조 + 계산된 weights, bias) 확장자는 h5(HDF5) 형식\n",
        "model.save('/content/drive/MyDrive/Colab 멀캠 이지연/mnist_model_save/my_mnist_model.h5')"
      ],
      "metadata": {
        "id": "1VZHSmrnGg8b"
      },
      "execution_count": null,
      "outputs": []
    },
    {
      "cell_type": "code",
      "source": [
        "# Evaluation\n",
        "model.evaluate(norm_test_x_data.reshape(-1,28,28,1), test_t_data) # loss: 0.1032 - accuracy: 0.9900"
      ],
      "metadata": {
        "colab": {
          "base_uri": "https://localhost:8080/"
        },
        "id": "TJKdBuVWbHAo",
        "outputId": "ece4bfe2-89e5-450b-f874-42ad776eca9f"
      },
      "execution_count": null,
      "outputs": [
        {
          "output_type": "stream",
          "name": "stdout",
          "text": [
            "394/394 [==============================] - 1s 3ms/step - loss: 0.1032 - accuracy: 0.9900\n"
          ]
        },
        {
          "output_type": "execute_result",
          "data": {
            "text/plain": [
              "[0.10324013233184814, 0.9900000095367432]"
            ]
          },
          "metadata": {},
          "execution_count": 17
        }
      ]
    },
    {
      "cell_type": "code",
      "source": [
        "# 모델 생성, 학습 없이 저장된 모델을 불러와서 평가\n",
        "from tensorflow.keras.models import load_model\n",
        "\n",
        "new_model = load_model('/content/drive/MyDrive/Colab 멀캠 이지연/mnist_model_save/my_mnist_model.h5')\n",
        "new_model.evaluate(norm_test_x_data.reshape(-1,28,28,1), test_t_data) # loss: 0.1032 - accuracy: 0.9900"
      ],
      "metadata": {
        "colab": {
          "base_uri": "https://localhost:8080/"
        },
        "id": "asNqNaeJcj-S",
        "outputId": "b82c32aa-c80b-4e76-c8aa-aaba872931f7"
      },
      "execution_count": null,
      "outputs": [
        {
          "output_type": "stream",
          "name": "stdout",
          "text": [
            "394/394 [==============================] - 1s 3ms/step - loss: 0.1032 - accuracy: 0.9900\n"
          ]
        },
        {
          "output_type": "execute_result",
          "data": {
            "text/plain": [
              "[0.10324013233184814, 0.9900000095367432]"
            ]
          },
          "metadata": {},
          "execution_count": 18
        }
      ]
    },
    {
      "cell_type": "code",
      "source": [
        "# model 학습(ckpt, early stopping, callback 포함)\n",
        "from tensorflow.keras.callbacks import ModelCheckpoint, EarlyStopping\n",
        "\n",
        "# Check Point 설정\n",
        "checkpoint_path = '/content/drive/MyDrive/Colab 멀캠 이지연/mnist_model_save/cp-{epoch:04d}.ckpt'\n",
        "cp_callback = ModelCheckpoint(checkpoint_path,\n",
        "                              save_weights_only=True,\n",
        "                              period=5, # 5 epoch마다 저장\n",
        "                              verbose=1)\n",
        "\n",
        "# Early Stopping\n",
        "es = EarlyStopping(monitor='val_loss',\n",
        "                   min_delta=0.001,\n",
        "                   patience=5,\n",
        "                   verbose=1,\n",
        "                   mode='auto',\n",
        "                   restore_best_weights=True)\n",
        "\n",
        "history = model.fit(norm_train_x_data.reshape(-1,28,28,1),\n",
        "                    train_t_data,\n",
        "                    epochs=50,\n",
        "                    batch_size=100,\n",
        "                    verbose=1,\n",
        "                    validation_split=0.3,\n",
        "                    callbacks=[cp_callback, es])"
      ],
      "metadata": {
        "colab": {
          "base_uri": "https://localhost:8080/"
        },
        "id": "eA8pK13vd5u4",
        "outputId": "f5604d44-d652-45fe-ec42-89cfe2eea2cd"
      },
      "execution_count": null,
      "outputs": [
        {
          "output_type": "stream",
          "name": "stdout",
          "text": [
            "WARNING:tensorflow:`period` argument is deprecated. Please use `save_freq` to specify the frequency in number of batches seen.\n",
            "Epoch 1/50\n",
            "206/206 [==============================] - 1s 7ms/step - loss: 8.8413e-04 - accuracy: 0.9996 - val_loss: 0.0843 - val_accuracy: 0.9895\n",
            "Epoch 2/50\n",
            "206/206 [==============================] - 1s 5ms/step - loss: 0.0035 - accuracy: 0.9991 - val_loss: 0.0796 - val_accuracy: 0.9912\n",
            "Epoch 3/50\n",
            "206/206 [==============================] - 1s 5ms/step - loss: 0.0031 - accuracy: 0.9991 - val_loss: 0.0798 - val_accuracy: 0.9906\n",
            "Epoch 4/50\n",
            "206/206 [==============================] - 1s 5ms/step - loss: 0.0033 - accuracy: 0.9988 - val_loss: 0.0887 - val_accuracy: 0.9891\n",
            "Epoch 5/50\n",
            "201/206 [============================>.] - ETA: 0s - loss: 0.0024 - accuracy: 0.9993\n",
            "Epoch 5: saving model to /content/drive/MyDrive/Colab 멀캠 이지연/mnist_model_save/cp-0005.ckpt\n",
            "206/206 [==============================] - 1s 6ms/step - loss: 0.0024 - accuracy: 0.9993 - val_loss: 0.0780 - val_accuracy: 0.9900\n",
            "Epoch 6/50\n",
            "206/206 [==============================] - 1s 5ms/step - loss: 0.0032 - accuracy: 0.9989 - val_loss: 0.0898 - val_accuracy: 0.9897\n",
            "Epoch 7/50\n",
            "206/206 [==============================] - 1s 6ms/step - loss: 0.0019 - accuracy: 0.9993 - val_loss: 0.0828 - val_accuracy: 0.9899\n",
            "Epoch 8/50\n",
            "206/206 [==============================] - 1s 6ms/step - loss: 0.0021 - accuracy: 0.9994 - val_loss: 0.0856 - val_accuracy: 0.9906\n",
            "Epoch 9/50\n",
            "206/206 [==============================] - 1s 5ms/step - loss: 0.0014 - accuracy: 0.9996 - val_loss: 0.0902 - val_accuracy: 0.9900\n",
            "Epoch 10/50\n",
            "200/206 [============================>.] - ETA: 0s - loss: 0.0036 - accuracy: 0.9989\n",
            "Epoch 10: saving model to /content/drive/MyDrive/Colab 멀캠 이지연/mnist_model_save/cp-0010.ckpt\n",
            "Restoring model weights from the end of the best epoch: 5.\n",
            "206/206 [==============================] - 1s 6ms/step - loss: 0.0036 - accuracy: 0.9989 - val_loss: 0.0926 - val_accuracy: 0.9889\n",
            "Epoch 10: early stopping\n"
          ]
        }
      ]
    }
  ]
}