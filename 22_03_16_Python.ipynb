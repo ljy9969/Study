{
  "nbformat": 4,
  "nbformat_minor": 0,
  "metadata": {
    "colab": {
      "name": "22_03_16_Python.ipynb",
      "provenance": [],
      "authorship_tag": "ABX9TyNhrIP5yIDtf8dOIi/iJlcn",
      "include_colab_link": true
    },
    "kernelspec": {
      "name": "python3",
      "display_name": "Python 3"
    },
    "language_info": {
      "name": "python"
    }
  },
  "cells": [
    {
      "cell_type": "markdown",
      "metadata": {
        "id": "view-in-github",
        "colab_type": "text"
      },
      "source": [
        "<a href=\"https://colab.research.google.com/github/ljy9969/Study/blob/master/22_03_16_Python.ipynb\" target=\"_parent\"><img src=\"https://colab.research.google.com/assets/colab-badge.svg\" alt=\"Open In Colab\"/></a>"
      ]
    },
    {
      "cell_type": "code",
      "execution_count": null,
      "metadata": {
        "colab": {
          "base_uri": "https://localhost:8080/"
        },
        "id": "nZGvcrHvvDAw",
        "outputId": "511cea2a-3944-4537-85da-7222dd85f249"
      },
      "outputs": [
        {
          "output_type": "stream",
          "name": "stdout",
          "text": [
            "1\n",
            "10\n",
            "10\n",
            "1\n"
          ]
        }
      ],
      "source": [
        "a = input(); b = input();\n",
        "print(b); print(a);"
      ]
    },
    {
      "cell_type": "code",
      "source": [
        "a = input()\n",
        "print(a); print(a); print(a);"
      ],
      "metadata": {
        "colab": {
          "base_uri": "https://localhost:8080/"
        },
        "id": "VWmZ8iuQvvcl",
        "outputId": "3b03752f-366d-4959-8e27-741e979f2af8"
      },
      "execution_count": null,
      "outputs": [
        {
          "output_type": "stream",
          "name": "stdout",
          "text": [
            "5\n",
            "5\n",
            "5\n",
            "5\n"
          ]
        }
      ]
    },
    {
      "cell_type": "code",
      "source": [
        "a, b = input().split()\n",
        "print(a); print(b);"
      ],
      "metadata": {
        "colab": {
          "base_uri": "https://localhost:8080/"
        },
        "id": "bnaQiVRDyZCK",
        "outputId": "5de8315d-5057-48a3-9737-569148f79fa2"
      },
      "execution_count": null,
      "outputs": [
        {
          "output_type": "stream",
          "name": "stdout",
          "text": [
            "1 5\n",
            "1\n",
            "5\n"
          ]
        }
      ]
    },
    {
      "cell_type": "code",
      "source": [
        "print('코드업 사이트 진입이 안되는데?!?!')"
      ],
      "metadata": {
        "colab": {
          "base_uri": "https://localhost:8080/"
        },
        "id": "PItqD1sMtSPT",
        "outputId": "a801304d-4514-4583-a588-2461a96a47a0"
      },
      "execution_count": null,
      "outputs": [
        {
          "output_type": "stream",
          "name": "stdout",
          "text": [
            "코드업 사이트 진입이 안되는데?!?!\n"
          ]
        }
      ]
    }
  ]
}