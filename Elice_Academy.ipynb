{
  "nbformat": 4,
  "nbformat_minor": 0,
  "metadata": {
    "colab": {
      "name": "Elice Academy",
      "provenance": [],
      "collapsed_sections": [],
      "authorship_tag": "ABX9TyMOcHKftDlS3doo4nVk62rv",
      "include_colab_link": true
    },
    "kernelspec": {
      "name": "python3",
      "display_name": "Python 3"
    },
    "language_info": {
      "name": "python"
    }
  },
  "cells": [
    {
      "cell_type": "markdown",
      "metadata": {
        "id": "view-in-github",
        "colab_type": "text"
      },
      "source": [
        "<a href=\"https://colab.research.google.com/github/ljy9969/Study/blob/master/Elice_Academy.ipynb\" target=\"_parent\"><img src=\"https://colab.research.google.com/assets/colab-badge.svg\" alt=\"Open In Colab\"/></a>"
      ]
    },
    {
      "cell_type": "code",
      "execution_count": null,
      "metadata": {
        "id": "KTi6JEjHTmgD"
      },
      "outputs": [],
      "source": [
        "num = int(input())\n",
        "if num % 2 == 0:\n",
        "    print(num, \"짝수입니다.\")\n",
        "else:\n",
        "    print(num, \"홀수입니다.\")"
      ]
    },
    {
      "cell_type": "code",
      "source": [
        "answer = 25\n",
        "submit = int(input())\n",
        "if answer < submit:\n",
        "    print(\"정답보다 더 큰 수를 입력했습니다.\")\n",
        "elif answer > submit:\n",
        "    print(\"정답보다 더 작은 수를 입력했습니다.\")\n",
        "else:\n",
        "    print(\"정답!\")"
      ],
      "metadata": {
        "id": "iO2VnP3hU-Mr"
      },
      "execution_count": null,
      "outputs": []
    },
    {
      "cell_type": "code",
      "source": [
        "mix = \"쌀씰쌀쌀씰쌀씰쌀씰쌀쌀씰쌀씰쌀씰쌀쌀씰쌀씰쌀씰쌀쌀씰쌀씰쌀씰쌀쌀씰쌀씰쌀씰쌀쌀씰쌀씰쌀씰쌀쌀씰쌀씰쌀씰쌀쌀씰쌀씰쌀씰쌀쌀씰쌀씰쌀씰쌀쌀씰쌀씰쌀씰쌀쌀씰쌀씰쌀씰쌀쌀씰쌀씰쌀씰쌀쌀씰쌀씰쌀씰쌀쌀씰쌀씰쌀씰쌀쌀씰쌀씰쌀씰쌀쌀씰쌀씰쌀씰쌀쌀씰쌀씰쌀씰쌀쌀씰쌀씰쌀씰쌀쌀씰쌀씰쌀씰쌀쌀씰쌀씰쌀씰쌀쌀씰쌀씰쌀씰쌀쌀씰쌀씰쌀씰쌀쌀씰쌀씰쌀씰쌀쌀씰쌀씰쌀씰쌀쌀씰쌀씰쌀씰쌀쌀씰쌀씰쌀씰쌀쌀씰쌀씰쌀씰쌀쌀씰쌀씰쌀씰쌀쌀씰쌀씰쌀씰쌀쌀씰쌀씰쌀씰쌀쌀씰쌀씰쌀씰쌀쌀씰쌀씰쌀씰쌀쌀씰쌀씰쌀씰쌀쌀씰쌀씰쌀씰쌀쌀씰쌀씰쌀씰쌀쌀씰쌀씰쌀씰쌀쌀씰쌀씰쌀씰쌀쌀씰쌀씰쌀씰쌀쌀씰쌀씰쌀씰쌀쌀씰쌀씰쌀씰쌀쌀씰쌀씰쌀씰쌀쌀씰쌀씰쌀씰쌀쌀씰쌀씰쌀씰쌀쌀씰쌀씰쌀씰쌀쌀씰쌀씰쌀씰쌀쌀씰쌀씰쌀씰쌀쌀씰쌀씰쌀씰쌀쌀씰쌀씰쌀씰쌀쌀씰쌀씰쌀씰쌀쌀씰쌀씰쌀씰쌀쌀씰쌀씰쌀씰쌀쌀씰쌀씰쌀씰쌀쌀씰쌀씰쌀씰쌀쌀씰쌀씰쌀씰쌀쌀씰쌀씰쌀씰쌀쌀씰쌀씰쌀씰쌀쌀씰쌀씰쌀씰쌀쌀씰쌀씰쌀씰쌀쌀씰쌀씰쌀씰쌀쌀씰쌀씰쌀씰쌀쌀씰쌀씰쌀씰쌀쌀씰쌀씰쌀씰쌀쌀씰쌀씰쌀씰쌀쌀씰쌀씰쌀씰쌀쌀씰쌀씰쌀씰쌀쌀씰쌀씰쌀씰쌀쌀씰쌀씰쌀씰쌀쌀씰쌀씰쌀씰쌀쌀씰쌀씰쌀씰쌀쌀씰쌀씰쌀씰쌀쌀씰쌀씰쌀씰쌀쌀씰쌀씰쌀씰쌀쌀씰쌀씰쌀씰쌀쌀씰쌀씰쌀씰쌀쌀씰쌀씰\"\n",
        "count = 0\n",
        "for i in mix:\n",
        "    if i == \"쌀\":\n",
        "        count += 1\n",
        "print(count)"
      ],
      "metadata": {
        "id": "ZWSGX3TPVMYZ"
      },
      "execution_count": null,
      "outputs": []
    },
    {
      "cell_type": "code",
      "source": [
        "for i in range(1, 20):\n",
        "    print(\"19 *\", i, \"=\", 19 * i)"
      ],
      "metadata": {
        "id": "J3Wn4JOtVZoy"
      },
      "execution_count": null,
      "outputs": []
    },
    {
      "cell_type": "code",
      "source": [
        "i = 1\n",
        "while i<11:\n",
        "    print(i, \" 년째 수감 중입니다.\")\n",
        "    i = i + 1\n",
        "print(\"감옥에서 석방되었습니다!\")"
      ],
      "metadata": {
        "id": "wzYoqc_XVf2j"
      },
      "execution_count": null,
      "outputs": []
    },
    {
      "cell_type": "code",
      "source": [
        "i = 1\n",
        "ans = 0\n",
        "while True:\n",
        "    ans = ans + i\n",
        "    if i == 10:\n",
        "        break\n",
        "    i = i + 1\n",
        "print(ans)"
      ],
      "metadata": {
        "id": "P_i0neUxVt5r"
      },
      "execution_count": null,
      "outputs": []
    },
    {
      "cell_type": "code",
      "source": [
        "lyrics = \"낙엽을,닮은,너의,눈동자를,나는,정말,정말,좋아했었어,가을을,닮은,너의,목소리를,나는,아직,아직,잊지,못했어,같이,걸으면서,들었던,낙엽,소리가,내,귓가에,들려오는,것만,같아,함께,앉아,있던,좁다란,나무,벤치엔,너의,온기가,남아있는,것만,같아,낙엽을,닮은,너의,눈동자를,나는,정말,정말,좋아했었어,가을을,닮은,너의,목소리를,나는,아직,아직,잊지,못했어\"\n",
        "lyric = lyrics.split(',')\n",
        "print(lyric[45])"
      ],
      "metadata": {
        "id": "iiD5YJ1PVxGx"
      },
      "execution_count": null,
      "outputs": []
    },
    {
      "cell_type": "code",
      "source": [
        "def plus_print(a, b):\n",
        "    print(a + b)\n",
        "    \n",
        "def times_return(a, b):\n",
        "    return a * b\n",
        "\n",
        "plus_print(3, 4)\n",
        "print(times_return(3, 4))"
      ],
      "metadata": {
        "id": "Jc0cnogwV3y4"
      },
      "execution_count": null,
      "outputs": []
    },
    {
      "cell_type": "code",
      "source": [
        "def solve(a, b):\n",
        "    return a * b\n",
        "var1 = solve(3, 4)\n",
        "var2 = solve(3, ['Cham'])\n",
        "print(var1, var2)"
      ],
      "metadata": {
        "id": "N4H_a1vQV_ef"
      },
      "execution_count": null,
      "outputs": []
    },
    {
      "cell_type": "code",
      "source": [
        "def our_max(a):\n",
        "    a.sort()\n",
        "    return a[-1]\n",
        "print(our_max([1, 2, 10, 9, 3, 7, 0, 99, 27, 85]))"
      ],
      "metadata": {
        "id": "P-3HQxzcWIMw"
      },
      "execution_count": null,
      "outputs": []
    },
    {
      "cell_type": "markdown",
      "source": [
        "냉정과 열정 사이에 있는 사랑의 개수는?\n",
        "문자열 “냉정”, “열정”이 각각 1개씩, 나머지는 모두 문자열 “사랑”으로 가득 찬 리스트 emotion이 주어질 때, 냉정과 열정 사이의 “사랑” 문자열이 몇 개 있는지 확인하려고 합니다.\n",
        "\n",
        "“사랑” 문자열이 몇 개 있는지 알기 위해 아래 지시사항대로 프로그램을 작성하세요.\n",
        "\n",
        "\n",
        "지시사항\n",
        "아래 내용을 읽고 hot_cold함수를 올바르게 구현하세요.\n",
        "\n",
        "hot_cold 함수에는 매개변수로 리스트 emotion이 주어집니다. 이 리스트의 원소는 모두 문자열 “냉정”, “열정”, “사랑” 중 하나임이 보장됩니다.\n",
        "hot_cold는 emotion의 “냉정” 원소와 “열정” 원소 사이의 “사랑” 이 모두 몇 개인지 계산하여, “사랑”의 개수를 정수 자료형으로 반환합니다.\n",
        "함수 호출 예시 1\n",
        "\n",
        "hot_cold(['냉정', '사랑', '사랑', '사랑', '열정', '사랑', '사랑'])\n",
        "Copy\n",
        "함수 반환 예시 1\n",
        "\n",
        "3\n",
        "Copy\n",
        "함수 호출 예시 2\n",
        "\n",
        "hot_cold(['열정', '사랑', '사랑', '사랑', '냉정', '사랑', '사랑'])\n",
        "Copy\n",
        "함수 반환 예시 2\n",
        "\n",
        "3\n",
        "Copy\n",
        "주어진 예시 외의 다른 모든 경우에 대해 모두 올바른 값을 출력해야 합니다."
      ],
      "metadata": {
        "id": "KPMPJ8DOWPaL"
      }
    },
    {
      "cell_type": "code",
      "source": [
        "def hot_cold(emotion):\n",
        "  count = 0\n",
        "  range = emotion[emotion.index('냉정'):emotion.index('열정')]\n",
        "  for i in range:\n",
        "    if i == '사랑':\n",
        "      count += 1\n",
        "  return count\n",
        "hot_cold(['냉정', '사랑', '사랑', '사랑', '열정', '사랑', '사랑'])"
      ],
      "metadata": {
        "id": "6AyT2pJja_fI"
      },
      "execution_count": null,
      "outputs": []
    },
    {
      "cell_type": "markdown",
      "source": [
        "우뚝 솟은 빌딩! 함께 만들어볼까요?\n",
        "입력으로 숫자 N이 주어졌을 때에 별을 특정한 모양으로 출력하고자 합니다.\n",
        "\n",
        "지시사항에 명시된 조건에 맞는 결과를 출력하는 프로그램을 작성하세요.\n",
        "\n",
        "\n",
        "지시사항\n",
        "1번째 줄 부터 5번째 줄 까지는 별을 각각 1, 2, 3, 4, 5개 출력합니다.\n",
        "\n",
        "6번째 줄부터는 별을 항상 5개 출력합니다.\n",
        "\n",
        "입력 예시 1\n",
        "\n",
        "3\n",
        "Copy\n",
        "출력 예시 1\n",
        "\n",
        "*\n",
        "**\n",
        "***\n",
        "Copy\n",
        "입력 예시 2\n",
        "\n",
        "7\n",
        "Copy\n",
        "출력 예시 2\n",
        "\n",
        "*\n",
        "**\n",
        "***\n",
        "****\n",
        "*****\n",
        "*****\n",
        "*****"
      ],
      "metadata": {
        "id": "dmd3TJXEWWyG"
      }
    },
    {
      "cell_type": "code",
      "source": [
        "star = int(input())\n",
        "for i in range(1, star+1):\n",
        "    if i < 5:\n",
        "      print('*' * i)\n",
        "    else:\n",
        "      print('*****')"
      ],
      "metadata": {
        "id": "FyYez8YmAA0v"
      },
      "execution_count": null,
      "outputs": []
    },
    {
      "cell_type": "markdown",
      "source": [
        "이번 교수님은 만만치않다…!\n",
        "코더랜드에 있는 F대학의 K교수님은 학점을 특이하게 주시는 것으로 유명합니다.\n",
        "\n",
        "이 교수님의 시험은 3가지 과목 - 언어이해, 추리논증, 논술로 구성됩니다. 세 과목의 시험 점수 중 가장 낮은 점수에 대해 50점 이상이면 학생에게 A를 주시고, 75점 이상이면 A+를 부여합니다. (각 시험은 100점 만점 시험입니다.)\n",
        "\n",
        "단, 이 교수님은 추리논증부분에서 10년 넘게 공부하셨기 때문에, 이 과목에 성의가 없는 학생을 싫어하셔서\n",
        "\n",
        "추리논증 점수가 50점 이상이 아니면 F를 부여합니다.\n",
        "\n",
        "위 경우에 모두 해당하지 않는 학생들에게는 전부 B+를 부여합니다.\n",
        "\n",
        "\n",
        "지시사항\n",
        "입력\n",
        "언어이해, 추리논증, 논술 에 해당하는 점수가 정수 형식으로 각 줄에 걸쳐 주어집니다.\n",
        "\n",
        "출력\n",
        "입력된 점수에 따른 학생의 학점을 올바르게 출력해주세요.\n",
        "\n",
        "입력 예시 1\n",
        "\n",
        "70\n",
        "75\n",
        "80 \n",
        "# 이때 70은 언어이해 점수\n",
        "# 75는 추리논증 점수\n",
        "# 80은 논술 점수입니다.\n",
        "Copy\n",
        "출력 예시 1\n",
        "\n",
        "A\n",
        "Copy\n",
        "입력 예시 2\n",
        "\n",
        "95\n",
        "45\n",
        "90\n",
        "Copy\n",
        "출력 예시 2\n",
        "\n",
        "F"
      ],
      "metadata": {
        "id": "9lCK17MxWbgW"
      }
    },
    {
      "cell_type": "code",
      "source": [
        "언어 = int(input())\n",
        "추리 = int(input())\n",
        "논술 = int(input())\n",
        "nums = [언어, 추리, 논술]\n",
        "if 추리 < 50:\n",
        "  print('F')\n",
        "elif 74 >= min(nums) >= 50:\n",
        "  print('A')\n",
        "elif min(nums) >= 75:\n",
        "  print('A+')\n",
        "else:\n",
        "  print('B+')"
      ],
      "metadata": {
        "id": "2MBtPeYgHyIj"
      },
      "execution_count": null,
      "outputs": []
    },
    {
      "cell_type": "markdown",
      "source": [
        "\n",
        "어서오세요! 커피전문점 수타박수입니다!\n",
        "세계에서 가장 맛있는 커피를 파는 수타박수에서는 매일 많은 사람들이 커피를 마시기 위해 방문하는 장소입니다. 수타박수에서 일하는 직원 엘리스는 너무 많은 손님이 와서 골머리를 앓고 있습니다.\n",
        "\n",
        "특히, 엘리스는 많은 손님들이 오면 더욱 어려움을 느낍니다. 주문이 한번에 5개, 10개 등이 들어왔을 때 각 주문을 외우는 것이 어렵기 때문입니다. 이런 어려움을 겪는 엘리스를 돕기 위해 주문을 입력하면 총 금액을 출력하는 프로그램을 작성해봅시다.\n",
        "\n",
        "-수타박수의 메뉴표-\n",
        "| Coffee | Price |\n",
        "|—————-|——-|\n",
        "| 아메리카노 | 4100 |\n",
        "| 카페라떼 | 4600 |\n",
        "| 카라멜마끼아또 | 5100 |\n",
        "\n",
        "\n",
        "지시사항\n",
        "입력\n",
        "첫 번째 줄에 주문받을 손님 수(n)를 입력받습니다.\n",
        "두 번째 줄부터 n+1번째 줄까지 메뉴(아메리카노, 카페라떼, 카라멜마끼아또)중 하나를 입력받습니다.\n",
        "\n",
        "출력\n",
        "주문한 메뉴들의 총 가격을 출력합니다.\n",
        "\n",
        "입력 예시 1\n",
        "\n",
        "3\n",
        "아메리카노\n",
        "카페라떼\n",
        "카라멜마끼아또\n",
        "Copy\n",
        "출력 예시 1\n",
        "\n",
        "13800\n",
        "Copy\n",
        "입력 예시 2\n",
        "\n",
        "5\n",
        "아메리카노\n",
        "아메리카노\n",
        "카페라떼\n",
        "카라멜마끼아또\n",
        "아메리카노\n",
        "Copy\n",
        "출력 예시 2\n",
        "\n",
        "22000"
      ],
      "metadata": {
        "id": "_hAC1oahWhnm"
      }
    },
    {
      "cell_type": "code",
      "source": [
        "order = []\n",
        "n = int(input())\n",
        "for i in range(n):\n",
        "  o = input()\n",
        "  order.append(o)\n",
        "a = order.count('아메리카노') * 4100\n",
        "b = order.count('카페라떼') * 4600\n",
        "c = order.count('카라멜마끼아또') * 5100\n",
        "print(a + b + c)"
      ],
      "metadata": {
        "id": "Vdbi4f-wIowf"
      },
      "execution_count": null,
      "outputs": []
    },
    {
      "cell_type": "markdown",
      "source": [
        "\n",
        "반쪽짜리 피라미드\n",
        "엘리스 토끼는 사용자가 입력한 숫자만큼 높이를 가지는 반쪽 피라미드를 만들어주는 프로그램을 만들려고 합니다.\n",
        "\n",
        "지시사항을 참고하여 코드를 작성하세요.\n",
        "\n",
        "\n",
        "지시사항\n",
        "사용자로부터 자연수를 입력받고 입력된 숫자만큼 높이를 가지는 반쪽 피라미드를 출력하세요.\n",
        "\n",
        "입력 예시\n",
        "\n",
        "3\n",
        "Copy\n",
        "출력 예시\n",
        "\n",
        "  *  # 공백 2칸\n",
        " **  # 공백 1칸\n",
        "***  # 공백 0칸"
      ],
      "metadata": {
        "id": "GgT5X4bkWk31"
      }
    },
    {
      "cell_type": "code",
      "source": [
        "star = int(input())\n",
        "for i in range(1, star+1):\n",
        "    space = ' ' * (star-i)\n",
        "    print(space, '*' * i)"
      ],
      "metadata": {
        "id": "XdEex8owjlJW"
      },
      "execution_count": null,
      "outputs": []
    },
    {
      "cell_type": "markdown",
      "source": [
        "끼리끼리\n",
        "엘리스 토끼는 모자장수로부터 여러 개의 숫자 카드를 받았습니다. 이에 엘리스 토끼는 숫자 카드를 분류하여 주머니에 보관하려고 합니다.\n",
        "\n",
        "어떻게 나눌지 고민하던 엘리스 토끼는 카드의 숫자가 0 미만이면 파란 주머니에, 0 이상이면 빨간 주머니에 넣어 박스에 보관하려고 합니다.\n",
        "\n",
        "지시사항을 참고하여 코드를 작성하세요.\n",
        "\n",
        "\n",
        "지시사항\n",
        "첫 번째 줄에 카드의 수를 나타내는 정수가 입력됩니다. 두 번째 줄부터 n개의 줄에 걸쳐서, 각 카드에 적힌 숫자가 입력됩니다. 각 숫자는 정수형 값으로 변환하여 리스트 card에 저장하세요.\n",
        "\n",
        "입력받은 순서대로 0 이상인 경우 리스트 red_pocket에, 0 미만인 경우 리스트 blue_pocket에 저장하세요.\n",
        "\n",
        "각각의 주머니에 카드를 모두 담은 뒤 리스트 card_box에 순서대로 리스트 red_pocket, 리스트 blue_pocket을 저장하세요.\n",
        "\n",
        "입력 예시 1\n",
        "\n",
        "5\n",
        "-2\n",
        "-1\n",
        "0\n",
        "1\n",
        "2\n",
        "Copy\n",
        "출력 예시 1\n",
        "\n",
        "[[0, 1, 2], [-2, -1]]\n",
        "Copy\n",
        "입력 예시 2\n",
        "\n",
        "8\n",
        "-1\n",
        "2\n",
        "1\n",
        "-2\n",
        "7\n",
        "3\n",
        "-1\n",
        "0\n",
        "Copy\n",
        "출력 예시 2\n",
        "\n",
        "[[2, 1, 7, 3, 0], [-1, -2, -1]]"
      ],
      "metadata": {
        "id": "5ZTrELlwWoOt"
      }
    },
    {
      "cell_type": "code",
      "source": [
        "card = int(input())\n",
        "red_pocket = []\n",
        "blue_pocket = []\n",
        "card_box = []\n",
        "for i in range(card):\n",
        "  o = int(input())\n",
        "  if o >= 0:\n",
        "    red_pocket.append(o)\n",
        "  else:\n",
        "    blue_pocket.append(o)\n",
        "red_pocket.sort()\n",
        "blue_pocket.sort()\n",
        "card_box.append(red_pocket)\n",
        "card_box.append(blue_pocket)\n",
        "print(card_box)"
      ],
      "metadata": {
        "colab": {
          "base_uri": "https://localhost:8080/"
        },
        "id": "3BkKk85Hr1Nx",
        "outputId": "f47632d4-78ec-4b04-d693-0bba0a29211f"
      },
      "execution_count": null,
      "outputs": [
        {
          "output_type": "stream",
          "name": "stdout",
          "text": [
            "4\n",
            "-1\n",
            "5\n",
            "0\n",
            "-5\n",
            "[[0, 5], [-5, -1]]\n"
          ]
        }
      ]
    },
    {
      "cell_type": "markdown",
      "source": [
        "\n",
        "렌터카\n",
        "엘리스 토끼는 제주도에 놀러 와 H 시간만큼 렌터카를 빌리려고 합니다. 제주도의 대표 렌터카 업체인 모자장수 렌터카와 코더랜드 렌터카는 모두 같은 차량을 제공하고 있지만, 이용 요금에 차이가 있어 가격을 비교해보려고 합니다.\n",
        "\n",
        "렌터카 업체 요금 정보는 아래와 같습니다.\n",
        "\n",
        "회사명\t요금\n",
        "모자장수 렌터카\t1시간당 A 원에 사용\n",
        "코더랜드 렌터카\t기본요금 B 원에 기본 C 시간 사용,\n",
        "C 시간이 넘어가면 시간당 D 원의 추가 요금 부과\n",
        "지시사항을 참고하여 코드를 작성하세요.\n",
        "\n",
        "\n",
        "지시사항\n",
        "첫 번째 줄에 엘리스 토끼가 렌터카를 이용할 시간을 나타내는 정수가 입력됩니다. 이 값을 변수 H에 저장하세요.\n",
        "\n",
        "두 번째 줄에 모자장수 렌터카의 시간당 비용을 나타내는 정수가 입력됩니다. 이 값을 변수 A에 저장하세요.\n",
        "\n",
        "그리고 세 번째 줄 부터 각 줄에 걸쳐, 코더랜드 렌터카의 기본요금, 기본 시간, 기본 시간 이후에 시간당 부과되는 요금을 나타내는 정수가 입력됩니다. 이 값들을 각각 변수 B, C, D에 저장하세요.\n",
        "\n",
        "두 업체의 정보를 토대로 비교하여 최소 비용을 변수 result에 저장하세요.\n",
        "\n",
        "입력받는 모든 수는 자연수이며 범위는 아래와 같습니다.\n",
        "\n",
        "(1≤A, B, C, D, H≤10,000)(1≤A,\\ B,\\ C,\\ D,\\ H≤10,000)\n",
        "(1≤A, B, C, D, H≤10,000)\n",
        "입력 예시\n",
        "\n",
        "10 \n",
        "300\n",
        "1500\n",
        "6\n",
        "200\n",
        "Copy\n",
        "출력 예시\n",
        "\n",
        "2300"
      ],
      "metadata": {
        "id": "wBd5Sp0XWwst"
      }
    },
    {
      "cell_type": "code",
      "source": [
        "H = int(input()) # 이용할 시간\n",
        "A = int(input()) # 모자장수 렌터카의 시간당 비용\n",
        "B = int(input()) # 코더랜드 렌터카의 기본요금\n",
        "C = int(input()) # 기본 시간\n",
        "D = int(input()) # 시간당 부과되는 추가요금\n",
        "result = []\n",
        "cost_a = H * A\n",
        "if H <= C:\n",
        "  cost_b = B\n",
        "else:\n",
        "  cost_b = B + ((H-C) * D)\n",
        "if cost_a < cost_b:\n",
        "  result.append(cost_a)\n",
        "else:\n",
        "  result.append(cost_b)\n",
        "print(result)"
      ],
      "metadata": {
        "colab": {
          "base_uri": "https://localhost:8080/"
        },
        "id": "j5piOQmn6_eu",
        "outputId": "d95eaf66-8f8b-43b4-a886-b077c4272ce1"
      },
      "execution_count": null,
      "outputs": [
        {
          "output_type": "stream",
          "name": "stdout",
          "text": [
            "10\n",
            "300\n",
            "1500\n",
            "6\n",
            "200\n",
            "[2300]\n"
          ]
        }
      ]
    }
  ]
}