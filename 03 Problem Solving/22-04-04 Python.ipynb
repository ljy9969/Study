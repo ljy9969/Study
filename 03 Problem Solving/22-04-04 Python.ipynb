{
  "nbformat": 4,
  "nbformat_minor": 0,
  "metadata": {
    "colab": {
      "name": "22-04-04 Python.ipynb",
      "provenance": [],
      "authorship_tag": "ABX9TyMTOxEcrYeAB/k/E4qIqt9V",
      "include_colab_link": true
    },
    "kernelspec": {
      "name": "python3",
      "display_name": "Python 3"
    },
    "language_info": {
      "name": "python"
    }
  },
  "cells": [
    {
      "cell_type": "markdown",
      "metadata": {
        "id": "view-in-github",
        "colab_type": "text"
      },
      "source": [
        "<a href=\"https://colab.research.google.com/github/ljy9969/Study/blob/master/22-04-04%20Python.ipynb\" target=\"_parent\"><img src=\"https://colab.research.google.com/assets/colab-badge.svg\" alt=\"Open In Colab\"/></a>"
      ]
    },
    {
      "cell_type": "markdown",
      "source": [
        "시험 점수를 입력받아 90 ~ 100점은 A, 80 ~ 89점은 B, 70 ~ 79점은 C, 60 ~ 69점은 D, 나머지 점수는 F를 출력하는 프로그램을 작성하시오."
      ],
      "metadata": {
        "id": "5fmblV-iFLT9"
      }
    },
    {
      "cell_type": "code",
      "execution_count": null,
      "metadata": {
        "id": "7KgDnrTREztX"
      },
      "outputs": [],
      "source": [
        "score = int(input())\n",
        "if 90 <= score <= 100:\n",
        "  print('A')\n",
        "elif 80 <= score <= 89:\n",
        "  print('B')\n",
        "elif 70 <= score <= 79:\n",
        "  print('C')\n",
        "elif 60 <= score <= 69:\n",
        "  print('D')\n",
        "elif 0 <= score <= 59:\n",
        "  print('F')"
      ]
    }
  ]
}
