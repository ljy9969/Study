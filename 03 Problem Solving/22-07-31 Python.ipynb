{
 "cells": [
  {
   "cell_type": "markdown",
   "metadata": {},
   "source": [
    "백준 브론즈 2 5622번 다이얼"
   ]
  },
  {
   "cell_type": "code",
   "execution_count": 12,
   "metadata": {},
   "outputs": [
    {
     "name": "stdout",
     "output_type": "stream",
     "text": [
      "['A', 65, 'B', 66, 'C', 67, 'D', 68, 'E', 69, 'F', 70, 'G', 71, 'H', 72, 'I', 73, 'J', 74, 'K', 75, 'L', 76, 'M', 77, 'N', 78, 'O', 79, 'P', 80, 'Q', 81, 'R', 82, 'S', 83, 'T', 84, 'U', 85, 'V', 86, 'W', 87, 'X', 88, 'Y', 89, 'Z', 90]\n"
     ]
    }
   ],
   "source": [
    "a = list(range(65,91))\n",
    "b = []\n",
    "\n",
    "for i in a:\n",
    "    b.append(chr(i))\n",
    "    b.append(i)\n",
    "print(b)"
   ]
  },
  {
   "cell_type": "code",
   "execution_count": 6,
   "metadata": {},
   "outputs": [
    {
     "name": "stdout",
     "output_type": "stream",
     "text": [
      "36\n"
     ]
    }
   ],
   "source": [
    "phone = list(input())\n",
    "time = 0\n",
    "\n",
    "for i in range(len(phone)):\n",
    "    if phone[i] == '1':\n",
    "        time += 2\n",
    "    # elif phone[i] in ['A', 'B', 'C']:\n",
    "    elif phone[i] in map(chr, list(range(65, 68))):\n",
    "        time += 3\n",
    "    elif phone[i] in ['D', 'E', 'F']:\n",
    "        time += 4\n",
    "    elif phone[i] in ['G', 'H', 'I']:\n",
    "        time += 5\n",
    "    elif phone[i] in ['J', 'K', 'L']:\n",
    "        time += 6\n",
    "    elif phone[i] in ['M', 'N', 'O']:\n",
    "        time += 7\n",
    "    elif phone[i] in ['P', 'Q', 'R', 'S']:\n",
    "        time += 8\n",
    "    elif phone[i] in ['T', 'U', 'V']:\n",
    "        time += 9\n",
    "    elif phone[i] in ['W', 'X', 'Y', 'Z']:\n",
    "        time += 10\n",
    "    else:\n",
    "        time += 11\n",
    "\n",
    "print(time)"
   ]
  },
  {
   "cell_type": "code",
   "execution_count": 14,
   "metadata": {},
   "outputs": [
    {
     "name": "stdout",
     "output_type": "stream",
     "text": [
      "13\n"
     ]
    }
   ],
   "source": [
    "a = ['ABC', 'DEF', 'GHI', 'JKL', 'MNO', 'PQRS', 'TUV', 'WXYZ']\n",
    "n = input()\n",
    "count = 0\n",
    "\n",
    "for i in a:\n",
    "    for j in i:\n",
    "        for k in n:\n",
    "            if j == k:\n",
    "                count += a.index(i) + 3\n",
    "                \n",
    "print(count)"
   ]
  },
  {
   "cell_type": "code",
   "execution_count": null,
   "metadata": {},
   "outputs": [],
   "source": [
    "a = ['ABC', 'DEF', 'GHI', 'JKL', 'MNO', 'PQRS', 'TUV', 'WXYZ']\n",
    "n = input()\n",
    "count = 0\n",
    "\n",
    "for i in range(len(n)):\n",
    "    for j in a:\n",
    "        if n[i] in j:\n",
    "            count += a.index(j) + 3\n",
    "print(count)"
   ]
  },
  {
   "cell_type": "code",
   "execution_count": 19,
   "metadata": {},
   "outputs": [
    {
     "name": "stdout",
     "output_type": "stream",
     "text": [
      "36\n"
     ]
    }
   ],
   "source": [
    "a = input()\n",
    "b = 0\n",
    "\n",
    "for i in a:\n",
    "    if ord(i) <= ord('C'):\n",
    "        b += 3\n",
    "    elif ord(i) <= ord('F'):\n",
    "        b += 4\n",
    "    elif ord(i) <= ord('I'):\n",
    "        b += 5\n",
    "    elif ord(i) <= ord('L'):\n",
    "        b += 6\n",
    "    elif ord(i) <= ord('O'):\n",
    "        b += 7\n",
    "    elif ord(i) <= ord('S'):\n",
    "        b += 8\n",
    "    elif ord(i) <= ord('V'):\n",
    "        b += 9\n",
    "    else:\n",
    "        b += 10\n",
    "        \n",
    "print(b)"
   ]
  }
 ],
 "metadata": {
  "kernelspec": {
   "display_name": "Python 3.10.0 ('Pandas 연습문제')",
   "language": "python",
   "name": "python3"
  },
  "language_info": {
   "codemirror_mode": {
    "name": "ipython",
    "version": 3
   },
   "file_extension": ".py",
   "mimetype": "text/x-python",
   "name": "python",
   "nbconvert_exporter": "python",
   "pygments_lexer": "ipython3",
   "version": "3.10.0"
  },
  "orig_nbformat": 4,
  "vscode": {
   "interpreter": {
    "hash": "0e01f3ddf67c8b56990d76ee18c58210e6cf9551b43bc6dea8d45496820ef488"
   }
  }
 },
 "nbformat": 4,
 "nbformat_minor": 2
}
