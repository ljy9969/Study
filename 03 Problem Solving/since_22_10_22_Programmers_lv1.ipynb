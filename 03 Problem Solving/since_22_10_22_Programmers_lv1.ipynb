{
  "nbformat": 4,
  "nbformat_minor": 0,
  "metadata": {
    "colab": {
      "provenance": [],
      "collapsed_sections": []
    },
    "kernelspec": {
      "name": "python3",
      "display_name": "Python 3"
    },
    "language_info": {
      "name": "python"
    },
    "accelerator": "GPU"
  },
  "cells": [
    {
      "cell_type": "markdown",
      "source": [
        "## 10/22 토\n",
        "### 나머지가 1이 되는 수 찾기\n",
        "\n",
        "자연수 n이 매개변수로 주어집니다. n을 x로 나눈 나머지가 1이 되도록 하는 가장 작은 자연수 x를 return 하도록 solution 함수를 완성해주세요. 답이 항상 존재함은 증명될 수 있습니다."
      ],
      "metadata": {
        "id": "eWA15buFCYMg"
      }
    },
    {
      "cell_type": "code",
      "execution_count": null,
      "metadata": {
        "colab": {
          "base_uri": "https://localhost:8080/"
        },
        "id": "FGu0wYbMBfiA",
        "outputId": "086ff76b-404e-4d3a-968a-b573fd2c6223"
      },
      "outputs": [
        {
          "output_type": "execute_result",
          "data": {
            "text/plain": [
              "11"
            ]
          },
          "metadata": {},
          "execution_count": 12
        }
      ],
      "source": [
        "def solution(n):\n",
        "  for x in range(1, n + 1):\n",
        "    if n % x == 1:\n",
        "      return x\n",
        "\n",
        "solution(12)"
      ]
    },
    {
      "cell_type": "code",
      "source": [
        "def solution(n):\n",
        "  return [x for x in range(1, n+1) if n % x == 1][0]\n",
        "\n",
        "solution(12)"
      ],
      "metadata": {
        "colab": {
          "base_uri": "https://localhost:8080/"
        },
        "id": "6O1JejTjCSGK",
        "outputId": "81f1e88b-fe19-4426-dd64-e3fe2c9f6d0c"
      },
      "execution_count": null,
      "outputs": [
        {
          "output_type": "execute_result",
          "data": {
            "text/plain": [
              "11"
            ]
          },
          "metadata": {},
          "execution_count": 14
        }
      ]
    },
    {
      "cell_type": "markdown",
      "source": [
        "### x만큼 간격이 있는 n개의 숫자\n",
        "\n",
        "함수 solution은 정수 x와 자연수 n을 입력 받아, x부터 시작해 x씩 증가하는 숫자를 n개 지니는 리스트를 리턴해야 합니다. 다음 제한 조건을 보고, 조건을 만족하는 함수, solution을 완성해주세요.\n",
        "\n",
        "x \tn \tanswer <br>\n",
        "2 \t5 \t[2,4,6,8,10] <br>\n",
        "4 \t3 \t[4,8,12] <br>\n",
        "-4 \t2 \t[-4, -8]"
      ],
      "metadata": {
        "id": "2vHTCxhmE6-l"
      }
    },
    {
      "cell_type": "code",
      "source": [
        "def solution(x, n):\n",
        "  gap = x\n",
        "  answer = []\n",
        "\n",
        "  while len(answer) < n:\n",
        "    answer.append(x)\n",
        "    x += gap\n",
        "\n",
        "  return answer\n",
        "\n",
        "solution(2, 5)\n",
        "solution(4, 3)\n",
        "solution(-4, 2)"
      ],
      "metadata": {
        "id": "Xu0jx9y-E1L1",
        "colab": {
          "base_uri": "https://localhost:8080/"
        },
        "outputId": "df057720-2ace-44d6-8b5e-0f80b66bfe62"
      },
      "execution_count": null,
      "outputs": [
        {
          "output_type": "execute_result",
          "data": {
            "text/plain": [
              "[2, 4, 6, 8, 10]"
            ]
          },
          "metadata": {},
          "execution_count": 25
        }
      ]
    },
    {
      "cell_type": "code",
      "source": [
        "def solution(x, n):\n",
        "    return [i * x + x for i in range(n)]\n",
        "\n",
        "print(solution(2, 5),\n",
        "solution(4, 3),\n",
        "solution(-4, 2))"
      ],
      "metadata": {
        "colab": {
          "base_uri": "https://localhost:8080/"
        },
        "id": "U10WkhmjPYLU",
        "outputId": "53fb2b6c-c775-42e5-8dbf-45976f50df56"
      },
      "execution_count": null,
      "outputs": [
        {
          "output_type": "stream",
          "name": "stdout",
          "text": [
            "[2, 4, 6, 8, 10] [4, 8, 12] [-4, -8]\n"
          ]
        }
      ]
    },
    {
      "cell_type": "markdown",
      "source": [
        "###  콜라츠 추측\n",
        "\n",
        "1937년 Collatz란 사람에 의해 제기된 이 추측은, 주어진 수가 1이 될 때까지 다음 작업을 반복하면, 모든 수를 1로 만들 수 있다는 추측입니다. 작업은 다음과 같습니다.\n",
        "\n",
        "1-1. 입력된 수가 짝수라면 2로 나눕니다. <br>\n",
        "1-2. 입력된 수가 홀수라면 3을 곱하고 1을 더합니다. <br>\n",
        "2. 결과로 나온 수에 같은 작업을 1이 될 때까지 반복합니다.\n",
        "\n",
        "예를 들어, 주어진 수가 6이라면 6 → 3 → 10 → 5 → 16 → 8 → 4 → 2 → 1 이 되어 총 8번 만에 1이 됩니다. 위 작업을 몇 번이나 반복해야 하는지 반환하는 함수, solution을 완성해 주세요. 단, 주어진 수가 1인 경우에는 0을, 작업을 500번 반복할 때까지 1이 되지 않는다면 –1을 반환해 주세요. "
      ],
      "metadata": {
        "id": "1m1gIEptSEOS"
      }
    },
    {
      "cell_type": "code",
      "source": [
        "def solution(n):\n",
        "  cnt = 0\n",
        "  while n > 1:\n",
        "    if n % 2 == 0:\n",
        "      n = n / 2\n",
        "      cnt += 1\n",
        "    else:\n",
        "      n = n * 3 + 1\n",
        "      cnt += 1\n",
        "    if cnt == 500 and n != 1.:\n",
        "      cnt = -1\n",
        "      break\n",
        "\n",
        "  return int(n), cnt\n",
        "\n",
        "solution(626331)"
      ],
      "metadata": {
        "colab": {
          "base_uri": "https://localhost:8080/"
        },
        "id": "spaqD49fSDkT",
        "outputId": "f71f8cd7-c18a-4ac4-b756-e8b1c3a8c428"
      },
      "execution_count": null,
      "outputs": [
        {
          "output_type": "execute_result",
          "data": {
            "text/plain": [
              "(40, -1)"
            ]
          },
          "metadata": {},
          "execution_count": 36
        }
      ]
    },
    {
      "cell_type": "code",
      "source": [
        "def solution(num):\n",
        "    for i in range(500):\n",
        "        num = num / 2 if num % 2 == 0 else num*3 + 1\n",
        "        if num == 1:\n",
        "            return i + 1\n",
        "    return -1\n",
        "\n",
        "print(solution(6), solution(16), solution(626331))"
      ],
      "metadata": {
        "colab": {
          "base_uri": "https://localhost:8080/"
        },
        "id": "qCDb_7ueUCeT",
        "outputId": "70182efa-1fd7-47c5-9782-85f881cc9971"
      },
      "execution_count": null,
      "outputs": [
        {
          "output_type": "stream",
          "name": "stdout",
          "text": [
            "8 4 -1\n"
          ]
        }
      ]
    },
    {
      "cell_type": "markdown",
      "source": [
        "## 10/23 일\n",
        "###  두 정수 사이의 합\n",
        "두 정수 a, b가 주어졌을 때 a와 b 사이에 속한 모든 정수의 합을 리턴하는 함수 solution을 완성하세요.\n",
        "<br>예를 들어 a = 3, b = 5인 경우, 3 + 4 + 5 = 12이므로 12를 리턴합니다."
      ],
      "metadata": {
        "id": "J6gsB98oLhK-"
      }
    },
    {
      "cell_type": "code",
      "source": [
        "def solution(a, b):\n",
        "  if a < b:\n",
        "    answer = [n for n in range(a, b+1)]\n",
        "    return sum(answer)\n",
        "  elif a > b:\n",
        "    answer = [n for n in range(b, a+1)]\n",
        "    return sum(answer)\n",
        "  else:\n",
        "    return a\n",
        "\n",
        "print(solution(3, 5), solution(3, 3), solution(5, 3))"
      ],
      "metadata": {
        "id": "q6aEsdxyV8Sj",
        "colab": {
          "base_uri": "https://localhost:8080/"
        },
        "outputId": "9452a484-ff0d-42f3-a562-2e830f098381"
      },
      "execution_count": null,
      "outputs": [
        {
          "output_type": "stream",
          "name": "stdout",
          "text": [
            "12 3 12\n"
          ]
        }
      ]
    },
    {
      "cell_type": "code",
      "source": [
        "def solution(a, b):\n",
        "  return sum(range(min(a, b), max(a, b) + 1))\n",
        "  \n",
        "print(solution(3, 5), solution(3, 3), solution(5, 3))"
      ],
      "metadata": {
        "colab": {
          "base_uri": "https://localhost:8080/"
        },
        "id": "T807O0tPOiiT",
        "outputId": "a0e67422-f684-4781-f5fe-22140b85c8d0"
      },
      "execution_count": null,
      "outputs": [
        {
          "output_type": "stream",
          "name": "stdout",
          "text": [
            "12 3 12\n"
          ]
        }
      ]
    },
    {
      "cell_type": "code",
      "source": [
        "def solution(a, b):\n",
        "  return (abs(a - b) + 1) * (a + b) // 2\n",
        "\n",
        "print(solution(3, 5), solution(3, 3), solution(5, 3))"
      ],
      "metadata": {
        "colab": {
          "base_uri": "https://localhost:8080/"
        },
        "id": "igDmc2TGPB6N",
        "outputId": "fe67a6fd-abef-45a1-8d91-c39392e8feff"
      },
      "execution_count": null,
      "outputs": [
        {
          "output_type": "stream",
          "name": "stdout",
          "text": [
            "12 3 12\n"
          ]
        }
      ]
    },
    {
      "cell_type": "code",
      "source": [
        "def solution(a, b):\n",
        "  if a > b: a, b = b, a\n",
        "  return sum(range(a, b + 1))\n",
        "\n",
        "print(solution(3, 5), solution(3, 3), solution(5, 3))"
      ],
      "metadata": {
        "colab": {
          "base_uri": "https://localhost:8080/"
        },
        "id": "xGtKqaSyQDVX",
        "outputId": "517aeaed-437f-4556-b70c-14ad43a7b3b6"
      },
      "execution_count": null,
      "outputs": [
        {
          "output_type": "stream",
          "name": "stdout",
          "text": [
            "12 3 12\n"
          ]
        }
      ]
    },
    {
      "cell_type": "markdown",
      "source": [
        "### 서울에서 김서방 찾기\n",
        "String형 배열 seoul의 element중 \"Kim\"의 위치 x를 찾아, \"김서방은 x에 있다\"는 String을 반환하는 함수, solution을 완성하세요. <br> seoul에 \"Kim\"은 오직 한 번만 나타나며 잘못된 값이 입력되는 경우는 없습니다."
      ],
      "metadata": {
        "id": "6iSOjnkBcSjt"
      }
    },
    {
      "cell_type": "code",
      "source": [
        "def solution(seoul):\n",
        "  x = seoul.index('Kim')\n",
        "  return f'김서방은 {x}에 있다'\n",
        "\n",
        "solution([\"Jane\", \"Kim\"])"
      ],
      "metadata": {
        "colab": {
          "base_uri": "https://localhost:8080/",
          "height": 36
        },
        "id": "Q4KM6bLXcS6G",
        "outputId": "9dd6abb5-562c-4fe4-bf44-a91bb173c928"
      },
      "execution_count": null,
      "outputs": [
        {
          "output_type": "execute_result",
          "data": {
            "text/plain": [
              "'김서방은 1에 있다'"
            ],
            "application/vnd.google.colaboratory.intrinsic+json": {
              "type": "string"
            }
          },
          "metadata": {},
          "execution_count": 7
        }
      ]
    },
    {
      "cell_type": "markdown",
      "source": [
        "### 핸드폰 번호 가리기\n",
        "프로그래머스 모바일은 개인정보 보호를 위해 고지서를 보낼 때 고객들의 전화번호의 일부를 가립니다.<br>\n",
        "전화번호가 문자열 phone_number로 주어졌을 때, 전화번호의 뒷 4자리를 제외한 나머지 숫자를 전부 *으로 가린 문자열을 리턴하는 함수, solution을 완성해주세요."
      ],
      "metadata": {
        "id": "IM7Aa_IXd7DJ"
      }
    },
    {
      "cell_type": "code",
      "source": [
        "def solution(phone_number):\n",
        "  answer = phone_number[:-4].replace(phone_number[:-4], '*' * len(phone_number[:-4]))\n",
        "  return answer + phone_number[-4:]\n",
        "\n",
        "solution('01033334444')"
      ],
      "metadata": {
        "colab": {
          "base_uri": "https://localhost:8080/",
          "height": 36
        },
        "id": "ws_QcOzld7J7",
        "outputId": "5a9e42c7-c90a-46c5-b777-6d9706cccdaa"
      },
      "execution_count": null,
      "outputs": [
        {
          "output_type": "execute_result",
          "data": {
            "text/plain": [
              "'*******4444'"
            ],
            "application/vnd.google.colaboratory.intrinsic+json": {
              "type": "string"
            }
          },
          "metadata": {},
          "execution_count": 11
        }
      ]
    },
    {
      "cell_type": "code",
      "source": [
        "def solution(phone_number):\n",
        "  return '*' * (len(phone_number) - 4) + phone_number[-4:]\n",
        "\n",
        "solution('01033334444')"
      ],
      "metadata": {
        "colab": {
          "base_uri": "https://localhost:8080/",
          "height": 36
        },
        "id": "qQJalfAUfpXs",
        "outputId": "17050b3c-ef45-42d7-f848-b8a98333caf6"
      },
      "execution_count": null,
      "outputs": [
        {
          "output_type": "execute_result",
          "data": {
            "text/plain": [
              "'*******4444'"
            ],
            "application/vnd.google.colaboratory.intrinsic+json": {
              "type": "string"
            }
          },
          "metadata": {},
          "execution_count": 12
        }
      ]
    },
    {
      "cell_type": "markdown",
      "source": [
        "### 나누어 떨어지는 숫자 배열\n",
        "array의 각 element 중 divisor로 나누어 떨어지는 값을 오름차순으로 정렬한 배열을 반환하는 함수, solution을 작성해주세요.<br>\n",
        "divisor로 나누어 떨어지는 element가 하나도 없다면 배열에 -1을 담아 반환하세요.\n",
        "\n",
        "<h5>입출력 예</h5>\n",
        "<table class=\"table\">\n",
        "        <thead><tr>\n",
        "<th>arr</th>\n",
        "<th>divisor</th>\n",
        "<th>return</th>\n",
        "</tr>\n",
        "</thead>\n",
        "        <tbody><tr>\n",
        "<td>[5, 9, 7, 10]</td>\n",
        "<td>5</td>\n",
        "<td>[5, 10]</td>\n",
        "</tr>\n",
        "<tr>\n",
        "<td>[2, 36, 1, 3]</td>\n",
        "<td>1</td>\n",
        "<td>[1, 2, 3, 36]</td>\n",
        "</tr>\n",
        "<tr>\n",
        "<td>[3,2,6]</td>\n",
        "<td>10</td>\n",
        "<td>[-1]</td>\n",
        "</tr>\n",
        "</tbody>\n",
        "      </table>"
      ],
      "metadata": {
        "id": "uB87lGJjgGBp"
      }
    },
    {
      "cell_type": "code",
      "source": [
        "def solution(arr, divisor):\n",
        "  answer = []\n",
        "  for n in arr:\n",
        "    if n % divisor == 0:\n",
        "      answer.append(n)\n",
        "    else:\n",
        "      continue\n",
        "  if len(answer) == 0:\n",
        "    return [-1]\n",
        "  else:\n",
        "    answer.sort()\n",
        "    return answer\n",
        "\n",
        "print(solution([5, 9, 7, 10], 5), solution([2, 36, 1, 3], 1), solution([3,2,6], 10))"
      ],
      "metadata": {
        "colab": {
          "base_uri": "https://localhost:8080/"
        },
        "id": "WLAMHVMlgFaf",
        "outputId": "d0153259-7334-4326-e033-4141285abaad"
      },
      "execution_count": null,
      "outputs": [
        {
          "output_type": "stream",
          "name": "stdout",
          "text": [
            "[5, 10] [1, 2, 3, 36] [-1]\n"
          ]
        }
      ]
    },
    {
      "cell_type": "code",
      "source": [
        "def solution(arr, divisor):\n",
        "  answer = [x for x in arr if x % divisor == 0]\n",
        "  answer.sort()\n",
        "  return answer if len(answer) != 0 else [-1]\n",
        "\n",
        "print(solution([5, 9, 7, 10], 5), solution([2, 36, 1, 3], 1), solution([3,2,6], 10))"
      ],
      "metadata": {
        "colab": {
          "base_uri": "https://localhost:8080/"
        },
        "id": "ccENPjewizYL",
        "outputId": "0ad77397-868a-409f-9d71-018bd41758d4"
      },
      "execution_count": null,
      "outputs": [
        {
          "output_type": "stream",
          "name": "stdout",
          "text": [
            "[5, 10] [1, 2, 3, 36] [-1]\n"
          ]
        }
      ]
    },
    {
      "cell_type": "code",
      "source": [
        "def solution(arr, divisor):\n",
        "  return sorted([x for x in arr if x % divisor == 0]) or [-1]\n",
        "\n",
        "print(solution([5, 9, 7, 10], 5), solution([2, 36, 1, 3], 1), solution([3,2,6], 10))"
      ],
      "metadata": {
        "colab": {
          "base_uri": "https://localhost:8080/"
        },
        "id": "Ep2IXMdpjebl",
        "outputId": "46da4946-c7d9-4413-9ac5-c7bea1f618d4"
      },
      "execution_count": null,
      "outputs": [
        {
          "output_type": "stream",
          "name": "stdout",
          "text": [
            "[5, 10] [1, 2, 3, 36] [-1]\n"
          ]
        }
      ]
    },
    {
      "cell_type": "markdown",
      "source": [
        "###  제일 작은 수 제거하기\n",
        "정수를 저장한 배열, arr 에서 가장 작은 수를 제거한 배열을 리턴하는 함수, solution을 완성해주세요. <br>단, 리턴하려는 배열이 빈 배열인 경우엔 배열에 -1을 채워 리턴하세요. <br>예를 들어 arr이 [4,3,2,1]인 경우는 [4,3,2]를 리턴 하고, [10]면 [-1]을 리턴 합니다."
      ],
      "metadata": {
        "id": "qqYW2Rg7kLfQ"
      }
    },
    {
      "cell_type": "code",
      "source": [
        "def solution(arr):\n",
        "  n = sorted(arr)[0]\n",
        "  arr.remove(n)\n",
        "  return arr or [-1]\n",
        "\n",
        "print(solution([4,3,2,1]), solution([10]))"
      ],
      "metadata": {
        "colab": {
          "base_uri": "https://localhost:8080/"
        },
        "id": "lu_F4-z6kLnq",
        "outputId": "af67c21b-54ba-442f-caad-97708b9ca84c"
      },
      "execution_count": null,
      "outputs": [
        {
          "output_type": "stream",
          "name": "stdout",
          "text": [
            "[4, 3, 2] [-1]\n"
          ]
        }
      ]
    },
    {
      "cell_type": "code",
      "source": [
        "def solution(arr):\n",
        "  return [i for i in arr if i > min(arr)] or [-1]\n",
        "\n",
        "print(solution([4,3,2,1]), solution([10]))"
      ],
      "metadata": {
        "colab": {
          "base_uri": "https://localhost:8080/"
        },
        "id": "U9sB6oWEnJ-z",
        "outputId": "d3a35702-b6a3-4f82-9ac5-5329be0bb96b"
      },
      "execution_count": null,
      "outputs": [
        {
          "output_type": "stream",
          "name": "stdout",
          "text": [
            "[4, 3, 2] [-1]\n"
          ]
        }
      ]
    },
    {
      "cell_type": "code",
      "source": [
        "def solution(arr):\n",
        "    m = min(arr)\n",
        "    return [i for i in arr if i > m] or [-1]\n",
        "\n",
        "print(solution([4,3,2,1]), solution([10]))"
      ],
      "metadata": {
        "colab": {
          "base_uri": "https://localhost:8080/"
        },
        "id": "2Fygo95en_M6",
        "outputId": "6cbf0c4b-824d-4b14-cf9b-7c8490cf76d8"
      },
      "execution_count": null,
      "outputs": [
        {
          "output_type": "stream",
          "name": "stdout",
          "text": [
            "[4, 3, 2] [-1]\n"
          ]
        }
      ]
    },
    {
      "cell_type": "markdown",
      "source": [
        "###  음양 더하기\n",
        "어떤 정수들이 있습니다. <br>이 정수들의 절댓값을 차례대로 담은 정수 배열 absolutes와 이 정수들의 부호를 차례대로 담은 불리언 배열 signs가 매개변수로 주어집니다. <br>실제 정수들의 합을 구하여 return 하도록 solution 함수를 완성해주세요."
      ],
      "metadata": {
        "id": "WdpmASfpnBlR"
      }
    },
    {
      "cell_type": "code",
      "source": [
        "def solution(absolutes, signs):\n",
        "  answer = []\n",
        "  # answer = 0\n",
        "  for index, number in enumerate(absolutes):\n",
        "    # print(index, number, signs[index])\n",
        "    if signs[index] == True:\n",
        "      answer.append(number)\n",
        "      # answer += number\n",
        "    elif signs[index] == False:\n",
        "      answer.append(-1 * number)\n",
        "      # answer -= number\n",
        "  return sum(answer)\n",
        "  # return answer"
      ],
      "metadata": {
        "id": "Hd_C-DC4nBuA"
      },
      "execution_count": 3,
      "outputs": []
    },
    {
      "cell_type": "code",
      "source": [
        "def solution(absolutes, signs):\n",
        "    return sum([absolute if sign else -absolute for absolute, sign in zip(absolutes, signs)])"
      ],
      "metadata": {
        "id": "DStTA4joAHIv"
      },
      "execution_count": 5,
      "outputs": []
    },
    {
      "cell_type": "code",
      "source": [
        "solution([4,7,12], [True, False, True])"
      ],
      "metadata": {
        "colab": {
          "base_uri": "https://localhost:8080/"
        },
        "id": "HrvVz1bRMQsO",
        "outputId": "4847822d-258a-4af3-b5fc-7033fa1f92e4"
      },
      "execution_count": 6,
      "outputs": [
        {
          "output_type": "execute_result",
          "data": {
            "text/plain": [
              "9"
            ]
          },
          "metadata": {},
          "execution_count": 6
        }
      ]
    },
    {
      "cell_type": "markdown",
      "source": [
        "## 10/24\n",
        "### 없는 숫자 더하기\n",
        "0부터 9까지의 숫자 중 일부가 들어있는 정수 배열 numbers가 매개변수로 주어집니다. <br>numbers에서 찾을 수 없는 0부터 9까지의 숫자를 모두 찾아 더한 수를 return 하도록 solution 함수를 완성해주세요."
      ],
      "metadata": {
        "id": "MN_zhpxAnYar"
      }
    },
    {
      "cell_type": "code",
      "source": [
        "def solution(numbers):\n",
        "  answer = 0\n",
        "  n_range = list(range(0, 10))\n",
        "  for number in n_range:\n",
        "    if number not in numbers:\n",
        "      answer += number\n",
        "  return answer"
      ],
      "metadata": {
        "id": "7rENN9KqDyJK"
      },
      "execution_count": 26,
      "outputs": []
    },
    {
      "cell_type": "code",
      "source": [
        "def solution(numbers):\n",
        "  return sum([number for number in list(range(0, 10)) if number not in numbers])"
      ],
      "metadata": {
        "id": "1jJDce_inYhu"
      },
      "execution_count": 29,
      "outputs": []
    },
    {
      "cell_type": "code",
      "source": [
        "def solution(numbers):\n",
        "  return 45 - sum(numbers)"
      ],
      "metadata": {
        "id": "umkkLZUNFRL4"
      },
      "execution_count": 31,
      "outputs": []
    },
    {
      "cell_type": "code",
      "source": [
        "solution = lambda x: sum(range(10)) - sum(x)"
      ],
      "metadata": {
        "id": "s39EdCRBFgn1"
      },
      "execution_count": 35,
      "outputs": []
    },
    {
      "cell_type": "code",
      "source": [
        "print(solution([1,2,3,4,6,7,8,0]), solution([5,8,4,0,6,7,9]))"
      ],
      "metadata": {
        "colab": {
          "base_uri": "https://localhost:8080/"
        },
        "id": "gC7r6qVLAugg",
        "outputId": "dbbfe7b0-c79c-462f-b88d-dca8e7813c65"
      },
      "execution_count": 36,
      "outputs": [
        {
          "output_type": "stream",
          "name": "stdout",
          "text": [
            "14 6\n"
          ]
        }
      ]
    },
    {
      "cell_type": "code",
      "source": [
        "sum(list(range(0, 10)))"
      ],
      "metadata": {
        "colab": {
          "base_uri": "https://localhost:8080/"
        },
        "id": "ixrKF89EBIXM",
        "outputId": "b0339ef3-3abb-47be-bf3b-e1127630d10b"
      },
      "execution_count": 28,
      "outputs": [
        {
          "output_type": "execute_result",
          "data": {
            "text/plain": [
              "45"
            ]
          },
          "metadata": {},
          "execution_count": 28
        }
      ]
    },
    {
      "cell_type": "markdown",
      "source": [
        "### 가운데 글자 가져오기\n",
        "단어 s의 가운데 글자를 반환하는 함수, solution을 만들어 보세요. 단어의 길이가 짝수라면 가운데 두글자를 반환하면 됩니다."
      ],
      "metadata": {
        "id": "-SoNQELtGDr5"
      }
    },
    {
      "cell_type": "code",
      "source": [
        "def solution(s):\n",
        "  return s[len(s) // 2] if len(s) % 2 != 0 else s[len(s) // 2 - 1] + s[len(s) // 2]"
      ],
      "metadata": {
        "id": "YVJPuV7MGDzn"
      },
      "execution_count": 48,
      "outputs": []
    },
    {
      "cell_type": "code",
      "source": [
        "def solution(s):\n",
        "  return s[(len(s)-1) // 2 : len(s) // 2 + 1]"
      ],
      "metadata": {
        "id": "k76eyI4xNr2-"
      },
      "execution_count": 52,
      "outputs": []
    },
    {
      "cell_type": "code",
      "source": [
        "print(solution(\"abcde\"), solution(\"qwer\"))"
      ],
      "metadata": {
        "colab": {
          "base_uri": "https://localhost:8080/"
        },
        "id": "v9H8oIHDGrZp",
        "outputId": "cf9c4b1d-71b5-496a-8ac5-ec7a8e640354"
      },
      "execution_count": 53,
      "outputs": [
        {
          "output_type": "stream",
          "name": "stdout",
          "text": [
            "c we\n"
          ]
        }
      ]
    },
    {
      "cell_type": "markdown",
      "source": [
        "### 수박수박수박수박수박수?\n",
        "길이가 n이고, \"수박수박수박수....\"와 같은 패턴을 유지하는 문자열을 리턴하는 함수, solution을 완성하세요. <br>예를 들어 n이 4이면 \"수박수박\"을 리턴하고 3이라면 \"수박수\"를 리턴하면 됩니다."
      ],
      "metadata": {
        "id": "VB0ztrC0HEpb"
      }
    },
    {
      "cell_type": "code",
      "source": [
        "def solution(n):\n",
        "  word = ['수', '박']\n",
        "  return [w in word for w in range(n)]\n",
        "\n",
        "solution(4)"
      ],
      "metadata": {
        "colab": {
          "base_uri": "https://localhost:8080/"
        },
        "id": "sEhtGHyJG3Yg",
        "outputId": "9f5e091c-c36e-4726-b1ac-ed078a66d2a4"
      },
      "execution_count": 55,
      "outputs": [
        {
          "output_type": "execute_result",
          "data": {
            "text/plain": [
              "[False, False, False, False]"
            ]
          },
          "metadata": {},
          "execution_count": 55
        }
      ]
    },
    {
      "cell_type": "code",
      "source": [
        "word = ['수', '박']\n",
        "print(word * 4)"
      ],
      "metadata": {
        "colab": {
          "base_uri": "https://localhost:8080/"
        },
        "id": "Mv8SugtSPX14",
        "outputId": "7df25c34-5719-422e-c2b2-c37a6c813176"
      },
      "execution_count": 57,
      "outputs": [
        {
          "output_type": "stream",
          "name": "stdout",
          "text": [
            "['수', '박', '수', '박', '수', '박', '수', '박']\n"
          ]
        }
      ]
    },
    {
      "cell_type": "code",
      "source": [
        "w1 = '수'\n",
        "w2 = '박'\n",
        "n = 4\n",
        "answer = ''\n",
        "while len(answer) == n:\n",
        "  answer += w1\n",
        "  answer += w2\n",
        "\n",
        "print(answer)"
      ],
      "metadata": {
        "colab": {
          "base_uri": "https://localhost:8080/"
        },
        "id": "_VsG5XgsPtvg",
        "outputId": "b7d96d0d-3f01-4fda-f10f-aa88ff20c45c"
      },
      "execution_count": 62,
      "outputs": [
        {
          "output_type": "stream",
          "name": "stdout",
          "text": [
            "\n"
          ]
        }
      ]
    },
    {
      "cell_type": "markdown",
      "source": [
        "## 10/25 화"
      ],
      "metadata": {
        "id": "gfrhFzCnbbeD"
      }
    },
    {
      "cell_type": "code",
      "source": [],
      "metadata": {
        "id": "MQTk3chtYU9L"
      },
      "execution_count": null,
      "outputs": []
    }
  ]
}