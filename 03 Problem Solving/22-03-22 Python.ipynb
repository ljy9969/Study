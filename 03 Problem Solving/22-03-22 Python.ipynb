{
  "nbformat": 4,
  "nbformat_minor": 0,
  "metadata": {
    "colab": {
      "name": "22-03-22 Python.ipynb",
      "provenance": [],
      "authorship_tag": "ABX9TyNnd9InrMv090OyW4AlvGMT",
      "include_colab_link": true
    },
    "kernelspec": {
      "name": "python3",
      "display_name": "Python 3"
    },
    "language_info": {
      "name": "python"
    }
  },
  "cells": [
    {
      "cell_type": "markdown",
      "metadata": {
        "id": "view-in-github",
        "colab_type": "text"
      },
      "source": [
        "<a href=\"https://colab.research.google.com/github/ljy9969/Study/blob/master/22-03-22%20Python.ipynb\" target=\"_parent\"><img src=\"https://colab.research.google.com/assets/colab-badge.svg\" alt=\"Open In Colab\"/></a>"
      ]
    },
    {
      "cell_type": "markdown",
      "source": [
        "정수 2개 입력받아 차 계산하기"
      ],
      "metadata": {
        "id": "sQCU6RG0HBOe"
      }
    },
    {
      "cell_type": "code",
      "execution_count": 1,
      "metadata": {
        "colab": {
          "base_uri": "https://localhost:8080/"
        },
        "id": "hmQko95lGNMb",
        "outputId": "913c5344-8210-478f-ac60-c7c870ab6b0a"
      },
      "outputs": [
        {
          "output_type": "stream",
          "name": "stdout",
          "text": [
            "10 9\n",
            "1\n"
          ]
        }
      ],
      "source": [
        "a, b = map(int, input().split())\n",
        "print(a-b)"
      ]
    },
    {
      "cell_type": "markdown",
      "source": [
        "실수 2개 입력받아 곱 계산하기"
      ],
      "metadata": {
        "id": "tYucIJBFG9ym"
      }
    },
    {
      "cell_type": "code",
      "source": [
        "a, b = map(float, input().split())\n",
        "print(a*b)"
      ],
      "metadata": {
        "colab": {
          "base_uri": "https://localhost:8080/"
        },
        "id": "TRxwTlC4G-rF",
        "outputId": "62df8337-cd3e-45a6-c7c1-a9b3b5c7a824"
      },
      "execution_count": 3,
      "outputs": [
        {
          "output_type": "stream",
          "name": "stdout",
          "text": [
            "1.5 3.0\n",
            "4.5\n"
          ]
        }
      ]
    },
    {
      "cell_type": "markdown",
      "source": [
        "단어 여러 번 출력하기"
      ],
      "metadata": {
        "id": "ZQktXWUZHR8t"
      }
    },
    {
      "cell_type": "code",
      "source": [
        "a, b = input().split()\n",
        "print(a * int(b))"
      ],
      "metadata": {
        "colab": {
          "base_uri": "https://localhost:8080/"
        },
        "id": "7tHCh4ToHSFu",
        "outputId": "a8c9a641-f017-4a18-fc8c-787e110cce94"
      },
      "execution_count": 4,
      "outputs": [
        {
          "output_type": "stream",
          "name": "stdout",
          "text": [
            "안녕 10\n",
            "안녕안녕안녕안녕안녕안녕안녕안녕안녕안녕\n"
          ]
        }
      ]
    },
    {
      "cell_type": "markdown",
      "source": [
        "문장 여러 번 출력하기"
      ],
      "metadata": {
        "id": "8e2-Qjq7HwLt"
      }
    },
    {
      "cell_type": "code",
      "source": [
        "a = input(); b = input()\n",
        "print(int(a)*b)"
      ],
      "metadata": {
        "colab": {
          "base_uri": "https://localhost:8080/"
        },
        "id": "X6ua82RMHwR1",
        "outputId": "fba3393c-d40b-4dd7-aae9-dc3accb5cab3"
      },
      "execution_count": 7,
      "outputs": [
        {
          "output_type": "stream",
          "name": "stdout",
          "text": [
            "5\n",
            "안녕 나는 이지연이야\n",
            "안녕 나는 이지연이야안녕 나는 이지연이야안녕 나는 이지연이야안녕 나는 이지연이야안녕 나는 이지연이야\n"
          ]
        }
      ]
    },
    {
      "cell_type": "markdown",
      "source": [
        "정수 2개 입력받아 거듭제곱 계산하기 / 거듭제곱을 계산하는 연산자(**)"
      ],
      "metadata": {
        "id": "nI3OZ6nZIXhm"
      }
    },
    {
      "cell_type": "code",
      "source": [
        "a, b = map(int, input().split())\n",
        "print(a ** b)"
      ],
      "metadata": {
        "colab": {
          "base_uri": "https://localhost:8080/"
        },
        "id": "MBbTuBhTITs1",
        "outputId": "f0aff488-d6da-4cb5-8817-a2fbf18e5be1"
      },
      "execution_count": 8,
      "outputs": [
        {
          "output_type": "stream",
          "name": "stdout",
          "text": [
            "5 2\n",
            "25\n"
          ]
        }
      ]
    },
    {
      "cell_type": "markdown",
      "source": [
        "실수 2개 입력받아 거듭제곱 계산하기"
      ],
      "metadata": {
        "id": "rbkXLphOIyhl"
      }
    },
    {
      "cell_type": "code",
      "source": [
        "a, b = map(float, input().split())\n",
        "print(a**b)"
      ],
      "metadata": {
        "id": "Tmr_6_ktIyqm"
      },
      "execution_count": null,
      "outputs": []
    }
  ]
}
