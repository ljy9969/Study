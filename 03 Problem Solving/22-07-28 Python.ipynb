{
 "cells": [
  {
   "cell_type": "code",
   "execution_count": 60,
   "metadata": {},
   "outputs": [
    {
     "name": "stdout",
     "output_type": "stream",
     "text": [
      "65\n"
     ]
    }
   ],
   "source": [
    "a = ord(input()) # 문자 -> 서수\n",
    "print(a)"
   ]
  },
  {
   "cell_type": "code",
   "execution_count": 61,
   "metadata": {},
   "outputs": [
    {
     "name": "stdout",
     "output_type": "stream",
     "text": [
      "A\n"
     ]
    }
   ],
   "source": [
    "print(chr(65)) # 서수 -> 문자"
   ]
  },
  {
   "cell_type": "code",
   "execution_count": 62,
   "metadata": {},
   "outputs": [
    {
     "name": "stdout",
     "output_type": "stream",
     "text": [
      "-10\n"
     ]
    }
   ],
   "source": [
    "a = int(input())\n",
    "print(-a)"
   ]
  },
  {
   "cell_type": "code",
   "execution_count": 76,
   "metadata": {},
   "outputs": [
    {
     "name": "stdout",
     "output_type": "stream",
     "text": [
      "d\n"
     ]
    }
   ],
   "source": [
    "a = ord(input())\n",
    "print(chr(a+1))"
   ]
  },
  {
   "cell_type": "code",
   "execution_count": null,
   "metadata": {},
   "outputs": [],
   "source": [
    "a, b = map(int, input().split())\n",
    "print(a-b)"
   ]
  },
  {
   "cell_type": "code",
   "execution_count": 77,
   "metadata": {},
   "outputs": [
    {
     "name": "stdout",
     "output_type": "stream",
     "text": [
      "lovelovelove\n"
     ]
    }
   ],
   "source": [
    "a, b = input().split()\n",
    "print(a * int(b))"
   ]
  },
  {
   "cell_type": "code",
   "execution_count": 79,
   "metadata": {},
   "outputs": [
    {
     "name": "stdout",
     "output_type": "stream",
     "text": [
      "I love CSI love CSI love CS\n"
     ]
    }
   ],
   "source": [
    "a = int(input())\n",
    "b = input()\n",
    "print(a * b)"
   ]
  },
  {
   "cell_type": "code",
   "execution_count": 81,
   "metadata": {},
   "outputs": [
    {
     "name": "stdout",
     "output_type": "stream",
     "text": [
      "16.0\n"
     ]
    }
   ],
   "source": [
    "a, b = map(float, input().split())\n",
    "print(a**b)"
   ]
  },
  {
   "cell_type": "code",
   "execution_count": 96,
   "metadata": {},
   "outputs": [
    {
     "name": "stdout",
     "output_type": "stream",
     "text": [
      "3.14\n",
      "3.14\n",
      "3.14\n"
     ]
    }
   ],
   "source": [
    "a = float(input())\n",
    "print(format(a, \".2f\"))\n",
    "print('%.2f' % a)\n",
    "print(round(a, 2))"
   ]
  },
  {
   "cell_type": "code",
   "execution_count": 92,
   "metadata": {},
   "outputs": [
    {
     "name": "stdout",
     "output_type": "stream",
     "text": [
      "3.333\n",
      "3.333\n"
     ]
    }
   ],
   "source": [
    "a, b = map(float, input().split())\n",
    "print(format(a/b, \".3f\"))\n",
    "c = a/b\n",
    "print('%.3f' % c)"
   ]
  },
  {
   "cell_type": "code",
   "execution_count": 91,
   "metadata": {},
   "outputs": [
    {
     "name": "stdout",
     "output_type": "stream",
     "text": [
      "[]\n"
     ]
    }
   ],
   "source": [
    "a = [0] * -1\n",
    "print(a)"
   ]
  },
  {
   "cell_type": "code",
   "execution_count": 95,
   "metadata": {},
   "outputs": [
    {
     "name": "stdout",
     "output_type": "stream",
     "text": [
      "13\n",
      "7\n",
      "30\n",
      "3\n",
      "1\n",
      "3.33\n"
     ]
    }
   ],
   "source": [
    "a, b = map(int, input().split())\n",
    "print(a+b, a-b, a*b, a//b, a%b, format(a/b, '.2f'), sep='\\n')"
   ]
  },
  {
   "cell_type": "code",
   "execution_count": 100,
   "metadata": {},
   "outputs": [
    {
     "name": "stdout",
     "output_type": "stream",
     "text": [
      "6 2.00\n"
     ]
    }
   ],
   "source": [
    "a, b, c = map(int, input().split())\n",
    "print(a+b+c, '%.2f'%((a+b+c)/3))"
   ]
  },
  {
   "cell_type": "code",
   "execution_count": 102,
   "metadata": {},
   "outputs": [
    {
     "name": "stdout",
     "output_type": "stream",
     "text": [
      "2048\n"
     ]
    }
   ],
   "source": [
    "a = int(input())\n",
    "print(a<<1)"
   ]
  },
  {
   "cell_type": "code",
   "execution_count": 103,
   "metadata": {},
   "outputs": [
    {
     "name": "stdout",
     "output_type": "stream",
     "text": [
      "True\n"
     ]
    }
   ],
   "source": [
    "a, b = map(int, input().split()) # 123 456\n",
    "print(a<b) # True"
   ]
  },
  {
   "cell_type": "code",
   "execution_count": 105,
   "metadata": {},
   "outputs": [
    {
     "name": "stdout",
     "output_type": "stream",
     "text": [
      "True\n"
     ]
    }
   ],
   "source": [
    "a, b = map(int, input().split()) # 123 456\n",
    "print(a==b)"
   ]
  },
  {
   "cell_type": "code",
   "execution_count": 120,
   "metadata": {},
   "outputs": [
    {
     "name": "stdout",
     "output_type": "stream",
     "text": [
      "False\n"
     ]
    }
   ],
   "source": [
    "n = int(input())\n",
    "print(bool(not n))"
   ]
  },
  {
   "cell_type": "code",
   "execution_count": 130,
   "metadata": {},
   "outputs": [
    {
     "name": "stdout",
     "output_type": "stream",
     "text": [
      "False\n"
     ]
    }
   ],
   "source": [
    "a, b = map(int, input().split())\n",
    "a = bool(a)\n",
    "b = bool(b)\n",
    "print((not a) and (not b))"
   ]
  },
  {
   "cell_type": "code",
   "execution_count": 3,
   "metadata": {},
   "outputs": [
    {
     "name": "stdout",
     "output_type": "stream",
     "text": [
      "6\n"
     ]
    }
   ],
   "source": [
    "a, b = map(int, input().split())\n",
    "print(a ^ b) # 비트연산자 XOR(같지 않으면 1==True)"
   ]
  },
  {
   "cell_type": "markdown",
   "metadata": {},
   "source": [
    "백준 10809번 알파벳 찾기"
   ]
  },
  {
   "cell_type": "code",
   "execution_count": 78,
   "metadata": {},
   "outputs": [
    {
     "name": "stdout",
     "output_type": "stream",
     "text": [
      "1 0 -1 -1 2 -1 -1 -1 -1 4 3 -1 -1 7 5 -1 -1 -1 -1 -1 -1 -1 -1 -1 -1 -1 "
     ]
    }
   ],
   "source": [
    "S = input()\n",
    "a = 'abcdefghijklmnopqrstuvwxyz'\n",
    "for i in a:\n",
    "    if i in S:\n",
    "        print(S.index(i), end=' ')\n",
    "    else:\n",
    "        print('-1', end=' ')"
   ]
  },
  {
   "cell_type": "code",
   "execution_count": 77,
   "metadata": {},
   "outputs": [
    {
     "name": "stdout",
     "output_type": "stream",
     "text": [
      "1 0 -1 -1 2 -1 -1 -1 -1 4 3 -1 -1 7 5 -1 -1 -1 -1 -1 -1 -1 -1 -1 -1 -1 "
     ]
    }
   ],
   "source": [
    "S = input()\n",
    "a = 'abcdefghijklmnopqrstuvwxyz'\n",
    "for i in a:\n",
    "    print(S.find(i), end=' ')"
   ]
  },
  {
   "cell_type": "code",
   "execution_count": 123,
   "metadata": {},
   "outputs": [
    {
     "name": "stdout",
     "output_type": "stream",
     "text": [
      "15\n"
     ]
    }
   ],
   "source": [
    "a = int(input())\n",
    "# b = list(int(input()))\n",
    "# print(sum(b))\n",
    "\n",
    "c = 0\n",
    "\n",
    "# b = map(int(input().split()))\n",
    "# b = int(input())\n",
    "b = input()\n",
    "# c = []\n",
    "# print(sum(b))\n",
    "# for i in range(len(b)):\n",
    "# b.split()\n",
    "# print(b)\n",
    "# b = list(b)\n",
    "# print(len(b))\n",
    "\n",
    "for i in range(a):\n",
    "    c.append(b[i])\n",
    "print(sum(map(int, c)))\n",
    "\n",
    "# for i in range(a):\n",
    "#     c += int(b[i])\n",
    "#     print(c)\n",
    "\n",
    "# for i in range(a):\n",
    "# # for i in b:\n",
    "#     # c.append(b[i])\n",
    "#     if i in b:\n",
    "#         c.append(i)\n",
    "#     # c.add(b[i])\n",
    "#     # c += b[i]\n",
    "# print(sum(c))\n",
    "# # print(sum(c))"
   ]
  },
  {
   "cell_type": "code",
   "execution_count": null,
   "metadata": {},
   "outputs": [],
   "source": [
    "a = int(input())\n",
    "b = input()\n",
    "c = 0\n",
    "\n",
    "for i in range(a):\n",
    "    c.append(b[i])\n",
    "print(sum(map(int, c)))"
   ]
  },
  {
   "cell_type": "code",
   "execution_count": null,
   "metadata": {},
   "outputs": [],
   "source": [
    "a = int(input())\n",
    "b = input()\n",
    "c = 0\n",
    "\n",
    "for i in range(a):\n",
    "    c += int(b[i])\n",
    "print(c)"
   ]
  },
  {
   "cell_type": "code",
   "execution_count": 126,
   "metadata": {},
   "outputs": [
    {
     "name": "stdout",
     "output_type": "stream",
     "text": [
      "15\n"
     ]
    }
   ],
   "source": [
    "a = input()\n",
    "print(sum(map(int, input())))"
   ]
  },
  {
   "cell_type": "code",
   "execution_count": 129,
   "metadata": {},
   "outputs": [
    {
     "name": "stdout",
     "output_type": "stream",
     "text": [
      "6\n"
     ]
    }
   ],
   "source": [
    "# Ver. 1\n",
    "a = input().split()\n",
    "print(len(a))\n",
    "\n",
    "# Ver. 2\n",
    "print(len(input().split()))"
   ]
  },
  {
   "cell_type": "code",
   "execution_count": 21,
   "metadata": {},
   "outputs": [
    {
     "name": "stdout",
     "output_type": "stream",
     "text": [
      "AAABBBCCC\n",
      "/////HHHHHTTTTTPPPPP\n"
     ]
    }
   ],
   "source": [
    "# 백준 2675번 문자열 반복\n",
    "# Ver. 1\n",
    "a = int(input()) # 2\n",
    "\n",
    "for i in range(a):\n",
    "    b = input().split() # 3 ABC, 5 /HTP\n",
    "    c = ''\n",
    "    for j in range(len(b[1])):\n",
    "        c += (b[1][j])*int(b[0])\n",
    "    print(c)\n",
    "    \n",
    "# Ver. 2\n",
    "a = int(input())\n",
    "\n",
    "for i in range(a):\n",
    "    b, c = input().split()\n",
    "    for j in c:\n",
    "        print(j*int(b), end='')\n",
    "    print()\n",
    "    \n",
    "# AAABBBCCC\n",
    "# /////HHHHHTTTTTPPPPP"
   ]
  },
  {
   "cell_type": "code",
   "execution_count": 15,
   "metadata": {},
   "outputs": [
    {
     "name": "stdout",
     "output_type": "stream",
     "text": [
      "abcdefg\n",
      "abcdefg   \n",
      "   abcdefg\n"
     ]
    }
   ],
   "source": [
    "a = '   abcdefg   '\n",
    "print(a.strip())\n",
    "print(a.lstrip())\n",
    "print(a.rstrip())"
   ]
  },
  {
   "cell_type": "code",
   "execution_count": 22,
   "metadata": {},
   "outputs": [
    {
     "name": "stdout",
     "output_type": "stream",
     "text": [
      "MISSISSIPI\n"
     ]
    }
   ],
   "source": [
    "a = input().upper()\n",
    "print(a)"
   ]
  },
  {
   "cell_type": "code",
   "execution_count": 42,
   "metadata": {},
   "outputs": [
    {
     "name": "stdout",
     "output_type": "stream",
     "text": [
      "['A', 'B', 'C', 'D', 'E', 'F', 'G', 'H', 'I', 'J', 'K', 'L', 'M', 'N', 'O', 'P', 'Q', 'R', 'S', 'T', 'U', 'V', 'W', 'X', 'Y', 'Z']\n"
     ]
    }
   ],
   "source": [
    "# print(chr(range(64,91)))\n",
    "a = list(range(65,91))\n",
    "# print(list(range(65,91)))\n",
    "# print(len(a))\n",
    "# b = map(chr, list(range(65,91)))\n",
    "# print(b)\n",
    "c = []\n",
    "for i in a:\n",
    "    c.append(chr(i))\n",
    "print(c)"
   ]
  },
  {
   "cell_type": "code",
   "execution_count": 47,
   "metadata": {},
   "outputs": [
    {
     "name": "stdout",
     "output_type": "stream",
     "text": [
      "ABCDEFGHIJKLMNOPQRSTUVWXYZ\n"
     ]
    }
   ],
   "source": [
    "a = list(range(65,91))\n",
    "b = []\n",
    "for i in a:\n",
    "    print(chr(i), end='')\n",
    "print()"
   ]
  },
  {
   "cell_type": "code",
   "execution_count": 55,
   "metadata": {},
   "outputs": [
    {
     "name": "stdout",
     "output_type": "stream",
     "text": [
      "ABCDEFGHIJKLMNOPQRSTUVWXYZ\n",
      "ABCDEFGHIJKLMNOPQRSTUVWXYZ\n"
     ]
    }
   ],
   "source": [
    "a = 'abcdefghijklmnopqrstuvwxyz'\n",
    "print(a.upper())\n",
    "print('abcdefghijklmnopqrstuvwxyz'.upper())"
   ]
  },
  {
   "cell_type": "code",
   "execution_count": 58,
   "metadata": {},
   "outputs": [
    {
     "name": "stdout",
     "output_type": "stream",
     "text": [
      "<map object at 0x0000027E53364BE0>\n",
      "[65, 66, 67, 68, 69, 70, 71, 72, 73, 74, 75, 76, 77, 78, 79, 80, 81, 82, 83, 84, 85, 86, 87, 88, 89, 90]\n"
     ]
    }
   ],
   "source": [
    "a = map(chr, list(range(65, 91)))\n",
    "print(a)\n",
    "\n",
    "b = list(range(65, 91))\n",
    "print(b)"
   ]
  },
  {
   "cell_type": "code",
   "execution_count": 1,
   "metadata": {},
   "outputs": [
    {
     "name": "stdout",
     "output_type": "stream",
     "text": [
      "1"
     ]
    },
    {
     "ename": "TypeError",
     "evalue": "set.add() takes exactly one argument (2 given)",
     "output_type": "error",
     "traceback": [
      "\u001b[1;31m---------------------------------------------------------------------------\u001b[0m",
      "\u001b[1;31mTypeError\u001b[0m                                 Traceback (most recent call last)",
      "\u001b[1;32md:\\OneDrive\\문서\\4 이지연\\취업\\파이썬 알고리즘 문제풀이(코딩테스트 대비)\\practice.ipynb 셀 35\u001b[0m in \u001b[0;36m<cell line: 5>\u001b[1;34m()\u001b[0m\n\u001b[0;32m      <a href='vscode-notebook-cell:/d%3A/OneDrive/%EB%AC%B8%EC%84%9C/4%20%EC%9D%B4%EC%A7%80%EC%97%B0/%EC%B7%A8%EC%97%85/%ED%8C%8C%EC%9D%B4%EC%8D%AC%20%EC%95%8C%EA%B3%A0%EB%A6%AC%EC%A6%98%20%EB%AC%B8%EC%A0%9C%ED%92%80%EC%9D%B4%28%EC%BD%94%EB%94%A9%ED%85%8C%EC%8A%A4%ED%8A%B8%20%EB%8C%80%EB%B9%84%29/practice.ipynb#ch0000034?line=6'>7</a>\u001b[0m     \u001b[39mprint\u001b[39m(a\u001b[39m.\u001b[39mcount(i), end\u001b[39m=\u001b[39m\u001b[39m'\u001b[39m\u001b[39m'\u001b[39m)\n\u001b[0;32m      <a href='vscode-notebook-cell:/d%3A/OneDrive/%EB%AC%B8%EC%84%9C/4%20%EC%9D%B4%EC%A7%80%EC%97%B0/%EC%B7%A8%EC%97%85/%ED%8C%8C%EC%9D%B4%EC%8D%AC%20%EC%95%8C%EA%B3%A0%EB%A6%AC%EC%A6%98%20%EB%AC%B8%EC%A0%9C%ED%92%80%EC%9D%B4%28%EC%BD%94%EB%94%A9%ED%85%8C%EC%8A%A4%ED%8A%B8%20%EB%8C%80%EB%B9%84%29/practice.ipynb#ch0000034?line=7'>8</a>\u001b[0m     \u001b[39mif\u001b[39;00m i \u001b[39mnot\u001b[39;00m \u001b[39min\u001b[39;00m b:\n\u001b[1;32m----> <a href='vscode-notebook-cell:/d%3A/OneDrive/%EB%AC%B8%EC%84%9C/4%20%EC%9D%B4%EC%A7%80%EC%97%B0/%EC%B7%A8%EC%97%85/%ED%8C%8C%EC%9D%B4%EC%8D%AC%20%EC%95%8C%EA%B3%A0%EB%A6%AC%EC%A6%98%20%EB%AC%B8%EC%A0%9C%ED%92%80%EC%9D%B4%28%EC%BD%94%EB%94%A9%ED%85%8C%EC%8A%A4%ED%8A%B8%20%EB%8C%80%EB%B9%84%29/practice.ipynb#ch0000034?line=8'>9</a>\u001b[0m         b\u001b[39m.\u001b[39;49madd(i,a\u001b[39m.\u001b[39;49mcount(i))\n\u001b[0;32m     <a href='vscode-notebook-cell:/d%3A/OneDrive/%EB%AC%B8%EC%84%9C/4%20%EC%9D%B4%EC%A7%80%EC%97%B0/%EC%B7%A8%EC%97%85/%ED%8C%8C%EC%9D%B4%EC%8D%AC%20%EC%95%8C%EA%B3%A0%EB%A6%AC%EC%A6%98%20%EB%AC%B8%EC%A0%9C%ED%92%80%EC%9D%B4%28%EC%BD%94%EB%94%A9%ED%85%8C%EC%8A%A4%ED%8A%B8%20%EB%8C%80%EB%B9%84%29/practice.ipynb#ch0000034?line=9'>10</a>\u001b[0m \u001b[39mprint\u001b[39m(b)\n",
      "\u001b[1;31mTypeError\u001b[0m: set.add() takes exactly one argument (2 given)"
     ]
    }
   ],
   "source": [
    "a = input().upper() # 입력 받은 단어 대문자로 변환. Mississipi\n",
    "# b = list(range(65, 91)) # 아스키 코드 알파벳\n",
    "b = set()\n",
    "# b = []\n",
    "for i in a:\n",
    "    # print(a)\n",
    "    print(a.count(i), end='')\n",
    "    if i not in b:\n",
    "        b.add(i,a.count(i))\n",
    "print(b)"
   ]
  },
  {
   "cell_type": "code",
   "execution_count": 3,
   "metadata": {},
   "outputs": [
    {
     "name": "stdout",
     "output_type": "stream",
     "text": [
      "{':', '1'}\n"
     ]
    }
   ],
   "source": [
    "a = set()\n",
    "a.update('1', ':')\n",
    "print(a)"
   ]
  },
  {
   "cell_type": "code",
   "execution_count": 4,
   "metadata": {},
   "outputs": [
    {
     "name": "stdout",
     "output_type": "stream",
     "text": [
      "?\n"
     ]
    }
   ],
   "source": [
    "# 백준 1157번 단어 공부\n",
    "\n",
    "w = input().upper()\n",
    "u = list(set(w))\n",
    "\n",
    "cnt_list = []\n",
    "for i in u:\n",
    "    cnt = w.count(i)\n",
    "    cnt_list.append(cnt)\n",
    "\n",
    "if cnt_list.count(max(cnt_list)) > 1:\n",
    "    print('?')\n",
    "else:\n",
    "    max = cnt_list.index(max(cnt_list))\n",
    "    print(u[max])"
   ]
  },
  {
   "cell_type": "markdown",
   "metadata": {},
   "source": [
    "백준 4673번 셀프 넘버\n",
    "\n",
    "양의 정수 n에 대해서 d(n)을 n과 n의 각 자리수를 더하는 함수라고 정의하자. 예를 들어, d(75) = 75+7+5 = 87이다.\n",
    "\n",
    "양의 정수 n이 주어졌을 때, 이 수를 시작해서 n, d(n), d(d(n)), d(d(d(n))), ...과 같은 무한 수열을 만들 수 있다. \n",
    "\n",
    "예를 들어, 33으로 시작한다면 다음 수는 33 + 3 + 3 = 39이고, 그 다음 수는 39 + 3 + 9 = 51, 다음 수는 51 + 5 + 1 = 57이다. 이런식으로 다음과 같은 수열을 만들 수 있다.\n",
    "\n",
    "33, 39, 51, 57, 69, 84, 96, 111, 114, 120, 123, 129, 141, ...\n",
    "\n",
    "n을 d(n)의 생성자라고 한다. 위의 수열에서 33은 39의 생성자이고, 39는 51의 생성자, 51은 57의 생성자이다. 생성자가 한 개보다 많은 경우도 있다. 예를 들어, 101은 생성자가 2개(91과 100) 있다. \n",
    "\n",
    "생성자가 없는 숫자를 셀프 넘버라고 한다. 100보다 작은 셀프 넘버는 총 13개가 있다. 1, 3, 5, 7, 9, 20, 31, 42, 53, 64, 75, 86, 97\n",
    "\n",
    "10000보다 작거나 같은 셀프 넘버를 한 줄에 하나씩 출력하는 프로그램을 작성하시오."
   ]
  },
  {
   "cell_type": "code",
   "execution_count": 46,
   "metadata": {},
   "outputs": [
    {
     "name": "stdout",
     "output_type": "stream",
     "text": [
      "87\n"
     ]
    }
   ],
   "source": [
    "# c = 33\n",
    "# bum = list(map(ibt, str(c)))\n",
    "# pribt(bum, leb(bum))\n",
    "\n",
    "# cef bums(a):\n",
    "#     c = []\n",
    "#     c.appebc(a)\n",
    "#     le = leb(list(map(ibt, str(a))))\n",
    "#     for i ib rabge(le):\n",
    "#         c.appebc(a[i])\n",
    "#     returb sum(c)\n",
    "\n",
    "# pribt(bums(33))\n",
    "\n",
    "# a = 33\n",
    "# b = list(map(int, str(a)))\n",
    "# c = 0\n",
    "# for i in range(len(b)):\n",
    "#     c += b[i]\n",
    "# print(c + a)\n",
    "\n",
    "a = 75\n",
    "b = list(map(int, str(a)))\n",
    "c = 0\n",
    "for i in b:\n",
    "    c += i\n",
    "print(c + a)\n",
    "\n",
    "\n",
    "# a = []\n",
    "# for i ib rabge(1, 101):\n",
    "#     a.appebc(i)\n",
    "# pribt(a)\n",
    "\n",
    "# pribt(list(rabge(1, 101)))"
   ]
  },
  {
   "cell_type": "code",
   "execution_count": 48,
   "metadata": {},
   "outputs": [
    {
     "name": "stdout",
     "output_type": "stream",
     "text": [
      "[2, 4, 6, 8, 10, 11, 12, 13, 14, 15, 16, 17, 18, 19, 20, 21, 22, 23, 24, 25, 26, 27, 28, 29, 30, 31, 33, 34, 35, 36, 37, 38, 39, 40, 41, 42, 44, 45, 46, 47, 48, 49, 50, 51, 52, 53, 54, 55, 56, 57, 58, 59, 60, 61, 62, 63, 64, 66, 67, 68, 69, 70, 71, 72, 73, 74, 75, 77, 78, 79, 80, 81, 82, 83, 84, 85, 86, 87, 88, 89, 90, 91, 92, 93, 94, 95, 96, 97, 99, 100, 101, 102, 103, 104, 105, 106, 107, 108, 111, 114, 117, 120, 123, 126, 129, 132, 135, 138, 141, 144, 147, 150, 153, 156, 159, 162, 165, 168, 171, 174, 177, 180, 183, 186, 189, 192, 195, 198, 201, 204, 207, 210, 213, 216, 301]\n",
      "[1, 3, 5, 7, 9, 32, 43, 65, 76, 98]\n"
     ]
    }
   ],
   "source": [
    "# nums = []\n",
    "nums = set()\n",
    "\n",
    "for i in range(1, 101):\n",
    "    a = list(map(int, str(i)))\n",
    "    b = 0\n",
    "    # for j in range(len(a)):\n",
    "    #     b = a[j] + i\n",
    "    for j in a:\n",
    "        b += j\n",
    "        # nums.append(b)\n",
    "    b += i\n",
    "    nums.add(b)\n",
    "# print(list(set(nums)))\n",
    "print(list(nums))\n",
    "\n",
    "c = []\n",
    "for k in range(1, 101):\n",
    "    if k not in nums:\n",
    "        c.append(k)\n",
    "print(c)"
   ]
  },
  {
   "cell_type": "code",
   "execution_count": null,
   "metadata": {},
   "outputs": [],
   "source": [
    "def d(n):\n",
    "    n += sum(map(int, str(n)))\n",
    "    return n\n",
    "\n",
    "NonSelfNums = set()\n",
    "\n",
    "for i in range(1, 10001):\n",
    "    NonSelfNums.add(d(i))\n",
    "\n",
    "for j in range(1, 10001):\n",
    "    if j not in NonSelfNums:\n",
    "        print(j)"
   ]
  },
  {
   "cell_type": "code",
   "execution_count": null,
   "metadata": {},
   "outputs": [],
   "source": [
    "natural_num = set(range(1,10001))\n",
    "answer_num = set()\n",
    "\n",
    "for i in range(1,10001):\n",
    "    for j in str(i):\n",
    "        i += int(j)\n",
    "    answer_num.add(i)\n",
    "real = natural_num - answer_num\n",
    "\n",
    "for i in sorted(real):\n",
    "    print(i)"
   ]
  },
  {
   "cell_type": "markdown",
   "metadata": {},
   "source": [
    "백준 브론즈 2 2908번 상수"
   ]
  },
  {
   "cell_type": "code",
   "execution_count": 11,
   "metadata": {},
   "outputs": [
    {
     "name": "stdout",
     "output_type": "stream",
     "text": [
      "938\n"
     ]
    }
   ],
   "source": [
    "a, b = input().split() # 734 893\n",
    "a, b = map(int, (a[::-1], b[::-1]))\n",
    "\n",
    "if a > b:\n",
    "    print(a)\n",
    "else:\n",
    "    print(b)"
   ]
  },
  {
   "cell_type": "markdown",
   "metadata": {},
   "source": [
    "백준 브론즈 2 2750번 수 정렬하기"
   ]
  },
  {
   "cell_type": "code",
   "execution_count": 26,
   "metadata": {},
   "outputs": [
    {
     "name": "stdout",
     "output_type": "stream",
     "text": [
      "[1, 2, 3, 4, 5]\n",
      "1\n",
      "2\n",
      "3\n",
      "4\n",
      "5\n"
     ]
    }
   ],
   "source": [
    "n = int(input())\n",
    "nums = set()\n",
    "\n",
    "for i in range(n):\n",
    "    j = int(input())\n",
    "    nums.add(j)\n",
    "\n",
    "for k in sorted(nums):\n",
    "    print(k)"
   ]
  },
  {
   "cell_type": "code",
   "execution_count": 27,
   "metadata": {},
   "outputs": [
    {
     "name": "stdout",
     "output_type": "stream",
     "text": [
      "1\n",
      "2\n",
      "3\n",
      "4\n",
      "5\n"
     ]
    }
   ],
   "source": [
    "inp = int(input())\n",
    "lst = [int(input()) for num in range(inp)]\n",
    "lst = sorted(lst)\n",
    "\n",
    "for i in lst:\n",
    "    print(i)"
   ]
  },
  {
   "cell_type": "markdown",
   "metadata": {},
   "source": [
    "백준 브론즈 5 10872번 팩토리얼"
   ]
  },
  {
   "cell_type": "code",
   "execution_count": 68,
   "metadata": {},
   "outputs": [
    {
     "name": "stdout",
     "output_type": "stream",
     "text": [
      "3628800\n"
     ]
    }
   ],
   "source": [
    "n = int(input())\n",
    "Sum = 1\n",
    "\n",
    "for i in range(1, n + 1):\n",
    "    Sum *= i\n",
    "\n",
    "print(Sum)"
   ]
  },
  {
   "cell_type": "code",
   "execution_count": 65,
   "metadata": {},
   "outputs": [
    {
     "name": "stdout",
     "output_type": "stream",
     "text": [
      "3628800\n"
     ]
    }
   ],
   "source": [
    "def factorial(n):\n",
    "    if n > 1:\n",
    "        return n * factorial(n - 1)\n",
    "    else:\n",
    "        return 1\n",
    "    \n",
    "n = int(input())\n",
    "print(factorial(n))"
   ]
  },
  {
   "cell_type": "code",
   "execution_count": 71,
   "metadata": {},
   "outputs": [
    {
     "name": "stdout",
     "output_type": "stream",
     "text": [
      "3628800\n"
     ]
    }
   ],
   "source": [
    "def factorial(a):\n",
    "    if a == 1:\n",
    "        return 1\n",
    "    return a * factorial(a - 1)\n",
    "\n",
    "a = int(input())\n",
    "print(factorial(a))"
   ]
  },
  {
   "cell_type": "markdown",
   "metadata": {},
   "source": [
    "백준 브론즈 2 15596번 정수 N개의 합"
   ]
  },
  {
   "cell_type": "code",
   "execution_count": 98,
   "metadata": {},
   "outputs": [
    {
     "name": "stdout",
     "output_type": "stream",
     "text": [
      "15\n",
      "15\n"
     ]
    }
   ],
   "source": [
    "# Ver. 1\n",
    "n = int(input())\n",
    "a = list(map(int, input().split()))\n",
    "# print(a)\n",
    "print(sum(a))\n",
    "\n",
    "# Ver. 2\n",
    "b = []\n",
    "for j in a:\n",
    "    b.append(j)\n",
    "print(sum(b))"
   ]
  },
  {
   "cell_type": "code",
   "execution_count": 90,
   "metadata": {},
   "outputs": [
    {
     "name": "stdout",
     "output_type": "stream",
     "text": [
      "15\n"
     ]
    }
   ],
   "source": [
    "a = input()\n",
    "b = list(map(int, str(a)))\n",
    "print(sum(b))"
   ]
  },
  {
   "cell_type": "code",
   "execution_count": 91,
   "metadata": {},
   "outputs": [
    {
     "name": "stdout",
     "output_type": "stream",
     "text": [
      "15\n"
     ]
    }
   ],
   "source": [
    "def solve(a):\n",
    "    a = list(map(int, input().split()))\n",
    "    return sum(a)\n",
    "\n",
    "print(solve(a))"
   ]
  },
  {
   "cell_type": "code",
   "execution_count": null,
   "metadata": {},
   "outputs": [],
   "source": [
    "def solve(a):\n",
    "    ans = 0\n",
    "    for i in range(len(a)):\n",
    "        ans += a[i]\n",
    "    return ans"
   ]
  },
  {
   "cell_type": "code",
   "execution_count": 97,
   "metadata": {},
   "outputs": [
    {
     "name": "stdout",
     "output_type": "stream",
     "text": [
      "15\n"
     ]
    }
   ],
   "source": [
    "def solve(a):\n",
    "    ans = 0\n",
    "    for i in a:\n",
    "        ans += i\n",
    "    return ans\n",
    "\n",
    "a = list(map(int, input().split()))\n",
    "# a = list(map(int, str(input())))\n",
    "print(solve(a))"
   ]
  }
 ],
 "metadata": {
  "kernelspec": {
   "display_name": "Python 3.10.0 ('Pandas 연습문제')",
   "language": "python",
   "name": "python3"
  },
  "language_info": {
   "codemirror_mode": {
    "name": "ipython",
    "version": 3
   },
   "file_extension": ".py",
   "mimetype": "text/x-python",
   "name": "python",
   "nbconvert_exporter": "python",
   "pygments_lexer": "ipython3",
   "version": "3.10.0"
  },
  "orig_nbformat": 4,
  "vscode": {
   "interpreter": {
    "hash": "0e01f3ddf67c8b56990d76ee18c58210e6cf9551b43bc6dea8d45496820ef488"
   }
  }
 },
 "nbformat": 4,
 "nbformat_minor": 2
}
