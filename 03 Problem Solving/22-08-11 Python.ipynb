{
 "cells": [
  {
   "cell_type": "markdown",
   "metadata": {},
   "source": [
    "CodeUp 6080번 주사위 2개 던지기"
   ]
  },
  {
   "cell_type": "code",
   "execution_count": 6,
   "metadata": {},
   "outputs": [
    {
     "name": "stdout",
     "output_type": "stream",
     "text": [
      "1 1\n",
      "1 2\n",
      "1 3\n",
      "2 1\n",
      "2 2\n",
      "2 3\n"
     ]
    }
   ],
   "source": [
    "n, m = map(int, input().split())\n",
    "\n",
    "\n",
    "for i in range(1, n+1):\n",
    "    for j in range(1, m+1):\n",
    "        print(i, j)"
   ]
  },
  {
   "cell_type": "markdown",
   "metadata": {},
   "source": [
    "CodeUp 6081번 16진수 구구단 출력하기"
   ]
  },
  {
   "cell_type": "code",
   "execution_count": 33,
   "metadata": {},
   "outputs": [
    {
     "name": "stdout",
     "output_type": "stream",
     "text": [
      "B*1=B\n",
      "B*2=16\n",
      "B*3=21\n",
      "B*4=2C\n",
      "B*5=37\n",
      "B*6=42\n",
      "B*7=4D\n",
      "B*8=58\n",
      "B*9=63\n",
      "B*A=6E\n",
      "B*B=79\n",
      "B*C=84\n",
      "B*D=8F\n",
      "B*E=9A\n",
      "B*F=A5\n"
     ]
    }
   ],
   "source": [
    "a = int(input(), 16)\n",
    "\n",
    "for i in range(1, 16):\n",
    "    print('%X'%a, '*%X'%i, '=%X'%(a*i), sep='')"
   ]
  },
  {
   "cell_type": "markdown",
   "metadata": {},
   "source": [
    "CodeUp 6082번 3 6 9 게임의 왕이 되자"
   ]
  },
  {
   "cell_type": "code",
   "execution_count": 58,
   "metadata": {},
   "outputs": [
    {
     "name": "stdout",
     "output_type": "stream",
     "text": [
      "1 2 X 4 5 X 7 8 X 10 11 12 X 14 15 X 17 18 X 20 21 22 X 24 25 X 27 28 X\n"
     ]
    }
   ],
   "source": [
    "a = int(input())\n",
    "b = ''\n",
    "\n",
    "for i in range(1, a+1):\n",
    "    if i % 10 == 3:\n",
    "        b += 'X '\n",
    "    elif i % 10 == 6:\n",
    "        b += 'X '\n",
    "    elif i % 10 == 9:\n",
    "        b += 'X '\n",
    "    else:\n",
    "        b += str(i) + ' '\n",
    "print(b.rstrip())"
   ]
  },
  {
   "cell_type": "markdown",
   "metadata": {},
   "source": [
    "CodeUp 6083번 빛 섞어 색 만들기"
   ]
  },
  {
   "cell_type": "code",
   "execution_count": 9,
   "metadata": {},
   "outputs": [
    {
     "name": "stdout",
     "output_type": "stream",
     "text": [
      "0 0 0\n",
      "0 0 1\n",
      "0 1 0\n",
      "0 1 1\n",
      "1 0 0\n",
      "1 0 1\n",
      "1 1 0\n",
      "1 1 1\n",
      "8 = 8\n"
     ]
    }
   ],
   "source": [
    "r, g, b = map(int, input().split())\n",
    "a = 0\n",
    "    \n",
    "for i in range(r):\n",
    "    for j in range(g):\n",
    "        for k in range(b):\n",
    "            a += 1\n",
    "            print(i, j, k)\n",
    "print(a, '=', r*g*b) # 경우의 수"
   ]
  },
  {
   "cell_type": "markdown",
   "metadata": {},
   "source": [
    "CodeUp 6084번 소리 파일 저장용량 계산하기"
   ]
  },
  {
   "cell_type": "code",
   "execution_count": 17,
   "metadata": {},
   "outputs": [
    {
     "name": "stdout",
     "output_type": "stream",
     "text": [
      "1.7 MB\n"
     ]
    }
   ],
   "source": [
    "'''\n",
    "h: 1초 동안 마이크로 소리강약을 체크하는 횟수, 헤르쯔.\n",
    "b: 한 번 체크한 값을 저장할 때 사용하는 비트수.\n",
    "c: 좌우 등 소리를 저장할 트랙 개수인 채널 개수.\n",
    "s: 녹음할 시간(초)\n",
    "'''\n",
    "\n",
    "h, b, c, s = map(int, input().split())\n",
    "print('%.1f' % (h * b * c * s / 8 / 1024 / 1024), 'MB') # bit -> byte -> KB -> MB"
   ]
  },
  {
   "cell_type": "markdown",
   "metadata": {},
   "source": [
    "CodeUp 6085번 그림 파일 저장용량 계산하기"
   ]
  },
  {
   "cell_type": "code",
   "execution_count": 18,
   "metadata": {},
   "outputs": [
    {
     "name": "stdout",
     "output_type": "stream",
     "text": [
      "2.25 MB\n"
     ]
    }
   ],
   "source": [
    "w, h, b = map(int, input().split())\n",
    "print('%.2f' % (w*h*b / 8 / 1024 / 1024), 'MB')"
   ]
  },
  {
   "cell_type": "code",
   "execution_count": 34,
   "metadata": {},
   "outputs": [
    {
     "name": "stdout",
     "output_type": "stream",
     "text": [
      "1024\n",
      "2048\n",
      "1024\n"
     ]
    }
   ],
   "source": [
    "print(2<<9)\n",
    "a, b = 2, 10\n",
    "print(a << b)\n",
    "\n",
    "c = 1\n",
    "for i in range(1, 11):\n",
    "    c *= 2\n",
    "print(c)"
   ]
  },
  {
   "cell_type": "markdown",
   "metadata": {},
   "source": [
    "CodeUp 6086번 거기까지! 이제 그만~"
   ]
  },
  {
   "cell_type": "code",
   "execution_count": 38,
   "metadata": {},
   "outputs": [
    {
     "name": "stdout",
     "output_type": "stream",
     "text": [
      "1\n"
     ]
    }
   ],
   "source": [
    "a = int(input())\n",
    "b = 0\n",
    "\n",
    "for i in range(1, 100000001):\n",
    "    b += i\n",
    "    if b >= a:\n",
    "        print(b)\n",
    "        break"
   ]
  },
  {
   "cell_type": "code",
   "execution_count": 40,
   "metadata": {},
   "outputs": [
    {
     "name": "stdout",
     "output_type": "stream",
     "text": [
      "66\n"
     ]
    }
   ],
   "source": [
    "a = int(input())\n",
    "b = 0\n",
    "c = 0\n",
    "\n",
    "while b < a:\n",
    "    c += 1\n",
    "    b += c\n",
    "    \n",
    "print(b)"
   ]
  },
  {
   "cell_type": "markdown",
   "metadata": {},
   "source": [
    "CodeUp 6087번 3의 배수는 통과"
   ]
  },
  {
   "cell_type": "code",
   "execution_count": 41,
   "metadata": {},
   "outputs": [
    {
     "name": "stdout",
     "output_type": "stream",
     "text": [
      "1 2 4 5 7 8 10\n"
     ]
    }
   ],
   "source": [
    "a = int(input())\n",
    "b = ''\n",
    "\n",
    "for i in range(1, a+1):\n",
    "    if i % 3 == 0:\n",
    "        pass # = continue\n",
    "    else:\n",
    "        b += str(i) + ' '\n",
    "        \n",
    "print(b.rstrip())"
   ]
  },
  {
   "cell_type": "code",
   "execution_count": 42,
   "metadata": {},
   "outputs": [
    {
     "name": "stdout",
     "output_type": "stream",
     "text": [
      "1 2 4 5 7 8 10 "
     ]
    }
   ],
   "source": [
    "a = int(input())\n",
    "\n",
    "for i in range(1, a+1):\n",
    "    if i % 3 == 0:\n",
    "        continue\n",
    "    else:\n",
    "        print(i, end = ' ')"
   ]
  },
  {
   "cell_type": "markdown",
   "metadata": {},
   "source": [
    "CodeUp 6088번 수 나열하기1"
   ]
  },
  {
   "cell_type": "code",
   "execution_count": 56,
   "metadata": {},
   "outputs": [
    {
     "name": "stdout",
     "output_type": "stream",
     "text": [
      "13\n"
     ]
    }
   ],
   "source": [
    "a, d, n = map(int, input().split())\n",
    "\n",
    "# for i in range(a, n):\n",
    "#     a += d\n",
    "# print(a+d)\n",
    "\n",
    "b = []\n",
    "while len(b) < n:\n",
    "    b.append(a)\n",
    "    a += d\n",
    "\n",
    "print(b[-1])"
   ]
  },
  {
   "cell_type": "code",
   "execution_count": 57,
   "metadata": {},
   "outputs": [
    {
     "name": "stdout",
     "output_type": "stream",
     "text": [
      "13\n"
     ]
    }
   ],
   "source": [
    "a, d, n = map(int, input().split())\n",
    "s = a\n",
    "\n",
    "for i in range(2, n+1):\n",
    "    s += d\n",
    "    \n",
    "print(s)"
   ]
  },
  {
   "cell_type": "markdown",
   "metadata": {},
   "source": [
    "CodeUp 6089번 수 나열하기2"
   ]
  },
  {
   "cell_type": "code",
   "execution_count": 58,
   "metadata": {},
   "outputs": [
    {
     "name": "stdout",
     "output_type": "stream",
     "text": [
      "1458\n"
     ]
    }
   ],
   "source": [
    "a, r, n = map(int, input().split())\n",
    "s = a\n",
    "\n",
    "for i in range(2, n+1):\n",
    "    s *= r\n",
    "\n",
    "print(s)"
   ]
  },
  {
   "cell_type": "code",
   "execution_count": 61,
   "metadata": {},
   "outputs": [
    {
     "name": "stdout",
     "output_type": "stream",
     "text": [
      "1458\n"
     ]
    }
   ],
   "source": [
    "a, r, n = map(int, input().split())\n",
    "b = []\n",
    "\n",
    "while len(b) < n:\n",
    "    b.append(a)\n",
    "    a *= r\n",
    "    \n",
    "print(b[-1])"
   ]
  },
  {
   "cell_type": "markdown",
   "metadata": {},
   "source": [
    "CodeUp 6090번 수 나열하기3"
   ]
  },
  {
   "cell_type": "code",
   "execution_count": 62,
   "metadata": {},
   "outputs": [
    {
     "name": "stdout",
     "output_type": "stream",
     "text": [
      "-85\n"
     ]
    }
   ],
   "source": [
    "# 시작 값(a), 곱할 값(m), 더할 값(d), 몇 번째인지를 나타내는 정수(n)\n",
    "a, m, d, n = map(int, input().split())\n",
    "s = a\n",
    "\n",
    "for i in range(2, n+1):\n",
    "    s = s * m + d\n",
    "    \n",
    "print(s)"
   ]
  },
  {
   "cell_type": "code",
   "execution_count": null,
   "metadata": {},
   "outputs": [],
   "source": [
    "a, m, d, n = map(int, input().split())\n",
    "\n",
    "for i in range(1, n):\n",
    "    a = a * m + d\n",
    "    \n",
    "print(a)"
   ]
  },
  {
   "cell_type": "markdown",
   "metadata": {},
   "source": [
    "CodeUp 6091번 함께 문제 푸는 날"
   ]
  },
  {
   "cell_type": "code",
   "execution_count": 63,
   "metadata": {},
   "outputs": [
    {
     "name": "stdout",
     "output_type": "stream",
     "text": [
      "63\n"
     ]
    }
   ],
   "source": [
    "# 모든 수의 최소 배수여야 한다! (최소공배수)\n",
    "a, b, c = map(int, input().split())\n",
    "d = 1\n",
    "while d % a != 0 or d % b != 0 or d % c != 0:\n",
    "    d += 1\n",
    "print(d)"
   ]
  },
  {
   "cell_type": "markdown",
   "metadata": {},
   "source": [
    "CodeUp 6092번 이상한 출석 번호 부르기1"
   ]
  },
  {
   "cell_type": "code",
   "execution_count": 80,
   "metadata": {},
   "outputs": [
    {
     "name": "stdout",
     "output_type": "stream",
     "text": [
      "1 2 1 1 2 1 1 0 1 0 0 0 0 0 0 0 0 0 0 0 0 0 0 "
     ]
    }
   ],
   "source": [
    "import numpy as np\n",
    "\n",
    "a = int(input()) # 10\n",
    "b = list(map(int, input().split())) # 1 3 2 2 5 6 7 4 5 9\n",
    "# c = np.zeros((1, 23), np.int32).ravel()\n",
    "c = np.zeros((23,), np.int32)\n",
    "\n",
    "for i in b:\n",
    "    c[i-1] += 1\n",
    "    \n",
    "# print(c) # <- list\n",
    "for j in c:\n",
    "    print(j, end=' ')"
   ]
  },
  {
   "cell_type": "code",
   "execution_count": 84,
   "metadata": {},
   "outputs": [
    {
     "name": "stdout",
     "output_type": "stream",
     "text": [
      "1 2 1 1 2 1 1 0 1 0 0 0 0 0 0 0 0 0 0 0 0 0 0 "
     ]
    }
   ],
   "source": [
    "a = int(input()) # 10\n",
    "b = list(map(int, input().split())) # 1 3 2 2 5 6 7 4 5 9\n",
    "c = [0,0,0,0,0,0,0,0,0,0,0,0,0,0,0,0,0,0,0,0,0,0,0]\n",
    "\n",
    "for i in range(1, 23 + 1):\n",
    "    for j in b:\n",
    "        if i == j:\n",
    "            c[i-1] += 1\n",
    "            \n",
    "for k in c:\n",
    "    print(k, end=' ')"
   ]
  },
  {
   "cell_type": "code",
   "execution_count": 94,
   "metadata": {},
   "outputs": [
    {
     "name": "stdout",
     "output_type": "stream",
     "text": [
      "1 2 1 1 2 1 1 0 1 0 0 0 0 0 0 0 0 0 0 0 0 0 0 "
     ]
    }
   ],
   "source": [
    "a = int(input())\n",
    "b = list(map(int, input().split()))\n",
    "c = []\n",
    "\n",
    "for i in range(24):\n",
    "    c.append(0)\n",
    "    \n",
    "for j in range(a):\n",
    "    c[b[j]] += 1\n",
    "    \n",
    "for k in range(1, 24):\n",
    "    print(c[k], end=' ')"
   ]
  }
 ],
 "metadata": {
  "kernelspec": {
   "display_name": "Python 3.10.0 ('Pandas 연습문제')",
   "language": "python",
   "name": "python3"
  },
  "language_info": {
   "codemirror_mode": {
    "name": "ipython",
    "version": 3
   },
   "file_extension": ".py",
   "mimetype": "text/x-python",
   "name": "python",
   "nbconvert_exporter": "python",
   "pygments_lexer": "ipython3",
   "version": "3.10.0"
  },
  "orig_nbformat": 4,
  "vscode": {
   "interpreter": {
    "hash": "0e01f3ddf67c8b56990d76ee18c58210e6cf9551b43bc6dea8d45496820ef488"
   }
  }
 },
 "nbformat": 4,
 "nbformat_minor": 2
}
