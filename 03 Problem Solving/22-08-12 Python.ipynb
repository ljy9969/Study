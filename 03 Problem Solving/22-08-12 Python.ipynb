{
 "cells": [
  {
   "cell_type": "markdown",
   "metadata": {},
   "source": [
    "CodeUp 6093번 이상한 출석 번호 부르기2"
   ]
  },
  {
   "cell_type": "code",
   "execution_count": null,
   "metadata": {},
   "outputs": [
    {
     "name": "stdout",
     "output_type": "stream",
     "text": [
      "5 8 9 7 6 6 3 2 4 10 "
     ]
    }
   ],
   "source": [
    "a = int(input()) # 10\n",
    "b = list(map(int, input().split())) # 10 4 2 3 6 6 7 9 8 5\n",
    "\n",
    "for i in b[::-1]:\n",
    "    print(i, end=' ')"
   ]
  },
  {
   "cell_type": "code",
   "execution_count": null,
   "metadata": {},
   "outputs": [
    {
     "name": "stdout",
     "output_type": "stream",
     "text": [
      "5 8 9 7 6 6 3 2 4 10 "
     ]
    }
   ],
   "source": [
    "a = int(input())\n",
    "b = list(map(int, input().split()))\n",
    "\n",
    "for i in range(a-1, -1, -1): # 10-1(=9), -1, -1\n",
    "    print(b[i], end=' ')"
   ]
  },
  {
   "cell_type": "markdown",
   "metadata": {},
   "source": [
    "CodeUp 6094번 이상한 출석 번호 부르기3"
   ]
  },
  {
   "cell_type": "code",
   "execution_count": 3,
   "metadata": {},
   "outputs": [
    {
     "name": "stdout",
     "output_type": "stream",
     "text": [
      "2\n"
     ]
    }
   ],
   "source": [
    "a = int(input())\n",
    "b = list(map(int, input().split()))\n",
    "\n",
    "print(min(b))"
   ]
  },
  {
   "cell_type": "code",
   "execution_count": 4,
   "metadata": {},
   "outputs": [
    {
     "name": "stdout",
     "output_type": "stream",
     "text": [
      "2\n"
     ]
    }
   ],
   "source": [
    "a = int(input())\n",
    "b = list(map(int, input().split()))\n",
    "c = float('inf')\n",
    "\n",
    "for i in range(a):\n",
    "    if b[i] < c:\n",
    "        c = b[i]\n",
    "    else:\n",
    "        continue\n",
    "print(c)"
   ]
  },
  {
   "cell_type": "markdown",
   "metadata": {},
   "source": [
    "CodeUp 6095번 바둑판에 흰 돌 놓기"
   ]
  },
  {
   "cell_type": "code",
   "execution_count": 16,
   "metadata": {},
   "outputs": [
    {
     "name": "stdout",
     "output_type": "stream",
     "text": [
      "[[0, 0, 0, 0, 0, 0, 0, 0, 0, 0, 0, 0, 0, 0, 0, 0, 0, 0, 0, 0], [0, 0, 0, 0, 0, 0, 0, 0, 0, 0, 0, 0, 0, 0, 0, 0, 0, 0, 0, 0], [0, 0, 0, 0, 0, 0, 0, 0, 0, 0, 0, 0, 0, 0, 0, 0, 0, 0, 0, 0], [0, 0, 0, 0, 0, 0, 0, 0, 0, 0, 0, 0, 0, 0, 0, 0, 0, 0, 0, 0], [0, 0, 0, 0, 0, 0, 0, 0, 0, 0, 0, 0, 0, 0, 0, 0, 0, 0, 0, 0], [0, 0, 0, 0, 0, 0, 0, 0, 0, 0, 0, 0, 0, 0, 0, 0, 0, 0, 0, 0], [0, 0, 0, 0, 0, 0, 0, 0, 0, 0, 0, 0, 0, 0, 0, 0, 0, 0, 0, 0], [0, 0, 0, 0, 0, 0, 0, 0, 0, 0, 0, 0, 0, 0, 0, 0, 0, 0, 0, 0], [0, 0, 0, 0, 0, 0, 0, 0, 0, 0, 0, 0, 0, 0, 0, 0, 0, 0, 0, 0], [0, 0, 0, 0, 0, 0, 0, 0, 0, 0, 0, 0, 0, 0, 0, 0, 0, 0, 0, 0], [0, 0, 0, 0, 0, 0, 0, 0, 0, 0, 0, 0, 0, 0, 0, 0, 0, 0, 0, 0], [0, 0, 0, 0, 0, 0, 0, 0, 0, 0, 0, 0, 0, 0, 0, 0, 0, 0, 0, 0], [0, 0, 0, 0, 0, 0, 0, 0, 0, 0, 0, 0, 0, 0, 0, 0, 0, 0, 0, 0], [0, 0, 0, 0, 0, 0, 0, 0, 0, 0, 0, 0, 0, 0, 0, 0, 0, 0, 0, 0], [0, 0, 0, 0, 0, 0, 0, 0, 0, 0, 0, 0, 0, 0, 0, 0, 0, 0, 0, 0], [0, 0, 0, 0, 0, 0, 0, 0, 0, 0, 0, 0, 0, 0, 0, 0, 0, 0, 0, 0], [0, 0, 0, 0, 0, 0, 0, 0, 0, 0, 0, 0, 0, 0, 0, 0, 0, 0, 0, 0], [0, 0, 0, 0, 0, 0, 0, 0, 0, 0, 0, 0, 0, 0, 0, 0, 0, 0, 0, 0], [0, 0, 0, 0, 0, 0, 0, 0, 0, 0, 0, 0, 0, 0, 0, 0, 0, 0, 0, 0], [0, 0, 0, 0, 0, 0, 0, 0, 0, 0, 0, 0, 0, 0, 0, 0, 0, 0, 0, 0]]\n",
      "[0, 0, 0, 0, 0, 0, 0, 0, 0, 0, 0, 0, 0, 0, 0, 0, 0, 0, 0, 0]\n"
     ]
    }
   ],
   "source": [
    "# List Comprehensions\n",
    "a = [[0 for j in range(20)] for i in range(20)]\n",
    "b = [0 for j in range(20)]\n",
    "print(a, b, sep='\\n')"
   ]
  },
  {
   "cell_type": "code",
   "execution_count": 26,
   "metadata": {},
   "outputs": [
    {
     "name": "stdout",
     "output_type": "stream",
     "text": [
      "1 0 0 0 0 0 0 0 0 0 0 0 0 0 0 0 0 0 0 \n",
      "0 1 0 0 0 0 0 0 0 0 0 0 0 0 0 0 0 0 0 \n",
      "0 0 1 0 0 0 0 0 0 0 0 0 0 0 0 0 0 0 0 \n",
      "0 0 0 1 0 0 0 0 0 0 0 0 0 0 0 0 0 0 0 \n",
      "0 0 0 0 1 0 0 0 0 0 0 0 0 0 0 0 0 0 0 \n",
      "0 0 0 0 0 0 0 0 0 0 0 0 0 0 0 0 0 0 0 \n",
      "0 0 0 0 0 0 0 0 0 0 0 0 0 0 0 0 0 0 0 \n",
      "0 0 0 0 0 0 0 0 0 0 0 0 0 0 0 0 0 0 0 \n",
      "0 0 0 0 0 0 0 0 0 0 0 0 0 0 0 0 0 0 0 \n",
      "0 0 0 0 0 0 0 0 0 0 0 0 0 0 0 0 0 0 0 \n",
      "0 0 0 0 0 0 0 0 0 0 0 0 0 0 0 0 0 0 0 \n",
      "0 0 0 0 0 0 0 0 0 0 0 0 0 0 0 0 0 0 0 \n",
      "0 0 0 0 0 0 0 0 0 0 0 0 0 0 0 0 0 0 0 \n",
      "0 0 0 0 0 0 0 0 0 0 0 0 0 0 0 0 0 0 0 \n",
      "0 0 0 0 0 0 0 0 0 0 0 0 0 0 0 0 0 0 0 \n",
      "0 0 0 0 0 0 0 0 0 0 0 0 0 0 0 0 0 0 0 \n",
      "0 0 0 0 0 0 0 0 0 0 0 0 0 0 0 0 0 0 0 \n",
      "0 0 0 0 0 0 0 0 0 0 0 0 0 0 0 0 0 0 0 \n",
      "0 0 0 0 0 0 0 0 0 0 0 0 0 0 0 0 0 0 0 \n"
     ]
    }
   ],
   "source": [
    "a = int(input())\n",
    "b = [[0 for j in range(19)] for i in range(19)]\n",
    "\n",
    "for i in range(a):\n",
    "    c = list(map(int, input().split()))\n",
    "    b[c[0]-1][c[1]-1] = 1\n",
    "\n",
    "for j in range(19):\n",
    "    for k in range(19):\n",
    "        print(b[j][k], end = ' ') # 한 행의 리스트 안의 인자들을 모두 출력하고 다음 행(줄)로 넘어 감\n",
    "    print()"
   ]
  },
  {
   "cell_type": "markdown",
   "metadata": {},
   "source": [
    "백준 브론즈 1 1193번 분수찾기\n",
    "\n",
    "X의 값이 주어졌을 때, 대각선의 개수만큼 X에서 빼준다.\n",
    "\n",
    "while문의 조건을 만족하지 않을 때 그 값이\n",
    "\n",
    "짝수에서는 분자 홀수에서는 분모가 된다.\n",
    "\n",
    "짝수에서 분모와 홀수에서 분자는 라인 수에서 X값을 빼준 뒤 1을 더하면 된다."
   ]
  },
  {
   "cell_type": "code",
   "execution_count": null,
   "metadata": {},
   "outputs": [
    {
     "name": "stdout",
     "output_type": "stream",
     "text": [
      "2/4\n"
     ]
    }
   ],
   "source": [
    "# 정답\n",
    "X = int(input())\n",
    "L = 1\n",
    "\n",
    "while X > L:\n",
    "    X -= L\n",
    "    L += 1\n",
    "    \n",
    "if L % 2 == 0:\n",
    "    num = X\n",
    "    deno = L - X + 1\n",
    "else:\n",
    "    num = L - X + 1\n",
    "    deno = X\n",
    "    \n",
    "print(num, '/', deno, sep = \"\")\n",
    "# print(f'{num}/{deno}')"
   ]
  },
  {
   "cell_type": "code",
   "execution_count": null,
   "metadata": {},
   "outputs": [
    {
     "name": "stdout",
     "output_type": "stream",
     "text": [
      "['1/1', '1/1', '1/1', '2/1', '2/2', '2/1', '2/2', '2/1', '2/2', '3/1', '3/2', '3/3', '3/1', '3/2', '3/3', '3/1', '3/2', '3/3']\n"
     ]
    }
   ],
   "source": [
    "\n",
    "# 내 풀이 - 미완\n",
    "a = []\n",
    "for i in range(1, 4):\n",
    "    for j in range(1, 4):\n",
    "        if i % 2 != 0: # 홀수 그룹일 경우 분자는 역 방향 / 분모는 순 방향. ex) 3/1, 2/2, 1/3\n",
    "            for k in range(i):\n",
    "                a.append(f'{i}/{k+1}')\n",
    "                while k > i:\n",
    "                    k += 1\n",
    "        elif i % 2 == 0: # 짝수 그룹일 경우 분자는 순 방향 / 분모는 역 방향 ex) 1/4, 2/3, 3/2, 4/1\n",
    "            for l in range(i):\n",
    "                a.append(f'{i}/{l+1}')\n",
    "print(a)\n",
    "            \n",
    "\n",
    "        \n",
    "#     a.append(f'{i}/{i}')\n",
    "#     print(f'{i}/{k}')\n",
    "# print(a)\n",
    "    "
   ]
  },
  {
   "cell_type": "code",
   "execution_count": null,
   "metadata": {},
   "outputs": [
    {
     "name": "stdout",
     "output_type": "stream",
     "text": [
      "['4/1', '3/1', '2/1', '1/1', '2/4', '2/3', '2/2', '2/1', '4/3', '3/3', '2/3', '1/3', '4/4', '4/3', '4/2', '4/1']\n"
     ]
    }
   ],
   "source": [
    "# 내 풀이 - 미완\n",
    "a = int(input()) # 4\n",
    "b = []\n",
    "\n",
    "for i in range(1, a+1): # 1, 2, 3, 4\n",
    "    for j in range(1, a+1)[::-1]:\n",
    "        if i % 2 != 0: # 1, 3. 홀수 그룹일 경우 분자는 역 방향 / 분모는 순 방향. ex) 3/1, 2/2, 1/3\n",
    "            b.append(f'{j}/{i}')\n",
    "        else: # 2, 4. 짝수 그룹일 경우 분자는 순 방향 / 분모는 역 방향 ex) 1/4, 2/3, 3/2, 4/1\n",
    "            b.append(f'{i}/{j}')\n",
    "            \n",
    "print(b)"
   ]
  },
  {
   "cell_type": "code",
   "execution_count": null,
   "metadata": {},
   "outputs": [
    {
     "name": "stdout",
     "output_type": "stream",
     "text": [
      "4\n",
      "3\n",
      "2\n",
      "1\n"
     ]
    }
   ],
   "source": [
    "# 내 풀이 - 미완\n",
    "for i in range(1, 4+1)[::-1]:\n",
    "    print(i)"
   ]
  },
  {
   "cell_type": "code",
   "execution_count": null,
   "metadata": {},
   "outputs": [
    {
     "name": "stdout",
     "output_type": "stream",
     "text": [
      "['1/2', '1/1', '3/1', '2/1', '1/1', '3/2', '2/2', '1/2', '1/4', '1/3', '1/2', '1/1', '2/4', '2/3', '2/2', '2/1', '3/4', '3/3', '3/2', '3/1']\n"
     ]
    }
   ],
   "source": [
    "# 내 풀이 - 미완\n",
    "a = int(input()) # 4\n",
    "b = []\n",
    "\n",
    "for i in range(1, a+1): # 1, 2, 3, 4\n",
    "    for j in range(1, i):\n",
    "        for k in range(1, i+1)[::-1]:\n",
    "            if i % 2 != 0: # 1, 3. 홀수 그룹일 경우 분자는 역 방향 / 분모는 순 방향. ex) 3/1, 2/2, 1/3\n",
    "                b.append(f'{k}/{j}')\n",
    "            else: # 2, 4. 짝수 그룹일 경우 분자는 순 방향 / 분모는 역 방향 ex) 1/4, 2/3, 3/2, 4/1\n",
    "                b.append(f'{j}/{k}')\n",
    "            \n",
    "print(b)"
   ]
  }
 ],
 "metadata": {
  "kernelspec": {
   "display_name": "Python 3.10.0 ('Pandas 연습문제')",
   "language": "python",
   "name": "python3"
  },
  "language_info": {
   "codemirror_mode": {
    "name": "ipython",
    "version": 3
   },
   "file_extension": ".py",
   "mimetype": "text/x-python",
   "name": "python",
   "nbconvert_exporter": "python",
   "pygments_lexer": "ipython3",
   "version": "3.10.0"
  },
  "orig_nbformat": 4,
  "vscode": {
   "interpreter": {
    "hash": "0e01f3ddf67c8b56990d76ee18c58210e6cf9551b43bc6dea8d45496820ef488"
   }
  }
 },
 "nbformat": 4,
 "nbformat_minor": 2
}
