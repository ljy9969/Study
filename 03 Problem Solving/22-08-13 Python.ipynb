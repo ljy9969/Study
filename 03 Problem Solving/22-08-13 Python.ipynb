{
 "cells": [
  {
   "cell_type": "markdown",
   "metadata": {},
   "source": [
    "CodeUp 6096번 바둑알 십자 뒤집기"
   ]
  },
  {
   "cell_type": "code",
   "execution_count": null,
   "metadata": {},
   "outputs": [],
   "source": [
    "# 내 풀이 - 미완\n",
    "a = [[0 for j in range(19)] for i in range(19)] # ijklmnop\n",
    "\n",
    "for k in range(19):\n",
    "    b = list(map(int, input().split()))\n",
    "    for l in b:\n",
    "        a[]"
   ]
  },
  {
   "cell_type": "code",
   "execution_count": null,
   "metadata": {},
   "outputs": [],
   "source": [
    "# 내 풀이 - 미완\n",
    "a = []\n",
    "# b = list(map(int, input().split(sep = '\\n', maxsplit=19)))\n",
    "b = list(map(int, input().split()))\n",
    "# c = a.append(b)\n",
    "c = list(range(0, 19))\n",
    "\n",
    "# for i in range(19):\n",
    "#     a.append([list(range(b[i]))])\n",
    "d = []\n",
    "\n",
    "while len(a) < 19:\n",
    "# for j in range(19):\n",
    "    for i in c:\n",
    "        d.append(b[i])\n",
    "        c[i] += 19\n",
    "        a.append(d)\n",
    "\n",
    "print(b)\n",
    "print(c)\n",
    "print(d, len(d))\n",
    "print(a, len(a))\n",
    "print(sum(b))"
   ]
  },
  {
   "cell_type": "code",
   "execution_count": null,
   "metadata": {},
   "outputs": [],
   "source": [
    "# 내 풀이 - 미완\n",
    "a = input().split()\n",
    "b = [[a[i] for i in range(19)] for j in range(19)]\n",
    "\n",
    "print(b, len(b))"
   ]
  },
  {
   "cell_type": "code",
   "execution_count": 7,
   "metadata": {},
   "outputs": [
    {
     "name": "stdout",
     "output_type": "stream",
     "text": [
      "0 0 0 0 0 0 0 0 0 0 0 0 0 0 0 0 0 0 0 \n",
      "0 0 0 0 0 0 0 0 0 0 0 0 0 0 0 0 0 0 0 \n",
      "0 0 0 0 0 0 0 0 0 0 0 0 0 0 0 0 0 0 0 \n",
      "0 0 0 0 0 0 0 0 0 0 0 0 0 0 0 0 0 0 0 \n",
      "0 0 0 0 0 0 0 0 0 0 0 0 0 0 0 0 0 0 0 \n",
      "0 0 0 0 0 0 0 0 0 0 0 0 0 0 0 0 0 0 0 \n",
      "0 0 0 0 0 0 0 0 0 0 0 0 0 0 0 0 0 0 0 \n",
      "0 0 0 0 0 0 0 0 0 0 0 0 0 0 0 0 0 0 0 \n",
      "0 0 0 0 0 0 0 0 0 0 0 0 0 0 0 0 0 0 0 \n",
      "0 0 0 0 0 0 0 0 0 1 0 1 0 0 0 0 0 0 0 \n",
      "0 0 0 0 0 0 0 0 0 0 0 0 0 0 0 0 0 0 0 \n",
      "0 0 0 0 0 0 0 0 0 1 0 1 0 0 0 0 0 0 0 \n",
      "0 0 0 0 0 0 0 0 0 0 0 0 0 0 0 0 0 0 0 \n",
      "0 0 0 0 0 0 0 0 0 0 0 0 0 0 0 0 0 0 0 \n",
      "0 0 0 0 0 0 0 0 0 0 0 0 0 0 0 0 0 0 0 \n",
      "0 0 0 0 0 0 0 0 0 0 0 0 0 0 0 0 0 0 0 \n",
      "0 0 0 0 0 0 0 0 0 0 0 0 0 0 0 0 0 0 0 \n",
      "0 0 0 0 0 0 0 0 0 0 0 0 0 0 0 0 0 0 0 \n",
      "0 0 0 0 0 0 0 0 0 0 0 0 0 0 0 0 0 0 0 \n"
     ]
    }
   ],
   "source": [
    "a = [[] for _ in range(19)]\n",
    "for i in range(19):\n",
    "    a[i] = list(map(int, input().split()))\n",
    "    \n",
    "n = int(input())\n",
    "\n",
    "for j in range(n):\n",
    "    x, y = map(int, input().split())\n",
    "    for k in range(19):\n",
    "        if a[x-1][k] == 1:\n",
    "            a[x-1][k] = 0\n",
    "        else:\n",
    "            a[x-1][k] = 1\n",
    "    for k in range(19):\n",
    "        if a[k][y-1] == 1:\n",
    "            a[k][y-1] = 0\n",
    "        else:\n",
    "            a[k][y-1] = 1\n",
    "\n",
    "for i in range(19):\n",
    "    for j in range(19):\n",
    "        print(a[i][j], end = ' ')\n",
    "    print()"
   ]
  },
  {
   "cell_type": "markdown",
   "metadata": {},
   "source": [
    "CodeUp 6097번 설탕과자 뽑기\n",
    "\n",
    "첫 줄에 격자판의 세로(h), 가로(w) 가 공백을 두고 입력되고,\n",
    "\n",
    "두 번째 줄에 놓을 수 있는 막대의 개수(n)\n",
    "\n",
    "세 번째 줄부터 각 막대의 길이(l), 방향(d), 좌표(x, y)가 입력된다."
   ]
  },
  {
   "cell_type": "code",
   "execution_count": 9,
   "metadata": {},
   "outputs": [
    {
     "name": "stdout",
     "output_type": "stream",
     "text": [
      "1 1 0 0 0 \n",
      "0 0 1 0 1 \n",
      "0 0 1 0 1 \n",
      "0 0 1 0 1 \n",
      "0 0 0 0 1 \n"
     ]
    }
   ],
   "source": [
    "# 내 풀이 - 가로 세로 헷갈려서 오류로 뜸 -> 수정 -> 정답\n",
    "h, w = map(int, input().split()) # 행/열\n",
    "board = [[0 for _ in range(w)] for _ in range(h)] # 격자판 만들기\n",
    "\n",
    "n = int(input())\n",
    "\n",
    "for i in range(n): # 막대의 개수\n",
    "    l, d, x, y = map(int, input().split()) # 막대의 길이, 방향, 행/열 좌표\n",
    "    \n",
    "    for j in range(l): # 막대 출력 (각 막대 별 길이)\n",
    "        if d == 0:\n",
    "            board[x-1][y-1+j] = 1\n",
    "        else:\n",
    "            board[x-1+j][y-1] = 1\n",
    "\n",
    "for i in range(h): # 격자판 출력하기\n",
    "    for j in range(w):\n",
    "        print(board[i][j], end = ' ')\n",
    "    print()"
   ]
  },
  {
   "cell_type": "code",
   "execution_count": 13,
   "metadata": {},
   "outputs": [
    {
     "name": "stdout",
     "output_type": "stream",
     "text": [
      "1 1 0 0 0 \n",
      "0 0 1 0 1 \n",
      "0 0 1 0 1 \n",
      "0 0 0 0 0 \n",
      "0 0 0 0 0 \n"
     ]
    }
   ],
   "source": [
    "# 내 풀이 - 뭔가 이상함\n",
    "h, w = map(int, input().split()) # 행/열\n",
    "board = [[0] * w for _ in range(h)] # 격자판 만들기\n",
    "\n",
    "n = int(input())\n",
    "\n",
    "for i in range(n): # 막대의 개수\n",
    "    l, d, x, y = map(int, input().split()) # 막대의 길이, 방향, 행 열 좌표\n",
    "    s = l\n",
    "    g = l\n",
    "    \n",
    "    if d == 0:\n",
    "        if w - y - 1 < s:\n",
    "            s = w - y - 1\n",
    "            for j in range(s): # 막대 출력\n",
    "                board[x-1][y-1+j] = 1\n",
    "        else:\n",
    "            for j in range(l): # 막대 출력\n",
    "                board[x-1][y-1+j] = 1\n",
    "    else:\n",
    "        if h - x - 1 < g:\n",
    "            g = h - x - 1\n",
    "            for j in range(g):\n",
    "                board[x-1+j][y-1] = 1\n",
    "        else:\n",
    "            for j in range(l):\n",
    "                board[x-1+j][y-1] = 1\n",
    "\n",
    "\n",
    "for i in range(h): # 격자판 출력하기\n",
    "    for j in range(w):\n",
    "        print(board[i][j], end = ' ')\n",
    "    print()"
   ]
  },
  {
   "cell_type": "markdown",
   "metadata": {},
   "source": [
    "CodeUp 6098번 성실한 개미"
   ]
  },
  {
   "cell_type": "code",
   "execution_count": 25,
   "metadata": {},
   "outputs": [
    {
     "name": "stdout",
     "output_type": "stream",
     "text": [
      "0 0 0 0 0 0 0 0 0 0 \n",
      "0 0 0 0 0 0 0 0 0 0 \n",
      "0 0 0 0 0 0 0 0 0 0 \n",
      "0 0 0 0 0 0 0 0 0 0 \n",
      "0 0 0 0 0 0 0 0 0 0 \n",
      "0 0 0 0 0 0 0 0 0 0 \n",
      "0 0 0 0 0 0 0 0 0 0 \n",
      "0 0 0 0 0 0 0 0 0 0 \n",
      "0 0 0 0 0 0 0 0 0 0 \n",
      "0 0 0 0 0 0 0 0 0 0 \n",
      "[[1, 1, 1, 1, 1, 1, 1, 1, 1, 1], [1, 0, 0, 1, 0, 0, 0, 0, 0, 1], [1, 0, 0, 1, 1, 1, 0, 0, 0, 1], [1, 0, 0, 0, 0, 0, 0, 1, 0, 1], [1, 0, 0, 0, 0, 0, 0, 1, 0, 1], [1, 0, 0, 0, 0, 1, 0, 1, 0, 1], [1, 0, 0, 0, 0, 1, 2, 1, 0, 1], [1, 0, 0, 0, 0, 1, 0, 0, 0, 1], [1, 0, 0, 0, 0, 0, 0, 0, 0, 1], [1, 1, 1, 1, 1, 1, 1, 1, 1, 1]]\n"
     ]
    }
   ],
   "source": [
    "maze = [[0]*10 for _ in range(10)] # 미로 상자 만들기\n",
    "b = []\n",
    "\n",
    "# for i in range(10): # 미로 테두리 벽으로 만들기\n",
    "#     maze[0][i] = 1\n",
    "#     maze[9][i] = 1\n",
    "#     maze[i][0] = 1\n",
    "#     maze[i][9] = 1\n",
    "\n",
    "for i in range(10):\n",
    "    a = list(map(int, input().split()))\n",
    "    b.append(a)\n",
    "\n",
    "for i in range(10):\n",
    "    for j in range(10):\n",
    "        print(maze[i][j], end = ' ')\n",
    "    print()\n",
    "    \n",
    "print(b)\n",
    "\n",
    "for i in range(10):\n",
    "    for j in range(10):\n",
    "        print(b[i][j], end = ' ')\n",
    "    print()"
   ]
  },
  {
   "cell_type": "code",
   "execution_count": 29,
   "metadata": {},
   "outputs": [
    {
     "name": "stdout",
     "output_type": "stream",
     "text": [
      "1 1 1 1 1 1 1 1 1 1 \n",
      "1 9 9 1 0 0 0 0 0 1 \n",
      "1 0 9 1 1 1 0 0 0 1 \n",
      "1 0 9 9 9 9 9 1 0 1 \n",
      "1 0 0 0 0 0 9 1 0 1 \n",
      "1 0 0 0 0 1 9 1 0 1 \n",
      "1 0 0 0 0 1 9 1 0 1 \n",
      "1 0 0 0 0 1 0 0 0 1 \n",
      "1 0 0 0 0 0 0 0 0 1 \n",
      "1 1 1 1 1 1 1 1 1 1 \n"
     ]
    }
   ],
   "source": [
    "a = []\n",
    "\n",
    "for i in range(10):\n",
    "    a.append(list(map(int, input().split())))\n",
    "\n",
    "x, y = 1, 1\n",
    "\n",
    "while True:\n",
    "    if a[x][y] == 0:\n",
    "        a[x][y] = 9\n",
    "    elif a[x][y] == 2:\n",
    "        a[x][y] = 9\n",
    "        break\n",
    "    \n",
    "    if a[x][y+1] == 1 and a[x+1][y] == 1:\n",
    "        break\n",
    "    \n",
    "    if a[x][y+1] != 1:\n",
    "        y += 1\n",
    "    elif a[x+1][y] != 1:\n",
    "        x += 1\n",
    "\n",
    "for i in range(10):\n",
    "    for j in range(10):\n",
    "        print(a[i][j], end = ' ')\n",
    "    print()"
   ]
  },
  {
   "cell_type": "code",
   "execution_count": null,
   "metadata": {},
   "outputs": [],
   "source": [
    "import sys\n",
    "\n",
    "matrix = [list(map(int, sys.stdin.readline().split())) for _ in range(10)]\n",
    "\n",
    "x, y =  1, 1\n",
    "\n",
    "while (matrix[x][y] == 0):\n",
    "    \n",
    "    matrix[x][y] = 9\n",
    "\n",
    "    if (matrix[x][y + 1] == 0 or matrix[x][y + 1] == 2):\n",
    "        y += 1\n",
    "\n",
    "    elif (matrix[x][y + 1] == 1):\n",
    "        x += 1\n",
    "\n",
    "    if (matrix[x][y] == 2):\n",
    "        matrix[x][y] = 9\n",
    "\n",
    "for i in matrix:\n",
    "    print(*i)"
   ]
  }
 ],
 "metadata": {
  "kernelspec": {
   "display_name": "Python 3.10.0 ('Pandas 연습문제')",
   "language": "python",
   "name": "python3"
  },
  "language_info": {
   "codemirror_mode": {
    "name": "ipython",
    "version": 3
   },
   "file_extension": ".py",
   "mimetype": "text/x-python",
   "name": "python",
   "nbconvert_exporter": "python",
   "pygments_lexer": "ipython3",
   "version": "3.10.0"
  },
  "orig_nbformat": 4,
  "vscode": {
   "interpreter": {
    "hash": "0e01f3ddf67c8b56990d76ee18c58210e6cf9551b43bc6dea8d45496820ef488"
   }
  }
 },
 "nbformat": 4,
 "nbformat_minor": 2
}
