{
 "cells": [
  {
   "cell_type": "markdown",
   "metadata": {},
   "source": [
    "백준 브론즈 3 10817번 세 수"
   ]
  },
  {
   "cell_type": "code",
   "execution_count": null,
   "metadata": {},
   "outputs": [],
   "source": [
    "A, B, C = map(int, input().split())\n",
    "nums = sorted([A, B, C])\n",
    "print(nums[1])"
   ]
  },
  {
   "cell_type": "markdown",
   "metadata": {},
   "source": [
    "백준 브론즈 4 2440번 별 찍기 - 3"
   ]
  },
  {
   "cell_type": "code",
   "execution_count": null,
   "metadata": {},
   "outputs": [],
   "source": [
    "N = int(input())\n",
    "\n",
    "for i in range(N):\n",
    "    print('*' * (N-i), f'= {N} - {i}')"
   ]
  },
  {
   "cell_type": "markdown",
   "metadata": {},
   "source": [
    "백준 실버 5 1316번 그룹 단어 체커"
   ]
  },
  {
   "cell_type": "code",
   "execution_count": null,
   "metadata": {},
   "outputs": [],
   "source": [
    "# 내 시도 1\n",
    "N = int(input())\n",
    "words = []\n",
    "for i in range(N):\n",
    "    words.append(input())\n",
    "print(words)\n",
    "\n",
    "j = 0\n",
    "for k in words:\n",
    "    print(words[j].find(k), end = ' ')\n",
    "    j += 1"
   ]
  },
  {
   "cell_type": "code",
   "execution_count": null,
   "metadata": {},
   "outputs": [],
   "source": [
    "# 내 시도 2\n",
    "# a = 'happy'\n",
    "# print(list(map(str, a)))\n",
    "\n",
    "a = int(input())\n",
    "\n",
    "# b = []\n",
    "# for i in range(a):\n",
    "#     b.append(input())\n",
    "    \n",
    "# print(b)\n",
    "\n",
    "b = [input() for i in range(a)]\n",
    "# print(b)\n",
    "\n",
    "c = []\n",
    "d = 0\n",
    "\n",
    "for j in range(len(b)):\n",
    "    for k in b[j]:\n",
    "        # print(b[j].find(k), end= ' ')\n",
    "        e = b[j].find(k)\n",
    "        c.append(e)\n",
    "        if e not in c:\n",
    "            d += 1\n",
    "        \n",
    "        # c.append(b[j].find(k))\n",
    "# print(c)\n",
    "print(d)"
   ]
  },
  {
   "cell_type": "code",
   "execution_count": null,
   "metadata": {},
   "outputs": [],
   "source": [
    "# 내 시도 3\n",
    "a = int(input())\n",
    "b = [input() for i in range(a)]\n",
    "c = []\n",
    "\n",
    "for j in range(len(b)):\n",
    "    for k in b[j]:\n",
    "        e = b[j].find(k)\n",
    "        c.append(e)\n",
    "        # if (e in c) and (e != c[c.index(e) - 1]) and (e < c[c.index(e) - 1]):\n",
    "        # if e < c[c.index(e) - 1]:\n",
    "        if (e in c) and (e != c[c.index(e) - 1]):\n",
    "            print(e, c[c.index(e) - 1])\n",
    "            a -= 1\n",
    "print(c, a, c[c.index(e) - 1])"
   ]
  },
  {
   "cell_type": "code",
   "execution_count": null,
   "metadata": {},
   "outputs": [],
   "source": [
    "# 내 시도 4\n",
    "a = int(input()) # 1\n",
    "b = [input() for i in range(a)] # aaabba\n",
    "c = [] # 000330\n",
    "\n",
    "for j in range(len(b)):\n",
    "    for k in b[j]:\n",
    "        e = b[j].find(k)\n",
    "        c.append(e)\n",
    "        # for l in c:\n",
    "        #     if l < c[c.index(l) - 1]:\n",
    "        #         print(l, c.index(l))\n",
    "        #         a -= 1\n",
    "        for l in range(len(c)):\n",
    "            if l != 0 and c[l] < c[l-1]:\n",
    "                a -= 1\n",
    "print(c, a)"
   ]
  },
  {
   "cell_type": "code",
   "execution_count": null,
   "metadata": {},
   "outputs": [],
   "source": [
    "# 정답 1\n",
    "N = int(input()) # 3\n",
    "\n",
    "for _ in range(N):\n",
    "    word = input() # happy, new, year / aaabbba 0003330\n",
    "    for i in range(len(word)-1): # range(0, 6)\n",
    "        if word.find(word[i]) > word.find(word[i+1]): # 3 0\n",
    "            N -= 1\n",
    "            break\n",
    "print(N)"
   ]
  },
  {
   "cell_type": "code",
   "execution_count": 4,
   "metadata": {},
   "outputs": [
    {
     "name": "stdout",
     "output_type": "stream",
     "text": [
      "['a', 'a', 'a', 'b', 'b'] ['a', 'a', 'a', 'b', 'b']\n",
      "['a', 'b', 'c', 'a'] ['a', 'a', 'b', 'c']\n",
      "1\n"
     ]
    }
   ],
   "source": [
    "# 정답 2\n",
    "N=int(input())\n",
    "for i in range(N):\n",
    "    a=input()\n",
    "    if list(a)!=sorted(a,key=a.find):\n",
    "        N-=1\n",
    "print(N)"
   ]
  }
 ],
 "metadata": {
  "kernelspec": {
   "display_name": "Python 3.10.0 ('Pandas 연습문제')",
   "language": "python",
   "name": "python3"
  },
  "language_info": {
   "codemirror_mode": {
    "name": "ipython",
    "version": 3
   },
   "file_extension": ".py",
   "mimetype": "text/x-python",
   "name": "python",
   "nbconvert_exporter": "python",
   "pygments_lexer": "ipython3",
   "version": "3.10.0"
  },
  "orig_nbformat": 4,
  "vscode": {
   "interpreter": {
    "hash": "0e01f3ddf67c8b56990d76ee18c58210e6cf9551b43bc6dea8d45496820ef488"
   }
  }
 },
 "nbformat": 4,
 "nbformat_minor": 2
}
