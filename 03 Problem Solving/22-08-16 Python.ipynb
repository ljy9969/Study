{
 "cells": [
  {
   "cell_type": "markdown",
   "metadata": {},
   "source": [
    "백준 브론즈 3 2446번 별 찍기 - 9"
   ]
  },
  {
   "cell_type": "code",
   "execution_count": 5,
   "metadata": {},
   "outputs": [
    {
     "name": "stdout",
     "output_type": "stream",
     "text": [
      "*********\n",
      " *******\n",
      "  *****\n",
      "   ***\n",
      "    *\n",
      "   ***\n",
      "  *****\n",
      " *******\n",
      "*********\n"
     ]
    }
   ],
   "source": [
    "N = int(input())\n",
    "a = N * 2 - 1\n",
    "b = 3\n",
    "\n",
    "for i in range(1, N+1)[::-1]:\n",
    "    print(' ' * (N-i), '*' * a, sep = '')\n",
    "    a -= 2\n",
    "for j in range(2, N+1):\n",
    "    print(' ' * (N-j), '*' * b, sep = '')\n",
    "    b += 2"
   ]
  },
  {
   "cell_type": "code",
   "execution_count": 11,
   "metadata": {},
   "outputs": [
    {
     "name": "stdout",
     "output_type": "stream",
     "text": [
      "*********\n",
      " *******\n",
      "  *****\n",
      "   ***\n",
      "    *\n",
      "   ***\n",
      "  *****\n",
      " *******\n",
      "*********\n"
     ]
    }
   ],
   "source": [
    "N = int(input())\n",
    "line = N * 2 - 1\n",
    "\n",
    "for i in range(line):\n",
    "    if i < N:\n",
    "        print(' ' * i + '*' * (line - i * 2))\n",
    "    else:\n",
    "        print(' ' * (line - i - 1) + '*' * ((i + 1) * 2 - line))"
   ]
  }
 ],
 "metadata": {
  "kernelspec": {
   "display_name": "Python 3.10.0 ('Pandas 연습문제')",
   "language": "python",
   "name": "python3"
  },
  "language_info": {
   "codemirror_mode": {
    "name": "ipython",
    "version": 3
   },
   "file_extension": ".py",
   "mimetype": "text/x-python",
   "name": "python",
   "nbconvert_exporter": "python",
   "pygments_lexer": "ipython3",
   "version": "3.10.0"
  },
  "orig_nbformat": 4,
  "vscode": {
   "interpreter": {
    "hash": "0e01f3ddf67c8b56990d76ee18c58210e6cf9551b43bc6dea8d45496820ef488"
   }
  }
 },
 "nbformat": 4,
 "nbformat_minor": 2
}
