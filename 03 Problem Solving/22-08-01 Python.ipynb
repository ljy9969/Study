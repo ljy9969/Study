{
 "cells": [
  {
   "cell_type": "markdown",
   "metadata": {},
   "source": [
    "백준 실버 5 2941번 크로아티아 알파벳"
   ]
  },
  {
   "cell_type": "code",
   "execution_count": null,
   "metadata": {},
   "outputs": [],
   "source": [
    "# 내 시도 1 <- 오답 (뒤에 문자와 합쳐져서 또 다른 크로아티아 알파벳으로 카운팅됨)\n",
    "word = input()\n",
    "croatian = ['c=', 'c-', 'dz=', 'd-', 'lj', 'nj', 's=', 'z=']\n",
    "count = 0\n",
    "\n",
    "for i in croatian:\n",
    "    if i in word:\n",
    "        count += 1\n",
    "        word = word.replace(i, '')\n",
    "    \n",
    "print(count + len(word))"
   ]
  },
  {
   "cell_type": "code",
   "execution_count": 42,
   "metadata": {},
   "outputs": [
    {
     "name": "stdout",
     "output_type": "stream",
     "text": [
      "^ak 3\n"
     ]
    }
   ],
   "source": [
    "# 내 시도 2\n",
    "word = input()\n",
    "croatian = ['c=', 'c-', 'dz=', 'd-', 'lj', 'nj', 's=', 'z=']\n",
    "\n",
    "for i in croatian:\n",
    "    if i in word:\n",
    "        word = word.replace(i, '^')\n",
    "    \n",
    "print(len(word))"
   ]
  },
  {
   "cell_type": "code",
   "execution_count": 36,
   "metadata": {},
   "outputs": [
    {
     "name": "stdout",
     "output_type": "stream",
     "text": [
      "^ak 3\n"
     ]
    }
   ],
   "source": [
    "# 정답 1\n",
    "a = input()\n",
    "b = 'c=', 'c-', 'dz=', 'd-', 'lj', 'nj', 's=', 'z='\n",
    "\n",
    "for i in b:\n",
    "    a = a.replace(i, '^')\n",
    "    \n",
    "print(len(a))"
   ]
  },
  {
   "cell_type": "code",
   "execution_count": 53,
   "metadata": {},
   "outputs": [
    {
     "name": "stdout",
     "output_type": "stream",
     "text": [
      "*****\n",
      " ****\n",
      "  ***\n",
      "   **\n",
      "    *\n",
      "     \n"
     ]
    }
   ],
   "source": [
    "a = int(input())\n",
    "print('*'*a)\n",
    "for i in range(1, a+1):\n",
    "    print((' ' * (i - 1)), '*' * (a-i))"
   ]
  },
  {
   "cell_type": "code",
   "execution_count": 62,
   "metadata": {},
   "outputs": [
    {
     "name": "stdout",
     "output_type": "stream",
     "text": [
      "*****\n",
      " ****\n",
      "  ***\n",
      "   **\n",
      "    *\n"
     ]
    }
   ],
   "source": [
    "a = int(input())\n",
    "for i in range(a, 0, -1):\n",
    "    print(' ' * (a-i) + '*' * i)"
   ]
  },
  {
   "cell_type": "markdown",
   "metadata": {},
   "source": [
    "백준 브론즈 2 10870번 피보나치 수 5"
   ]
  },
  {
   "cell_type": "code",
   "execution_count": null,
   "metadata": {},
   "outputs": [],
   "source": [
    "'''Fn = Fn-1 + Fn-2'''\n",
    "'''0, 1, 1, 2, 3, 5, 8, 13, 21, 34, 55, 89, 144, 233, 377, 610, 987, 1597 <- n = 17'''\n",
    "\n",
    "# def fibonacci(n):\n",
    "#     n = int(input)\n",
    "#     a = [0, 1]\n",
    "#     for i in range(21):\n",
    "#         a.append(sum(a[-1:-2]))\n",
    "#         return a\n",
    "# print(a)\n",
    "\n",
    "n = int(input())\n",
    "a = [0, 1]\n",
    "for i in range(21):\n",
    "    a.append(sum(a[-1:-2]))\n",
    "    print(a[-1:-2], a[-2:-1])\n",
    "print(a)\n"
   ]
  },
  {
   "cell_type": "code",
   "execution_count": 81,
   "metadata": {},
   "outputs": [
    {
     "ename": "TypeError",
     "evalue": "'int' object is not iterable",
     "output_type": "error",
     "traceback": [
      "\u001b[1;31m---------------------------------------------------------------------------\u001b[0m",
      "\u001b[1;31mTypeError\u001b[0m                                 Traceback (most recent call last)",
      "\u001b[1;32md:\\OneDrive\\문서\\4 이지연\\취업\\파이썬 알고리즘 문제풀이(코딩테스트 대비)\\22-08-01 Python.ipynb 셀 9\u001b[0m in \u001b[0;36m<cell line: 2>\u001b[1;34m()\u001b[0m\n\u001b[0;32m      <a href='vscode-notebook-cell:/d%3A/OneDrive/%EB%AC%B8%EC%84%9C/4%20%EC%9D%B4%EC%A7%80%EC%97%B0/%EC%B7%A8%EC%97%85/%ED%8C%8C%EC%9D%B4%EC%8D%AC%20%EC%95%8C%EA%B3%A0%EB%A6%AC%EC%A6%98%20%EB%AC%B8%EC%A0%9C%ED%92%80%EC%9D%B4%28%EC%BD%94%EB%94%A9%ED%85%8C%EC%8A%A4%ED%8A%B8%20%EB%8C%80%EB%B9%84%29/22-08-01%20Python.ipynb#ch0000012?line=0'>1</a>\u001b[0m a \u001b[39m=\u001b[39m [\u001b[39m0\u001b[39m, \u001b[39m1\u001b[39m]\n\u001b[1;32m----> <a href='vscode-notebook-cell:/d%3A/OneDrive/%EB%AC%B8%EC%84%9C/4%20%EC%9D%B4%EC%A7%80%EC%97%B0/%EC%B7%A8%EC%97%85/%ED%8C%8C%EC%9D%B4%EC%8D%AC%20%EC%95%8C%EA%B3%A0%EB%A6%AC%EC%A6%98%20%EB%AC%B8%EC%A0%9C%ED%92%80%EC%9D%B4%28%EC%BD%94%EB%94%A9%ED%85%8C%EC%8A%A4%ED%8A%B8%20%EB%8C%80%EB%B9%84%29/22-08-01%20Python.ipynb#ch0000012?line=1'>2</a>\u001b[0m b \u001b[39m=\u001b[39m \u001b[39msum\u001b[39;49m(a[\u001b[39m-\u001b[39;49m\u001b[39m1\u001b[39;49m], a[\u001b[39m-\u001b[39;49m\u001b[39m2\u001b[39;49m])\n\u001b[0;32m      <a href='vscode-notebook-cell:/d%3A/OneDrive/%EB%AC%B8%EC%84%9C/4%20%EC%9D%B4%EC%A7%80%EC%97%B0/%EC%B7%A8%EC%97%85/%ED%8C%8C%EC%9D%B4%EC%8D%AC%20%EC%95%8C%EA%B3%A0%EB%A6%AC%EC%A6%98%20%EB%AC%B8%EC%A0%9C%ED%92%80%EC%9D%B4%28%EC%BD%94%EB%94%A9%ED%85%8C%EC%8A%A4%ED%8A%B8%20%EB%8C%80%EB%B9%84%29/22-08-01%20Python.ipynb#ch0000012?line=2'>3</a>\u001b[0m a \u001b[39m=\u001b[39m a\u001b[39m.\u001b[39mappend(b)\n\u001b[0;32m      <a href='vscode-notebook-cell:/d%3A/OneDrive/%EB%AC%B8%EC%84%9C/4%20%EC%9D%B4%EC%A7%80%EC%97%B0/%EC%B7%A8%EC%97%85/%ED%8C%8C%EC%9D%B4%EC%8D%AC%20%EC%95%8C%EA%B3%A0%EB%A6%AC%EC%A6%98%20%EB%AC%B8%EC%A0%9C%ED%92%80%EC%9D%B4%28%EC%BD%94%EB%94%A9%ED%85%8C%EC%8A%A4%ED%8A%B8%20%EB%8C%80%EB%B9%84%29/22-08-01%20Python.ipynb#ch0000012?line=3'>4</a>\u001b[0m \u001b[39mprint\u001b[39m(a)\n",
      "\u001b[1;31mTypeError\u001b[0m: 'int' object is not iterable"
     ]
    }
   ],
   "source": [
    "a = [0, 1]\n",
    "b = sum(a[-1], a[-2])\n",
    "a = a.append(b)\n",
    "print(a)"
   ]
  }
 ],
 "metadata": {
  "kernelspec": {
   "display_name": "Python 3.10.0 ('Pandas 연습문제')",
   "language": "python",
   "name": "python3"
  },
  "language_info": {
   "codemirror_mode": {
    "name": "ipython",
    "version": 3
   },
   "file_extension": ".py",
   "mimetype": "text/x-python",
   "name": "python",
   "nbconvert_exporter": "python",
   "pygments_lexer": "ipython3",
   "version": "3.10.0"
  },
  "orig_nbformat": 4,
  "vscode": {
   "interpreter": {
    "hash": "0e01f3ddf67c8b56990d76ee18c58210e6cf9551b43bc6dea8d45496820ef488"
   }
  }
 },
 "nbformat": 4,
 "nbformat_minor": 2
}
