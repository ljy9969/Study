{
  "nbformat": 4,
  "nbformat_minor": 0,
  "metadata": {
    "colab": {
      "name": "22-03-30 Python.ipynb",
      "provenance": [],
      "authorship_tag": "ABX9TyP5ZRVD/HbJCHsShPuwRUPL",
      "include_colab_link": true
    },
    "kernelspec": {
      "name": "python3",
      "display_name": "Python 3"
    },
    "language_info": {
      "name": "python"
    }
  },
  "cells": [
    {
      "cell_type": "markdown",
      "metadata": {
        "id": "view-in-github",
        "colab_type": "text"
      },
      "source": [
        "<a href=\"https://colab.research.google.com/github/ljy9969/Study/blob/master/22-03-30%20Python.ipynb\" target=\"_parent\"><img src=\"https://colab.research.google.com/assets/colab-badge.svg\" alt=\"Open In Colab\"/></a>"
      ]
    },
    {
      "cell_type": "markdown",
      "source": [
        "입력 된 정수를 비트단위로 참/거짓을 바꾼 후 정수로 출력해보자.\n",
        "\n",
        "비트단위(bitwise)연산자 ~ 를 붙이면 된다.(~ : tilde, 틸드라고 읽는다.)\n",
        "\n",
        "** 비트단위(bitwise) 연산자는,\n",
        "\n",
        "~(bitwise not), &(bitwise and), |(bitwise or), ^(bitwise xor),\n",
        "\n",
        "<<(bitwise left shift), >>(bitwise right shift)가 있다.\n",
        "\n",
        "~n = -n - 1\n",
        "\n",
        "-n = ~n + 1"
      ],
      "metadata": {
        "id": "RIs2FbhKSWUM"
      }
    },
    {
      "cell_type": "code",
      "execution_count": 1,
      "metadata": {
        "colab": {
          "base_uri": "https://localhost:8080/"
        },
        "id": "6hh5IvxWRYAP",
        "outputId": "7db3eb47-11f1-4648-dfd7-f462e8ef2da7"
      },
      "outputs": [
        {
          "output_type": "stream",
          "name": "stdout",
          "text": [
            "1\n",
            "-2\n"
          ]
        }
      ],
      "source": [
        "a = int(input())\n",
        "print(~a)"
      ]
    },
    {
      "cell_type": "markdown",
      "source": [
        "입력된 정수 두 개를 비트단위로 and 연산한 후 그 결과를 정수로 출력해보자.\n",
        "\n",
        "비트단위(bitwise)연산자 &를 사용하면 된다.(and, ampersand, 앰퍼센드라고 읽는다.)\n",
        "\n",
        "둘 다 1인 부분의 자리만 1로 만들어주는 것과 같다."
      ],
      "metadata": {
        "id": "8FStzfOQS4hb"
      }
    },
    {
      "cell_type": "code",
      "source": [
        "a, b = map(int, input().split())\n",
        "print(a & b)"
      ],
      "metadata": {
        "colab": {
          "base_uri": "https://localhost:8080/"
        },
        "id": "FmqODrczS4oq",
        "outputId": "aaf38951-8708-4e12-bc77-0cf3bf6186bf"
      },
      "execution_count": 2,
      "outputs": [
        {
          "output_type": "stream",
          "name": "stdout",
          "text": [
            "3 5\n",
            "1\n"
          ]
        }
      ]
    },
    {
      "cell_type": "markdown",
      "source": [
        "입력된 정수 두 개를 비트단위로 or 연산한 후 그 결과를 정수로 출력해보자.\n",
        "\n",
        "비트단위(bitwise) 연산자 |(or, vertical bar, 버티컬바)를 사용하면 된다.\n",
        "\n",
        "** | 은 파이프(pipe)연산자라고도 불리는 경우가 있다.\n",
        "\n",
        "비트단위 or 연산은 둘 중 하나라도 1인 자리를 1로 만들어주는 것과 같다."
      ],
      "metadata": {
        "id": "9gNuSS64TZe8"
      }
    },
    {
      "cell_type": "code",
      "source": [
        "a, b = map(int, input().split())\n",
        "print(a | b)"
      ],
      "metadata": {
        "colab": {
          "base_uri": "https://localhost:8080/"
        },
        "id": "VPARpEOOTZpG",
        "outputId": "0a8f8225-e748-4fce-d424-2115faaf9497"
      },
      "execution_count": 3,
      "outputs": [
        {
          "output_type": "stream",
          "name": "stdout",
          "text": [
            "3 5\n",
            "7\n"
          ]
        }
      ]
    }
  ]
}
