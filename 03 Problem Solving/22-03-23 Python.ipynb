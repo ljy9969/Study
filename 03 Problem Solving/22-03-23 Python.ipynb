{
  "nbformat": 4,
  "nbformat_minor": 0,
  "metadata": {
    "colab": {
      "name": "22-03-23 Python.ipynb",
      "provenance": [],
      "authorship_tag": "ABX9TyO8atOcqkYXKlMzG/sW6LT9",
      "include_colab_link": true
    },
    "kernelspec": {
      "name": "python3",
      "display_name": "Python 3"
    },
    "language_info": {
      "name": "python"
    }
  },
  "cells": [
    {
      "cell_type": "markdown",
      "metadata": {
        "id": "view-in-github",
        "colab_type": "text"
      },
      "source": [
        "<a href=\"https://colab.research.google.com/github/ljy9969/Study/blob/master/22-03-23%20Python.ipynb\" target=\"_parent\"><img src=\"https://colab.research.google.com/assets/colab-badge.svg\" alt=\"Open In Colab\"/></a>"
      ]
    },
    {
      "cell_type": "markdown",
      "source": [
        "정수 2개 입력받아 나눈 몫 계산하기"
      ],
      "metadata": {
        "id": "-NqalCdbLrj_"
      }
    },
    {
      "cell_type": "code",
      "execution_count": null,
      "metadata": {
        "id": "-O8Ius1nLUD_"
      },
      "outputs": [],
      "source": [
        "a, b = map(int, input().split())\n",
        "print(a//b)"
      ]
    },
    {
      "cell_type": "markdown",
      "source": [
        "정수 2개 입력받아 나눈 나머지 계산하기"
      ],
      "metadata": {
        "id": "jr5xqZKdMAk-"
      }
    },
    {
      "cell_type": "code",
      "source": [
        "a, b = map(int, input().split())\n",
        "print(a%b)"
      ],
      "metadata": {
        "id": "1H3zOjmWMAsu"
      },
      "execution_count": null,
      "outputs": []
    },
    {
      "cell_type": "markdown",
      "source": [
        "실수 1개 입력받아 소숫점이하 자리 변환하기\n",
        "\n",
        "이때 소수점 아래 3번째 자리에서 반올림하여 무조건 소숫점 2번째 자리까지 출력\n",
        "\n",
        "* format(n1, \".n2f\")"
      ],
      "metadata": {
        "id": "Kd7gz7oqMA0m"
      }
    },
    {
      "cell_type": "code",
      "source": [
        "a = float(input())\n",
        "print(format(a, \".2f\"))"
      ],
      "metadata": {
        "id": "4RPTT8ohMA9e"
      },
      "execution_count": null,
      "outputs": []
    },
    {
      "cell_type": "markdown",
      "source": [
        "실수 2개 입력받아 나눈 결과 계산하기\n",
        "\n",
        "이때 소숫점 4번째자리에서 반올림하여 무조건 소숫점 3번째 자리까지 출력"
      ],
      "metadata": {
        "id": "bGU22iTkMBFX"
      }
    },
    {
      "cell_type": "code",
      "source": [
        "a, b = map(float, input().split())\n",
        "print(format(a/b, \".3f\"))"
      ],
      "metadata": {
        "colab": {
          "base_uri": "https://localhost:8080/"
        },
        "id": "BHgbh4xvMBMm",
        "outputId": "6ed92f9d-2e19-421a-e959-8339ab1418e7"
      },
      "execution_count": 3,
      "outputs": [
        {
          "output_type": "stream",
          "name": "stdout",
          "text": [
            "10.0 3.0\n",
            "3.333\n"
          ]
        }
      ]
    },
    {
      "cell_type": "markdown",
      "source": [
        "정수 2개 입력받아 자동 계산하기\n",
        "\n",
        "첫 번째 줄에 합,\n",
        "\n",
        "두 번째 줄에 차,\n",
        "\n",
        "세 번째 줄에 곱,\n",
        "\n",
        "네 번째 줄에 몫,\n",
        "\n",
        "다섯 번째 줄에 나머지,\n",
        "\n",
        "여섯 번째 줄에 나눈 값을 순서대로 출력\n",
        "(실수, 소수점 이하 둘째 자리까지의 정확도로 출력)\n",
        "\n",
        "단 0 <= a, b <= 2147483647, b는 0이 아님"
      ],
      "metadata": {
        "id": "5CEswum0MBTX"
      }
    },
    {
      "cell_type": "code",
      "source": [
        "a, b = map(int, input().split())\n",
        "if a >= 0 and 0 < b <= 2147483647:\n",
        "  print(a + b)\n",
        "  print(a - b)\n",
        "  print(a * b)\n",
        "  print(a // b)\n",
        "  print(a % b)\n",
        "  print(format(a / b, \".2f\"))"
      ],
      "metadata": {
        "colab": {
          "base_uri": "https://localhost:8080/"
        },
        "id": "wfLuIc0OMBaf",
        "outputId": "f9a3a2e6-c43d-4b2b-b235-552c78fe769a"
      },
      "execution_count": 5,
      "outputs": [
        {
          "output_type": "stream",
          "name": "stdout",
          "text": [
            "10 3\n",
            "13\n",
            "7\n",
            "30\n",
            "3\n",
            "1\n",
            "3.33\n"
          ]
        }
      ]
    },
    {
      "cell_type": "markdown",
      "source": [
        "정수 3개 입력받아 합과 평균 출력하기"
      ],
      "metadata": {
        "id": "7DuEMCbhPmmA"
      }
    },
    {
      "cell_type": "code",
      "source": [
        "a, b, c = map(int, input().split())\n",
        "print(a+b+c, format((a+b+c)/3, \".2f\"))"
      ],
      "metadata": {
        "colab": {
          "base_uri": "https://localhost:8080/"
        },
        "id": "9pxFLiK-PmtO",
        "outputId": "21e44703-7fd6-4eb5-ad54-33c9ec7ee68d"
      },
      "execution_count": 7,
      "outputs": [
        {
          "output_type": "stream",
          "name": "stdout",
          "text": [
            "1 2 3\n",
            "6 2.00\n"
          ]
        }
      ]
    },
    {
      "cell_type": "markdown",
      "source": [
        "정수 1개 입력받아 2배 곱해 출력하기\n",
        "\n",
        "*2 를 계산한 값을 출력해도 되지만,\n",
        "\n",
        "정수를 2배로 곱하거나 나누어 계산해 주는 비트단위시프트연산자 <<, >>를 이용할 수 있다.\n",
        "\n",
        "컴퓨터 내부에는 2진수 형태로 값들이 저장되기 때문에,\n",
        "\n",
        "2진수 형태로 저장되어 있는 값들을 왼쪽(<<)이나 오른쪽(>>)으로\n",
        "\n",
        "지정한 비트 수만큼 밀어주면 2배씩 늘어나거나 1/2로 줄어드는데,\n",
        "\n",
        "왼쪽 비트시프트(<<)가 될 때에는 오른쪽에 0이 주어진 개수만큼 추가되고,\n",
        "\n",
        "오른쪽 비트시프트(>>)가 될 때에는 왼쪽에 0(0 또는 양의 정수인 경우)이나 1(음의 \n",
        "\n",
        "정수인 경우)이 개수만큼 추가되고,\n",
        "\n",
        "가장 오른쪽에 있는 1비트는 사라진다.\n",
        "\n",
        "예시\n",
        "n = 10\n",
        "print(n<<1)  #10을 2배 한 값인 20 이 출력된다.\n",
        "print(n>>1)  #10을 반으로 나눈 값인 5 가 출력된다.\n",
        "print(n<<2)  #10을 4배 한 값인 40 이 출력된다.\n",
        "print(n>>2)  #10을 반으로 나눈 후 다시 반으로 나눈 값인 2 가 출력된다."
      ],
      "metadata": {
        "id": "2GZaB0zkPm5P"
      }
    },
    {
      "cell_type": "code",
      "source": [
        "a = int(input())\n",
        "print(a<<1)"
      ],
      "metadata": {
        "colab": {
          "base_uri": "https://localhost:8080/"
        },
        "id": "Rox7rqSbPnAg",
        "outputId": "1acd6386-72b7-46e0-9300-8acb1d2d8fc2"
      },
      "execution_count": 9,
      "outputs": [
        {
          "output_type": "stream",
          "name": "stdout",
          "text": [
            "10\n",
            "20\n"
          ]
        }
      ]
    },
    {
      "cell_type": "markdown",
      "source": [
        "백준 2단계 if문 2884번 알람 시계\n",
        "원래 설정되어 있는 알람을 45분 앞서는 시간으로 바꾸기"
      ],
      "metadata": {
        "id": "t6y9faCTQ7SO"
      }
    },
    {
      "cell_type": "code",
      "source": [
        "H, M = map(int, input().split())\n",
        "if 24 >= H >= 0 and 60 >= M >= 45:\n",
        "  print(H, M - 45)\n",
        "elif 0 == H and 45 > M:\n",
        "  print(H + 23, M + 15)\n",
        "elif 24 >= H > 0 and 45 > M:\n",
        "  print(H - 1, M + 15)"
      ],
      "metadata": {
        "colab": {
          "base_uri": "https://localhost:8080/"
        },
        "id": "8zh8J-1BQ7aO",
        "outputId": "ea20924b-23ea-418a-9bd1-20328fd45ad9"
      },
      "execution_count": 10,
      "outputs": [
        {
          "output_type": "stream",
          "name": "stdout",
          "text": [
            "10 10\n",
            "9 25\n"
          ]
        }
      ]
    }
  ]
}
