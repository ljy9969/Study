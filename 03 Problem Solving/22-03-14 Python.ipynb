{
  "nbformat": 4,
  "nbformat_minor": 0,
  "metadata": {
    "colab": {
      "name": "Python",
      "provenance": [],
      "collapsed_sections": []
    },
    "kernelspec": {
      "name": "python3",
      "display_name": "Python 3"
    },
    "language_info": {
      "name": "python"
    }
  },
  "cells": [
    {
      "cell_type": "code",
      "source": [
        "sum = 0\n",
        "for i in range(11):\n",
        "  sum += i\n",
        "print(sum)"
      ],
      "metadata": {
        "colab": {
          "base_uri": "https://localhost:8080/"
        },
        "id": "Ai6-7wilSrHa",
        "outputId": "1d8a0ea1-fc01-4d59-9d44-fa6383d9a175"
      },
      "execution_count": null,
      "outputs": [
        {
          "output_type": "stream",
          "name": "stdout",
          "text": [
            "55\n"
          ]
        }
      ]
    },
    {
      "cell_type": "code",
      "source": [
        "nums = [1, 2, 3, 4, 5, 6, 7, 8, 9, 10]\n",
        "print(nums[::2])"
      ],
      "metadata": {
        "colab": {
          "base_uri": "https://localhost:8080/"
        },
        "id": "BtCFfoSqY4qO",
        "outputId": "655c9145-da83-4b10-d0b6-6680c74716c4"
      },
      "execution_count": null,
      "outputs": [
        {
          "output_type": "stream",
          "name": "stdout",
          "text": [
            "[1, 3, 5, 7, 9]\n"
          ]
        }
      ]
    },
    {
      "cell_type": "code",
      "source": [
        "nums = [1, 2, 3, 4, 5, 6, 7, 8, 9, 10]\n",
        "print(nums[::-2])"
      ],
      "metadata": {
        "colab": {
          "base_uri": "https://localhost:8080/"
        },
        "id": "YAbG3BpMZnM-",
        "outputId": "139e45b8-d9ce-4c0f-c6e6-89ea12f12ae9"
      },
      "execution_count": null,
      "outputs": [
        {
          "output_type": "stream",
          "name": "stdout",
          "text": [
            "[10, 8, 6, 4, 2]\n"
          ]
        }
      ]
    },
    {
      "cell_type": "code",
      "source": [
        "nums = [1, 2, 3, 4, 5, 6, 7, 8, 9, 10]\n",
        "print(nums[0:10:2])"
      ],
      "metadata": {
        "colab": {
          "base_uri": "https://localhost:8080/"
        },
        "id": "LFn_YRGpZxGv",
        "outputId": "fb804564-f121-4d77-c2c4-ab93d0d9ca7b"
      },
      "execution_count": null,
      "outputs": [
        {
          "output_type": "stream",
          "name": "stdout",
          "text": [
            "[1, 3, 5, 7, 9]\n"
          ]
        }
      ]
    },
    {
      "cell_type": "code",
      "source": [
        "nums = [1, 2, 3, 4, 5, 6, 7, 8, 9, 10]\n",
        "print(nums[1:10:2])"
      ],
      "metadata": {
        "colab": {
          "base_uri": "https://localhost:8080/"
        },
        "id": "JW8pDDmxZ4_d",
        "outputId": "0156d16d-dcae-4164-d8c3-7a0a4163eb82"
      },
      "execution_count": null,
      "outputs": [
        {
          "output_type": "stream",
          "name": "stdout",
          "text": [
            "[2, 4, 6, 8, 10]\n"
          ]
        }
      ]
    },
    {
      "cell_type": "code",
      "source": [
        "for i in range(1,9):\n",
        "  if i>5:\n",
        "    continue\n",
        "  print(i)\n"
      ],
      "metadata": {
        "colab": {
          "base_uri": "https://localhost:8080/"
        },
        "id": "j8pvzJw8m3Mv",
        "outputId": "d6416775-bb0d-471e-aa0b-39371377a2cf"
      },
      "execution_count": null,
      "outputs": [
        {
          "output_type": "stream",
          "name": "stdout",
          "text": [
            "1\n",
            "2\n",
            "3\n",
            "4\n",
            "5\n"
          ]
        }
      ]
    },
    {
      "cell_type": "code",
      "source": [
        "#19단을 전부 출력해봅시다!\n",
        "for i in range(1, 20):\n",
        "    print(\"19 *\", i, \"=\", 19 * i)"
      ],
      "metadata": {
        "colab": {
          "base_uri": "https://localhost:8080/"
        },
        "id": "bE6ikPlb5YwT",
        "outputId": "d7f0788a-4996-420e-8ba1-c8f2677721a6"
      },
      "execution_count": null,
      "outputs": [
        {
          "output_type": "stream",
          "name": "stdout",
          "text": [
            "19 * 1 = 19\n",
            "19 * 2 = 38\n",
            "19 * 3 = 57\n",
            "19 * 4 = 76\n",
            "19 * 5 = 95\n",
            "19 * 6 = 114\n",
            "19 * 7 = 133\n",
            "19 * 8 = 152\n",
            "19 * 9 = 171\n",
            "19 * 10 = 190\n",
            "19 * 11 = 209\n",
            "19 * 12 = 228\n",
            "19 * 13 = 247\n",
            "19 * 14 = 266\n",
            "19 * 15 = 285\n",
            "19 * 16 = 304\n",
            "19 * 17 = 323\n",
            "19 * 18 = 342\n",
            "19 * 19 = 361\n"
          ]
        }
      ]
    },
    {
      "cell_type": "code",
      "source": [
        "for i in range(101):\n",
        "  if i % 2 == 0:\n",
        "    continue\n",
        "  print(i)"
      ],
      "metadata": {
        "colab": {
          "base_uri": "https://localhost:8080/"
        },
        "id": "HghtKwGoq9oO",
        "outputId": "a2499d7a-3d44-4bfa-9b9e-ff85e0b10baf"
      },
      "execution_count": null,
      "outputs": [
        {
          "output_type": "stream",
          "name": "stdout",
          "text": [
            "1\n",
            "3\n",
            "5\n",
            "7\n",
            "9\n",
            "11\n",
            "13\n",
            "15\n",
            "17\n",
            "19\n",
            "21\n",
            "23\n",
            "25\n",
            "27\n",
            "29\n",
            "31\n",
            "33\n",
            "35\n",
            "37\n",
            "39\n",
            "41\n",
            "43\n",
            "45\n",
            "47\n",
            "49\n",
            "51\n",
            "53\n",
            "55\n",
            "57\n",
            "59\n",
            "61\n",
            "63\n",
            "65\n",
            "67\n",
            "69\n",
            "71\n",
            "73\n",
            "75\n",
            "77\n",
            "79\n",
            "81\n",
            "83\n",
            "85\n",
            "87\n",
            "89\n",
            "91\n",
            "93\n",
            "95\n",
            "97\n",
            "99\n"
          ]
        }
      ]
    },
    {
      "cell_type": "code",
      "source": [
        "class Person:\n",
        "   def greeting(self):\n",
        "     print('hello')\n",
        "\n",
        "maria = Person()\n",
        "maria.greeting()"
      ],
      "metadata": {
        "colab": {
          "base_uri": "https://localhost:8080/"
        },
        "id": "kVHdDy5F7nWV",
        "outputId": "e7d84733-dc02-4977-cd0a-a28e73c222fd"
      },
      "execution_count": null,
      "outputs": [
        {
          "output_type": "stream",
          "name": "stdout",
          "text": [
            "hello\n"
          ]
        }
      ]
    },
    {
      "cell_type": "code",
      "source": [
        "class Person:\n",
        "   def __init__(self):\n",
        "     print('hello')\n",
        "\n",
        "maria = Person()"
      ],
      "metadata": {
        "colab": {
          "base_uri": "https://localhost:8080/"
        },
        "id": "O7_8zOUTG8Bs",
        "outputId": "26c06736-e994-42a1-d612-20830e3764bf"
      },
      "execution_count": null,
      "outputs": [
        {
          "output_type": "stream",
          "name": "stdout",
          "text": [
            "hello\n"
          ]
        }
      ]
    },
    {
      "cell_type": "code",
      "source": [
        "a =[1, 2, 3]\n",
        "b = a\n",
        "a[2] = 5\n",
        "print('a', a, id(a))\n",
        "print('b', b, id(b))"
      ],
      "metadata": {
        "colab": {
          "base_uri": "https://localhost:8080/"
        },
        "id": "4jHd96qAKl_n",
        "outputId": "cc69c6b4-171d-4547-9d9e-74b25ca2aca5"
      },
      "execution_count": null,
      "outputs": [
        {
          "output_type": "stream",
          "name": "stdout",
          "text": [
            "a [1, 2, 5] 140521756928752\n",
            "b [1, 2, 5] 140521756928752\n"
          ]
        }
      ]
    },
    {
      "cell_type": "code",
      "source": [
        "import copy\n",
        "a =[1, 2, 3]\n",
        "b = copy.deepcopy(a)\n",
        "a[2] = 5\n",
        "print(a, id(a))\n",
        "print(b, id(b))"
      ],
      "metadata": {
        "colab": {
          "base_uri": "https://localhost:8080/"
        },
        "id": "zYjdfzPPLx72",
        "outputId": "8a2b2dca-8b35-45f5-c5c4-80d8e92fdbb3"
      },
      "execution_count": null,
      "outputs": [
        {
          "output_type": "stream",
          "name": "stdout",
          "text": [
            "[1, 2, 5] 140521758693808\n",
            "[1, 2, 3] 140521757108656\n"
          ]
        }
      ]
    },
    {
      "cell_type": "code",
      "source": [
        "a =[1, 2, 3]\n",
        "b = a.copy()\n",
        "a[2] = 5\n",
        "print(a, id(a))\n",
        "print(b, id(b))"
      ],
      "metadata": {
        "colab": {
          "base_uri": "https://localhost:8080/"
        },
        "id": "GRDJJYAZMmvt",
        "outputId": "5cfeadee-cd30-4d00-fba4-ed1aacceef65"
      },
      "execution_count": null,
      "outputs": [
        {
          "output_type": "stream",
          "name": "stdout",
          "text": [
            "[1, 2, 5] 140521756986256\n",
            "[1, 2, 3] 140521756984176\n"
          ]
        }
      ]
    },
    {
      "cell_type": "code",
      "source": [
        "a =[1, 2, 3]\n",
        "b = a[:]\n",
        "a[2] = 5\n",
        "print(a, id(a))\n",
        "print(b, id(b))"
      ],
      "metadata": {
        "colab": {
          "base_uri": "https://localhost:8080/"
        },
        "id": "1445kphCNojN",
        "outputId": "2e76bc01-31c4-4169-fc86-390856110144"
      },
      "execution_count": null,
      "outputs": [
        {
          "output_type": "stream",
          "name": "stdout",
          "text": [
            "[1, 2, 5] 140521756978944\n",
            "[1, 2, 3] 140521756920000\n"
          ]
        }
      ]
    },
    {
      "cell_type": "code",
      "source": [
        "class Human:\n",
        "    def __init__(self):\n",
        "        print(\"응애응애\")\n",
        "    \n",
        "areum = Human()"
      ],
      "metadata": {
        "colab": {
          "base_uri": "https://localhost:8080/"
        },
        "id": "07gJUXFeSZcN",
        "outputId": "e231931f-61c0-48ed-c783-1550f05039d5"
      },
      "execution_count": null,
      "outputs": [
        {
          "output_type": "stream",
          "name": "stdout",
          "text": [
            "응애응애\n"
          ]
        }
      ]
    },
    {
      "cell_type": "code",
      "source": [
        "i = 10\n",
        "while i > 0:\n",
        "    print(i)\n",
        "    i = i - 1"
      ],
      "metadata": {
        "colab": {
          "base_uri": "https://localhost:8080/"
        },
        "id": "WsfAqhgwLLkf",
        "outputId": "84cb2253-7423-4801-e81f-56ff91708681"
      },
      "execution_count": null,
      "outputs": [
        {
          "output_type": "stream",
          "name": "stdout",
          "text": [
            "10\n",
            "9\n",
            "8\n",
            "7\n",
            "6\n",
            "5\n",
            "4\n",
            "3\n",
            "2\n",
            "1\n"
          ]
        }
      ]
    },
    {
      "cell_type": "code",
      "source": [
        "num = int(input()) #정수를 입력받음\n",
        "\n",
        "# for을 사용한 반복문을 작성\n",
        "for i in range(num):\n",
        "    print(i)\n",
        "    i = i - 1"
      ],
      "metadata": {
        "id": "jj1GH5jffEEc",
        "outputId": "b8b1f103-6ee4-44de-ed5c-3062bba16f72",
        "colab": {
          "base_uri": "https://localhost:8080/"
        }
      },
      "execution_count": null,
      "outputs": [
        {
          "output_type": "stream",
          "name": "stdout",
          "text": [
            "5\n",
            "0\n",
            "1\n",
            "2\n",
            "3\n",
            "4\n"
          ]
        }
      ]
    },
    {
      "cell_type": "code",
      "source": [
        "i = 1\n",
        "while i <= 10:\n",
        "    print(i, '년째 수감 중입니다.')\n",
        "    i += 1\n",
        "\n",
        "\n",
        "# while 문 종료 후 '감옥에서 석방되었습니다!'를 출력합니다\n",
        "print('감옥에서 석방되었습니다!')"
      ],
      "metadata": {
        "colab": {
          "base_uri": "https://localhost:8080/"
        },
        "id": "yyWs6c6NMg6z",
        "outputId": "93aba8e3-a225-4555-8fea-8afe54954d02"
      },
      "execution_count": null,
      "outputs": [
        {
          "output_type": "stream",
          "name": "stdout",
          "text": [
            "1 년째 수감 중입니다.\n",
            "2 년째 수감 중입니다.\n",
            "3 년째 수감 중입니다.\n",
            "4 년째 수감 중입니다.\n",
            "5 년째 수감 중입니다.\n",
            "6 년째 수감 중입니다.\n",
            "7 년째 수감 중입니다.\n",
            "8 년째 수감 중입니다.\n",
            "9 년째 수감 중입니다.\n",
            "10 년째 수감 중입니다.\n",
            "감옥에서 석방되었습니다!\n"
          ]
        }
      ]
    },
    {
      "cell_type": "code",
      "source": [
        "i = 1\n",
        "while True :\n",
        "    print(i, '월 1만 원을 입금했습니다.')\n",
        "    if i == 12:\n",
        "        print('입금 완료! 12만 원을 수령하세요!')\n",
        "        break\n",
        "    i = i + 1"
      ],
      "metadata": {
        "colab": {
          "base_uri": "https://localhost:8080/"
        },
        "id": "pzdsH8-4NbaR",
        "outputId": "199bbe76-f61b-4b2b-b382-4d27bdee5dad"
      },
      "execution_count": null,
      "outputs": [
        {
          "output_type": "stream",
          "name": "stdout",
          "text": [
            "1 월 1만 원을 입금했습니다.\n",
            "2 월 1만 원을 입금했습니다.\n",
            "3 월 1만 원을 입금했습니다.\n",
            "4 월 1만 원을 입금했습니다.\n",
            "5 월 1만 원을 입금했습니다.\n",
            "6 월 1만 원을 입금했습니다.\n",
            "7 월 1만 원을 입금했습니다.\n",
            "8 월 1만 원을 입금했습니다.\n",
            "9 월 1만 원을 입금했습니다.\n",
            "10 월 1만 원을 입금했습니다.\n",
            "11 월 1만 원을 입금했습니다.\n",
            "12 월 1만 원을 입금했습니다.\n",
            "입금 완료! 12만 원을 수령하세요!\n"
          ]
        }
      ]
    },
    {
      "cell_type": "code",
      "source": [
        "i = 1\n",
        "sum = 0\n",
        "while True:\n",
        "    sum = sum + i\n",
        "    if i == 10:\n",
        "        break\n",
        "    i = i + 1\n",
        "print(sum)"
      ],
      "metadata": {
        "colab": {
          "base_uri": "https://localhost:8080/"
        },
        "id": "IbZI5BU9O42Q",
        "outputId": "653e6852-5f00-41ed-e4ef-9e80871aaae4"
      },
      "execution_count": null,
      "outputs": [
        {
          "output_type": "stream",
          "name": "stdout",
          "text": [
            "55\n"
          ]
        }
      ]
    },
    {
      "cell_type": "code",
      "source": [
        "# input() 함수로 층수를 입력받아 저장하세요\n",
        "star = int(input())\n",
        "\n",
        "# 입력받은 층수의 별자리를 출력하는 코드를 완성해 보세요\n",
        "for i in range(1, star+1):\n",
        "    print('*' * i)"
      ],
      "metadata": {
        "colab": {
          "base_uri": "https://localhost:8080/"
        },
        "id": "0ZTTBoe9Qo0e",
        "outputId": "60267cc8-590e-4cbe-9a49-5b9bfbd86cfe"
      },
      "execution_count": null,
      "outputs": [
        {
          "output_type": "stream",
          "name": "stdout",
          "text": [
            "5\n",
            "*\n",
            "**\n",
            "***\n",
            "****\n",
            "*****\n"
          ]
        }
      ]
    },
    {
      "cell_type": "code",
      "source": [
        "# 치즈 접시가 비어 있어요\n",
        "cheeze = []\n",
        "\n",
        "# 치즈 접시에 문자열 '치즈'가 무한으로 추가되고, 그때마다 '치즈 추가!'를 출력해요\n",
        "while True:\n",
        "    cheeze.append('치즈')\n",
        "    print('치즈 추가!')\n",
        "\n",
        "# cheeze 속 치즈가 50개가 되면 추가를 멈추고 '아이~ 배불러!'를 출력해요\n",
        "    if len(cheeze) == 50:\n",
        "        break\n",
        "\n",
        "print('아이~ 배불러!')"
      ],
      "metadata": {
        "id": "3GR9RRxyRzWK",
        "outputId": "3c608b5a-0222-42a4-9b1d-b60bc15ef956",
        "colab": {
          "base_uri": "https://localhost:8080/"
        }
      },
      "execution_count": null,
      "outputs": [
        {
          "output_type": "stream",
          "name": "stdout",
          "text": [
            "치즈 추가!\n",
            "치즈 추가!\n",
            "치즈 추가!\n",
            "치즈 추가!\n",
            "치즈 추가!\n",
            "치즈 추가!\n",
            "치즈 추가!\n",
            "치즈 추가!\n",
            "치즈 추가!\n",
            "치즈 추가!\n",
            "치즈 추가!\n",
            "치즈 추가!\n",
            "치즈 추가!\n",
            "치즈 추가!\n",
            "치즈 추가!\n",
            "치즈 추가!\n",
            "치즈 추가!\n",
            "치즈 추가!\n",
            "치즈 추가!\n",
            "치즈 추가!\n",
            "치즈 추가!\n",
            "치즈 추가!\n",
            "치즈 추가!\n",
            "치즈 추가!\n",
            "치즈 추가!\n",
            "치즈 추가!\n",
            "치즈 추가!\n",
            "치즈 추가!\n",
            "치즈 추가!\n",
            "치즈 추가!\n",
            "치즈 추가!\n",
            "치즈 추가!\n",
            "치즈 추가!\n",
            "치즈 추가!\n",
            "치즈 추가!\n",
            "치즈 추가!\n",
            "치즈 추가!\n",
            "치즈 추가!\n",
            "치즈 추가!\n",
            "치즈 추가!\n",
            "치즈 추가!\n",
            "치즈 추가!\n",
            "치즈 추가!\n",
            "치즈 추가!\n",
            "치즈 추가!\n",
            "치즈 추가!\n",
            "치즈 추가!\n",
            "치즈 추가!\n",
            "치즈 추가!\n",
            "치즈 추가!\n",
            "아이~ 배불러!\n"
          ]
        }
      ]
    },
    {
      "cell_type": "code",
      "source": [
        "def solver_DP(input1, input2, input3):\n",
        "    minimum = min([input1, input2, input3])\n",
        "    maximum = max([input1, input2, input3])\n",
        "    memoization_table = [True]\n",
        "    check_list = []\n",
        "\n",
        "    for num in range(maximum):\n",
        "        possible_range = [num//input1, num//input2, num//input3]\n",
        "        memoization_table.append(False)\n",
        "        for i in range(0, possible_range[0] + 1):\n",
        "            for j in range(0, possible_range[1] + 1):\n",
        "                for k in range(0, possible_range[2] + 1):\n",
        "                    if input1 * i + input2 * j + input3 * k == num:\n",
        "                        memoization_table[num] = True\n",
        "                    break\n",
        "            else:\n",
        "                continue\n",
        "            break\n",
        "        else:\n",
        "            num += 1\n",
        "            continue\n",
        "            break\n",
        "\n",
        "    while len(check_list) <= minimum:\n",
        "        memoization_table.append(False)\n",
        "        if memoization_table[num - input1] \\\n",
        "            or memoization_table[num - input2] \\\n",
        "            or memoization_table[num - input3]:\n",
        "            memoization_table[num] = True\n",
        "            check_list.append(num)\n",
        "        else:\n",
        "            memoization_table[num] = False\n",
        "            check_list = []\n",
        "        num += 1\n",
        "\n",
        "    answer = check_list[0] - 1\n",
        "    return answer\n",
        "\n",
        "solution = solver_DP(7, 11, 17)\n",
        "print(solution)"
      ],
      "metadata": {
        "id": "2Er1YG1nAA8u",
        "outputId": "9a3c4c98-f239-4aea-9686-f0d758c64980",
        "colab": {
          "base_uri": "https://localhost:8080/"
        }
      },
      "execution_count": null,
      "outputs": [
        {
          "output_type": "stream",
          "name": "stdout",
          "text": [
            "37\n"
          ]
        }
      ]
    },
    {
      "cell_type": "code",
      "source": [
        "my_tuple = (1, 2, 3, 4, 5)\n",
        "var1 = my_tuple[2]\n",
        "var2 = my_tuple[0:3]\n",
        "var3 = len(my_tuple)\n"
      ],
      "metadata": {
        "id": "FFMx_iSoZnVw"
      },
      "execution_count": null,
      "outputs": []
    },
    {
      "cell_type": "code",
      "source": [
        "def my_star(a):\n",
        "    return '*' * a\n",
        "# 함수를 사용해 1층짜리 별자리를 출력해 보세요\n",
        "print(my_star(1))"
      ],
      "metadata": {
        "colab": {
          "base_uri": "https://localhost:8080/"
        },
        "id": "rWVytoUzJWrN",
        "outputId": "4a0f30ee-ad02-443f-c289-3c17ee0755b0"
      },
      "execution_count": null,
      "outputs": [
        {
          "output_type": "stream",
          "name": "stdout",
          "text": [
            "*\n"
          ]
        }
      ]
    },
    {
      "cell_type": "code",
      "source": [
        "import math\n",
        "print(math.pi, math.ceil(3.6), math.floor(3.4))"
      ],
      "metadata": {
        "colab": {
          "base_uri": "https://localhost:8080/"
        },
        "id": "RJmwVcVVT7t4",
        "outputId": "e4c1e4e3-9744-423a-e4a3-790913444c7f"
      },
      "execution_count": null,
      "outputs": [
        {
          "output_type": "stream",
          "name": "stdout",
          "text": [
            "3.141592653589793 4 3\n"
          ]
        }
      ]
    },
    {
      "cell_type": "code",
      "source": [
        "# 조건에 맞게 my_max() 함수를 만들어 보세요\n",
        "def my_max(nums):\n",
        "    max_num = nums[0]\n",
        "    \n",
        "    for i in nums:\n",
        "        if max_num < i:\n",
        "            max_num = i\n",
        "    return max_num\n",
        "    \n",
        "# 다음 리스트에서 최댓값이 무엇인지 확인해 보세요\n",
        "print(my_max([1, 2, 10, 9, 3, 7, 0, 99, 27, 85]))"
      ],
      "metadata": {
        "colab": {
          "base_uri": "https://localhost:8080/"
        },
        "id": "XyToy-WHXOO8",
        "outputId": "88ca02c8-4509-46fc-fe86-d3a7b08b7402"
      },
      "execution_count": null,
      "outputs": [
        {
          "output_type": "stream",
          "name": "stdout",
          "text": [
            "99\n"
          ]
        }
      ]
    },
    {
      "cell_type": "code",
      "source": [
        "# 조건에 맞게 neverland() 함수를 만들어 보세요\n",
        "def neverland(q):\n",
        "    first = q.pop(2)\n",
        "    q.sort()\n",
        "    q.insert(0, first)\n",
        "    return q\n",
        "    \n",
        "# 대기 시간이 다음과 같을 때 엘리스 토끼가 놀이 기구를 타는 순서를 확인해 보세요\n",
        "q = [30, 10, 20, 50, 40, 60]\n",
        "print(neverland(q))"
      ],
      "metadata": {
        "colab": {
          "base_uri": "https://localhost:8080/"
        },
        "id": "3Wu5eohKqnlI",
        "outputId": "ac48265f-d5b7-4fef-ea64-28487135dbc5"
      },
      "execution_count": null,
      "outputs": [
        {
          "output_type": "stream",
          "name": "stdout",
          "text": [
            "[20, 10, 30, 40, 50, 60]\n"
          ]
        }
      ]
    },
    {
      "cell_type": "code",
      "source": [
        "# 여러분 만의 미니 프로그램을 만들어 보세요! 랜덤 질문 던지기, 팀 나누기, 당첨자 뽑기 등!\n",
        "import random\n",
        "\n",
        "def question():\n",
        "    math = ['1+1?', '2+2?', '3+3?', '4+4?', '5+5?']\n",
        "    english = ['apple?', 'banana?', 'crown?', 'driving?']\n",
        "    korean = ['괴리?','노망?', '달변?', '마상?', '부음?', '살생?']\n",
        "\n",
        "    과목 = input()\n",
        "\n",
        "    if 과목 == '수학':\n",
        "        print(random.choice(math))\n",
        "    elif 과목 == '영어':\n",
        "        print(random.choice(english))\n",
        "    else:\n",
        "        print(random.choice(korean))\n",
        "        \n",
        "question()"
      ],
      "metadata": {
        "id": "m6QQYz4SvL5i",
        "outputId": "0627e6ec-c95f-4ee5-eafc-54fd68a7d71d",
        "colab": {
          "base_uri": "https://localhost:8080/"
        }
      },
      "execution_count": null,
      "outputs": [
        {
          "output_type": "stream",
          "name": "stdout",
          "text": [
            "수학\n",
            "2+2?\n"
          ]
        }
      ]
    },
    {
      "cell_type": "code",
      "source": [
        "input(\"입력하세요: \")"
      ],
      "metadata": {
        "colab": {
          "base_uri": "https://localhost:8080/",
          "height": 54
        },
        "id": "74xuDTCldUYq",
        "outputId": "6955a736-34ee-4b3e-fa91-01d5e85f645d"
      },
      "execution_count": null,
      "outputs": [
        {
          "name": "stdout",
          "output_type": "stream",
          "text": [
            "입력하세요: 1\n"
          ]
        },
        {
          "output_type": "execute_result",
          "data": {
            "application/vnd.google.colaboratory.intrinsic+json": {
              "type": "string"
            },
            "text/plain": [
              "'1'"
            ]
          },
          "metadata": {},
          "execution_count": 3
        }
      ]
    },
    {
      "cell_type": "code",
      "source": [
        "birth_day = input()\n",
        "if birth_day == \"1/12\":\n",
        "    print('You guys are twins!')\n",
        "else:\n",
        "    print(birth_day)"
      ],
      "metadata": {
        "colab": {
          "base_uri": "https://localhost:8080/"
        },
        "id": "jMQ7SZvdoGIr",
        "outputId": "57d512d2-3bf7-47d8-bd72-d04aa1e255da"
      },
      "execution_count": null,
      "outputs": [
        {
          "output_type": "stream",
          "name": "stdout",
          "text": [
            "1/12\n",
            "You guys are twins!\n"
          ]
        }
      ]
    },
    {
      "cell_type": "code",
      "source": [
        "print('메롱'*10)"
      ],
      "metadata": {
        "colab": {
          "base_uri": "https://localhost:8080/"
        },
        "id": "i40HL0ICuzGy",
        "outputId": "4ba06b68-2064-457a-98f2-187a9203ebc5"
      },
      "execution_count": null,
      "outputs": [
        {
          "output_type": "stream",
          "name": "stdout",
          "text": [
            "메롱메롱메롱메롱메롱메롱메롱메롱메롱메롱\n"
          ]
        }
      ]
    },
    {
      "cell_type": "code",
      "source": [
        "## 변수 mix에 있는 \"쌀\"의 개수를 세봅시다.\n",
        "mix = \"쌀씰쌀쌀씰쌀씰쌀씰쌀쌀씰쌀씰쌀씰쌀쌀씰쌀씰쌀씰쌀쌀씰쌀씰쌀씰쌀쌀씰쌀씰쌀씰쌀쌀씰쌀씰쌀씰쌀쌀씰쌀씰쌀씰쌀쌀씰쌀씰쌀씰쌀쌀씰쌀씰쌀씰쌀쌀씰쌀씰쌀씰쌀쌀씰쌀씰쌀씰쌀쌀씰쌀씰쌀씰쌀쌀씰쌀씰쌀씰쌀쌀씰쌀씰쌀씰쌀쌀씰쌀씰쌀씰쌀쌀씰쌀씰쌀씰쌀쌀씰쌀씰쌀씰쌀쌀씰쌀씰쌀씰쌀쌀씰쌀씰쌀씰쌀쌀씰쌀씰쌀씰쌀쌀씰쌀씰쌀씰쌀쌀씰쌀씰쌀씰쌀쌀씰쌀씰쌀씰쌀쌀씰쌀씰쌀씰쌀쌀씰쌀씰쌀씰쌀쌀씰쌀씰쌀씰쌀쌀씰쌀씰쌀씰쌀쌀씰쌀씰쌀씰쌀쌀씰쌀씰쌀씰쌀쌀씰쌀씰쌀씰쌀쌀씰쌀씰쌀씰쌀쌀씰쌀씰쌀씰쌀쌀씰쌀씰쌀씰쌀쌀씰쌀씰쌀씰쌀쌀씰쌀씰쌀씰쌀쌀씰쌀씰쌀씰쌀쌀씰쌀씰쌀씰쌀쌀씰쌀씰쌀씰쌀쌀씰쌀씰쌀씰쌀쌀씰쌀씰쌀씰쌀쌀씰쌀씰쌀씰쌀쌀씰쌀씰쌀씰쌀쌀씰쌀씰쌀씰쌀쌀씰쌀씰쌀씰쌀쌀씰쌀씰쌀씰쌀쌀씰쌀씰쌀씰쌀쌀씰쌀씰쌀씰쌀쌀씰쌀씰쌀씰쌀쌀씰쌀씰쌀씰쌀쌀씰쌀씰쌀씰쌀쌀씰쌀씰쌀씰쌀쌀씰쌀씰쌀씰쌀쌀씰쌀씰쌀씰쌀쌀씰쌀씰쌀씰쌀쌀씰쌀씰쌀씰쌀쌀씰쌀씰쌀씰쌀쌀씰쌀씰쌀씰쌀쌀씰쌀씰쌀씰쌀쌀씰쌀씰쌀씰쌀쌀씰쌀씰쌀씰쌀쌀씰쌀씰쌀씰쌀쌀씰쌀씰쌀씰쌀쌀씰쌀씰쌀씰쌀쌀씰쌀씰쌀씰쌀쌀씰쌀씰쌀씰쌀쌀씰쌀씰쌀씰쌀쌀씰쌀씰쌀씰쌀쌀씰쌀씰쌀씰쌀쌀씰쌀씰쌀씰쌀쌀씰쌀씰쌀씰쌀쌀씰쌀씰쌀씰쌀쌀씰쌀씰쌀씰쌀쌀씰쌀씰쌀씰쌀쌀씰쌀씰쌀씰쌀쌀씰쌀씰\"\n",
        "\n",
        "count = 0\n",
        "for i in mix:\n",
        "    if i == \"쌀\":\n",
        "        count += 1\n",
        "print(count)"
      ],
      "metadata": {
        "id": "vrdfOxpF1AA3",
        "outputId": "69a8c78c-58c1-4259-8683-09f29a5527e0",
        "colab": {
          "base_uri": "https://localhost:8080/"
        }
      },
      "execution_count": null,
      "outputs": [
        {
          "output_type": "stream",
          "name": "stdout",
          "text": [
            "300\n"
          ]
        }
      ]
    },
    {
      "cell_type": "code",
      "source": [
        "a = [1]\n",
        "for i in range(2, 4):\n",
        "  a.append(i)\n",
        "print(a)"
      ],
      "metadata": {
        "colab": {
          "base_uri": "https://localhost:8080/"
        },
        "id": "BbCXWSJF1rw0",
        "outputId": "2f71a5f0-6852-4948-90f2-dbeb411662e7"
      },
      "execution_count": null,
      "outputs": [
        {
          "output_type": "stream",
          "name": "stdout",
          "text": [
            "[1, 2, 3]\n"
          ]
        }
      ]
    },
    {
      "cell_type": "code",
      "source": [
        "i = 1\n",
        "sum = 0\n",
        "while i < 5:\n",
        "  sum += i\n",
        "  i += 1\n",
        "print(sum)"
      ],
      "metadata": {
        "colab": {
          "base_uri": "https://localhost:8080/"
        },
        "id": "3EeXteRJ-ecF",
        "outputId": "db1ffc41-6324-42d4-d58a-c945ce501f0f"
      },
      "execution_count": null,
      "outputs": [
        {
          "output_type": "stream",
          "name": "stdout",
          "text": [
            "10\n"
          ]
        }
      ]
    },
    {
      "cell_type": "code",
      "source": [
        "while i < 5:\n",
        "  i+=1\n",
        "print(i)"
      ],
      "metadata": {
        "colab": {
          "base_uri": "https://localhost:8080/"
        },
        "id": "kBW6eCB7BHUD",
        "outputId": "eee79fcc-4fdd-46d6-f8ec-f2abb22d39e0"
      },
      "execution_count": null,
      "outputs": [
        {
          "output_type": "stream",
          "name": "stdout",
          "text": [
            "5\n"
          ]
        }
      ]
    },
    {
      "cell_type": "code",
      "source": [
        "num1 = int(input(\"숫자를 입력하시오 \"))\n",
        "num2 = int(input(\"숫자를 입력하시오 \"))\n",
        "num3 = int(input(\"숫자를 입력하시오 \"))\n",
        "num4 = int(input(\"숫자를 입력하시오 \"))\n",
        "num5 = int(input(\"숫자를 입력하시오 \"))\n",
        "avg = (num1 + num2 + num3 + num4 + num5) / 5\n",
        "print(avg)"
      ],
      "metadata": {
        "colab": {
          "base_uri": "https://localhost:8080/"
        },
        "id": "YsPZ_myuHwNy",
        "outputId": "f1ddd34f-e728-4569-b9b8-b20325bc8958"
      },
      "execution_count": null,
      "outputs": [
        {
          "output_type": "stream",
          "name": "stdout",
          "text": [
            "숫자를 입력하시오 10\n",
            "숫자를 입력하시오 20\n",
            "숫자를 입력하시오 30\n",
            "숫자를 입력하시오 40\n",
            "숫자를 입력하시오 50\n",
            "30.0\n"
          ]
        }
      ]
    },
    {
      "cell_type": "code",
      "source": [
        "nums = []\n",
        "while True:\n",
        "    num = int(input())\n",
        "    if num == 0:\n",
        "        break\n",
        "    nums.append(num)\n",
        "avg = sum(nums) / len(nums)\n",
        "print(avg)"
      ],
      "metadata": {
        "colab": {
          "base_uri": "https://localhost:8080/"
        },
        "id": "OKeS-pJLVXhl",
        "outputId": "c4ba2cea-9cf3-47c4-9d26-ee24c7bd7dcf"
      },
      "execution_count": null,
      "outputs": [
        {
          "output_type": "stream",
          "name": "stdout",
          "text": [
            "50\n",
            "40\n",
            "30\n",
            "20\n",
            "10\n",
            "0\n",
            "30.0\n"
          ]
        }
      ]
    },
    {
      "cell_type": "code",
      "source": [
        "num_list = list(range(1, 46))\n",
        "import random\n",
        "lotto = []\n",
        "while len(lotto) < 6:\n",
        "  random.shuffle(num_list)\n",
        "  num_selected = num_list[0]\n",
        "  if num_selected in lotto:\n",
        "    continue\n",
        "  lotto.append(num_selected)\n",
        "print(lotto)"
      ],
      "metadata": {
        "colab": {
          "base_uri": "https://localhost:8080/"
        },
        "id": "YQ7Tgag1-RQK",
        "outputId": "8d441af0-f866-429e-8bbd-d272f1222688"
      },
      "execution_count": null,
      "outputs": [
        {
          "output_type": "stream",
          "name": "stdout",
          "text": [
            "[2, 43, 45, 10, 44, 1]\n"
          ]
        }
      ]
    },
    {
      "cell_type": "code",
      "source": [
        "num_list = list(range(10))\n",
        "import random\n",
        "lotto = []\n",
        "while len(lotto) < 6:\n",
        "  random.shuffle(num_list)\n",
        "  num_selected = num_list[0]\n",
        "  lotto.append(num_selected)\n",
        "print(lotto)"
      ],
      "metadata": {
        "colab": {
          "base_uri": "https://localhost:8080/"
        },
        "id": "ngt5OgmNOvWu",
        "outputId": "7ce9d856-f2be-4e84-f7ee-648289b61539"
      },
      "execution_count": null,
      "outputs": [
        {
          "output_type": "stream",
          "name": "stdout",
          "text": [
            "[9, 7, 0, 1, 6, 4]\n"
          ]
        }
      ]
    },
    {
      "cell_type": "code",
      "source": [
        "length = 0\n",
        "for x in 'abcdefg':\n",
        "  length += 1\n",
        "print(length)"
      ],
      "metadata": {
        "colab": {
          "base_uri": "https://localhost:8080/"
        },
        "id": "nK6gUg_fSHOz",
        "outputId": "4d983ad5-90b1-4cc4-f87b-ea883942e3c9"
      },
      "execution_count": null,
      "outputs": [
        {
          "output_type": "stream",
          "name": "stdout",
          "text": [
            "7\n"
          ]
        }
      ]
    },
    {
      "cell_type": "code",
      "source": [
        "my_dict = {\"사과\":\"apple\", \"바나나\":\"banana\", \"당근\":\"carrot\"}\n",
        "var1 = my_dict[\"사과\"]\n",
        "del my_dict[\"당근\"]\n",
        "my_dict[\"체리\"] = \"cherry\"\n",
        "print(var1, my_dict)"
      ],
      "metadata": {
        "colab": {
          "base_uri": "https://localhost:8080/"
        },
        "id": "lb4_RKbkrtaA",
        "outputId": "086539dc-6e8b-4289-ec42-dac9eda72f7d"
      },
      "execution_count": null,
      "outputs": [
        {
          "output_type": "stream",
          "name": "stdout",
          "text": [
            "apple {'사과': 'apple', '바나나': 'banana', '체리': 'cherry'}\n"
          ]
        }
      ]
    },
    {
      "cell_type": "markdown",
      "source": [
        "my_dict = {}\n",
        "my_dict[1] = 'Integer'\n",
        "my_dict['a'] = 'String'\n",
        "my_dict[(1, 2, 3)] = 'Tuple'\n",
        "try:\n",
        "    #여기에 [1, 2, 3] → \"List\"의 대응관계를 만들어봅시다.\n",
        "    my_dict[[1, 2, 3]] = 'List'\n",
        "except TypeError:\n",
        "    print(\"List는 Dictionary의 Key가 될 수 없습니다.\")\n",
        "print(my_dict)"
      ],
      "metadata": {
        "id": "ZV0jxPRKtwjp"
      }
    },
    {
      "cell_type": "code",
      "source": [
        "cvs = ['Bello', 'Bello', 'Tulaliloo_ti_amo', 'Tank_yu', 'Poopaye', 'Poopaye']\n",
        "# Minionese와 한국어가 담긴 miniWord 딕셔너리를 만드세요.\n",
        "miniWord = {}\n",
        "miniWord['Bello'] = '안녕'\n",
        "miniWord['Poopaye'] = '잘가'\n",
        "miniWord['Tank_yu'] = '고마워'\n",
        "miniWord['Tulaliloo_ti_amo'] = '우린 너를 사랑해'\n",
        "for i in cvs:\n",
        "    if i == 'Bello':\n",
        "        print(miniWord['Bello'])\n",
        "    elif i == 'Poopaye':\n",
        "        print(miniWord['Poopaye'])\n",
        "    elif i == 'Tank_yu':\n",
        "        print(miniWord['Tank_yu'])\n",
        "    else:\n",
        "        print(miniWord['Tulaliloo_ti_amo'])"
      ],
      "metadata": {
        "colab": {
          "base_uri": "https://localhost:8080/"
        },
        "id": "77n6EXATxxt6",
        "outputId": "045fbd8e-f53e-416e-e40d-b14a8fd35dbd"
      },
      "execution_count": null,
      "outputs": [
        {
          "output_type": "stream",
          "name": "stdout",
          "text": [
            "안녕\n",
            "안녕\n",
            "우린 너를 사랑해\n",
            "고마워\n",
            "잘가\n",
            "잘가\n"
          ]
        }
      ]
    },
    {
      "cell_type": "code",
      "source": [
        "cvs = ['Bello', 'Bello', 'Tulaliloo_ti_amo', 'Tank_yu', 'Poopaye', 'Poopaye']\n",
        "# Minionese와 한국어가 담긴 miniWord 딕셔너리를 만드세요.\n",
        "miniWord = {}\n",
        "miniWord['Bello'] = '안녕'\n",
        "miniWord['Poopaye'] = '잘가'\n",
        "miniWord['Tank_yu'] = '고마워'\n",
        "miniWord['Tulaliloo_ti_amo'] = '우린 너를 사랑해'\n",
        "for i in cvs:\n",
        "  print(miniWord[i])"
      ],
      "metadata": {
        "colab": {
          "base_uri": "https://localhost:8080/"
        },
        "outputId": "24efa2f9-157d-4b83-d1d7-f176fab41ae1",
        "id": "ZfjRDiQX4HJh"
      },
      "execution_count": null,
      "outputs": [
        {
          "output_type": "stream",
          "name": "stdout",
          "text": [
            "안녕\n",
            "안녕\n",
            "우린 너를 사랑해\n",
            "고마워\n",
            "잘가\n",
            "잘가\n"
          ]
        }
      ]
    },
    {
      "cell_type": "code",
      "source": [
        "my_list = [1, 2, 3, 4, 5]\n",
        "my_list.clear()\n",
        "print(my_list)"
      ],
      "metadata": {
        "colab": {
          "base_uri": "https://localhost:8080/"
        },
        "id": "4qFIn_fRgiuT",
        "outputId": "61bf63e5-9f74-44aa-cfbd-3752cb4b2a34"
      },
      "execution_count": null,
      "outputs": [
        {
          "output_type": "stream",
          "name": "stdout",
          "text": [
            "[]\n"
          ]
        }
      ]
    },
    {
      "cell_type": "code",
      "source": [
        "def yoonHa(nums):\n",
        "  answer = ''\n",
        "  psswd = {4:'love', 8:'smile', 6:'kiss'}\n",
        "  for i in nums:\n",
        "    if i == '4':\n",
        "      answer += psswd[4]\n",
        "    elif i == '8':\n",
        "      answer += psswd[8]\n",
        "    else:\n",
        "      answer += psswd[6]\n",
        "  return answer\n",
        "nums = input()\n",
        "print(yoonHa(nums))"
      ],
      "metadata": {
        "colab": {
          "base_uri": "https://localhost:8080/"
        },
        "id": "nIVpXBI69Nv1",
        "outputId": "1a0444cb-0506-4126-a154-e6f686f6adf0"
      },
      "execution_count": null,
      "outputs": [
        {
          "output_type": "stream",
          "name": "stdout",
          "text": [
            "86864\n",
            "smilekisssmilekisslove\n"
          ]
        }
      ]
    },
    {
      "cell_type": "code",
      "source": [
        "def yoonHa(nums):\n",
        "  psswd = {'4':'love', '8':'smile', '6':'kiss'}\n",
        "  answer = []\n",
        "  for i in nums:\n",
        "    answer.append(psswd[i])\n",
        "  return answer\n",
        "nums = input()\n",
        "print(''.join(yoonHa(nums)))"
      ],
      "metadata": {
        "colab": {
          "base_uri": "https://localhost:8080/"
        },
        "id": "buMQFaYEN5Zn",
        "outputId": "673e77ba-0b21-4136-a02c-a1f2d2afd74b"
      },
      "execution_count": null,
      "outputs": [
        {
          "output_type": "stream",
          "name": "stdout",
          "text": [
            "48684\n",
            "lovesmilekisssmilelove\n"
          ]
        }
      ]
    },
    {
      "cell_type": "code",
      "source": [
        "def yoonHa(nums):\n",
        "  psswd = {'4':'love', '8':'smile', '6':'kiss'}\n",
        "  answer = []\n",
        "  for i in nums:\n",
        "    answer.append(psswd[i])\n",
        "  return ''.join(answer)\n",
        "nums = input()\n",
        "print(yoonHa(nums))"
      ],
      "metadata": {
        "colab": {
          "base_uri": "https://localhost:8080/"
        },
        "id": "mgcXeg_eY18h",
        "outputId": "dfb26a35-7bf5-4a6f-d5f2-57d048e758d1"
      },
      "execution_count": null,
      "outputs": [
        {
          "output_type": "stream",
          "name": "stdout",
          "text": [
            "48684\n",
            "lovesmilekisssmilelove\n"
          ]
        }
      ]
    },
    {
      "cell_type": "code",
      "source": [
        "print(1, 2, 3, end=\"\\n\"); print(4, 5, 6, sep=\"\")"
      ],
      "metadata": {
        "colab": {
          "base_uri": "https://localhost:8080/"
        },
        "id": "OwWFXFpWode5",
        "outputId": "ff96014a-7a67-43cb-e1c1-102b11189999"
      },
      "execution_count": null,
      "outputs": [
        {
          "output_type": "stream",
          "name": "stdout",
          "text": [
            "1 2 3\n",
            "456\n"
          ]
        }
      ]
    },
    {
      "cell_type": "code",
      "source": [
        "num = int(input())\n",
        "nums = [2, 3, 5, 7]\n",
        "dic = {2:'2의 배수입니다.', 3:'3의 배수입니다.', 5:'5의 배수입니다.', 7:'7의 배수입니다.'}\n",
        "for i in nums:\n",
        "    if num % i == 0:\n",
        "        print(dic[i])"
      ],
      "metadata": {
        "colab": {
          "base_uri": "https://localhost:8080/"
        },
        "id": "qKpOEiXxvtlc",
        "outputId": "fd1a3f67-0f3a-4dcb-f054-3e32a6eff752"
      },
      "execution_count": null,
      "outputs": [
        {
          "output_type": "stream",
          "name": "stdout",
          "text": [
            "210\n",
            "2의 배수입니다.\n",
            "3의 배수입니다.\n",
            "5의 배수입니다.\n",
            "7의 배수입니다.\n"
          ]
        }
      ]
    },
    {
      "cell_type": "code",
      "source": [
        "start1 = int(input())\n",
        "say_it = start1 + 1\n",
        "if say_it % 3 == 0:\n",
        "  print('짝!')\n",
        "else:\n",
        "  print(say_it)"
      ],
      "metadata": {
        "colab": {
          "base_uri": "https://localhost:8080/"
        },
        "id": "_nle4WdyV_EF",
        "outputId": "cf1dcbf3-6615-40af-e90e-88ca8b16b7a8"
      },
      "execution_count": null,
      "outputs": [
        {
          "output_type": "stream",
          "name": "stdout",
          "text": [
            "89\n",
            "짝!\n"
          ]
        }
      ]
    },
    {
      "cell_type": "code",
      "source": [
        "n = int(input())\n",
        "num1 = (sum(range(1, n+1))) ** 2\n",
        "def num2(n):\n",
        "  s = 0\n",
        "  for i in range(1, n+1):\n",
        "    s = s + i ** 2\n",
        "  return s\n",
        "\n",
        "print(num1 - num2(n))"
      ],
      "metadata": {
        "colab": {
          "base_uri": "https://localhost:8080/"
        },
        "id": "IavhgZ7Tnx5L",
        "outputId": "9308fef1-0498-4b53-f077-5dde76c6e67b"
      },
      "execution_count": null,
      "outputs": [
        {
          "output_type": "stream",
          "name": "stdout",
          "text": [
            "3\n",
            "22\n"
          ]
        }
      ]
    },
    {
      "cell_type": "code",
      "source": [
        "weight = int(input())\n",
        "marbles = {'r':250, 'b':40, 'w':10}\n",
        "remains_red = weight - (weight // marbles['r'] * marbles['r'])\n",
        "remains_blue = remains_red - (remains_red // marbles['b'] * marbles['b'])\n",
        "remains_white = remains_blue - (remains_blue // marbles['w'] * marbles['w'])\n",
        "a = weight // marbles['r']\n",
        "b = remains_red // marbles['b']\n",
        "c = remains_blue // marbles['w']\n",
        "if remains_white != 0:\n",
        "  print(-1)\n",
        "else:\n",
        "  print(a+b+c)"
      ],
      "metadata": {
        "id": "s0dZZ9QOzcjY",
        "colab": {
          "base_uri": "https://localhost:8080/"
        },
        "outputId": "c280c540-a64e-4f2f-be17-83be2b4b1ca1"
      },
      "execution_count": null,
      "outputs": [
        {
          "output_type": "stream",
          "name": "stdout",
          "text": [
            "700\n",
            "7\n"
          ]
        }
      ]
    },
    {
      "cell_type": "code",
      "source": [
        "t = int(input())\n",
        "if(t%10 != 0): \n",
        "    print(-1)\n",
        "else: \n",
        "    print((t % 250 % 40) // 10 + (t % 250) // 40 + t // 250)"
      ],
      "metadata": {
        "id": "xLMr8atTlzjQ"
      },
      "execution_count": null,
      "outputs": []
    },
    {
      "cell_type": "code",
      "source": [
        "a = range(1,10001)\n",
        "b = list(map(str,a))\n",
        "c = ''.join(b)\n",
        "print(c.count('8'))"
      ],
      "metadata": {
        "colab": {
          "base_uri": "https://localhost:8080/"
        },
        "id": "YQGYwJEq01NO",
        "outputId": "383af369-65a0-4ebc-f77d-e40df3611379"
      },
      "execution_count": null,
      "outputs": [
        {
          "output_type": "stream",
          "name": "stdout",
          "text": [
            "4000\n"
          ]
        }
      ]
    },
    {
      "cell_type": "code",
      "source": [
        "num = input()\n",
        "i = 0\n",
        "while i < len(num)//2:\n",
        "    if num[i] == num[len(num)-i-1]:\n",
        "        print(\"Same\")\n",
        "    else:\n",
        "        print(\"Different\")\n",
        "    i += 1"
      ],
      "metadata": {
        "colab": {
          "base_uri": "https://localhost:8080/"
        },
        "id": "kQVuZtok7oPV",
        "outputId": "975703fb-b58b-45ff-d6db-cf214ee807d4"
      },
      "execution_count": null,
      "outputs": [
        {
          "output_type": "stream",
          "name": "stdout",
          "text": [
            "ABCDDCBA\n",
            "Same\n",
            "Same\n",
            "Same\n",
            "Same\n"
          ]
        }
      ]
    },
    {
      "cell_type": "code",
      "source": [
        "def myMean(a):\n",
        "    a.sort()\n",
        "    a.pop(0)\n",
        "    a.pop()\n",
        "    b = sum(a) / len(a)\n",
        "    return b\n",
        "\n",
        "print(myMean([1, 2, 3, 4, 5]))"
      ],
      "metadata": {
        "colab": {
          "base_uri": "https://localhost:8080/"
        },
        "id": "5cDxMzUX_WZZ",
        "outputId": "859c3076-33d6-42e9-a808-34e7b1808b88"
      },
      "execution_count": null,
      "outputs": [
        {
          "output_type": "stream",
          "name": "stdout",
          "text": [
            "3.0\n"
          ]
        }
      ]
    },
    {
      "cell_type": "code",
      "source": [
        "def myMean(lst):\n",
        "    lst.sort()\n",
        "    return sum(lst[1:-1])/(len(lst)-2)\n",
        "\n",
        "\n",
        "ans = myMean([1, 2, 3, 4, 5])\n",
        "print(ans)"
      ],
      "metadata": {
        "colab": {
          "base_uri": "https://localhost:8080/"
        },
        "id": "GwdTbl0u_5HX",
        "outputId": "2035315c-5419-49d6-8cdb-c80f8c105139"
      },
      "execution_count": null,
      "outputs": [
        {
          "output_type": "stream",
          "name": "stdout",
          "text": [
            "3.0\n"
          ]
        }
      ]
    },
    {
      "cell_type": "code",
      "source": [
        "def hot_cold(emotion):\n",
        "  count = 0\n",
        "  range = emotion[emotion.index('냉정'):emotion.index('열정')]\n",
        "  for i in range:\n",
        "    if i == '사랑':\n",
        "      count += 1\n",
        "  return count\n",
        "hot_cold(['냉정', '사랑', '사랑', '사랑', '열정', '사랑', '사랑'])"
      ],
      "metadata": {
        "colab": {
          "base_uri": "https://localhost:8080/"
        },
        "id": "geWm53zuBXI8",
        "outputId": "d7eba3e2-2d2a-48d5-fad1-9eb353a63767"
      },
      "execution_count": null,
      "outputs": [
        {
          "output_type": "execute_result",
          "data": {
            "text/plain": [
              "3"
            ]
          },
          "metadata": {},
          "execution_count": 8
        }
      ]
    },
    {
      "cell_type": "code",
      "source": [
        "star = int(input())\n",
        "for i in range(1, star+1):\n",
        "    if i < 5:\n",
        "      print('*' * i)\n",
        "    else:\n",
        "      print('*****')"
      ],
      "metadata": {
        "colab": {
          "base_uri": "https://localhost:8080/"
        },
        "id": "Dy9MOJO8CdI0",
        "outputId": "a67a064b-5ca4-49fd-cfd8-46b16c465b77"
      },
      "execution_count": null,
      "outputs": [
        {
          "output_type": "stream",
          "name": "stdout",
          "text": [
            "7\n",
            "*\n",
            "**\n",
            "***\n",
            "****\n",
            "*****\n",
            "*****\n",
            "*****\n"
          ]
        }
      ]
    },
    {
      "cell_type": "code",
      "source": [
        "언어 = int(input())\n",
        "추리 = int(input())\n",
        "논술 = int(input())\n",
        "nums = [언어, 추리, 논술]\n",
        "if 추리 < 50:\n",
        "  print('F')\n",
        "elif 74 >= min(nums) >= 50:\n",
        "  print('A')\n",
        "elif min(nums) >= 75:\n",
        "  print('A+')\n",
        "else:\n",
        "  print('B+')"
      ],
      "metadata": {
        "colab": {
          "base_uri": "https://localhost:8080/"
        },
        "id": "DgXta6SxDp0q",
        "outputId": "48770381-f5b9-49aa-f949-f0ceafb6419f"
      },
      "execution_count": null,
      "outputs": [
        {
          "output_type": "stream",
          "name": "stdout",
          "text": [
            "74\n",
            "50\n",
            "74\n",
            "A\n"
          ]
        }
      ]
    },
    {
      "cell_type": "code",
      "source": [
        "order = []\n",
        "n = int(input())\n",
        "for i in range(n):\n",
        "  o = input()\n",
        "  order.append(o)\n",
        "a = order.count('아메리카노') * 4100\n",
        "b = order.count('카페라떼') * 4600\n",
        "c = order.count('카라멜마끼아또') * 5100\n",
        "print(a + b + c)"
      ],
      "metadata": {
        "id": "_4oiLBaoe6mN"
      },
      "execution_count": null,
      "outputs": []
    },
    {
      "cell_type": "code",
      "source": [
        "N = int(input())\n",
        "for i in range(1,N+1):\n",
        "  print(' '*(N-i), '*'*i)"
      ],
      "metadata": {
        "colab": {
          "base_uri": "https://localhost:8080/"
        },
        "id": "rQIxowGwTHjj",
        "outputId": "f3a7b182-eb76-46ee-9318-f6675936e9d3"
      },
      "execution_count": null,
      "outputs": [
        {
          "output_type": "stream",
          "name": "stdout",
          "text": [
            "10\n",
            "          *\n",
            "         **\n",
            "        ***\n",
            "       ****\n",
            "      *****\n",
            "     ******\n",
            "    *******\n",
            "   ********\n",
            "  *********\n",
            " **********\n"
          ]
        }
      ]
    },
    {
      "cell_type": "code",
      "source": [
        "card = int(input())\n",
        "red_pocket = []\n",
        "blue_pocket = []\n",
        "card_box = []\n",
        "for i in range(card):\n",
        "  o = int(input())\n",
        "  if o >= 0:\n",
        "    red_pocket.append(o)\n",
        "  else:\n",
        "    blue_pocket.append(o)\n",
        "red_pocket.sort()\n",
        "blue_pocket.sort()\n",
        "card_box.append(red_pocket)\n",
        "card_box.append(blue_pocket)\n",
        "print(card_box)"
      ],
      "metadata": {
        "colab": {
          "base_uri": "https://localhost:8080/"
        },
        "id": "3HXz-YxdkUxu",
        "outputId": "3213a76a-6242-4f30-aeb7-21051ac3a965"
      },
      "execution_count": null,
      "outputs": [
        {
          "output_type": "stream",
          "name": "stdout",
          "text": [
            "8\n",
            "-1\n",
            "8\n",
            "0\n",
            "-5\n",
            "1\n",
            "-4\n",
            "7\n",
            "-2\n",
            "[[0, 1, 7, 8], [-5, -4, -2, -1]]\n"
          ]
        }
      ]
    },
    {
      "cell_type": "code",
      "source": [
        "H = int(input()) # 이용할 시간\n",
        "A = int(input()) # 모자장수 렌터카의 시간당 비용\n",
        "B = int(input()) # 코더랜드 렌터카의 기본요금\n",
        "C = int(input()) # 기본 시간\n",
        "D = int(input()) # 시간당 부과되는 추가요금\n",
        "result = []\n",
        "cost_a = H * A\n",
        "if H <= C:\n",
        "  cost_b = B\n",
        "else:\n",
        "  cost_b = B + ((H-C) * D)\n",
        "if cost_a < cost_b:\n",
        "  result.append(cost_a)\n",
        "else:\n",
        "  result.append(cost_b)\n",
        "print(result)"
      ],
      "metadata": {
        "id": "uZYV2mP_B1PA"
      },
      "execution_count": null,
      "outputs": []
    },
    {
      "cell_type": "code",
      "source": [
        "def say_hi_default(name='somebody'):\n",
        "    print('안녕, ' + name + '!')\n",
        "say_hi_default('준이')\n",
        "say_hi_default()"
      ],
      "metadata": {
        "colab": {
          "base_uri": "https://localhost:8080/"
        },
        "id": "LOqNaTvrwb1v",
        "outputId": "3f96d96d-fadb-4ea1-a361-1b87e183a811"
      },
      "execution_count": null,
      "outputs": [
        {
          "output_type": "stream",
          "name": "stdout",
          "text": [
            "안녕, 준이!\n",
            "안녕, somebody!\n"
          ]
        }
      ]
    },
    {
      "cell_type": "code",
      "source": [
        "def add_and_return(number1, number2):\n",
        "    print(number1 + number2)\n",
        "    return number1 + number2\n",
        "print(add_and_return(1, 2) + 3)"
      ],
      "metadata": {
        "colab": {
          "base_uri": "https://localhost:8080/"
        },
        "id": "EFyt50kH2Ct4",
        "outputId": "390b9a7f-2e5d-4234-d426-b40545d8fc0e"
      },
      "execution_count": null,
      "outputs": [
        {
          "output_type": "stream",
          "name": "stdout",
          "text": [
            "3\n",
            "6\n"
          ]
        }
      ]
    },
    {
      "cell_type": "code",
      "source": [
        "def print_two(word1, word2):\n",
        "    print(word1)\n",
        "    print(word2)\n",
        "\n",
        "def print_and_return(word1, word2, word3):\n",
        "    print_two(word3, word2)\n",
        "    return word1\n",
        "print_two('A', print_and_return('B', 'C', 'D'))"
      ],
      "metadata": {
        "colab": {
          "base_uri": "https://localhost:8080/"
        },
        "id": "RDgXCbkD5B9X",
        "outputId": "970bc815-3935-439a-ac05-0e98da7822fd"
      },
      "execution_count": null,
      "outputs": [
        {
          "output_type": "stream",
          "name": "stdout",
          "text": [
            "D\n",
            "C\n",
            "A\n",
            "B\n"
          ]
        }
      ]
    },
    {
      "cell_type": "code",
      "source": [
        "print(bool(None))\n",
        "print(bool(0))\n",
        "print(bool(1.1))"
      ],
      "metadata": {
        "colab": {
          "base_uri": "https://localhost:8080/"
        },
        "id": "gOOHzclcE-rj",
        "outputId": "2f283384-dc7e-43d8-cd6b-1e8b61556c23"
      },
      "execution_count": null,
      "outputs": [
        {
          "output_type": "stream",
          "name": "stdout",
          "text": [
            "False\n",
            "False\n",
            "True\n"
          ]
        }
      ]
    },
    {
      "cell_type": "code",
      "source": [
        "print('Quote(\\') and double quote(\\\")')"
      ],
      "metadata": {
        "colab": {
          "base_uri": "https://localhost:8080/"
        },
        "id": "-PHPUu3VFg0w",
        "outputId": "9d4a4e0c-f161-43b7-a675-aee3735dab03"
      },
      "execution_count": null,
      "outputs": [
        {
          "output_type": "stream",
          "name": "stdout",
          "text": [
            "Quote(') and double quote(\")\n"
          ]
        }
      ]
    },
    {
      "cell_type": "code",
      "source": [
        "message = 'Hello'\n",
        "print(message[::-1])  # 거꾸로 출력"
      ],
      "metadata": {
        "colab": {
          "base_uri": "https://localhost:8080/"
        },
        "id": "ygyaEaP9GE9_",
        "outputId": "a06f3182-a58f-4de8-a4f8-3401ce0f2e22"
      },
      "execution_count": null,
      "outputs": [
        {
          "output_type": "stream",
          "name": "stdout",
          "text": [
            "olleH\n"
          ]
        }
      ]
    },
    {
      "cell_type": "code",
      "source": [
        "conductor = {'first_name': '단테', 'last_name': '안'}\n",
        "conductor['gender'] = 'male'\n",
        "print(conductor)"
      ],
      "metadata": {
        "colab": {
          "base_uri": "https://localhost:8080/"
        },
        "id": "SGVBp9qyHAVM",
        "outputId": "ffc3a8dc-a81e-47f3-9b6b-2e985bc5477e"
      },
      "execution_count": null,
      "outputs": [
        {
          "output_type": "stream",
          "name": "stdout",
          "text": [
            "{'first_name': '단테', 'last_name': '안', 'gender': 'male'}\n"
          ]
        }
      ]
    },
    {
      "cell_type": "code",
      "source": [
        "conductor = {'first_name': '단테', 'last_name': '안'}\n",
        "for key, value in conductor.items():\n",
        "    print(key + ' : ' + value)"
      ],
      "metadata": {
        "id": "z2TTZLLnHf9i"
      },
      "execution_count": null,
      "outputs": []
    },
    {
      "cell_type": "markdown",
      "source": [
        "함수(function): 불려진 시점에 특정한 작업을 수행하며, 입력값과 출력값(반환값)을 가질 수 있습니다.\n",
        "인자(argument): 함수를 호출할 때 전달하는 입력값입니다.\n",
        "매개변수(parameter): 함수가 실행될 때 입력값이 들어올 변수입니다.\n",
        "반환값(return value): 함수가 종료될 때 호출 지점으로 전달할 출력값입니다.\n",
        "변수(variable): 값을 가리키는 이름입니다.\n",
        "스코프(scope): 변수가 유효한 범위입니다.\n",
        "연산자(operator): 주어진 값들에 대해 정해진 연산을 수행합니다.\n",
        "수리 연산자(mathematical operator): +, -, *, /, //, **\n",
        "비교 연산자(comparison operator): ==, !=, <, >, <=, >=, is\n",
        "논리 연산자(logical operator): and, or\n",
        "소속 연산자(membership operator): in\n",
        "제어문(control statements): 코드 블록의 흐름(실행 여부, 반복)을 제어합니다.\n",
        "if: 명제가 참이면 실행합니다.\n",
        "else: if 명제 이외의 경우에 실행합니다.\n",
        "elif: if 명제 이외의 경우에 또 다른 명제가 참일 경우에 실행합니다.\n",
        "while: 명제가 참일 동안 반복합니다.\n",
        "for: 주어진 값들 하나씩 반복합니다.\n",
        "자료형(data types): 값들의 종류를 나타냅니다.\n",
        "정수(int), 부동소수점 수(float), 불리언(bool), 문자열(str), 튜플(tuple), 리스트(list), 딕셔너리(dict)"
      ],
      "metadata": {
        "id": "KN9VewXgHnOR"
      }
    },
    {
      "cell_type": "code",
      "source": [
        "def fibonacci(n):\n",
        "    if n <= 2:\n",
        "        return 1\n",
        "    else:\n",
        "        return fibonacci(n-2) + fibonacci(n-1)\n",
        "\n",
        "n = 1\n",
        "while n <= 20:\n",
        "    n = n + 1\n",
        "    print(fibonacci(n))\n",
        "print('끝!')"
      ],
      "metadata": {
        "colab": {
          "base_uri": "https://localhost:8080/"
        },
        "id": "jt2hFAizK5aC",
        "outputId": "3e060305-48ea-49eb-c910-d08fb20b3934"
      },
      "execution_count": null,
      "outputs": [
        {
          "output_type": "stream",
          "name": "stdout",
          "text": [
            "1\n",
            "2\n",
            "3\n",
            "5\n",
            "8\n",
            "13\n",
            "21\n",
            "34\n",
            "55\n",
            "89\n",
            "144\n",
            "233\n",
            "377\n",
            "610\n",
            "987\n",
            "1597\n",
            "2584\n",
            "4181\n",
            "6765\n",
            "10946\n",
            "끝!\n"
          ]
        }
      ]
    },
    {
      "cell_type": "code",
      "source": [
        "memory = {1: 1, 2: 1}\n",
        "\n",
        "def fibonacci(n):\n",
        "    if n in memory:\n",
        "        number = memory[n]\n",
        "    else:\n",
        "       number = fibonacci(n-1) + fibonacci(n-2)\n",
        "       memory[n] = number\n",
        "    return number\n",
        "\n",
        "print(fibonacci(100))\n",
        "\n",
        "print(memory)"
      ],
      "metadata": {
        "id": "GjRHF7s9PgmA"
      },
      "execution_count": null,
      "outputs": []
    },
    {
      "cell_type": "code",
      "source": [
        "print(\"\"\"\\\\    /\\\\\n",
        " )  ( ')\n",
        "(  /  )\n",
        " \\\\(__)|\"\"\")"
      ],
      "metadata": {
        "colab": {
          "base_uri": "https://localhost:8080/"
        },
        "id": "HCfCNoMtL8o4",
        "outputId": "600c2312-0e76-41d0-f884-71a23e7b7c64"
      },
      "execution_count": null,
      "outputs": [
        {
          "output_type": "stream",
          "name": "stdout",
          "text": [
            "\\    /\\ )  ( ')\n",
            "(  /  )\n",
            " \\(__)|\n"
          ]
        }
      ]
    },
    {
      "cell_type": "code",
      "source": [
        "print('''|\\\\_/|\n",
        "|q p|   /}\n",
        "( 0 )\"\"\"\\\\\n",
        "|\"^\"`    |\n",
        "||_/=\\\\\\\\__|''')"
      ],
      "metadata": {
        "colab": {
          "base_uri": "https://localhost:8080/"
        },
        "id": "h-qUWgDIhA9c",
        "outputId": "1f3e80e6-1185-4c5d-83a3-9882bf316f58"
      },
      "execution_count": null,
      "outputs": [
        {
          "output_type": "stream",
          "name": "stdout",
          "text": [
            "|\\_/|\n",
            "|q p|   /}\n",
            "( 0 )\"\"\"\\\n",
            "|\"^\"`    |\n",
            "||_/=\\\\__|\n"
          ]
        }
      ]
    },
    {
      "cell_type": "code",
      "source": [
        "A, B = map(int, input().split())\n",
        "if A>0 and B<10:\n",
        "  print(A+B)"
      ],
      "metadata": {
        "colab": {
          "base_uri": "https://localhost:8080/"
        },
        "id": "DzxdzupLhc2E",
        "outputId": "2b3e8850-72c5-4c24-9294-d70a9bf511a0"
      },
      "execution_count": null,
      "outputs": [
        {
          "output_type": "stream",
          "name": "stdout",
          "text": [
            "1 9\n",
            "10\n"
          ]
        }
      ]
    },
    {
      "cell_type": "code",
      "source": [
        "A, B = map(int, input().split())\n",
        "if A>=1 and B<=10000:\n",
        "  print(A+B)\n",
        "  print(A-B)\n",
        "  print(A*B)\n",
        "  print(A//B) #/일 경우 소수, //일 경우 몫이기 때문에 정수\n",
        "  print(A%B)"
      ],
      "metadata": {
        "colab": {
          "base_uri": "https://localhost:8080/"
        },
        "id": "4wsKRf0riEFS",
        "outputId": "af7004be-cad4-4008-9ba2-4512b0d58bfd"
      },
      "execution_count": null,
      "outputs": [
        {
          "output_type": "stream",
          "name": "stdout",
          "text": [
            "10 5\n",
            "15\n",
            "5\n",
            "50\n",
            "2\n",
            "0\n"
          ]
        }
      ]
    },
    {
      "cell_type": "code",
      "source": [
        "A, B, C = map(int, input().split())\n",
        "if 2<=A<=10000 and 2<=B<=10000 and 2<=C<=10000:\n",
        "  print((A+B)%C)\n",
        "  print(((A%C)+(B%C))%C)\n",
        "  print((A*B)%C)\n",
        "  print(((A%C)*(B%C))%C)"
      ],
      "metadata": {
        "colab": {
          "base_uri": "https://localhost:8080/"
        },
        "id": "2SGR7rD6rCMc",
        "outputId": "0ae12457-8464-4534-c7a8-b08a09e61c7d"
      },
      "execution_count": null,
      "outputs": [
        {
          "output_type": "stream",
          "name": "stdout",
          "text": [
            "5 8 4\n",
            "1\n",
            "1\n",
            "0\n",
            "0\n"
          ]
        }
      ]
    },
    {
      "cell_type": "code",
      "source": [
        "A = int(input())\n",
        "B = input()\n",
        "print(A*int(B[2]))\n",
        "print(A*int(B[1]))\n",
        "print(A*int(B[0]))\n",
        "print(A*int(B))"
      ],
      "metadata": {
        "colab": {
          "base_uri": "https://localhost:8080/"
        },
        "id": "AuHLbW_itAPp",
        "outputId": "fbeda22d-b414-433a-9744-546a9f5e6938"
      },
      "execution_count": null,
      "outputs": [
        {
          "output_type": "stream",
          "name": "stdout",
          "text": [
            "472\n",
            "385\n",
            "2360\n",
            "3776\n",
            "1416\n",
            "181720\n"
          ]
        }
      ]
    },
    {
      "cell_type": "code",
      "source": [
        "input_id = input('id:')\n",
        "id = 'egoing'\n",
        "input_password = input('password:')\n",
        "password = '111111'\n",
        "if input_id == id:\n",
        "    if input_password == password:\n",
        "        print('Welcome')\n",
        "    else:\n",
        "        print('Wrong password')\n",
        "else:\n",
        "    print('Wrong id')"
      ],
      "metadata": {
        "id": "VFONEKh8_MPR"
      },
      "execution_count": null,
      "outputs": []
    },
    {
      "cell_type": "code",
      "source": [
        "names = ['egoing', 'basta', 'blackdew', 'leezche']\n",
        "for name in names:\n",
        "    print('Hello, '+name+' . Bye, '+name+'.')"
      ],
      "metadata": {
        "colab": {
          "base_uri": "https://localhost:8080/"
        },
        "id": "i6nFPMWDAsYt",
        "outputId": "bf29f586-eeeb-48ba-9986-05d3ccdc0b52"
      },
      "execution_count": null,
      "outputs": [
        {
          "output_type": "stream",
          "name": "stdout",
          "text": [
            "Hello, egoing . Bye, egoing.\n",
            "Hello, basta . Bye, basta.\n",
            "Hello, blackdew . Bye, blackdew.\n",
            "Hello, leezche . Bye, leezche.\n"
          ]
        }
      ]
    },
    {
      "cell_type": "code",
      "source": [
        "persons = [\n",
        "    ['egoing', 'Seoul', 'Web'],\n",
        "    ['basta', 'Seoul', 'IOT'],\n",
        "    ['blackdew', 'Tongyeong', 'ML'],\n",
        "]\n",
        "print(persons[0][0])\n",
        " \n",
        "for person in persons:\n",
        "    print(person[0]+','+person[1]+','+person[2])\n",
        " \n",
        "person = ['egoing', 'Seoul', 'Web']\n",
        "name = person[0]\n",
        "address = person[1]\n",
        "interest = person[2]\n",
        "print(name, address, interest)\n",
        " \n",
        "name, address, interest = ['egoing', 'Seoul', 'Web']\n",
        "print(name, address, interest)\n",
        " \n",
        "for name, address, interest in persons:\n",
        "    print(name+','+address+','+interest)"
      ],
      "metadata": {
        "colab": {
          "base_uri": "https://localhost:8080/"
        },
        "id": "ZbGeSnJODAPx",
        "outputId": "91592cd8-cb85-4881-e6a2-a1be7e0a2941"
      },
      "execution_count": null,
      "outputs": [
        {
          "output_type": "stream",
          "name": "stdout",
          "text": [
            "egoing\n",
            "egoing,Seoul,Web\n",
            "basta,Seoul,IOT\n",
            "blackdew,Tongyeong,ML\n",
            "egoing Seoul Web\n",
            "egoing Seoul Web\n",
            "egoing,Seoul,Web\n",
            "basta,Seoul,IOT\n",
            "blackdew,Tongyeong,ML\n"
          ]
        }
      ]
    },
    {
      "cell_type": "code",
      "source": [
        "person = {'name':'egoing', 'address':'Seoul', 'interest':'Web'}\n",
        "print(person['name'])\n",
        " \n",
        "for key in person:\n",
        "    print(key, person[key])\n",
        " \n",
        "persons = [\n",
        "    {'name':'egoing', 'address':'Seoul', 'interest':'Web'},\n",
        "    {'name':'basta', 'address':'Seoul', 'interest':'IOT'},\n",
        "    {'name':'blackdew', 'address':'Tongyeong', 'interest':'ML'}\n",
        "]\n",
        " \n",
        "print('==== persons ====')\n",
        "for person in persons:\n",
        "    for key in person:\n",
        "        print(key, ':', person[key])\n",
        "    print('-----------------')"
      ],
      "metadata": {
        "colab": {
          "base_uri": "https://localhost:8080/"
        },
        "id": "0SbGsYLEGcLx",
        "outputId": "dd5e55fd-a4ef-4603-ddc6-69d7d285ba10"
      },
      "execution_count": null,
      "outputs": [
        {
          "output_type": "stream",
          "name": "stdout",
          "text": [
            "egoing\n",
            "name egoing\n",
            "address Seoul\n",
            "interest Web\n",
            "==== persons ====\n",
            "name : egoing\n",
            "address : Seoul\n",
            "interest : Web\n",
            "-----------------\n",
            "name : basta\n",
            "address : Seoul\n",
            "interest : IOT\n",
            "-----------------\n",
            "name : blackdew\n",
            "address : Tongyeong\n",
            "interest : ML\n",
            "-----------------\n"
          ]
        }
      ]
    },
    {
      "cell_type": "code",
      "source": [
        "year = int(input())\n",
        "if year % 4 == 0 and year % 100 != 0 or year % 400 == 0:\n",
        "  print('1')\n",
        "else:\n",
        "  print('0')"
      ],
      "metadata": {
        "colab": {
          "base_uri": "https://localhost:8080/"
        },
        "id": "8rJuMVzdrp1d",
        "outputId": "720e458a-38bd-40b5-b7ed-9c1f83b52cde"
      },
      "execution_count": null,
      "outputs": [
        {
          "output_type": "stream",
          "name": "stdout",
          "text": [
            "2022\n",
            "0\n"
          ]
        }
      ]
    },
    {
      "cell_type": "code",
      "source": [
        "H, M = map(int, input().split())\n",
        "if 24 >= H >= 0 and 60 >= M >= 45:\n",
        "  print(H, M - 45)\n",
        "elif 0 == H and 45 > M:\n",
        "  print(H + 23, M + 15)\n",
        "elif 24 >= H > 0 and 45 > M:\n",
        "  print(H - 1, M + 15)"
      ],
      "metadata": {
        "colab": {
          "base_uri": "https://localhost:8080/"
        },
        "id": "U5OKkDjV6vRv",
        "outputId": "94d5578e-17aa-4f29-b497-4da3a1201a23"
      },
      "execution_count": null,
      "outputs": [
        {
          "output_type": "stream",
          "name": "stdout",
          "text": [
            "1 40\n",
            "0 55\n"
          ]
        }
      ]
    },
    {
      "cell_type": "code",
      "source": [
        "H, M = map(int, input().split())\n",
        "if 24 >= H >= 0 and 60 >= M >= 45:\n",
        "  print(H, M - 45)\n",
        "elif 0 == H and 45 > M:\n",
        "  print(H + 23, M + 15)\n",
        "elif 24 >= H > 0 and 45 > M:\n",
        "  print(H - 1, M + 15)"
      ],
      "metadata": {
        "id": "xRRJBn3CbJvi"
      },
      "execution_count": null,
      "outputs": []
    },
    {
      "cell_type": "code",
      "source": [
        "N = input()\n",
        "for i in range(1, 10):\n",
        "    print(N, \"*\", i, \"=\", int(N) * i)"
      ],
      "metadata": {
        "colab": {
          "base_uri": "https://localhost:8080/"
        },
        "id": "DreRjADGND4D",
        "outputId": "720cf961-51b3-4bcb-d39d-352ec5b9a8c5"
      },
      "execution_count": null,
      "outputs": [
        {
          "output_type": "stream",
          "name": "stdout",
          "text": [
            "5\n",
            "5 * 1 = 5\n",
            "5 * 2 = 10\n",
            "5 * 3 = 15\n",
            "5 * 4 = 20\n",
            "5 * 5 = 25\n",
            "5 * 6 = 30\n",
            "5 * 7 = 35\n",
            "5 * 8 = 40\n",
            "5 * 9 = 45\n"
          ]
        }
      ]
    },
    {
      "cell_type": "code",
      "source": [
        "n = int(input())\n",
        "for i in range(n):\n",
        "  a, b = map(int, input().split())\n",
        "  print(a+b)"
      ],
      "metadata": {
        "colab": {
          "base_uri": "https://localhost:8080/"
        },
        "id": "lfDhDRy1MFMQ",
        "outputId": "304dbc38-f742-4bac-ae12-401a029df758"
      },
      "execution_count": null,
      "outputs": [
        {
          "output_type": "stream",
          "name": "stdout",
          "text": [
            "3\n",
            "1 2\n",
            "3\n",
            "5 5\n",
            "10\n",
            "7 7\n",
            "14\n"
          ]
        }
      ]
    },
    {
      "cell_type": "code",
      "source": [
        "n = int(input())\n",
        "sum = 0\n",
        "for i in range(1, n+1):\n",
        "  sum += i\n",
        "print(sum)"
      ],
      "metadata": {
        "colab": {
          "base_uri": "https://localhost:8080/"
        },
        "id": "qMcY7khIWDjb",
        "outputId": "bceb9670-491b-4a64-a98e-55d6d402597e"
      },
      "execution_count": null,
      "outputs": [
        {
          "output_type": "stream",
          "name": "stdout",
          "text": [
            "5\n",
            "15\n"
          ]
        }
      ]
    },
    {
      "cell_type": "code",
      "source": [
        "import sys\n",
        "T = int(input())\n",
        "for i in range(T):\n",
        "  a,b = map(int, sys.stdin.readline().split())\n",
        "  print(a+b)"
      ],
      "metadata": {
        "id": "WQu_yMs7ZebQ"
      },
      "execution_count": null,
      "outputs": []
    },
    {
      "cell_type": "code",
      "source": [
        "N = int(input())\n",
        "for i in range(1, N+1):\n",
        "  print(N)\n",
        "  N-=1"
      ],
      "metadata": {
        "colab": {
          "base_uri": "https://localhost:8080/"
        },
        "id": "m-ehNYdmKLJh",
        "outputId": "b7f89e49-0f09-4ba8-ecb7-095f1be57af5"
      },
      "execution_count": null,
      "outputs": [
        {
          "output_type": "stream",
          "name": "stdout",
          "text": [
            "5\n",
            "5\n",
            "4\n",
            "3\n",
            "2\n",
            "1\n"
          ]
        }
      ]
    },
    {
      "cell_type": "code",
      "source": [
        "T = int(input())\n",
        "for i in range(T):\n",
        "  A, B = map(int, input().split())\n",
        "  if 0 < A and B < 10:\n",
        "    print(\"Case #\"+str(i+1),':',A,\"+\",B,\"=\",A+B)"
      ],
      "metadata": {
        "colab": {
          "base_uri": "https://localhost:8080/"
        },
        "id": "M9iqPtDLMlIJ",
        "outputId": "738f95ca-219e-4ab3-c85e-8842b48a6d93"
      },
      "execution_count": null,
      "outputs": [
        {
          "output_type": "stream",
          "name": "stdout",
          "text": [
            "3\n",
            "1 1\n",
            "Case #1 : 1 + 1 = 2\n",
            "2 2\n",
            "Case #2 : 2 + 2 = 4\n",
            "3 3\n",
            "Case #3 : 3 + 3 = 6\n"
          ]
        }
      ]
    },
    {
      "cell_type": "code",
      "source": [
        "N, X = map(int, input().split())\n",
        "A = list(map(int, input().split()))\n",
        "for i in A:\n",
        "  if i < X:\n",
        "    print(i, end=' ')"
      ],
      "metadata": {
        "colab": {
          "base_uri": "https://localhost:8080/"
        },
        "id": "YpHwiG4_ekWe",
        "outputId": "acd4d793-fe95-4a17-c99c-d881b2099394"
      },
      "execution_count": null,
      "outputs": [
        {
          "output_type": "stream",
          "name": "stdout",
          "text": [
            "10 7\n",
            "10 9 8 7 6 5 4 3 2 1\n",
            "6 5 4 3 2 1 <class 'int'>\n"
          ]
        }
      ]
    },
    {
      "cell_type": "code",
      "source": [
        "while True:\n",
        "  a, b = map(int, input().split())\n",
        "  if a == 0 and b == 0:\n",
        "    break\n",
        "  print(a+b)"
      ],
      "metadata": {
        "colab": {
          "base_uri": "https://localhost:8080/"
        },
        "id": "ddmF2PuiuOtA",
        "outputId": "0c5e9ed5-1c4d-4a14-fffe-17729be5eda8"
      },
      "execution_count": null,
      "outputs": [
        {
          "name": "stdout",
          "output_type": "stream",
          "text": [
            "1 1\n",
            "2\n",
            "2 2\n",
            "4\n",
            "3 3\n",
            "6\n",
            "0 0\n"
          ]
        }
      ]
    },
    {
      "cell_type": "code",
      "source": [
        "n = int(input())\n",
        "first = n\n",
        "if n < 10:\n",
        "  first = '0'+str(first)\n",
        "i = 0\n",
        "while True:\n",
        "  second = int(str(first)[0]) + int(str(first)[1])\n",
        "  if second < 10:\n",
        "    second = '0'+str(second)\n",
        "  third = str(first)[1] + str(second)[1]\n",
        "  first = third\n",
        "  i+=1\n",
        "  if int(third) == n:\n",
        "    print(i)\n",
        "    break"
      ],
      "metadata": {
        "colab": {
          "base_uri": "https://localhost:8080/"
        },
        "id": "gDOYJupoz9G9",
        "outputId": "a192ef2b-2788-46a2-9904-8a53a770da02"
      },
      "execution_count": null,
      "outputs": [
        {
          "output_type": "stream",
          "name": "stdout",
          "text": [
            "71\n",
            "12\n"
          ]
        }
      ]
    },
    {
      "cell_type": "code",
      "source": [
        "n = int(input())\n",
        "N = n\n",
        "cycle = 0\n",
        "while True:\n",
        "  N = N % 10 * 10 + sum(map(int, str(N))) % 10\n",
        "  cycle+=1\n",
        "  if N == n:\n",
        "    print(cycle)\n",
        "    break"
      ],
      "metadata": {
        "id": "7qkyw7s3yI-S"
      },
      "execution_count": null,
      "outputs": []
    },
    {
      "cell_type": "code",
      "source": [
        "N  = int(input())\n",
        "numbers = list(map(int, input().split()))\n",
        "print(min(numbers), max(numbers))"
      ],
      "metadata": {
        "colab": {
          "base_uri": "https://localhost:8080/"
        },
        "id": "qZp0bG6s-W4S",
        "outputId": "cf91f03b-91cf-4dd8-8ce5-6f0a02a0a0aa"
      },
      "execution_count": null,
      "outputs": [
        {
          "output_type": "stream",
          "name": "stdout",
          "text": [
            "5\n",
            "1 2 3 4 5\n",
            "[1, 2, 3, 4, 5] <class 'list'> 1 5\n"
          ]
        }
      ]
    },
    {
      "cell_type": "code",
      "source": [
        "numbers = []\n",
        "for i in range(9):\n",
        "  numbers.append(int(input()))\n",
        "m = max(numbers)\n",
        "print(m, numbers.index(m)+1)"
      ],
      "metadata": {
        "colab": {
          "base_uri": "https://localhost:8080/"
        },
        "id": "F-9cQQV9EaX3",
        "outputId": "aeb521ed-32b3-47ae-aab7-0597b1c5f4eb"
      },
      "execution_count": null,
      "outputs": [
        {
          "output_type": "stream",
          "name": "stdout",
          "text": [
            "8\n",
            "6\n",
            "4\n",
            "2\n",
            "9\n",
            "3\n",
            "7\n",
            "1\n",
            "5\n",
            "9 5\n"
          ]
        }
      ]
    },
    {
      "cell_type": "code",
      "source": [
        "A = int(input())\n",
        "B = int(input())\n",
        "C = int(input())\n",
        "D = A*B*C\n",
        "for i in range(10):\n",
        "  print(str(D).count(str(i)))\n",
        "  i+=1"
      ],
      "metadata": {
        "colab": {
          "base_uri": "https://localhost:8080/"
        },
        "id": "ojAG80Ddyo-o",
        "outputId": "81f7b1cb-eab7-4678-f70e-8e46ff10d220"
      },
      "execution_count": null,
      "outputs": [
        {
          "output_type": "stream",
          "name": "stdout",
          "text": [
            "150\n",
            "266\n",
            "427\n",
            "3\n",
            "1\n",
            "0\n",
            "2\n",
            "0\n",
            "0\n",
            "0\n",
            "2\n",
            "0\n",
            "0\n"
          ]
        }
      ]
    },
    {
      "cell_type": "code",
      "source": [
        "remains = set()\n",
        "for i in range(10):\n",
        "  n = int(input())\n",
        "  remains.add(n%42)\n",
        "print(len(remains))"
      ],
      "metadata": {
        "colab": {
          "base_uri": "https://localhost:8080/"
        },
        "id": "HF9ZD9wa1tap",
        "outputId": "1d026e3d-63d3-4c0d-c53c-f5fccf089228"
      },
      "execution_count": null,
      "outputs": [
        {
          "output_type": "stream",
          "name": "stdout",
          "text": [
            "1\n",
            "2\n",
            "3\n",
            "4\n",
            "5\n",
            "6\n",
            "7\n",
            "8\n",
            "9\n",
            "10\n",
            "10\n"
          ]
        }
      ]
    },
    {
      "cell_type": "code",
      "source": [
        "remains = []\n",
        "for i in range(10):\n",
        "  n = int(input())\n",
        "  remains.append(n%42)\n",
        "r = set(remains)\n",
        "print(len(r))"
      ],
      "metadata": {
        "colab": {
          "base_uri": "https://localhost:8080/"
        },
        "id": "wcCIkAl-CSL4",
        "outputId": "4f53c3b0-6d9b-4687-9acf-598fd2fc33c8"
      },
      "execution_count": null,
      "outputs": [
        {
          "output_type": "stream",
          "name": "stdout",
          "text": [
            "1\n",
            "2\n",
            "3\n",
            "4\n",
            "5\n",
            "6\n",
            "7\n",
            "8\n",
            "9\n",
            "10\n",
            "10\n"
          ]
        }
      ]
    },
    {
      "cell_type": "code",
      "source": [
        "a = [1, 2, 3, 4]\n",
        "a.insert(0, 0)\n",
        "a.append(5)\n",
        "print(a)"
      ],
      "metadata": {
        "colab": {
          "base_uri": "https://localhost:8080/"
        },
        "id": "K860lCT578Kh",
        "outputId": "284bde1a-2103-4d3b-ce2b-0395c879bd27"
      },
      "execution_count": null,
      "outputs": [
        {
          "output_type": "stream",
          "name": "stdout",
          "text": [
            "[0, 1, 2, 3, 4, 5]\n"
          ]
        }
      ]
    },
    {
      "cell_type": "code",
      "source": [
        "tests = int(input())\n",
        "scores = list(map(int, input().split()))\n",
        "new_scores = []\n",
        "for i in scores:\n",
        "  new_scores.append(i/max(scores)*100)\n",
        "print(sum(new_scores)/tests)"
      ],
      "metadata": {
        "colab": {
          "base_uri": "https://localhost:8080/"
        },
        "id": "q3yhdEnKELH7",
        "outputId": "a3da0740-7fd4-4ee5-8447-52ff1149433f"
      },
      "execution_count": null,
      "outputs": [
        {
          "output_type": "stream",
          "name": "stdout",
          "text": [
            "9\n",
            "10 20 30 40 50 60 70 80 90\n",
            "55.55555555555556\n"
          ]
        }
      ]
    },
    {
      "cell_type": "code",
      "source": [
        "f = 257\n",
        "g = 257 # 1~256은 hash값 공유\n",
        "print(f is g) # is 연산자\n",
        "\n",
        "h = (1, 2, [3, 4], 5)\n",
        "h[2][0] = 100\n",
        "print(h)"
      ],
      "metadata": {
        "id": "Xi8IxIvEQU6_",
        "outputId": "650ff63e-f39c-48bf-b80f-87f81c2608f5",
        "colab": {
          "base_uri": "https://localhost:8080/"
        }
      },
      "execution_count": null,
      "outputs": [
        {
          "output_type": "stream",
          "name": "stdout",
          "text": [
            "False\n",
            "(1, 2, [100, 4], 5)\n"
          ]
        }
      ]
    },
    {
      "cell_type": "code",
      "source": [
        "a = 0\n",
        "for i in range(1000):\n",
        "    if i % 3 == 0 or i % 5 == 0:\n",
        "        a += i\n",
        "print(a)"
      ],
      "metadata": {
        "colab": {
          "base_uri": "https://localhost:8080/"
        },
        "id": "CKLOMdFGA-2-",
        "outputId": "ede66ee3-3f4a-4c3b-f099-bd19246b80d3"
      },
      "execution_count": null,
      "outputs": [
        {
          "output_type": "stream",
          "name": "stdout",
          "text": [
            "233168\n"
          ]
        }
      ]
    },
    {
      "cell_type": "code",
      "source": [
        "a, b = 1, 1\n",
        "result = 0\n",
        "while a + b <= 4000000:\n",
        "    if (a + b) % 2 == 0:\n",
        "        result += a+b\n",
        "    a, b = b, a+b\n",
        "print(result)"
      ],
      "metadata": {
        "colab": {
          "base_uri": "https://localhost:8080/"
        },
        "id": "JbIszlsILGO5",
        "outputId": "b1e6b641-2477-44b4-beed-3c5db9605b41"
      },
      "execution_count": null,
      "outputs": [
        {
          "output_type": "stream",
          "name": "stdout",
          "text": [
            "4613732\n"
          ]
        }
      ]
    },
    {
      "cell_type": "code",
      "source": [
        "a, b = 1, 1\n",
        "total = 0\n",
        "while b <= 4000000:\n",
        "    if b % 2 == 0:\n",
        "        total += b\n",
        "    else:\n",
        "        pass\n",
        "    a, b = b, a + b\n",
        "print(total)"
      ],
      "metadata": {
        "colab": {
          "base_uri": "https://localhost:8080/"
        },
        "id": "pnZlvgZBRJYr",
        "outputId": "7ac31254-4dbb-4633-a75d-52b0202abf0f"
      },
      "execution_count": null,
      "outputs": [
        {
          "output_type": "stream",
          "name": "stdout",
          "text": [
            "4613732\n"
          ]
        }
      ]
    },
    {
      "cell_type": "code",
      "source": [
        "fibonacci = [1, 2]\n",
        "while fibonacci[-1] <= 4000000:\n",
        "  fibonacci.append(fibonacci[-2] + fibonacci[-1])\n",
        "\n",
        "wanted = []\n",
        "fibonacci.pop()\n",
        "for num in fibonacci:\n",
        "  if num % 2 == 0:\n",
        "    wanted.append(num)\n",
        "\n",
        "print(sum(wanted))"
      ],
      "metadata": {
        "colab": {
          "base_uri": "https://localhost:8080/"
        },
        "id": "Zb69spqKfcD9",
        "outputId": "09a2b1f9-23ec-4266-e0fe-33ec8a10a6b1"
      },
      "execution_count": null,
      "outputs": [
        {
          "output_type": "stream",
          "name": "stdout",
          "text": [
            "4613732\n"
          ]
        }
      ]
    },
    {
      "cell_type": "code",
      "source": [
        "year = int(input())\n",
        "print(year - 543)"
      ],
      "metadata": {
        "colab": {
          "base_uri": "https://localhost:8080/"
        },
        "id": "xSm4BqxIjbxg",
        "outputId": "d4e837b9-75a4-4cb8-e901-bef474ed1e06"
      },
      "execution_count": null,
      "outputs": [
        {
          "output_type": "stream",
          "name": "stdout",
          "text": [
            "2541\n",
            "1998\n"
          ]
        }
      ]
    },
    {
      "cell_type": "code",
      "source": [
        "N = int(input())\n",
        "for i in range(N):\n",
        "  Q = input()\n",
        "  A = 0; B = 1; T = 0\n",
        "  for j in Q:\n",
        "    if j == 'O':\n",
        "      T = T + B + A\n",
        "      A += 1\n",
        "    elif j == 'X':\n",
        "      A = 0\n",
        "  print(T)"
      ],
      "metadata": {
        "colab": {
          "base_uri": "https://localhost:8080/"
        },
        "id": "XMIib8xs8Pb0",
        "outputId": "da4e2d51-25a7-4217-9f4f-c639fc58e9be"
      },
      "execution_count": null,
      "outputs": [
        {
          "output_type": "stream",
          "name": "stdout",
          "text": [
            "5\n",
            "OOXXOXXOOO\n",
            "10\n",
            "OOXXOOXXOO\n",
            "9\n",
            "OXOXOXOXOXOXOX\n",
            "7\n",
            "OOOOOOOOOO\n",
            "55\n",
            "OOOOXOOOOXOOOOX\n",
            "30\n"
          ]
        }
      ]
    },
    {
      "cell_type": "code",
      "source": [
        "N = int(input())\n",
        "for i in range(N):\n",
        "  T = list(map(int, input().split()))\n",
        "  A1 = T.pop(0)\n",
        "  A = sum(T) / A1\n",
        "  B = 0\n",
        "  for j in T:\n",
        "    if j > A:\n",
        "      B += 1\n",
        "    C = round(B/A1*100, 3)\n",
        "  print('%.3f'%C + '%')"
      ],
      "metadata": {
        "colab": {
          "base_uri": "https://localhost:8080/"
        },
        "id": "_woenHrS8c48",
        "outputId": "a13b4644-4f00-409e-e1bd-23e2cd9fd8b5"
      },
      "execution_count": null,
      "outputs": [
        {
          "output_type": "stream",
          "name": "stdout",
          "text": [
            "5\n",
            "5 50 50 70 80 100\n",
            "40.000%\n",
            "7 100 95 90 80 70 60 50\n",
            "57.143%\n",
            "3 70 90 80\n",
            "33.333%\n",
            "3 70 90 81\n",
            "66.667%\n",
            "9 100 99 98 97 96 95 94 93 91\n",
            "55.556%\n"
          ]
        }
      ]
    },
    {
      "cell_type": "code",
      "source": [
        "a = sum(map(int, input().split()))\n",
        "print(a)\n",
        "\n"
      ],
      "metadata": {
        "colab": {
          "base_uri": "https://localhost:8080/"
        },
        "id": "msEhhggFkWjH",
        "outputId": "e5713850-9e69-4d49-d9a2-49947be948fd"
      },
      "execution_count": null,
      "outputs": [
        {
          "output_type": "stream",
          "name": "stdout",
          "text": [
            "1 2 3 4 5 6 7 8 9 10\n",
            "55\n"
          ]
        }
      ]
    },
    {
      "cell_type": "code",
      "source": [
        "def solve(*args):\n",
        "  a = 0\n",
        "  try:\n",
        "    for i in args:\n",
        "      a += i\n",
        "    return a\n",
        "  except:\n",
        "    break\n",
        "print(solve(1, 2, 3, 4, 5, 6, 7, 8, 9, 10))"
      ],
      "metadata": {
        "colab": {
          "base_uri": "https://localhost:8080/",
          "height": 137
        },
        "id": "m--1Gu2XlnJ1",
        "outputId": "ba705ba3-a74f-4d54-d0a5-df3dbf8e6ad4"
      },
      "execution_count": null,
      "outputs": [
        {
          "output_type": "error",
          "ename": "SyntaxError",
          "evalue": "ignored",
          "traceback": [
            "\u001b[0;36m  File \u001b[0;32m\"<ipython-input-1-d43199822078>\"\u001b[0;36m, line \u001b[0;32m8\u001b[0m\n\u001b[0;31m    break\u001b[0m\n\u001b[0m    ^\u001b[0m\n\u001b[0;31mSyntaxError\u001b[0m\u001b[0;31m:\u001b[0m 'break' outside loop\n"
          ]
        }
      ]
    },
    {
      "cell_type": "code",
      "source": [
        "list = [1, 2, 3]\n",
        "list.append([4])\n",
        "print(list)"
      ],
      "metadata": {
        "colab": {
          "base_uri": "https://localhost:8080/"
        },
        "id": "0d7FE4XK47oJ",
        "outputId": "3a387f39-4593-4867-c724-197cd80af77a"
      },
      "execution_count": null,
      "outputs": [
        {
          "output_type": "stream",
          "name": "stdout",
          "text": [
            "[1, 2, 3, [4]]\n"
          ]
        }
      ]
    },
    {
      "cell_type": "code",
      "source": [
        "import requests\n",
        "import json\n",
        "\n",
        "korea = \"https://api.corona-19.kr/korea/beta/?serviceKey=\" # 국내 코로나 발생 동향\n",
        "vaccine = \"https://api.corona-19.kr/korea/vaccine/?serviceKey=\" # 예방접종 현황\n",
        "apikey = \"mgSkF7M5w9VzUBWX268YacH4hIAnfdyLC\" # API 키를 다음 란에 입력해 주세요.\n",
        "\n",
        "response = requests.get(korea + apikey)\n",
        "message = response.text\n",
        "data = json.loads(message)\n",
        "\n",
        "response2 = requests.get(vaccine + apikey)\n",
        "message2 = response2.text\n",
        "data2 = json.loads(message2)\n",
        "\n",
        "status = response.status_code\n",
        "status2 = response2.status_code\n",
        "\n",
        "if status == 200: #국내 코로나 발생동향이 정상적으로 불러와졌을경우(http200)\n",
        "    if status2 == 200: #예방접종현황이 정상적으로 불러와졌을경우(http200)\n",
        "        print(\"Corona-19-API Python 국내 코로나 발생 동향\")\n",
        "        print(\"\\n\")\n",
        "        print('[',(data[\"API\"][\"updateTime\"]),']')\n",
        "        print(\"\\n\")\n",
        "        print('국내 확진자 수:', format(data[\"korea\"][\"totalCnt\"], ','), \"명\")\n",
        "        print('전일 신규합계 확진자 수:', format(data[\"korea\"][\"incDec\"], ','), \"명\")\n",
        "        print('국내 완치자 수:', format(data[\"korea\"][\"recCnt\"], ','), \"명\")\n",
        "        print('국내 사망자 수:', format(data[\"korea\"][\"deathCnt\"], ','), \"명\")\n",
        "        print('국내 치료중 수:', format(data[\"korea\"][\"isolCnt\"], ','), \"명\")\n",
        "        print('국내 코로나 발생률:', format(data[\"korea\"][\"qurRate\"], ','), \"%\")\n",
        "        print(\"\\n\")\n",
        "        print(\"Corona-19-API Python 국내 예방접종 현황\")\n",
        "        print(\"\\n\")\n",
        "        print('[', (data2[\"API\"][\"apiName\"]), (data2[\"API\"][\"dataTime\"]), ']')\n",
        "        print(\"\\n\")\n",
        "        print('1차 접종 완료 수:', format(data2[\"korea\"][\"vaccine_1\"][\"vaccine_1\"], ','), \"명\")\n",
        "        print('1차 접종 전일 신규합계: +', format(data2[\"korea\"][\"vaccine_1\"][\"vaccine_1_new\"], ','), \"명\")\n",
        "        print(\"\\n\")\n",
        "        print('2차 접종 완료 수:', format(data2[\"korea\"][\"vaccine_2\"][\"vaccine_2\"], ','))\n",
        "        print('2차 접종 전일 신규합계: +', format(data2[\"korea\"][\"vaccine_2\"][\"vaccine_2_new\"], ','),  \"명\")\n",
        "        print(\"\\n\")\n",
        "        print('3차 접종 완료 수:', format(data2[\"korea\"][\"vaccine_3\"][\"vaccine_3\"], ','))\n",
        "        print('3차 접종 전일 신규합계: +', format(data2[\"korea\"][\"vaccine_3\"][\"vaccine_3_new\"], ','),  \"명\")\n",
        "        print('\\n')\n",
        "else:\n",
        "    print(\"정상적으로 처리되지 않았습니다. API 키를 올바르게 입력했는지 확인해주세요.\")"
      ],
      "metadata": {
        "colab": {
          "base_uri": "https://localhost:8080/"
        },
        "id": "LxUSwC2OaXhW",
        "outputId": "b54de44b-ec69-4066-fdd0-cc79ecefb8aa"
      },
      "execution_count": null,
      "outputs": [
        {
          "output_type": "stream",
          "name": "stdout",
          "text": [
            "Corona-19-API Python 국내 코로나 발생 동향\n",
            "\n",
            "\n",
            "[ 코로나바이러스감염증-19 국내 발생현황 (03.02. 00시 기준) ]\n",
            "\n",
            "\n",
            "국내 확진자 수: 3,492,686 명\n",
            "전일 신규합계 확진자 수: 219,241 명\n",
            "국내 완치자 수: 1,166,972 명\n",
            "국내 사망자 수: 8,266 명\n",
            "국내 치료중 수: 2,317,448 명\n",
            "국내 코로나 발생률: 6,764 %\n",
            "\n",
            "\n",
            "Corona-19-API Python 국내 예방접종 현황\n",
            "\n",
            "\n",
            "[ Corona-19-API-예방접종현황-v1 03.02., 00시 기준 ]\n",
            "\n",
            "\n",
            "1차 접종 완료 수: 44,860,559 명\n",
            "1차 접종 전일 신규합계: + 189 명\n",
            "\n",
            "\n",
            "2차 접종 완료 수: 44,370,169\n",
            "2차 접종 전일 신규합계: + 341 명\n",
            "\n",
            "\n",
            "3차 접종 완료 수: 31,510,985\n",
            "3차 접종 전일 신규합계: + 4,749 명\n",
            "\n",
            "\n"
          ]
        }
      ]
    },
    {
      "cell_type": "code",
      "source": [
        "a = 0, 0, 0, 0, 0, 0, 0, 0\n",
        "print(len(a))"
      ],
      "metadata": {
        "id": "e6gqhkplUApx"
      },
      "execution_count": null,
      "outputs": []
    },
    {
      "cell_type": "code",
      "source": [
        "print(\"Hello\")\n",
        "\n",
        "print(\"Hello World\")\n",
        "\n",
        "print(\"Hello\") \n",
        "print(\"World\")\n",
        "\n",
        "print(\"'Hello'\")\n",
        "\n",
        "print('\"Hello World\"')\n",
        "\n",
        "print(\"\\\"!@#$%^&*()\\'\")"
      ],
      "metadata": {
        "colab": {
          "base_uri": "https://localhost:8080/"
        },
        "id": "1_ZKDV5tfFjx",
        "outputId": "c6991caa-4bf4-4f2d-e7d6-66fba3f950eb"
      },
      "execution_count": null,
      "outputs": [
        {
          "output_type": "stream",
          "name": "stdout",
          "text": [
            "Hello\n",
            "Hello World\n",
            "Hello\n",
            "World\n",
            "'Hello'\n",
            "\"Hello World\"\n",
            "\"!@#$%^&*()'\n"
          ]
        }
      ]
    }
  ]
}