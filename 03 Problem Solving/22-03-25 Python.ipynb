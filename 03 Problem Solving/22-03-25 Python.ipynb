{
  "nbformat": 4,
  "nbformat_minor": 0,
  "metadata": {
    "colab": {
      "name": "22-03-25 Python.ipynb",
      "provenance": [],
      "authorship_tag": "ABX9TyPntLmHjzyaN70nr7UMsxDK",
      "include_colab_link": true
    },
    "kernelspec": {
      "name": "python3",
      "display_name": "Python 3"
    },
    "language_info": {
      "name": "python"
    }
  },
  "cells": [
    {
      "cell_type": "markdown",
      "metadata": {
        "id": "view-in-github",
        "colab_type": "text"
      },
      "source": [
        "<a href=\"https://colab.research.google.com/github/ljy9969/Study/blob/master/22-03-25%20Python.ipynb\" target=\"_parent\"><img src=\"https://colab.research.google.com/assets/colab-badge.svg\" alt=\"Open In Colab\"/></a>"
      ]
    },
    {
      "cell_type": "markdown",
      "source": [
        "참/거짓이 서로 같을 때에만 참 출력하기"
      ],
      "metadata": {
        "id": "hqM6HcCIiYd2"
      }
    },
    {
      "cell_type": "code",
      "source": [
        "a, b = map(int, input().split())\n",
        "c, d = map(bool, [a, b])\n",
        "print((c and d) or ((not c) and (not d)))\n",
        "\n",
        "# a, b = input().split()\n",
        "# c = bool(int(a))\n",
        "# d = bool(int(b))\n",
        "# print((c and d) or ((not c) and (not d)))"
      ],
      "metadata": {
        "colab": {
          "base_uri": "https://localhost:8080/"
        },
        "id": "tTQHSeYbiYn1",
        "outputId": "5df6424a-68ba-4aac-8962-a9cb93747111"
      },
      "execution_count": 4,
      "outputs": [
        {
          "output_type": "stream",
          "name": "stdout",
          "text": [
            "1 1\n",
            "True\n"
          ]
        }
      ]
    },
    {
      "cell_type": "markdown",
      "source": [
        "둘 다 거짓일 경우만 참 출력하기"
      ],
      "metadata": {
        "id": "oI4dMAsgiYvH"
      }
    },
    {
      "cell_type": "code",
      "source": [
        "a, b = map(int, input().split())\n",
        "c, d = map(bool, [a, b])\n",
        "print(not(c or d))"
      ],
      "metadata": {
        "colab": {
          "base_uri": "https://localhost:8080/"
        },
        "id": "DN7mIxvsiY3l",
        "outputId": "81988b1a-ae42-4df5-c345-023f5e011067"
      },
      "execution_count": 10,
      "outputs": [
        {
          "output_type": "stream",
          "name": "stdout",
          "text": [
            "0 0\n",
            "True\n"
          ]
        }
      ]
    }
  ]
}
