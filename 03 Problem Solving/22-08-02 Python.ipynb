{
 "cells": [
  {
   "cell_type": "markdown",
   "metadata": {},
   "source": [
    "백준 브론즈 2 10870번 피보나치 수 5"
   ]
  },
  {
   "cell_type": "code",
   "execution_count": 36,
   "metadata": {},
   "outputs": [
    {
     "name": "stdout",
     "output_type": "stream",
     "text": [
      "1597\n"
     ]
    }
   ],
   "source": [
    "# 백준 10870번 피보나치 수 5\n",
    "'''Fn = Fn-1 + Fn-2'''\n",
    "'''0, 1, 1, 2, 3, 5, 8, 13, 21, 34, 55, 89, 144, 233, 377, 610, 987, 1597 <- n = 17'''\n",
    "\n",
    "# import sys\n",
    "\n",
    "a = [0, 1]\n",
    "# n = int(sys.stdin.readline())\n",
    "n = int(input())\n",
    "\n",
    "for i in range(1, 21):\n",
    "    a.append(a[-2] + a[-1])\n",
    "\n",
    "print(a[n])"
   ]
  },
  {
   "cell_type": "markdown",
   "metadata": {},
   "source": [
    "백준 브론즈 2 10250번 ACM 호텔"
   ]
  },
  {
   "cell_type": "code",
   "execution_count": 12,
   "metadata": {},
   "outputs": [
    {
     "name": "stdout",
     "output_type": "stream",
     "text": [
      "['101', '102', '103', '104', '105', '106', '107', '108', '109', '110', '111', '112', '201', '202', '203', '204', '205', '206', '207', '208', '209', '210', '211', '212', '301', '302', '303', '304', '305', '306', '307', '308', '309', '310', '311', '312', '401', '402', '403', '404', '405', '406', '407', '408', '409', '410', '411', '412', '501', '502', '503', '504', '505', '506', '507', '508', '509', '510', '511', '512', '601', '602', '603', '604', '605', '606', '607', '608', '609', '610', '611', '612', '701', '702', '703', '704', '705', '706', '707', '708', '709', '710', '711', '712', '801', '802', '803', '804', '805', '806', '807', '808', '809', '810', '811', '812', '901', '902', '903', '904', '905', '906', '907', '908', '909', '910', '911', '912', '1001', '1002', '1003', '1004', '1005', '1006', '1007', '1008', '1009', '1010', '1011', '1012']\n",
      "111\n"
     ]
    }
   ],
   "source": [
    "# 내 시도 1 <- 오답\n",
    "# import sys\n",
    "# T = sys.stdin.readline()\n",
    "T = int(input()) # 2\n",
    "rooms = []\n",
    "\n",
    "for i in range(T):\n",
    "    H, W, N = map(int, input().split()) # 6 12 10 / 30 50 72\n",
    "    for j in range(1, H + 1):\n",
    "        for k in range(1, W + 1):\n",
    "            if len(str(j)) < 2 and len(str(k)) < 2:\n",
    "                rooms.append(str(j) + '0' + str(k))\n",
    "            elif j >= 10 and k < 10:\n",
    "                rooms.append(str(j) + '0' + str(k))\n",
    "            else:\n",
    "                rooms.append(str(j) + str(k))\n",
    "            \n",
    "print(rooms)\n",
    "print(rooms[N])"
   ]
  },
  {
   "cell_type": "code",
   "execution_count": 37,
   "metadata": {},
   "outputs": [
    {
     "name": "stdout",
     "output_type": "stream",
     "text": [
      "402\n",
      "1203\n"
     ]
    }
   ],
   "source": [
    "# 내 시도 2\n",
    "T = int(input()) # 2\n",
    "rooms = []\n",
    "\n",
    "for i in range(T):\n",
    "    H, W, N = map(int, input().split()) # 6 12 10 / 30 50 72\n",
    "    for j in range(1, W + 1): # 방 개수\n",
    "        for k in range(1, H + 1): # 층수\n",
    "            if k < 10 and j < 10:\n",
    "                rooms.append(str(k) + '0' + str(j))\n",
    "            elif k >= 10 and j < 10:\n",
    "                rooms.append(str(k) + '0' + str(j))\n",
    "            else:\n",
    "                rooms.append(str(k) + str(j))\n",
    "    # print(rooms)\n",
    "    print(rooms[N-1])\n",
    "    rooms.clear()"
   ]
  },
  {
   "cell_type": "code",
   "execution_count": 38,
   "metadata": {},
   "outputs": [
    {
     "name": "stdout",
     "output_type": "stream",
     "text": [
      "402\n",
      "1203\n"
     ]
    }
   ],
   "source": [
    "T = int(input())\n",
    "\n",
    "for i in range(T):\n",
    "    h, w, n = map(int, input().split( )) # h=각 호텔의 층 수, w=각 층의 방 수, n=몇 \n",
    "\n",
    "    floor = n % h # 나머지\n",
    "    room_line = (n // h) + 1 # 몫\n",
    "    if floor == 0:\n",
    "        floor = h\n",
    "        room_line -= 1\n",
    "    \n",
    "    print(floor * 100 + room_line)"
   ]
  },
  {
   "cell_type": "code",
   "execution_count": 43,
   "metadata": {},
   "outputs": [
    {
     "name": "stdout",
     "output_type": "stream",
     "text": [
      "402\n",
      "1203\n"
     ]
    }
   ],
   "source": [
    "t = int(input())\n",
    "\n",
    "for _ in range(t):\n",
    "    h, w, n = map(int, input().split())\n",
    "    q, r = divmod(n, h)\n",
    "    q += 1\n",
    "    if r == 0:\n",
    "        r == h\n",
    "        q -= 1\n",
    "    print(r * 100 + q)"
   ]
  },
  {
   "cell_type": "code",
   "execution_count": 40,
   "metadata": {},
   "outputs": [
    {
     "name": "stdout",
     "output_type": "stream",
     "text": [
      "402\n",
      "1203\n"
     ]
    }
   ],
   "source": [
    "t = int(input())\n",
    "\n",
    "for _ in range(t):\n",
    "    h, w, n = map(int, input().split())\n",
    "    q, r = divmod(n-1, h) # q: 몫, r: 나머지\n",
    "    print((r + 1) * 100 + q + 1)"
   ]
  }
 ],
 "metadata": {
  "kernelspec": {
   "display_name": "Python 3.10.0 ('Pandas 연습문제')",
   "language": "python",
   "name": "python3"
  },
  "language_info": {
   "codemirror_mode": {
    "name": "ipython",
    "version": 3
   },
   "file_extension": ".py",
   "mimetype": "text/x-python",
   "name": "python",
   "nbconvert_exporter": "python",
   "pygments_lexer": "ipython3",
   "version": "3.10.0"
  },
  "orig_nbformat": 4,
  "vscode": {
   "interpreter": {
    "hash": "0e01f3ddf67c8b56990d76ee18c58210e6cf9551b43bc6dea8d45496820ef488"
   }
  }
 },
 "nbformat": 4,
 "nbformat_minor": 2
}
