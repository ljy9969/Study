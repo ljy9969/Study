{
  "nbformat": 4,
  "nbformat_minor": 0,
  "metadata": {
    "colab": {
      "name": "colab(0422)cat_dog_small_fine_tuning(EfficientNet).ipynb",
      "provenance": [],
      "collapsed_sections": [],
      "mount_file_id": "1BngE-S0YJmS7_vhzvzn3OUeT71CSX6qH",
      "authorship_tag": "ABX9TyM+A1NAB2AKpvHk8vxrfzBw",
      "include_colab_link": true
    },
    "kernelspec": {
      "name": "python3",
      "display_name": "Python 3"
    },
    "language_info": {
      "name": "python"
    },
    "accelerator": "GPU"
  },
  "cells": [
    {
      "cell_type": "markdown",
      "metadata": {
        "id": "view-in-github",
        "colab_type": "text"
      },
      "source": [
        "<a href=\"https://colab.research.google.com/github/ljy9969/Study/blob/master/colab(0422)cat_dog_small_fine_tuning(EfficientNet).ipynb\" target=\"_parent\"><img src=\"https://colab.research.google.com/assets/colab-badge.svg\" alt=\"Open In Colab\"/></a>"
      ]
    },
    {
      "cell_type": "code",
      "execution_count": 6,
      "metadata": {
        "colab": {
          "base_uri": "https://localhost:8080/"
        },
        "id": "7SNuIkM9zWy2",
        "outputId": "a2c04651-5d46-41f5-e200-78f557b4794e"
      },
      "outputs": [
        {
          "output_type": "stream",
          "name": "stdout",
          "text": [
            "Collecting efficientnet\n",
            "  Downloading efficientnet-1.1.1-py3-none-any.whl (18 kB)\n",
            "Requirement already satisfied: scikit-image in /usr/local/lib/python3.7/dist-packages (from efficientnet) (0.18.3)\n",
            "Collecting keras-applications<=1.0.8,>=1.0.7\n",
            "  Downloading Keras_Applications-1.0.8-py3-none-any.whl (50 kB)\n",
            "\u001b[?25l\r\u001b[K     |██████▌                         | 10 kB 36.9 MB/s eta 0:00:01\r\u001b[K     |█████████████                   | 20 kB 26.6 MB/s eta 0:00:01\r\u001b[K     |███████████████████▍            | 30 kB 17.4 MB/s eta 0:00:01\r\u001b[K     |█████████████████████████▉      | 40 kB 6.0 MB/s eta 0:00:01\r\u001b[K     |████████████████████████████████| 50 kB 4.2 MB/s \n",
            "\u001b[?25hRequirement already satisfied: h5py in /usr/local/lib/python3.7/dist-packages (from keras-applications<=1.0.8,>=1.0.7->efficientnet) (3.1.0)\n",
            "Requirement already satisfied: numpy>=1.9.1 in /usr/local/lib/python3.7/dist-packages (from keras-applications<=1.0.8,>=1.0.7->efficientnet) (1.21.6)\n",
            "Requirement already satisfied: cached-property in /usr/local/lib/python3.7/dist-packages (from h5py->keras-applications<=1.0.8,>=1.0.7->efficientnet) (1.5.2)\n",
            "Requirement already satisfied: pillow!=7.1.0,!=7.1.1,>=4.3.0 in /usr/local/lib/python3.7/dist-packages (from scikit-image->efficientnet) (7.1.2)\n",
            "Requirement already satisfied: tifffile>=2019.7.26 in /usr/local/lib/python3.7/dist-packages (from scikit-image->efficientnet) (2021.11.2)\n",
            "Requirement already satisfied: imageio>=2.3.0 in /usr/local/lib/python3.7/dist-packages (from scikit-image->efficientnet) (2.4.1)\n",
            "Requirement already satisfied: PyWavelets>=1.1.1 in /usr/local/lib/python3.7/dist-packages (from scikit-image->efficientnet) (1.3.0)\n",
            "Requirement already satisfied: matplotlib!=3.0.0,>=2.0.0 in /usr/local/lib/python3.7/dist-packages (from scikit-image->efficientnet) (3.2.2)\n",
            "Requirement already satisfied: scipy>=1.0.1 in /usr/local/lib/python3.7/dist-packages (from scikit-image->efficientnet) (1.4.1)\n",
            "Requirement already satisfied: networkx>=2.0 in /usr/local/lib/python3.7/dist-packages (from scikit-image->efficientnet) (2.6.3)\n",
            "Requirement already satisfied: cycler>=0.10 in /usr/local/lib/python3.7/dist-packages (from matplotlib!=3.0.0,>=2.0.0->scikit-image->efficientnet) (0.11.0)\n",
            "Requirement already satisfied: python-dateutil>=2.1 in /usr/local/lib/python3.7/dist-packages (from matplotlib!=3.0.0,>=2.0.0->scikit-image->efficientnet) (2.8.2)\n",
            "Requirement already satisfied: pyparsing!=2.0.4,!=2.1.2,!=2.1.6,>=2.0.1 in /usr/local/lib/python3.7/dist-packages (from matplotlib!=3.0.0,>=2.0.0->scikit-image->efficientnet) (3.0.8)\n",
            "Requirement already satisfied: kiwisolver>=1.0.1 in /usr/local/lib/python3.7/dist-packages (from matplotlib!=3.0.0,>=2.0.0->scikit-image->efficientnet) (1.4.2)\n",
            "Requirement already satisfied: typing-extensions in /usr/local/lib/python3.7/dist-packages (from kiwisolver>=1.0.1->matplotlib!=3.0.0,>=2.0.0->scikit-image->efficientnet) (4.1.1)\n",
            "Requirement already satisfied: six>=1.5 in /usr/local/lib/python3.7/dist-packages (from python-dateutil>=2.1->matplotlib!=3.0.0,>=2.0.0->scikit-image->efficientnet) (1.15.0)\n",
            "Installing collected packages: keras-applications, efficientnet\n",
            "Successfully installed efficientnet-1.1.1 keras-applications-1.0.8\n"
          ]
        }
      ],
      "source": [
        "!pip install efficientnet"
      ]
    },
    {
      "cell_type": "code",
      "source": [
        "!pip install tensorflow-addons"
      ],
      "metadata": {
        "colab": {
          "base_uri": "https://localhost:8080/"
        },
        "id": "ux_iueh0z7Yh",
        "outputId": "19421eb3-844f-43e4-9ec6-774cd67db16d"
      },
      "execution_count": 5,
      "outputs": [
        {
          "output_type": "stream",
          "name": "stdout",
          "text": [
            "Collecting tensorflow-addons\n",
            "  Downloading tensorflow_addons-0.16.1-cp37-cp37m-manylinux_2_12_x86_64.manylinux2010_x86_64.whl (1.1 MB)\n",
            "\u001b[?25l\r\u001b[K     |▎                               | 10 kB 37.9 MB/s eta 0:00:01\r\u001b[K     |▋                               | 20 kB 21.0 MB/s eta 0:00:01\r\u001b[K     |▉                               | 30 kB 16.4 MB/s eta 0:00:01\r\u001b[K     |█▏                              | 40 kB 15.0 MB/s eta 0:00:01\r\u001b[K     |█▌                              | 51 kB 7.0 MB/s eta 0:00:01\r\u001b[K     |█▊                              | 61 kB 8.3 MB/s eta 0:00:01\r\u001b[K     |██                              | 71 kB 8.8 MB/s eta 0:00:01\r\u001b[K     |██▍                             | 81 kB 8.8 MB/s eta 0:00:01\r\u001b[K     |██▋                             | 92 kB 9.7 MB/s eta 0:00:01\r\u001b[K     |███                             | 102 kB 7.9 MB/s eta 0:00:01\r\u001b[K     |███▏                            | 112 kB 7.9 MB/s eta 0:00:01\r\u001b[K     |███▌                            | 122 kB 7.9 MB/s eta 0:00:01\r\u001b[K     |███▉                            | 133 kB 7.9 MB/s eta 0:00:01\r\u001b[K     |████                            | 143 kB 7.9 MB/s eta 0:00:01\r\u001b[K     |████▍                           | 153 kB 7.9 MB/s eta 0:00:01\r\u001b[K     |████▊                           | 163 kB 7.9 MB/s eta 0:00:01\r\u001b[K     |█████                           | 174 kB 7.9 MB/s eta 0:00:01\r\u001b[K     |█████▎                          | 184 kB 7.9 MB/s eta 0:00:01\r\u001b[K     |█████▌                          | 194 kB 7.9 MB/s eta 0:00:01\r\u001b[K     |█████▉                          | 204 kB 7.9 MB/s eta 0:00:01\r\u001b[K     |██████▏                         | 215 kB 7.9 MB/s eta 0:00:01\r\u001b[K     |██████▍                         | 225 kB 7.9 MB/s eta 0:00:01\r\u001b[K     |██████▊                         | 235 kB 7.9 MB/s eta 0:00:01\r\u001b[K     |███████                         | 245 kB 7.9 MB/s eta 0:00:01\r\u001b[K     |███████▎                        | 256 kB 7.9 MB/s eta 0:00:01\r\u001b[K     |███████▋                        | 266 kB 7.9 MB/s eta 0:00:01\r\u001b[K     |███████▉                        | 276 kB 7.9 MB/s eta 0:00:01\r\u001b[K     |████████▏                       | 286 kB 7.9 MB/s eta 0:00:01\r\u001b[K     |████████▌                       | 296 kB 7.9 MB/s eta 0:00:01\r\u001b[K     |████████▊                       | 307 kB 7.9 MB/s eta 0:00:01\r\u001b[K     |█████████                       | 317 kB 7.9 MB/s eta 0:00:01\r\u001b[K     |█████████▍                      | 327 kB 7.9 MB/s eta 0:00:01\r\u001b[K     |█████████▋                      | 337 kB 7.9 MB/s eta 0:00:01\r\u001b[K     |██████████                      | 348 kB 7.9 MB/s eta 0:00:01\r\u001b[K     |██████████▏                     | 358 kB 7.9 MB/s eta 0:00:01\r\u001b[K     |██████████▌                     | 368 kB 7.9 MB/s eta 0:00:01\r\u001b[K     |██████████▉                     | 378 kB 7.9 MB/s eta 0:00:01\r\u001b[K     |███████████                     | 389 kB 7.9 MB/s eta 0:00:01\r\u001b[K     |███████████▍                    | 399 kB 7.9 MB/s eta 0:00:01\r\u001b[K     |███████████▊                    | 409 kB 7.9 MB/s eta 0:00:01\r\u001b[K     |████████████                    | 419 kB 7.9 MB/s eta 0:00:01\r\u001b[K     |████████████▎                   | 430 kB 7.9 MB/s eta 0:00:01\r\u001b[K     |████████████▌                   | 440 kB 7.9 MB/s eta 0:00:01\r\u001b[K     |████████████▉                   | 450 kB 7.9 MB/s eta 0:00:01\r\u001b[K     |█████████████▏                  | 460 kB 7.9 MB/s eta 0:00:01\r\u001b[K     |█████████████▍                  | 471 kB 7.9 MB/s eta 0:00:01\r\u001b[K     |█████████████▊                  | 481 kB 7.9 MB/s eta 0:00:01\r\u001b[K     |██████████████                  | 491 kB 7.9 MB/s eta 0:00:01\r\u001b[K     |██████████████▎                 | 501 kB 7.9 MB/s eta 0:00:01\r\u001b[K     |██████████████▋                 | 512 kB 7.9 MB/s eta 0:00:01\r\u001b[K     |██████████████▉                 | 522 kB 7.9 MB/s eta 0:00:01\r\u001b[K     |███████████████▏                | 532 kB 7.9 MB/s eta 0:00:01\r\u001b[K     |███████████████▌                | 542 kB 7.9 MB/s eta 0:00:01\r\u001b[K     |███████████████▊                | 552 kB 7.9 MB/s eta 0:00:01\r\u001b[K     |████████████████                | 563 kB 7.9 MB/s eta 0:00:01\r\u001b[K     |████████████████▍               | 573 kB 7.9 MB/s eta 0:00:01\r\u001b[K     |████████████████▋               | 583 kB 7.9 MB/s eta 0:00:01\r\u001b[K     |█████████████████               | 593 kB 7.9 MB/s eta 0:00:01\r\u001b[K     |█████████████████▏              | 604 kB 7.9 MB/s eta 0:00:01\r\u001b[K     |█████████████████▌              | 614 kB 7.9 MB/s eta 0:00:01\r\u001b[K     |█████████████████▉              | 624 kB 7.9 MB/s eta 0:00:01\r\u001b[K     |██████████████████              | 634 kB 7.9 MB/s eta 0:00:01\r\u001b[K     |██████████████████▍             | 645 kB 7.9 MB/s eta 0:00:01\r\u001b[K     |██████████████████▊             | 655 kB 7.9 MB/s eta 0:00:01\r\u001b[K     |███████████████████             | 665 kB 7.9 MB/s eta 0:00:01\r\u001b[K     |███████████████████▎            | 675 kB 7.9 MB/s eta 0:00:01\r\u001b[K     |███████████████████▌            | 686 kB 7.9 MB/s eta 0:00:01\r\u001b[K     |███████████████████▉            | 696 kB 7.9 MB/s eta 0:00:01\r\u001b[K     |████████████████████▏           | 706 kB 7.9 MB/s eta 0:00:01\r\u001b[K     |████████████████████▍           | 716 kB 7.9 MB/s eta 0:00:01\r\u001b[K     |████████████████████▊           | 727 kB 7.9 MB/s eta 0:00:01\r\u001b[K     |█████████████████████           | 737 kB 7.9 MB/s eta 0:00:01\r\u001b[K     |█████████████████████▎          | 747 kB 7.9 MB/s eta 0:00:01\r\u001b[K     |█████████████████████▋          | 757 kB 7.9 MB/s eta 0:00:01\r\u001b[K     |█████████████████████▉          | 768 kB 7.9 MB/s eta 0:00:01\r\u001b[K     |██████████████████████▏         | 778 kB 7.9 MB/s eta 0:00:01\r\u001b[K     |██████████████████████▌         | 788 kB 7.9 MB/s eta 0:00:01\r\u001b[K     |██████████████████████▊         | 798 kB 7.9 MB/s eta 0:00:01\r\u001b[K     |███████████████████████         | 808 kB 7.9 MB/s eta 0:00:01\r\u001b[K     |███████████████████████▍        | 819 kB 7.9 MB/s eta 0:00:01\r\u001b[K     |███████████████████████▋        | 829 kB 7.9 MB/s eta 0:00:01\r\u001b[K     |████████████████████████        | 839 kB 7.9 MB/s eta 0:00:01\r\u001b[K     |████████████████████████▏       | 849 kB 7.9 MB/s eta 0:00:01\r\u001b[K     |████████████████████████▌       | 860 kB 7.9 MB/s eta 0:00:01\r\u001b[K     |████████████████████████▉       | 870 kB 7.9 MB/s eta 0:00:01\r\u001b[K     |█████████████████████████       | 880 kB 7.9 MB/s eta 0:00:01\r\u001b[K     |█████████████████████████▍      | 890 kB 7.9 MB/s eta 0:00:01\r\u001b[K     |█████████████████████████▊      | 901 kB 7.9 MB/s eta 0:00:01\r\u001b[K     |██████████████████████████      | 911 kB 7.9 MB/s eta 0:00:01\r\u001b[K     |██████████████████████████▎     | 921 kB 7.9 MB/s eta 0:00:01\r\u001b[K     |██████████████████████████▌     | 931 kB 7.9 MB/s eta 0:00:01\r\u001b[K     |██████████████████████████▉     | 942 kB 7.9 MB/s eta 0:00:01\r\u001b[K     |███████████████████████████▏    | 952 kB 7.9 MB/s eta 0:00:01\r\u001b[K     |███████████████████████████▍    | 962 kB 7.9 MB/s eta 0:00:01\r\u001b[K     |███████████████████████████▊    | 972 kB 7.9 MB/s eta 0:00:01\r\u001b[K     |████████████████████████████    | 983 kB 7.9 MB/s eta 0:00:01\r\u001b[K     |████████████████████████████▎   | 993 kB 7.9 MB/s eta 0:00:01\r\u001b[K     |████████████████████████████▋   | 1.0 MB 7.9 MB/s eta 0:00:01\r\u001b[K     |████████████████████████████▉   | 1.0 MB 7.9 MB/s eta 0:00:01\r\u001b[K     |█████████████████████████████▏  | 1.0 MB 7.9 MB/s eta 0:00:01\r\u001b[K     |█████████████████████████████▌  | 1.0 MB 7.9 MB/s eta 0:00:01\r\u001b[K     |█████████████████████████████▊  | 1.0 MB 7.9 MB/s eta 0:00:01\r\u001b[K     |██████████████████████████████  | 1.1 MB 7.9 MB/s eta 0:00:01\r\u001b[K     |██████████████████████████████▍ | 1.1 MB 7.9 MB/s eta 0:00:01\r\u001b[K     |██████████████████████████████▋ | 1.1 MB 7.9 MB/s eta 0:00:01\r\u001b[K     |███████████████████████████████ | 1.1 MB 7.9 MB/s eta 0:00:01\r\u001b[K     |███████████████████████████████▏| 1.1 MB 7.9 MB/s eta 0:00:01\r\u001b[K     |███████████████████████████████▌| 1.1 MB 7.9 MB/s eta 0:00:01\r\u001b[K     |███████████████████████████████▉| 1.1 MB 7.9 MB/s eta 0:00:01\r\u001b[K     |████████████████████████████████| 1.1 MB 7.9 MB/s \n",
            "\u001b[?25hRequirement already satisfied: typeguard>=2.7 in /usr/local/lib/python3.7/dist-packages (from tensorflow-addons) (2.7.1)\n",
            "Installing collected packages: tensorflow-addons\n",
            "Successfully installed tensorflow-addons-0.16.1\n"
          ]
        }
      ]
    },
    {
      "cell_type": "code",
      "source": [
        "import os\n",
        "import numpy as np\n",
        "from tensorflow.keras.preprocessing.image import ImageDataGenerator\n",
        "import efficientnet\n",
        "import efficientnet.tfkeras as efn # Pretrained Network\n",
        "from tensorflow.keras.models import Sequential, Model # Model : Functional API(입/출력만 입력해주면 됨)\n",
        "from tensorflow.keras.layers import Flatten, Dense, Dropout, Input\n",
        "from tensorflow.keras.layers import GlobalAveragePooling2D # AveragePooling\n",
        "import tensorflow_addons as tfa\n",
        "from tensorflow.keras.callbacks import ModelCheckpoint, EarlyStopping\n",
        "from tensorflow.keras.optimizers import Adam, RMSprop\n",
        "import matplotlib.pyplot as plt\n",
        "import cv2 as cv # opencv(Image Resize)"
      ],
      "metadata": {
        "id": "19zsqs-q0GDv"
      },
      "execution_count": 8,
      "outputs": []
    },
    {
      "cell_type": "code",
      "source": [
        "train_dir = '/content/drive/MyDrive/Colab 멀캠 이지연/cat_dog_small/train'\n",
        "valid_dir = '/content/drive/MyDrive/Colab 멀캠 이지연/cat_dog_small/validation'\n",
        "\n",
        "IMAGE_SIZE = 256\n",
        "BATCH_SIZE = 8\n",
        "LEARNING_RATE = 5e-5\n",
        "\n",
        "# ImageDataGenerator를 위한 전처리 함수(Resize)\n",
        "def generate_preprocessing(img):\n",
        "  img = cv.resize(img, (IMAGE_SIZE, IMAGE_SIZE)) # 256 * 256\n",
        "  return img\n",
        "\n",
        "# ImageDataGenerator\n",
        "train_datagen = ImageDataGenerator(rescale=1/255,\n",
        "                                   rotation_range=40,\n",
        "                                   width_shift_range=0.1,\n",
        "                                   height_shift_range=0.1,\n",
        "                                   zoom_range=0.2,\n",
        "                                   horizontal_flip=True,\n",
        "                                   vertical_flip=True,\n",
        "                                   preprocessing_function=generate_preprocessing,\n",
        "                                   fill_mode='nearest')\n",
        "\n",
        "valid_datagen = ImageDataGenerator(rescale=1/255,\n",
        "                                   preprocessing_function=generate_preprocessing)\n",
        "\n",
        "train_generator = train_datagen.flow_from_directory(train_dir,\n",
        "                                                    classes=['cats', 'dogs'],\n",
        "                                                    batch_size=BATCH_SIZE,\n",
        "                                                    class_mode='binary') # target size를 잡아줄 필요가 없음. 전처리 함수에 정의되어 있기 때문\n",
        "\n",
        "valid_generator = valid_datagen.flow_from_directory(valid_dir,\n",
        "                                                    classes=['cats', 'dogs'],\n",
        "                                                    batch_size=BATCH_SIZE,\n",
        "                                                    class_mode='binary',\n",
        "                                                    shuffle=False) # 섞어서 가져오지 마라. default는 True"
      ],
      "metadata": {
        "id": "BbD1e21-m9RI",
        "colab": {
          "base_uri": "https://localhost:8080/"
        },
        "outputId": "fc0cc0f1-750b-4a4d-b556-5942c15ef309"
      },
      "execution_count": 9,
      "outputs": [
        {
          "output_type": "stream",
          "name": "stdout",
          "text": [
            "Found 2000 images belonging to 2 classes.\n",
            "Found 1000 images belonging to 2 classes.\n"
          ]
        }
      ]
    },
    {
      "cell_type": "code",
      "source": [
        "# Pretrained Network\n",
        "\n",
        "pretrained_network = efn.EfficientNetB4(\n",
        "    weights='imagenet',\n",
        "    include_top=False,\n",
        "    input_shape=(IMAGE_SIZE, IMAGE_SIZE, 3)\n",
        ")\n",
        "\n",
        "pretrained_network.trainable = False # 동결\n",
        "\n",
        "# print(pretrained_network.summary())\n",
        "# for idx, layer in enumerate(pretrained_network.layers): # BN layer 찾아서 대체할 수 있음\n",
        "#   print('{}번 : {}'.format(idx, layer.name)) # stem_bn (BatchNormalization) 확인\n",
        "\n",
        "model = Sequential()\n",
        "\n",
        "model.add(pretrained_network)\n",
        "\n",
        "model.add(GlobalAveragePooling2D())\n",
        "model.add(Dense(units=1,\n",
        "                activation='sigmoid'))\n",
        "\n",
        "# Early Stopping\n",
        "es = EarlyStopping(monitor='val_loss',\n",
        "                   mode='auto',\n",
        "                   patience=5,\n",
        "                   verbose=1)\n",
        "\n",
        "# Checkpoint\n",
        "model_checkpoint = './{epoch:06d}-{val_acc:0.6f}--{acc:0.6f}.ckpt'\n",
        "\n",
        "checkpointer = ModelCheckpoint(\n",
        "    filepath=model_checkpoint,\n",
        "    verbose=1,\n",
        "    period=2, # 옵션명이 save_freq로 대체됨\n",
        "    save_best_weights=True,\n",
        "    mode='auto',\n",
        "    monitor='val_acc'\n",
        ")\n",
        "\n",
        "model.compile(optimizer=Adam(learning_rate=LEARNING_RATE),\n",
        "              loss='binary_crossentropy',\n",
        "              metrics=['acc']) # Checkpoint의 명칭과 맞춰줘야 출력됨\n",
        "\n",
        "history = model.fit(train_generator,\n",
        "                    steps_per_epoch=(2000 // BATCH_SIZE),\n",
        "                    epochs=30,\n",
        "                    validation_data=valid_generator,\n",
        "                    validation_steps=(1000 // BATCH_SIZE),\n",
        "                    callbacks=[es, checkpointer],\n",
        "                    verbose=1)\n",
        "\n",
        "# loss: 0.1931 - acc: 0.9290 - val_loss: 0.0729 - val_acc: 0.9890\n",
        "# 다음 순서는 Fine Tuning! 학습 시간이 너무 오래 걸리므로 생략함\n",
        "# Fine Tuning : Pretrained Network의 layer 몇 개의 동결을 풀고 다시 학습(for Classifier)"
      ],
      "metadata": {
        "colab": {
          "base_uri": "https://localhost:8080/"
        },
        "id": "Sw72dWZ1t9Ox",
        "outputId": "48308aec-cbfe-403a-aeff-d69401e71f8d"
      },
      "execution_count": 16,
      "outputs": [
        {
          "output_type": "stream",
          "name": "stdout",
          "text": [
            "WARNING:tensorflow:`period` argument is deprecated. Please use `save_freq` to specify the frequency in number of batches seen.\n",
            "Epoch 1/30\n",
            "250/250 [==============================] - 795s 3s/step - loss: 0.5805 - acc: 0.7435 - val_loss: 0.4513 - val_acc: 0.9310\n",
            "Epoch 2/30\n",
            "250/250 [==============================] - ETA: 0s - loss: 0.4792 - acc: 0.8325\n",
            "Epoch 2: saving model to ./000002-0.956000--0.832500.ckpt\n"
          ]
        },
        {
          "output_type": "stream",
          "name": "stderr",
          "text": [
            "WARNING:absl:Function `_wrapped_model` contains input name(s) efficientnet-b4_input with unsupported characters which will be renamed to efficientnet_b4_input in the SavedModel.\n"
          ]
        },
        {
          "output_type": "stream",
          "name": "stdout",
          "text": [
            "INFO:tensorflow:Assets written to: ./000002-0.956000--0.832500.ckpt/assets\n"
          ]
        },
        {
          "output_type": "stream",
          "name": "stderr",
          "text": [
            "INFO:tensorflow:Assets written to: ./000002-0.956000--0.832500.ckpt/assets\n"
          ]
        },
        {
          "output_type": "stream",
          "name": "stdout",
          "text": [
            "\b\b\b\b\b\b\b\b\b\b\b\b\b\b\b\b\b\b\b\b\b\b\b\b\b\b\b\b\b\b\b\b\b\b\b\b\b\b\b\b\b\b\b\b\b\b\b\b\b\b\b\b\b\b\b\b\b\b\b\b\b\b\b\b\b\b\b\b\b\b\b\b\b\b\b\b\b\b\b\r250/250 [==============================] - 90s 360ms/step - loss: 0.4792 - acc: 0.8325 - val_loss: 0.3526 - val_acc: 0.9560\n",
            "Epoch 3/30\n",
            "250/250 [==============================] - 46s 184ms/step - loss: 0.4173 - acc: 0.8590 - val_loss: 0.2901 - val_acc: 0.9630\n",
            "Epoch 4/30\n",
            "250/250 [==============================] - ETA: 0s - loss: 0.3731 - acc: 0.8730\n",
            "Epoch 4: saving model to ./000004-0.968000--0.873000.ckpt\n"
          ]
        },
        {
          "output_type": "stream",
          "name": "stderr",
          "text": [
            "WARNING:absl:Function `_wrapped_model` contains input name(s) efficientnet-b4_input with unsupported characters which will be renamed to efficientnet_b4_input in the SavedModel.\n"
          ]
        },
        {
          "output_type": "stream",
          "name": "stdout",
          "text": [
            "INFO:tensorflow:Assets written to: ./000004-0.968000--0.873000.ckpt/assets\n"
          ]
        },
        {
          "output_type": "stream",
          "name": "stderr",
          "text": [
            "INFO:tensorflow:Assets written to: ./000004-0.968000--0.873000.ckpt/assets\n"
          ]
        },
        {
          "output_type": "stream",
          "name": "stdout",
          "text": [
            "\b\b\b\b\b\b\b\b\b\b\b\b\b\b\b\b\b\b\b\b\b\b\b\b\b\b\b\b\b\b\b\b\b\b\b\b\b\b\b\b\b\b\b\b\b\b\b\b\b\b\b\b\b\b\b\b\b\b\b\b\b\b\b\b\b\b\b\b\b\b\b\b\b\b\b\b\b\b\b\r250/250 [==============================] - 91s 365ms/step - loss: 0.3731 - acc: 0.8730 - val_loss: 0.2485 - val_acc: 0.9680\n",
            "Epoch 5/30\n",
            "250/250 [==============================] - 46s 185ms/step - loss: 0.3444 - acc: 0.8815 - val_loss: 0.2177 - val_acc: 0.9690\n",
            "Epoch 6/30\n",
            "250/250 [==============================] - ETA: 0s - loss: 0.3231 - acc: 0.8915\n",
            "Epoch 6: saving model to ./000006-0.973000--0.891500.ckpt\n"
          ]
        },
        {
          "output_type": "stream",
          "name": "stderr",
          "text": [
            "WARNING:absl:Function `_wrapped_model` contains input name(s) efficientnet-b4_input with unsupported characters which will be renamed to efficientnet_b4_input in the SavedModel.\n"
          ]
        },
        {
          "output_type": "stream",
          "name": "stdout",
          "text": [
            "INFO:tensorflow:Assets written to: ./000006-0.973000--0.891500.ckpt/assets\n"
          ]
        },
        {
          "output_type": "stream",
          "name": "stderr",
          "text": [
            "INFO:tensorflow:Assets written to: ./000006-0.973000--0.891500.ckpt/assets\n"
          ]
        },
        {
          "output_type": "stream",
          "name": "stdout",
          "text": [
            "\b\b\b\b\b\b\b\b\b\b\b\b\b\b\b\b\b\b\b\b\b\b\b\b\b\b\b\b\b\b\b\b\b\b\b\b\b\b\b\b\b\b\b\b\b\b\b\b\b\b\b\b\b\b\b\b\b\b\b\b\b\b\b\b\b\b\b\b\b\b\b\b\b\b\b\b\b\b\b\r250/250 [==============================] - 91s 364ms/step - loss: 0.3231 - acc: 0.8915 - val_loss: 0.1960 - val_acc: 0.9730\n",
            "Epoch 7/30\n",
            "250/250 [==============================] - 46s 185ms/step - loss: 0.2947 - acc: 0.8990 - val_loss: 0.1772 - val_acc: 0.9740\n",
            "Epoch 8/30\n",
            "250/250 [==============================] - ETA: 0s - loss: 0.2744 - acc: 0.9060\n",
            "Epoch 8: saving model to ./000008-0.976000--0.906000.ckpt\n"
          ]
        },
        {
          "output_type": "stream",
          "name": "stderr",
          "text": [
            "WARNING:absl:Function `_wrapped_model` contains input name(s) efficientnet-b4_input with unsupported characters which will be renamed to efficientnet_b4_input in the SavedModel.\n"
          ]
        },
        {
          "output_type": "stream",
          "name": "stdout",
          "text": [
            "INFO:tensorflow:Assets written to: ./000008-0.976000--0.906000.ckpt/assets\n"
          ]
        },
        {
          "output_type": "stream",
          "name": "stderr",
          "text": [
            "INFO:tensorflow:Assets written to: ./000008-0.976000--0.906000.ckpt/assets\n"
          ]
        },
        {
          "output_type": "stream",
          "name": "stdout",
          "text": [
            "\b\b\b\b\b\b\b\b\b\b\b\b\b\b\b\b\b\b\b\b\b\b\b\b\b\b\b\b\b\b\b\b\b\b\b\b\b\b\b\b\b\b\b\b\b\b\b\b\b\b\b\b\b\b\b\b\b\b\b\b\b\b\b\b\b\b\b\b\b\b\b\b\b\b\b\b\b\b\b\r250/250 [==============================] - 92s 370ms/step - loss: 0.2744 - acc: 0.9060 - val_loss: 0.1613 - val_acc: 0.9760\n",
            "Epoch 9/30\n",
            "250/250 [==============================] - 46s 185ms/step - loss: 0.2679 - acc: 0.9055 - val_loss: 0.1505 - val_acc: 0.9760\n",
            "Epoch 10/30\n",
            "250/250 [==============================] - ETA: 0s - loss: 0.2590 - acc: 0.9080\n",
            "Epoch 10: saving model to ./000010-0.978000--0.908000.ckpt\n"
          ]
        },
        {
          "output_type": "stream",
          "name": "stderr",
          "text": [
            "WARNING:absl:Function `_wrapped_model` contains input name(s) efficientnet-b4_input with unsupported characters which will be renamed to efficientnet_b4_input in the SavedModel.\n"
          ]
        },
        {
          "output_type": "stream",
          "name": "stdout",
          "text": [
            "INFO:tensorflow:Assets written to: ./000010-0.978000--0.908000.ckpt/assets\n"
          ]
        },
        {
          "output_type": "stream",
          "name": "stderr",
          "text": [
            "INFO:tensorflow:Assets written to: ./000010-0.978000--0.908000.ckpt/assets\n"
          ]
        },
        {
          "output_type": "stream",
          "name": "stdout",
          "text": [
            "\b\b\b\b\b\b\b\b\b\b\b\b\b\b\b\b\b\b\b\b\b\b\b\b\b\b\b\b\b\b\b\b\b\b\b\b\b\b\b\b\b\b\b\b\b\b\b\b\b\b\b\b\b\b\b\b\b\b\b\b\b\b\b\b\b\b\b\b\b\b\b\b\b\b\b\b\b\b\b\r250/250 [==============================] - 92s 368ms/step - loss: 0.2590 - acc: 0.9080 - val_loss: 0.1408 - val_acc: 0.9780\n",
            "Epoch 11/30\n",
            "250/250 [==============================] - 47s 188ms/step - loss: 0.2556 - acc: 0.9060 - val_loss: 0.1320 - val_acc: 0.9790\n",
            "Epoch 12/30\n",
            "250/250 [==============================] - ETA: 0s - loss: 0.2406 - acc: 0.9170\n",
            "Epoch 12: saving model to ./000012-0.982000--0.917000.ckpt\n"
          ]
        },
        {
          "output_type": "stream",
          "name": "stderr",
          "text": [
            "WARNING:absl:Function `_wrapped_model` contains input name(s) efficientnet-b4_input with unsupported characters which will be renamed to efficientnet_b4_input in the SavedModel.\n"
          ]
        },
        {
          "output_type": "stream",
          "name": "stdout",
          "text": [
            "INFO:tensorflow:Assets written to: ./000012-0.982000--0.917000.ckpt/assets\n"
          ]
        },
        {
          "output_type": "stream",
          "name": "stderr",
          "text": [
            "INFO:tensorflow:Assets written to: ./000012-0.982000--0.917000.ckpt/assets\n"
          ]
        },
        {
          "output_type": "stream",
          "name": "stdout",
          "text": [
            "\b\b\b\b\b\b\b\b\b\b\b\b\b\b\b\b\b\b\b\b\b\b\b\b\b\b\b\b\b\b\b\b\b\b\b\b\b\b\b\b\b\b\b\b\b\b\b\b\b\b\b\b\b\b\b\b\b\b\b\b\b\b\b\b\b\b\b\b\b\b\b\b\b\b\b\b\b\b\b\r250/250 [==============================] - 92s 367ms/step - loss: 0.2406 - acc: 0.9170 - val_loss: 0.1240 - val_acc: 0.9820\n",
            "Epoch 13/30\n",
            "250/250 [==============================] - 47s 187ms/step - loss: 0.2413 - acc: 0.9120 - val_loss: 0.1175 - val_acc: 0.9840\n",
            "Epoch 14/30\n",
            "250/250 [==============================] - ETA: 0s - loss: 0.2344 - acc: 0.9065\n",
            "Epoch 14: saving model to ./000014-0.986000--0.906500.ckpt\n"
          ]
        },
        {
          "output_type": "stream",
          "name": "stderr",
          "text": [
            "WARNING:absl:Function `_wrapped_model` contains input name(s) efficientnet-b4_input with unsupported characters which will be renamed to efficientnet_b4_input in the SavedModel.\n"
          ]
        },
        {
          "output_type": "stream",
          "name": "stdout",
          "text": [
            "INFO:tensorflow:Assets written to: ./000014-0.986000--0.906500.ckpt/assets\n"
          ]
        },
        {
          "output_type": "stream",
          "name": "stderr",
          "text": [
            "INFO:tensorflow:Assets written to: ./000014-0.986000--0.906500.ckpt/assets\n"
          ]
        },
        {
          "output_type": "stream",
          "name": "stdout",
          "text": [
            "\b\b\b\b\b\b\b\b\b\b\b\b\b\b\b\b\b\b\b\b\b\b\b\b\b\b\b\b\b\b\b\b\b\b\b\b\b\b\b\b\b\b\b\b\b\b\b\b\b\b\b\b\b\b\b\b\b\b\b\b\b\b\b\b\b\b\b\b\b\b\b\b\b\b\b\b\b\b\b\r250/250 [==============================] - 92s 367ms/step - loss: 0.2344 - acc: 0.9065 - val_loss: 0.1132 - val_acc: 0.9860\n",
            "Epoch 15/30\n",
            "250/250 [==============================] - 47s 186ms/step - loss: 0.2341 - acc: 0.9130 - val_loss: 0.1082 - val_acc: 0.9870\n",
            "Epoch 16/30\n",
            "250/250 [==============================] - ETA: 0s - loss: 0.2286 - acc: 0.9160\n",
            "Epoch 16: saving model to ./000016-0.987000--0.916000.ckpt\n"
          ]
        },
        {
          "output_type": "stream",
          "name": "stderr",
          "text": [
            "WARNING:absl:Function `_wrapped_model` contains input name(s) efficientnet-b4_input with unsupported characters which will be renamed to efficientnet_b4_input in the SavedModel.\n"
          ]
        },
        {
          "output_type": "stream",
          "name": "stdout",
          "text": [
            "INFO:tensorflow:Assets written to: ./000016-0.987000--0.916000.ckpt/assets\n"
          ]
        },
        {
          "output_type": "stream",
          "name": "stderr",
          "text": [
            "INFO:tensorflow:Assets written to: ./000016-0.987000--0.916000.ckpt/assets\n"
          ]
        },
        {
          "output_type": "stream",
          "name": "stdout",
          "text": [
            "\b\b\b\b\b\b\b\b\b\b\b\b\b\b\b\b\b\b\b\b\b\b\b\b\b\b\b\b\b\b\b\b\b\b\b\b\b\b\b\b\b\b\b\b\b\b\b\b\b\b\b\b\b\b\b\b\b\b\b\b\b\b\b\b\b\b\b\b\b\b\b\b\b\b\b\b\b\b\b\r250/250 [==============================] - 93s 373ms/step - loss: 0.2286 - acc: 0.9160 - val_loss: 0.1037 - val_acc: 0.9870\n",
            "Epoch 17/30\n",
            "250/250 [==============================] - 47s 187ms/step - loss: 0.2227 - acc: 0.9165 - val_loss: 0.1000 - val_acc: 0.9880\n",
            "Epoch 18/30\n",
            "250/250 [==============================] - ETA: 0s - loss: 0.2069 - acc: 0.9235\n",
            "Epoch 18: saving model to ./000018-0.988000--0.923500.ckpt\n"
          ]
        },
        {
          "output_type": "stream",
          "name": "stderr",
          "text": [
            "WARNING:absl:Function `_wrapped_model` contains input name(s) efficientnet-b4_input with unsupported characters which will be renamed to efficientnet_b4_input in the SavedModel.\n"
          ]
        },
        {
          "output_type": "stream",
          "name": "stdout",
          "text": [
            "INFO:tensorflow:Assets written to: ./000018-0.988000--0.923500.ckpt/assets\n"
          ]
        },
        {
          "output_type": "stream",
          "name": "stderr",
          "text": [
            "INFO:tensorflow:Assets written to: ./000018-0.988000--0.923500.ckpt/assets\n"
          ]
        },
        {
          "output_type": "stream",
          "name": "stdout",
          "text": [
            "\b\b\b\b\b\b\b\b\b\b\b\b\b\b\b\b\b\b\b\b\b\b\b\b\b\b\b\b\b\b\b\b\b\b\b\b\b\b\b\b\b\b\b\b\b\b\b\b\b\b\b\b\b\b\b\b\b\b\b\b\b\b\b\b\b\b\b\b\b\b\b\b\b\b\b\b\b\b\b\r250/250 [==============================] - 93s 372ms/step - loss: 0.2069 - acc: 0.9235 - val_loss: 0.0966 - val_acc: 0.9880\n",
            "Epoch 19/30\n",
            "250/250 [==============================] - 47s 187ms/step - loss: 0.2118 - acc: 0.9155 - val_loss: 0.0936 - val_acc: 0.9890\n",
            "Epoch 20/30\n",
            "250/250 [==============================] - ETA: 0s - loss: 0.2163 - acc: 0.9200\n",
            "Epoch 20: saving model to ./000020-0.989000--0.920000.ckpt\n"
          ]
        },
        {
          "output_type": "stream",
          "name": "stderr",
          "text": [
            "WARNING:absl:Function `_wrapped_model` contains input name(s) efficientnet-b4_input with unsupported characters which will be renamed to efficientnet_b4_input in the SavedModel.\n"
          ]
        },
        {
          "output_type": "stream",
          "name": "stdout",
          "text": [
            "INFO:tensorflow:Assets written to: ./000020-0.989000--0.920000.ckpt/assets\n"
          ]
        },
        {
          "output_type": "stream",
          "name": "stderr",
          "text": [
            "INFO:tensorflow:Assets written to: ./000020-0.989000--0.920000.ckpt/assets\n"
          ]
        },
        {
          "output_type": "stream",
          "name": "stdout",
          "text": [
            "\b\b\b\b\b\b\b\b\b\b\b\b\b\b\b\b\b\b\b\b\b\b\b\b\b\b\b\b\b\b\b\b\b\b\b\b\b\b\b\b\b\b\b\b\b\b\b\b\b\b\b\b\b\b\b\b\b\b\b\b\b\b\b\b\b\b\b\b\b\b\b\b\b\b\b\b\b\b\b\r250/250 [==============================] - 92s 368ms/step - loss: 0.2163 - acc: 0.9200 - val_loss: 0.0910 - val_acc: 0.9890\n",
            "Epoch 21/30\n",
            "250/250 [==============================] - 47s 186ms/step - loss: 0.2018 - acc: 0.9270 - val_loss: 0.0887 - val_acc: 0.9890\n",
            "Epoch 22/30\n",
            "250/250 [==============================] - ETA: 0s - loss: 0.2012 - acc: 0.9295\n",
            "Epoch 22: saving model to ./000022-0.989000--0.929500.ckpt\n"
          ]
        },
        {
          "output_type": "stream",
          "name": "stderr",
          "text": [
            "WARNING:absl:Function `_wrapped_model` contains input name(s) efficientnet-b4_input with unsupported characters which will be renamed to efficientnet_b4_input in the SavedModel.\n"
          ]
        },
        {
          "output_type": "stream",
          "name": "stdout",
          "text": [
            "INFO:tensorflow:Assets written to: ./000022-0.989000--0.929500.ckpt/assets\n"
          ]
        },
        {
          "output_type": "stream",
          "name": "stderr",
          "text": [
            "INFO:tensorflow:Assets written to: ./000022-0.989000--0.929500.ckpt/assets\n"
          ]
        },
        {
          "output_type": "stream",
          "name": "stdout",
          "text": [
            "\b\b\b\b\b\b\b\b\b\b\b\b\b\b\b\b\b\b\b\b\b\b\b\b\b\b\b\b\b\b\b\b\b\b\b\b\b\b\b\b\b\b\b\b\b\b\b\b\b\b\b\b\b\b\b\b\b\b\b\b\b\b\b\b\b\b\b\b\b\b\b\b\b\b\b\b\b\b\b\r250/250 [==============================] - 93s 373ms/step - loss: 0.2012 - acc: 0.9295 - val_loss: 0.0866 - val_acc: 0.9890\n",
            "Epoch 23/30\n",
            "250/250 [==============================] - 46s 185ms/step - loss: 0.2032 - acc: 0.9235 - val_loss: 0.0845 - val_acc: 0.9890\n",
            "Epoch 24/30\n",
            "250/250 [==============================] - ETA: 0s - loss: 0.1920 - acc: 0.9295\n",
            "Epoch 24: saving model to ./000024-0.989000--0.929500.ckpt\n"
          ]
        },
        {
          "output_type": "stream",
          "name": "stderr",
          "text": [
            "WARNING:absl:Function `_wrapped_model` contains input name(s) efficientnet-b4_input with unsupported characters which will be renamed to efficientnet_b4_input in the SavedModel.\n"
          ]
        },
        {
          "output_type": "stream",
          "name": "stdout",
          "text": [
            "INFO:tensorflow:Assets written to: ./000024-0.989000--0.929500.ckpt/assets\n"
          ]
        },
        {
          "output_type": "stream",
          "name": "stderr",
          "text": [
            "INFO:tensorflow:Assets written to: ./000024-0.989000--0.929500.ckpt/assets\n"
          ]
        },
        {
          "output_type": "stream",
          "name": "stdout",
          "text": [
            "\b\b\b\b\b\b\b\b\b\b\b\b\b\b\b\b\b\b\b\b\b\b\b\b\b\b\b\b\b\b\b\b\b\b\b\b\b\b\b\b\b\b\b\b\b\b\b\b\b\b\b\b\b\b\b\b\b\b\b\b\b\b\b\b\b\b\b\b\b\b\b\b\b\b\b\b\b\b\b\r250/250 [==============================] - 92s 369ms/step - loss: 0.1920 - acc: 0.9295 - val_loss: 0.0817 - val_acc: 0.9890\n",
            "Epoch 25/30\n",
            "250/250 [==============================] - 47s 186ms/step - loss: 0.1910 - acc: 0.9365 - val_loss: 0.0805 - val_acc: 0.9900\n",
            "Epoch 26/30\n",
            "250/250 [==============================] - ETA: 0s - loss: 0.1932 - acc: 0.9280\n",
            "Epoch 26: saving model to ./000026-0.990000--0.928000.ckpt\n"
          ]
        },
        {
          "output_type": "stream",
          "name": "stderr",
          "text": [
            "WARNING:absl:Function `_wrapped_model` contains input name(s) efficientnet-b4_input with unsupported characters which will be renamed to efficientnet_b4_input in the SavedModel.\n"
          ]
        },
        {
          "output_type": "stream",
          "name": "stdout",
          "text": [
            "INFO:tensorflow:Assets written to: ./000026-0.990000--0.928000.ckpt/assets\n"
          ]
        },
        {
          "output_type": "stream",
          "name": "stderr",
          "text": [
            "INFO:tensorflow:Assets written to: ./000026-0.990000--0.928000.ckpt/assets\n"
          ]
        },
        {
          "output_type": "stream",
          "name": "stdout",
          "text": [
            "\b\b\b\b\b\b\b\b\b\b\b\b\b\b\b\b\b\b\b\b\b\b\b\b\b\b\b\b\b\b\b\b\b\b\b\b\b\b\b\b\b\b\b\b\b\b\b\b\b\b\b\b\b\b\b\b\b\b\b\b\b\b\b\b\b\b\b\b\b\b\b\b\b\b\b\b\b\b\b\r250/250 [==============================] - 93s 372ms/step - loss: 0.1932 - acc: 0.9280 - val_loss: 0.0782 - val_acc: 0.9900\n",
            "Epoch 27/30\n",
            "250/250 [==============================] - 47s 186ms/step - loss: 0.1849 - acc: 0.9295 - val_loss: 0.0766 - val_acc: 0.9890\n",
            "Epoch 28/30\n",
            "250/250 [==============================] - ETA: 0s - loss: 0.1872 - acc: 0.9305\n",
            "Epoch 28: saving model to ./000028-0.989000--0.930500.ckpt\n"
          ]
        },
        {
          "output_type": "stream",
          "name": "stderr",
          "text": [
            "WARNING:absl:Function `_wrapped_model` contains input name(s) efficientnet-b4_input with unsupported characters which will be renamed to efficientnet_b4_input in the SavedModel.\n"
          ]
        },
        {
          "output_type": "stream",
          "name": "stdout",
          "text": [
            "INFO:tensorflow:Assets written to: ./000028-0.989000--0.930500.ckpt/assets\n"
          ]
        },
        {
          "output_type": "stream",
          "name": "stderr",
          "text": [
            "INFO:tensorflow:Assets written to: ./000028-0.989000--0.930500.ckpt/assets\n"
          ]
        },
        {
          "output_type": "stream",
          "name": "stdout",
          "text": [
            "\b\b\b\b\b\b\b\b\b\b\b\b\b\b\b\b\b\b\b\b\b\b\b\b\b\b\b\b\b\b\b\b\b\b\b\b\b\b\b\b\b\b\b\b\b\b\b\b\b\b\b\b\b\b\b\b\b\b\b\b\b\b\b\b\b\b\b\b\b\b\b\b\b\b\b\b\b\b\b\r250/250 [==============================] - 92s 367ms/step - loss: 0.1872 - acc: 0.9305 - val_loss: 0.0758 - val_acc: 0.9890\n",
            "Epoch 29/30\n",
            "250/250 [==============================] - 46s 185ms/step - loss: 0.1847 - acc: 0.9300 - val_loss: 0.0739 - val_acc: 0.9890\n",
            "Epoch 30/30\n",
            "250/250 [==============================] - ETA: 0s - loss: 0.1931 - acc: 0.9290\n",
            "Epoch 30: saving model to ./000030-0.989000--0.929000.ckpt\n"
          ]
        },
        {
          "output_type": "stream",
          "name": "stderr",
          "text": [
            "WARNING:absl:Function `_wrapped_model` contains input name(s) efficientnet-b4_input with unsupported characters which will be renamed to efficientnet_b4_input in the SavedModel.\n"
          ]
        },
        {
          "output_type": "stream",
          "name": "stdout",
          "text": [
            "INFO:tensorflow:Assets written to: ./000030-0.989000--0.929000.ckpt/assets\n"
          ]
        },
        {
          "output_type": "stream",
          "name": "stderr",
          "text": [
            "INFO:tensorflow:Assets written to: ./000030-0.989000--0.929000.ckpt/assets\n"
          ]
        },
        {
          "output_type": "stream",
          "name": "stdout",
          "text": [
            "\b\b\b\b\b\b\b\b\b\b\b\b\b\b\b\b\b\b\b\b\b\b\b\b\b\b\b\b\b\b\b\b\b\b\b\b\b\b\b\b\b\b\b\b\b\b\b\b\b\b\b\b\b\b\b\b\b\b\b\b\b\b\b\b\b\b\b\b\b\b\b\b\b\b\b\b\b\b\b\r250/250 [==============================] - 92s 370ms/step - loss: 0.1931 - acc: 0.9290 - val_loss: 0.0729 - val_acc: 0.9890\n"
          ]
        }
      ]
    },
    {
      "cell_type": "code",
      "source": [
        "# Fine Tuning : Pretrained Network의 layer 몇 개의 동결을 풀고 다시 학습(for Classifier)"
      ],
      "metadata": {
        "id": "vkrZ0nll7Vs7"
      },
      "execution_count": null,
      "outputs": []
    }
  ]
}