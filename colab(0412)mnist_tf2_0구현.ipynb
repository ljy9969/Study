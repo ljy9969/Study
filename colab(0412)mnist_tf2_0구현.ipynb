{
  "nbformat": 4,
  "nbformat_minor": 0,
  "metadata": {
    "colab": {
      "name": "colab(0412)mnist tf2.0구현.ipynb",
      "provenance": [],
      "collapsed_sections": [],
      "mount_file_id": "1H8lOpgcXtOqvuTCX5QkHS27Pf8rr7Q7i",
      "authorship_tag": "ABX9TyNRRaJOWc8HWDFnIb9a8b5e",
      "include_colab_link": true
    },
    "kernelspec": {
      "name": "python3",
      "display_name": "Python 3"
    },
    "language_info": {
      "name": "python"
    },
    "accelerator": "GPU"
  },
  "cells": [
    {
      "cell_type": "markdown",
      "metadata": {
        "id": "view-in-github",
        "colab_type": "text"
      },
      "source": [
        "<a href=\"https://colab.research.google.com/github/ljy9969/Study/blob/master/colab(0412)mnist_tf2_0%EA%B5%AC%ED%98%84.ipynb\" target=\"_parent\"><img src=\"https://colab.research.google.com/assets/colab-badge.svg\" alt=\"Open In Colab\"/></a>"
      ]
    },
    {
      "cell_type": "code",
      "source": [
        "from google.colab import drive\n",
        "drive.mount('/content/drive')"
      ],
      "metadata": {
        "colab": {
          "base_uri": "https://localhost:8080/"
        },
        "id": "EHs7_bC2MFps",
        "outputId": "86f39b2d-fb39-44ad-aa0c-e1ea64e6feb5"
      },
      "execution_count": null,
      "outputs": [
        {
          "output_type": "stream",
          "name": "stdout",
          "text": [
            "Mounted at /content/drive\n"
          ]
        }
      ]
    },
    {
      "cell_type": "code",
      "execution_count": null,
      "metadata": {
        "id": "iDITifa9L1Xr"
      },
      "outputs": [],
      "source": [
        "import numpy as np\n",
        "import pandas as pd\n",
        "import tensorflow as tf\n",
        "from tensorflow.keras.models import Sequential\n",
        "from tensorflow.keras.layers import Flatten, Dense\n",
        "from tensorflow.keras.optimizers import SGD\n",
        "import matplotlib.pyplot as plt\n",
        "from sklearn.preprocessing import MinMaxScaler\n",
        "from sklearn.model_selection import train_test_split\n",
        "import warnings\n",
        "warnings.filterwarnings('ignore')\n",
        "\n",
        "# Raw Data Loading\n",
        "df = pd.read_csv('/content/drive/MyDrive/Colab 멀캠 이지연/mnist/train.csv')\n",
        "# display(df.head()) # (42000, 785)\n",
        "\n",
        "# 데이터 전처리 : 결측치나 이상치 없음. 단, 정규화는 필요함\n",
        "\n",
        "# 이미지 확인\n",
        "# img_data = df.drop('label', axis=1, inplace=False).values\n",
        "\n",
        "# figure = plt.figure()\n",
        "# ax_arr = []\n",
        "\n",
        "# for n in range(10):\n",
        "#     ax_arr.append(figure.add_subplot(2,5,n+1))\n",
        "#     ax_arr[n].imshow(img_data[n].reshape(28,28), # 28 x 28 픽셀로 변환\n",
        "#                      cmap='Greys', # cmap은 흑백 이미지 처리\n",
        "#                      interpolation='nearest') # interpolation는 보간법(이미지 깨지지 않도록)\n",
        "    \n",
        "# plt.tight_layout()\n",
        "# plt.show()\n",
        "\n",
        "# Data Split\n",
        "train_x_data, test_x_data, train_t_data, test_t_data = \\\n",
        "train_test_split(df.drop('label', axis=1, inplace=False), df['label'], test_size=0.3, random_state=1, stratify=df['label'])\n",
        "\n",
        "# 정규화\n",
        "scaler = MinMaxScaler()\n",
        "scaler.fit(train_x_data)\n",
        "\n",
        "norm_train_x_data = scaler.transform(train_x_data)\n",
        "norm_test_x_data = scaler.transform(test_x_data)\n",
        "\n",
        "# One-Hot Encoding 처리할 필요가 없음"
      ]
    },
    {
      "cell_type": "code",
      "source": [
        "# Tensorflow 2.x 구현\n",
        "model = Sequential()\n",
        "\n",
        "model.add(Flatten(input_shape=(784,))) # input layer\n",
        "model.add(Dense(units=256, activation='relu')) # hidden layer\n",
        "model.add(Dense(units=128, activation='relu')) # hidden layer\n",
        "model.add(Dense(units=10, activation='softmax')) # output layer\n",
        "\n",
        "model.compile(optimizer=SGD(learning_rate=1e-3), loss='sparse_categorical_crossentropy', metrics=['accuracy'])\n",
        "\n",
        "model.fit(norm_train_x_data, train_t_data, epochs=5000, batch_size=100, validation_split=0.3, verbose=0)"
      ],
      "metadata": {
        "colab": {
          "base_uri": "https://localhost:8080/"
        },
        "id": "lgplMQ9pN-oQ",
        "outputId": "12e49ab5-2dd1-4040-98ad-b87a940ca83f"
      },
      "execution_count": null,
      "outputs": [
        {
          "output_type": "execute_result",
          "data": {
            "text/plain": [
              "<keras.callbacks.History at 0x7f7d056c8f90>"
            ]
          },
          "metadata": {},
          "execution_count": 8
        }
      ]
    },
    {
      "cell_type": "code",
      "source": [
        "result = model.evaluate(norm_test_x_data, test_t_data)\n",
        "print(result) # loss: 0.1664 - accuracy: 0.9664"
      ],
      "metadata": {
        "colab": {
          "base_uri": "https://localhost:8080/"
        },
        "id": "4zZWnOSUZshV",
        "outputId": "38a0e65b-53de-439e-d90b-cd31b364aabe"
      },
      "execution_count": null,
      "outputs": [
        {
          "output_type": "stream",
          "name": "stdout",
          "text": [
            "394/394 [==============================] - 1s 3ms/step - loss: 0.1664 - accuracy: 0.9664\n",
            "[0.16643401980400085, 0.9664285778999329]\n"
          ]
        }
      ]
    },
    {
      "cell_type": "code",
      "source": [
        "# EarlyStopping\n",
        "\n",
        "import numpy as np\n",
        "import pandas as pd\n",
        "import tensorflow as tf\n",
        "from tensorflow.keras.models import Sequential\n",
        "from tensorflow.keras.layers import Flatten, Dense\n",
        "from tensorflow.keras.optimizers import SGD\n",
        "from tensorflow.keras.callbacks import EarlyStopping\n",
        "import matplotlib.pyplot as plt\n",
        "from sklearn.preprocessing import MinMaxScaler\n",
        "from sklearn.model_selection import train_test_split\n",
        "import warnings\n",
        "warnings.filterwarnings('ignore')\n",
        "\n",
        "# Raw Data Loading\n",
        "df = pd.read_csv('/content/drive/MyDrive/Colab 멀캠 이지연/mnist/train.csv')\n",
        "# display(df.head()) # (42000, 785)\n",
        "\n",
        "# 데이터 전처리 : 결측치나 이상치 없음. 단, 정규화는 필요함\n",
        "\n",
        "# Data Split\n",
        "train_x_data, test_x_data, train_t_data, test_t_data = \\\n",
        "train_test_split(df.drop('label', axis=1, inplace=False), df['label'], test_size=0.3, random_state=1, stratify=df['label'])\n",
        "\n",
        "# 정규화\n",
        "scaler = MinMaxScaler()\n",
        "scaler.fit(train_x_data)\n",
        "\n",
        "norm_train_x_data = scaler.transform(train_x_data)\n",
        "norm_test_x_data = scaler.transform(test_x_data)\n",
        "\n",
        "# One-Hot Encoding 처리할 필요가 없음"
      ],
      "metadata": {
        "id": "xhVx_8rrafwF"
      },
      "execution_count": null,
      "outputs": []
    },
    {
      "cell_type": "code",
      "source": [
        "# Tensorflow 2.x 구현\n",
        "model = Sequential()\n",
        "\n",
        "model.add(Flatten(input_shape=(784,))) # input layer\n",
        "model.add(Dense(units=256, activation='relu')) # hidden layer\n",
        "model.add(Dense(units=128, activation='relu')) # hidden layer\n",
        "model.add(Dense(units=10, activation='softmax')) # output layer\n",
        "\n",
        "model.compile(optimizer=SGD(learning_rate=1e-3), loss='sparse_categorical_crossentropy', metrics=['accuracy'])\n",
        "\n",
        "es = EarlyStopping(monitor='val_loss', # monitoring 할 값\n",
        "                   min_delta=0.001,     # threshold\n",
        "                   patience=5,         # 참는 횟수\n",
        "                   mode='auto',\n",
        "                   restore_best_weights=True)\n",
        "\n",
        "model.fit(norm_train_x_data, train_t_data, epochs=5000, batch_size=100, validation_split=0.3, verbose=0, callbacks=[es])"
      ],
      "metadata": {
        "colab": {
          "base_uri": "https://localhost:8080/"
        },
        "id": "nRGbnDfWapKk",
        "outputId": "c40de165-b975-4988-ee7d-7ce086f880bd"
      },
      "execution_count": null,
      "outputs": [
        {
          "output_type": "execute_result",
          "data": {
            "text/plain": [
              "<keras.callbacks.History at 0x7fa93ca63fd0>"
            ]
          },
          "metadata": {},
          "execution_count": 2
        }
      ]
    },
    {
      "cell_type": "code",
      "source": [
        "result = model.evaluate(norm_test_x_data, test_t_data)\n",
        "print(result) # loss: 0.1974 - accuracy: 0.9437"
      ],
      "metadata": {
        "colab": {
          "base_uri": "https://localhost:8080/"
        },
        "id": "eFjLl7Wh-hJm",
        "outputId": "1533c531-4f90-4683-a3c7-c547382025ce"
      },
      "execution_count": null,
      "outputs": [
        {
          "output_type": "stream",
          "name": "stdout",
          "text": [
            "394/394 [==============================] - 1s 3ms/step - loss: 0.1974 - accuracy: 0.9437\n",
            "[0.19737429916858673, 0.9436507821083069]\n"
          ]
        }
      ]
    }
  ]
}