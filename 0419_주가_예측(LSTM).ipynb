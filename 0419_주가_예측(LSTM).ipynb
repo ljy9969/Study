{
  "nbformat": 4,
  "nbformat_minor": 0,
  "metadata": {
    "colab": {
      "name": "0419 주가 예측(LSTM).ipynb",
      "provenance": [],
      "collapsed_sections": [],
      "mount_file_id": "16PtOJk6jFoyzUTEM6eDe3jOU-juuXseg",
      "authorship_tag": "ABX9TyN+o8rRwjhPPbcBaMLPOrXF",
      "include_colab_link": true
    },
    "kernelspec": {
      "name": "python3",
      "display_name": "Python 3"
    },
    "language_info": {
      "name": "python"
    },
    "accelerator": "GPU"
  },
  "cells": [
    {
      "cell_type": "markdown",
      "metadata": {
        "id": "view-in-github",
        "colab_type": "text"
      },
      "source": [
        "<a href=\"https://colab.research.google.com/github/ljy9969/Study/blob/master/0419_%EC%A3%BC%EA%B0%80_%EC%98%88%EC%B8%A1(LSTM).ipynb\" target=\"_parent\"><img src=\"https://colab.research.google.com/assets/colab-badge.svg\" alt=\"Open In Colab\"/></a>"
      ]
    },
    {
      "cell_type": "markdown",
      "source": [
        "## Yahoo Finance에서 가져온 5년치 삼성전자 주식 데이터로 주가 예측하기\n",
        "\n",
        "Time Period : Apr 19, 2017 - Apr 19, 2022\n",
        "\n",
        "https://finance.yahoo.com/quote/005930.KS/history?period1=1492560000&period2=1650326400&interval=1d&filter=history&frequency=1d&includeAdjustedClose=true"
      ],
      "metadata": {
        "id": "Cbf1b6d46SUN"
      }
    },
    {
      "cell_type": "code",
      "execution_count": 1,
      "metadata": {
        "id": "-wFr8V13qaeR"
      },
      "outputs": [],
      "source": [
        "import pandas as pd\n",
        "import numpy as np\n",
        "import matplotlib.pyplot as plt\n",
        "from keras.models import Sequential\n",
        "from keras.layers import LSTM, Dropout, Dense, Activation\n",
        "import datetime"
      ]
    },
    {
      "cell_type": "code",
      "source": [
        "data = pd.read_csv('/content/drive/MyDrive/Colab Notebooks/실습/005930.KS.csv')\n",
        "data.head()\n",
        "# data.info()"
      ],
      "metadata": {
        "colab": {
          "base_uri": "https://localhost:8080/",
          "height": 206
        },
        "id": "tNF9GrALrnXT",
        "outputId": "5fdb9150-de08-4914-80d0-457417bce707"
      },
      "execution_count": 2,
      "outputs": [
        {
          "output_type": "execute_result",
          "data": {
            "text/plain": [
              "         Date     Open     High      Low    Close     Adj Close    Volume\n",
              "0  2017-04-19  41300.0  41420.0  40900.0  40900.0  35612.234375  11762900\n",
              "1  2017-04-20  40580.0  40800.0  40080.0  40280.0  35072.398438  21148850\n",
              "2  2017-04-21  40480.0  41400.0  40480.0  40760.0  35490.328125  15130500\n",
              "3  2017-04-24  41260.0  41260.0  40920.0  41240.0  35908.277344   8990150\n",
              "4  2017-04-25  41460.0  42740.0  41320.0  42700.0  37179.511719  19299600"
            ],
            "text/html": [
              "\n",
              "  <div id=\"df-c4a39040-5b99-4422-9f96-2de580de87f4\">\n",
              "    <div class=\"colab-df-container\">\n",
              "      <div>\n",
              "<style scoped>\n",
              "    .dataframe tbody tr th:only-of-type {\n",
              "        vertical-align: middle;\n",
              "    }\n",
              "\n",
              "    .dataframe tbody tr th {\n",
              "        vertical-align: top;\n",
              "    }\n",
              "\n",
              "    .dataframe thead th {\n",
              "        text-align: right;\n",
              "    }\n",
              "</style>\n",
              "<table border=\"1\" class=\"dataframe\">\n",
              "  <thead>\n",
              "    <tr style=\"text-align: right;\">\n",
              "      <th></th>\n",
              "      <th>Date</th>\n",
              "      <th>Open</th>\n",
              "      <th>High</th>\n",
              "      <th>Low</th>\n",
              "      <th>Close</th>\n",
              "      <th>Adj Close</th>\n",
              "      <th>Volume</th>\n",
              "    </tr>\n",
              "  </thead>\n",
              "  <tbody>\n",
              "    <tr>\n",
              "      <th>0</th>\n",
              "      <td>2017-04-19</td>\n",
              "      <td>41300.0</td>\n",
              "      <td>41420.0</td>\n",
              "      <td>40900.0</td>\n",
              "      <td>40900.0</td>\n",
              "      <td>35612.234375</td>\n",
              "      <td>11762900</td>\n",
              "    </tr>\n",
              "    <tr>\n",
              "      <th>1</th>\n",
              "      <td>2017-04-20</td>\n",
              "      <td>40580.0</td>\n",
              "      <td>40800.0</td>\n",
              "      <td>40080.0</td>\n",
              "      <td>40280.0</td>\n",
              "      <td>35072.398438</td>\n",
              "      <td>21148850</td>\n",
              "    </tr>\n",
              "    <tr>\n",
              "      <th>2</th>\n",
              "      <td>2017-04-21</td>\n",
              "      <td>40480.0</td>\n",
              "      <td>41400.0</td>\n",
              "      <td>40480.0</td>\n",
              "      <td>40760.0</td>\n",
              "      <td>35490.328125</td>\n",
              "      <td>15130500</td>\n",
              "    </tr>\n",
              "    <tr>\n",
              "      <th>3</th>\n",
              "      <td>2017-04-24</td>\n",
              "      <td>41260.0</td>\n",
              "      <td>41260.0</td>\n",
              "      <td>40920.0</td>\n",
              "      <td>41240.0</td>\n",
              "      <td>35908.277344</td>\n",
              "      <td>8990150</td>\n",
              "    </tr>\n",
              "    <tr>\n",
              "      <th>4</th>\n",
              "      <td>2017-04-25</td>\n",
              "      <td>41460.0</td>\n",
              "      <td>42740.0</td>\n",
              "      <td>41320.0</td>\n",
              "      <td>42700.0</td>\n",
              "      <td>37179.511719</td>\n",
              "      <td>19299600</td>\n",
              "    </tr>\n",
              "  </tbody>\n",
              "</table>\n",
              "</div>\n",
              "      <button class=\"colab-df-convert\" onclick=\"convertToInteractive('df-c4a39040-5b99-4422-9f96-2de580de87f4')\"\n",
              "              title=\"Convert this dataframe to an interactive table.\"\n",
              "              style=\"display:none;\">\n",
              "        \n",
              "  <svg xmlns=\"http://www.w3.org/2000/svg\" height=\"24px\"viewBox=\"0 0 24 24\"\n",
              "       width=\"24px\">\n",
              "    <path d=\"M0 0h24v24H0V0z\" fill=\"none\"/>\n",
              "    <path d=\"M18.56 5.44l.94 2.06.94-2.06 2.06-.94-2.06-.94-.94-2.06-.94 2.06-2.06.94zm-11 1L8.5 8.5l.94-2.06 2.06-.94-2.06-.94L8.5 2.5l-.94 2.06-2.06.94zm10 10l.94 2.06.94-2.06 2.06-.94-2.06-.94-.94-2.06-.94 2.06-2.06.94z\"/><path d=\"M17.41 7.96l-1.37-1.37c-.4-.4-.92-.59-1.43-.59-.52 0-1.04.2-1.43.59L10.3 9.45l-7.72 7.72c-.78.78-.78 2.05 0 2.83L4 21.41c.39.39.9.59 1.41.59.51 0 1.02-.2 1.41-.59l7.78-7.78 2.81-2.81c.8-.78.8-2.07 0-2.86zM5.41 20L4 18.59l7.72-7.72 1.47 1.35L5.41 20z\"/>\n",
              "  </svg>\n",
              "      </button>\n",
              "      \n",
              "  <style>\n",
              "    .colab-df-container {\n",
              "      display:flex;\n",
              "      flex-wrap:wrap;\n",
              "      gap: 12px;\n",
              "    }\n",
              "\n",
              "    .colab-df-convert {\n",
              "      background-color: #E8F0FE;\n",
              "      border: none;\n",
              "      border-radius: 50%;\n",
              "      cursor: pointer;\n",
              "      display: none;\n",
              "      fill: #1967D2;\n",
              "      height: 32px;\n",
              "      padding: 0 0 0 0;\n",
              "      width: 32px;\n",
              "    }\n",
              "\n",
              "    .colab-df-convert:hover {\n",
              "      background-color: #E2EBFA;\n",
              "      box-shadow: 0px 1px 2px rgba(60, 64, 67, 0.3), 0px 1px 3px 1px rgba(60, 64, 67, 0.15);\n",
              "      fill: #174EA6;\n",
              "    }\n",
              "\n",
              "    [theme=dark] .colab-df-convert {\n",
              "      background-color: #3B4455;\n",
              "      fill: #D2E3FC;\n",
              "    }\n",
              "\n",
              "    [theme=dark] .colab-df-convert:hover {\n",
              "      background-color: #434B5C;\n",
              "      box-shadow: 0px 1px 3px 1px rgba(0, 0, 0, 0.15);\n",
              "      filter: drop-shadow(0px 1px 2px rgba(0, 0, 0, 0.3));\n",
              "      fill: #FFFFFF;\n",
              "    }\n",
              "  </style>\n",
              "\n",
              "      <script>\n",
              "        const buttonEl =\n",
              "          document.querySelector('#df-c4a39040-5b99-4422-9f96-2de580de87f4 button.colab-df-convert');\n",
              "        buttonEl.style.display =\n",
              "          google.colab.kernel.accessAllowed ? 'block' : 'none';\n",
              "\n",
              "        async function convertToInteractive(key) {\n",
              "          const element = document.querySelector('#df-c4a39040-5b99-4422-9f96-2de580de87f4');\n",
              "          const dataTable =\n",
              "            await google.colab.kernel.invokeFunction('convertToInteractive',\n",
              "                                                     [key], {});\n",
              "          if (!dataTable) return;\n",
              "\n",
              "          const docLinkHtml = 'Like what you see? Visit the ' +\n",
              "            '<a target=\"_blank\" href=https://colab.research.google.com/notebooks/data_table.ipynb>data table notebook</a>'\n",
              "            + ' to learn more about interactive tables.';\n",
              "          element.innerHTML = '';\n",
              "          dataTable['output_type'] = 'display_data';\n",
              "          await google.colab.output.renderOutput(dataTable, element);\n",
              "          const docLink = document.createElement('div');\n",
              "          docLink.innerHTML = docLinkHtml;\n",
              "          element.appendChild(docLink);\n",
              "        }\n",
              "      </script>\n",
              "    </div>\n",
              "  </div>\n",
              "  "
            ]
          },
          "metadata": {},
          "execution_count": 2
        }
      ]
    },
    {
      "cell_type": "markdown",
      "source": [
        "# Compute Mid Price"
      ],
      "metadata": {
        "id": "W_oLLkxZslun"
      }
    },
    {
      "cell_type": "code",
      "source": [
        "high_prices = data['High'].values\n",
        "low_prices = data['Low'].values\n",
        "mid_prices = (high_prices + low_prices) / 2"
      ],
      "metadata": {
        "id": "cr6jBZjzrnZ_"
      },
      "execution_count": 7,
      "outputs": []
    },
    {
      "cell_type": "markdown",
      "source": [
        "# Create Windows for LSTM"
      ],
      "metadata": {
        "id": "QQzFpoOBtHY6"
      }
    },
    {
      "cell_type": "code",
      "source": [
        "seq_len = 50 # 50일 주가로 다음날 주가를 예측\n",
        "sequence_length = seq_len + 1 # window = 50일치 주가 + 다음날 주가\n",
        "\n",
        "result = []\n",
        "for index in range(len(mid_prices) - sequence_length): # batch - window\n",
        "  result.append(mid_prices[index:index + sequence_length])"
      ],
      "metadata": {
        "id": "lPgG1FlcrncM"
      },
      "execution_count": 9,
      "outputs": []
    },
    {
      "cell_type": "markdown",
      "source": [
        "# Normalize Data"
      ],
      "metadata": {
        "id": "dgmBPv_TuZK7"
      }
    },
    {
      "cell_type": "code",
      "source": [
        "normalized_data = []\n",
        "for window in result:\n",
        "  normalized_window = [((float(p) / float(window[0])) -1) for p in window] # 첫 번째 window의 첫번째 요소를 기준으로(1 - 1 = 0으로 만듦) 정규화\n",
        "  normalized_data.append(normalized_window)\n",
        "\n",
        "result = np.array(normalized_data)\n",
        "\n",
        "# split train and test data\n",
        "row = int(round(result.shape[0] * 0.9)) # batch에서 90%를 train data로 할당\n",
        "train = result[:row, :]\n",
        "np.random.shuffle(train)\n",
        "\n",
        "# trian과 test dataset의 input&output 값 정하기\n",
        "x_train = train[:, :-1] # window 안의 51개의 데이터 중 50개는 학습용으로. 0 ~ 50까지 슬라이싱\n",
        "x_train = np.reshape(x_train, (x_train.shape[0], x_train.shape[1],1))\n",
        "y_train = train[:, -1] # 51번 째 데이터는 정답으로\n",
        "\n",
        "x_test = result[row:, :-1] # window 안의 데이터 중 10%는 테스트용으로\n",
        "x_test = np.reshape(x_test, (x_test.shape[0], x_test.shape[1], 1))\n",
        "y_test = result[row:, -1] # test data의 정답\n",
        "\n",
        "x_train.shape, x_test.shape"
      ],
      "metadata": {
        "colab": {
          "base_uri": "https://localhost:8080/"
        },
        "id": "PCDl4WfQrneP",
        "outputId": "66cc23b5-0ba8-4eaf-a515-56fb1a99d5aa"
      },
      "execution_count": 11,
      "outputs": [
        {
          "output_type": "execute_result",
          "data": {
            "text/plain": [
              "((1056, 50, 1), (117, 50, 1))"
            ]
          },
          "metadata": {},
          "execution_count": 11
        }
      ]
    },
    {
      "cell_type": "markdown",
      "source": [
        "# Build a Model"
      ],
      "metadata": {
        "id": "vXHRBw7gzcbQ"
      }
    },
    {
      "cell_type": "code",
      "source": [
        "model = Sequential()\n",
        "\n",
        "model.add(LSTM(50, return_sequences=True, input_shape=(50,1)))\n",
        "model.add(LSTM(64, return_sequences=False))\n",
        "model.add(Dense(1, activation='linear'))\n",
        "\n",
        "model.compile(loss='mse', optimizer='rmsprop')\n",
        "model.summary()"
      ],
      "metadata": {
        "colab": {
          "base_uri": "https://localhost:8080/"
        },
        "id": "oeFBULN2rngk",
        "outputId": "368d3db8-c1c5-4d9c-df19-cbcdf95dada4"
      },
      "execution_count": 17,
      "outputs": [
        {
          "output_type": "stream",
          "name": "stdout",
          "text": [
            "Model: \"sequential_1\"\n",
            "_________________________________________________________________\n",
            " Layer (type)                Output Shape              Param #   \n",
            "=================================================================\n",
            " lstm_2 (LSTM)               (None, 50, 50)            10400     \n",
            "                                                                 \n",
            " lstm_3 (LSTM)               (None, 64)                29440     \n",
            "                                                                 \n",
            " dense_1 (Dense)             (None, 1)                 65        \n",
            "                                                                 \n",
            "=================================================================\n",
            "Total params: 39,905\n",
            "Trainable params: 39,905\n",
            "Non-trainable params: 0\n",
            "_________________________________________________________________\n"
          ]
        }
      ]
    },
    {
      "cell_type": "markdown",
      "source": [
        "# Training"
      ],
      "metadata": {
        "id": "N_ME3hn80QHt"
      }
    },
    {
      "cell_type": "code",
      "source": [
        "model.fit(x_train, y_train, validation_data=(x_test, y_test), batch_size=10, epochs=20)"
      ],
      "metadata": {
        "colab": {
          "base_uri": "https://localhost:8080/"
        },
        "id": "-kj0dJnU0Qy-",
        "outputId": "3b8704b4-9def-4fe5-e0b7-1b1e594493d5"
      },
      "execution_count": 18,
      "outputs": [
        {
          "output_type": "stream",
          "name": "stdout",
          "text": [
            "Epoch 1/20\n",
            "106/106 [==============================] - 8s 38ms/step - loss: 0.0018 - accuracy: 0.0038 - val_loss: 3.5821e-04 - val_accuracy: 0.0000e+00\n",
            "Epoch 2/20\n",
            "106/106 [==============================] - 3s 28ms/step - loss: 9.4627e-04 - accuracy: 0.0038 - val_loss: 2.5279e-04 - val_accuracy: 0.0000e+00\n",
            "Epoch 3/20\n",
            "106/106 [==============================] - 3s 27ms/step - loss: 7.5180e-04 - accuracy: 0.0038 - val_loss: 2.1854e-04 - val_accuracy: 0.0000e+00\n",
            "Epoch 4/20\n",
            "106/106 [==============================] - 3s 28ms/step - loss: 5.2834e-04 - accuracy: 0.0038 - val_loss: 2.0386e-04 - val_accuracy: 0.0000e+00\n",
            "Epoch 5/20\n",
            "106/106 [==============================] - 3s 27ms/step - loss: 4.6242e-04 - accuracy: 0.0038 - val_loss: 1.6645e-04 - val_accuracy: 0.0000e+00\n",
            "Epoch 6/20\n",
            "106/106 [==============================] - 3s 27ms/step - loss: 4.1187e-04 - accuracy: 0.0038 - val_loss: 3.5612e-04 - val_accuracy: 0.0000e+00\n",
            "Epoch 7/20\n",
            "106/106 [==============================] - 3s 27ms/step - loss: 3.3717e-04 - accuracy: 0.0038 - val_loss: 1.3879e-04 - val_accuracy: 0.0000e+00\n",
            "Epoch 8/20\n",
            "106/106 [==============================] - 3s 27ms/step - loss: 3.1131e-04 - accuracy: 0.0038 - val_loss: 1.5455e-04 - val_accuracy: 0.0000e+00\n",
            "Epoch 9/20\n",
            "106/106 [==============================] - 3s 27ms/step - loss: 3.1117e-04 - accuracy: 0.0038 - val_loss: 1.8041e-04 - val_accuracy: 0.0000e+00\n",
            "Epoch 10/20\n",
            "106/106 [==============================] - 3s 28ms/step - loss: 3.0507e-04 - accuracy: 0.0038 - val_loss: 1.2604e-04 - val_accuracy: 0.0000e+00\n",
            "Epoch 11/20\n",
            "106/106 [==============================] - 3s 27ms/step - loss: 3.0237e-04 - accuracy: 0.0038 - val_loss: 1.8306e-04 - val_accuracy: 0.0000e+00\n",
            "Epoch 12/20\n",
            "106/106 [==============================] - 3s 27ms/step - loss: 3.0767e-04 - accuracy: 0.0038 - val_loss: 1.2942e-04 - val_accuracy: 0.0000e+00\n",
            "Epoch 13/20\n",
            "106/106 [==============================] - 3s 27ms/step - loss: 2.9532e-04 - accuracy: 0.0038 - val_loss: 1.9238e-04 - val_accuracy: 0.0000e+00\n",
            "Epoch 14/20\n",
            "106/106 [==============================] - 3s 27ms/step - loss: 2.9496e-04 - accuracy: 0.0038 - val_loss: 1.6483e-04 - val_accuracy: 0.0000e+00\n",
            "Epoch 15/20\n",
            "106/106 [==============================] - 3s 28ms/step - loss: 3.0760e-04 - accuracy: 0.0038 - val_loss: 2.0363e-04 - val_accuracy: 0.0000e+00\n",
            "Epoch 16/20\n",
            "106/106 [==============================] - 3s 29ms/step - loss: 2.8591e-04 - accuracy: 0.0038 - val_loss: 2.0730e-04 - val_accuracy: 0.0000e+00\n",
            "Epoch 17/20\n",
            "106/106 [==============================] - 3s 31ms/step - loss: 2.8306e-04 - accuracy: 0.0038 - val_loss: 2.8672e-04 - val_accuracy: 0.0000e+00\n",
            "Epoch 18/20\n",
            "106/106 [==============================] - 3s 32ms/step - loss: 2.8425e-04 - accuracy: 0.0038 - val_loss: 1.7252e-04 - val_accuracy: 0.0000e+00\n",
            "Epoch 19/20\n",
            "106/106 [==============================] - 3s 31ms/step - loss: 2.9067e-04 - accuracy: 0.0038 - val_loss: 4.0656e-04 - val_accuracy: 0.0000e+00\n",
            "Epoch 20/20\n",
            "106/106 [==============================] - 3s 29ms/step - loss: 2.7664e-04 - accuracy: 0.0038 - val_loss: 2.7174e-04 - val_accuracy: 0.0000e+00\n"
          ]
        },
        {
          "output_type": "execute_result",
          "data": {
            "text/plain": [
              "<keras.callbacks.History at 0x7ff431234550>"
            ]
          },
          "metadata": {},
          "execution_count": 18
        }
      ]
    },
    {
      "cell_type": "markdown",
      "source": [
        "# Prediction"
      ],
      "metadata": {
        "id": "UFzmX4pE0eOs"
      }
    },
    {
      "cell_type": "code",
      "source": [
        "pred = model.predict(x_test) # 1056일 동안의 데이터로 117일의 주가 예측하기\n",
        "\n",
        "fig = plt.figure(facecolor='white')\n",
        "ax = fig.add_subplot(111)\n",
        "ax.plot(y_test, label='Actual')\n",
        "ax.plot(pred, label='Prediction')\n",
        "ax.legend()\n",
        "plt.show()"
      ],
      "metadata": {
        "colab": {
          "base_uri": "https://localhost:8080/",
          "height": 265
        },
        "id": "Zx2irM-60eXF",
        "outputId": "d526f6fe-6d41-4568-be62-bbba5ed9448b"
      },
      "execution_count": 28,
      "outputs": [
        {
          "output_type": "display_data",
          "data": {
            "text/plain": [
              "<Figure size 432x288 with 1 Axes>"
            ],
            "image/png": "[encoded data removed]"
          },
          "metadata": {}
        }
      ]
    }
  ]
}