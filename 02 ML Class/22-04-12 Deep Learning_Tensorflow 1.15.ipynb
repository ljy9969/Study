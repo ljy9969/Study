{
 "cells": [
  {
   "cell_type": "code",
   "execution_count": 1,
   "id": "60d20fa4",
   "metadata": {
    "scrolled": true
   },
   "outputs": [
    {
     "name": "stdout",
     "output_type": "stream",
     "text": [
      "Once deleted, variables cannot be recovered. Proceed (y/[n])? y\n"
     ]
    }
   ],
   "source": [
    "%reset"
   ]
  },
  {
   "cell_type": "code",
   "execution_count": 2,
   "id": "f3d74bc9",
   "metadata": {
    "scrolled": true
   },
   "outputs": [
    {
     "data": {
      "text/html": [
       "<div>\n",
       "<style scoped>\n",
       "    .dataframe tbody tr th:only-of-type {\n",
       "        vertical-align: middle;\n",
       "    }\n",
       "\n",
       "    .dataframe tbody tr th {\n",
       "        vertical-align: top;\n",
       "    }\n",
       "\n",
       "    .dataframe thead th {\n",
       "        text-align: right;\n",
       "    }\n",
       "</style>\n",
       "<table border=\"1\" class=\"dataframe\">\n",
       "  <thead>\n",
       "    <tr style=\"text-align: right;\">\n",
       "      <th></th>\n",
       "      <th>label</th>\n",
       "      <th>pixel0</th>\n",
       "      <th>pixel1</th>\n",
       "      <th>pixel2</th>\n",
       "      <th>pixel3</th>\n",
       "      <th>pixel4</th>\n",
       "      <th>pixel5</th>\n",
       "      <th>pixel6</th>\n",
       "      <th>pixel7</th>\n",
       "      <th>pixel8</th>\n",
       "      <th>...</th>\n",
       "      <th>pixel774</th>\n",
       "      <th>pixel775</th>\n",
       "      <th>pixel776</th>\n",
       "      <th>pixel777</th>\n",
       "      <th>pixel778</th>\n",
       "      <th>pixel779</th>\n",
       "      <th>pixel780</th>\n",
       "      <th>pixel781</th>\n",
       "      <th>pixel782</th>\n",
       "      <th>pixel783</th>\n",
       "    </tr>\n",
       "  </thead>\n",
       "  <tbody>\n",
       "    <tr>\n",
       "      <th>0</th>\n",
       "      <td>1</td>\n",
       "      <td>0</td>\n",
       "      <td>0</td>\n",
       "      <td>0</td>\n",
       "      <td>0</td>\n",
       "      <td>0</td>\n",
       "      <td>0</td>\n",
       "      <td>0</td>\n",
       "      <td>0</td>\n",
       "      <td>0</td>\n",
       "      <td>...</td>\n",
       "      <td>0</td>\n",
       "      <td>0</td>\n",
       "      <td>0</td>\n",
       "      <td>0</td>\n",
       "      <td>0</td>\n",
       "      <td>0</td>\n",
       "      <td>0</td>\n",
       "      <td>0</td>\n",
       "      <td>0</td>\n",
       "      <td>0</td>\n",
       "    </tr>\n",
       "    <tr>\n",
       "      <th>1</th>\n",
       "      <td>0</td>\n",
       "      <td>0</td>\n",
       "      <td>0</td>\n",
       "      <td>0</td>\n",
       "      <td>0</td>\n",
       "      <td>0</td>\n",
       "      <td>0</td>\n",
       "      <td>0</td>\n",
       "      <td>0</td>\n",
       "      <td>0</td>\n",
       "      <td>...</td>\n",
       "      <td>0</td>\n",
       "      <td>0</td>\n",
       "      <td>0</td>\n",
       "      <td>0</td>\n",
       "      <td>0</td>\n",
       "      <td>0</td>\n",
       "      <td>0</td>\n",
       "      <td>0</td>\n",
       "      <td>0</td>\n",
       "      <td>0</td>\n",
       "    </tr>\n",
       "    <tr>\n",
       "      <th>2</th>\n",
       "      <td>1</td>\n",
       "      <td>0</td>\n",
       "      <td>0</td>\n",
       "      <td>0</td>\n",
       "      <td>0</td>\n",
       "      <td>0</td>\n",
       "      <td>0</td>\n",
       "      <td>0</td>\n",
       "      <td>0</td>\n",
       "      <td>0</td>\n",
       "      <td>...</td>\n",
       "      <td>0</td>\n",
       "      <td>0</td>\n",
       "      <td>0</td>\n",
       "      <td>0</td>\n",
       "      <td>0</td>\n",
       "      <td>0</td>\n",
       "      <td>0</td>\n",
       "      <td>0</td>\n",
       "      <td>0</td>\n",
       "      <td>0</td>\n",
       "    </tr>\n",
       "    <tr>\n",
       "      <th>3</th>\n",
       "      <td>4</td>\n",
       "      <td>0</td>\n",
       "      <td>0</td>\n",
       "      <td>0</td>\n",
       "      <td>0</td>\n",
       "      <td>0</td>\n",
       "      <td>0</td>\n",
       "      <td>0</td>\n",
       "      <td>0</td>\n",
       "      <td>0</td>\n",
       "      <td>...</td>\n",
       "      <td>0</td>\n",
       "      <td>0</td>\n",
       "      <td>0</td>\n",
       "      <td>0</td>\n",
       "      <td>0</td>\n",
       "      <td>0</td>\n",
       "      <td>0</td>\n",
       "      <td>0</td>\n",
       "      <td>0</td>\n",
       "      <td>0</td>\n",
       "    </tr>\n",
       "    <tr>\n",
       "      <th>4</th>\n",
       "      <td>0</td>\n",
       "      <td>0</td>\n",
       "      <td>0</td>\n",
       "      <td>0</td>\n",
       "      <td>0</td>\n",
       "      <td>0</td>\n",
       "      <td>0</td>\n",
       "      <td>0</td>\n",
       "      <td>0</td>\n",
       "      <td>0</td>\n",
       "      <td>...</td>\n",
       "      <td>0</td>\n",
       "      <td>0</td>\n",
       "      <td>0</td>\n",
       "      <td>0</td>\n",
       "      <td>0</td>\n",
       "      <td>0</td>\n",
       "      <td>0</td>\n",
       "      <td>0</td>\n",
       "      <td>0</td>\n",
       "      <td>0</td>\n",
       "    </tr>\n",
       "  </tbody>\n",
       "</table>\n",
       "<p>5 rows × 785 columns</p>\n",
       "</div>"
      ],
      "text/plain": [
       "   label  pixel0  pixel1  pixel2  pixel3  pixel4  pixel5  pixel6  pixel7  \\\n",
       "0      1       0       0       0       0       0       0       0       0   \n",
       "1      0       0       0       0       0       0       0       0       0   \n",
       "2      1       0       0       0       0       0       0       0       0   \n",
       "3      4       0       0       0       0       0       0       0       0   \n",
       "4      0       0       0       0       0       0       0       0       0   \n",
       "\n",
       "   pixel8  ...  pixel774  pixel775  pixel776  pixel777  pixel778  pixel779  \\\n",
       "0       0  ...         0         0         0         0         0         0   \n",
       "1       0  ...         0         0         0         0         0         0   \n",
       "2       0  ...         0         0         0         0         0         0   \n",
       "3       0  ...         0         0         0         0         0         0   \n",
       "4       0  ...         0         0         0         0         0         0   \n",
       "\n",
       "   pixel780  pixel781  pixel782  pixel783  \n",
       "0         0         0         0         0  \n",
       "1         0         0         0         0  \n",
       "2         0         0         0         0  \n",
       "3         0         0         0         0  \n",
       "4         0         0         0         0  \n",
       "\n",
       "[5 rows x 785 columns]"
      ]
     },
     "metadata": {},
     "output_type": "display_data"
    }
   ],
   "source": [
    "# Multinomial Classification by Tensorflow 1.15 ver.\n",
    "\n",
    "import numpy as np\n",
    "import pandas as pd\n",
    "import tensorflow as tf\n",
    "import matplotlib.pyplot as plt\n",
    "from sklearn.preprocessing import MinMaxScaler\n",
    "from sklearn.model_selection import train_test_split\n",
    "\n",
    "# Raw Data Loading\n",
    "df = pd.read_csv('./data/mnist/train.csv')\n",
    "display(df.head()) # (42000, 785)"
   ]
  },
  {
   "cell_type": "code",
   "execution_count": 5,
   "id": "b7213a17",
   "metadata": {
    "scrolled": true
   },
   "outputs": [
    {
     "data": {
      "image/png": "[encoded data removed]",
      "text/plain": [
       "<Figure size 432x288 with 10 Axes>"
      ]
     },
     "metadata": {
      "needs_background": "light"
     },
     "output_type": "display_data"
    }
   ],
   "source": [
    "# 데이터 전처리 : 결측치나 이상치 없음. 단, 정규화는 필요함\n",
    "\n",
    "# 이미지 확인\n",
    "img_data = df.drop('label', axis=1, inplace=False).values\n",
    "\n",
    "figure = plt.figure()\n",
    "ax_arr = []\n",
    "\n",
    "for n in range(10):\n",
    "    ax_arr.append(figure.add_subplot(2,5,n+1))\n",
    "    ax_arr[n].imshow(img_data[n].reshape(28,28), # 28 x 28 픽셀로 변환\n",
    "                     cmap='Greys', # cmap은 흑백 이미지 처리\n",
    "                     interpolation='nearest') # interpolation는 보간법(이미지 깨지지 않도록)\n",
    "    \n",
    "plt.tight_layout()\n",
    "plt.show()"
   ]
  },
  {
   "cell_type": "code",
   "execution_count": 3,
   "id": "4edd4d86",
   "metadata": {},
   "outputs": [
    {
     "name": "stdout",
     "output_type": "stream",
     "text": [
      "WARNING:tensorflow:From C:\\Users\\dhl99\\AppData\\Local\\Temp\\ipykernel_17728\\504970380.py:16: The name tf.Session is deprecated. Please use tf.compat.v1.Session instead.\n",
      "\n",
      "WARNING:tensorflow:From C:\\Users\\dhl99\\AppData\\Local\\Temp\\ipykernel_17728\\504970380.py:22: The name tf.placeholder is deprecated. Please use tf.compat.v1.placeholder instead.\n",
      "\n"
     ]
    }
   ],
   "source": [
    "import warnings\n",
    "warnings.filterwarnings('ignore')\n",
    "\n",
    "# Data Split\n",
    "train_x_data, test_x_data, train_t_data, test_t_data = \\\n",
    "train_test_split(df.drop('label', axis=1, inplace=False), df['label'], test_size=0.3, random_state=1, stratify=df['label'])\n",
    "\n",
    "# 정규화\n",
    "scaler = MinMaxScaler()\n",
    "scaler.fit(train_x_data)\n",
    "\n",
    "norm_train_x_data = scaler.transform(train_x_data)\n",
    "norm_test_x_data = scaler.transform(test_x_data)\n",
    "\n",
    "# One-Hot Encoding 처리\n",
    "sess = tf.Session()\n",
    "\n",
    "onehot_train_t_data = sess.run(tf.one_hot(train_t_data, depth=10))\n",
    "onehot_test_t_data = sess.run(tf.one_hot(test_t_data, depth=10))\n",
    "\n",
    "# Placeholder\n",
    "X = tf.placeholder(shape=[None,784], dtype=tf.float32) # 독립변수(feature)의 개수\n",
    "T = tf.placeholder(shape=[None,10], dtype=tf.float32) # class의 logistic 개수"
   ]
  },
  {
   "cell_type": "code",
   "execution_count": null,
   "id": "6a3f873d",
   "metadata": {},
   "outputs": [
    {
     "name": "stdout",
     "output_type": "stream",
     "text": [
      "WARNING:tensorflow:From C:\\Users\\dhl99\\AppData\\Local\\Temp\\ipykernel_19660\\1758388434.py:16: The name tf.Session is deprecated. Please use tf.compat.v1.Session instead.\n",
      "\n",
      "WARNING:tensorflow:From C:\\Users\\dhl99\\AppData\\Local\\Temp\\ipykernel_19660\\1758388434.py:22: The name tf.placeholder is deprecated. Please use tf.compat.v1.placeholder instead.\n",
      "\n",
      "WARNING:tensorflow:From C:\\Users\\dhl99\\AppData\\Local\\Temp\\ipykernel_19660\\1758388434.py:37: The name tf.train.GradientDescentOptimizer is deprecated. Please use tf.compat.v1.train.GradientDescentOptimizer instead.\n",
      "\n",
      "WARNING:tensorflow:From C:\\Users\\dhl99\\AppData\\Local\\Temp\\ipykernel_19660\\1758388434.py:40: The name tf.global_variables_initializer is deprecated. Please use tf.compat.v1.global_variables_initializer instead.\n",
      "\n",
      "loss 값 : 15.461518287658691\n",
      "loss 값 : 1.326549768447876\n"
     ]
    }
   ],
   "source": [
    "# Weight, bias\n",
    "W = tf.Variable(tf.random.normal([784,10])) # 독립변수 784개, 종속변수 10개. W는 7840개\n",
    "b = tf.Variable(tf.random.normal([10])) # = logistic 개수\n",
    "\n",
    "# Model, Hypothesis\n",
    "logit = tf.matmul(X,W) + b\n",
    "H = tf.nn.softmax(logit)\n",
    "\n",
    "# Cross Entropy(loss func)\n",
    "loss = tf.reduce_mean(tf.nn.softmax_cross_entropy_with_logits_v2(logits=logit, labels=T))\n",
    "\n",
    "# Train\n",
    "train = tf.train.GradientDescentOptimizer(learning_rate=1e-1).minimize(loss)\n",
    "\n",
    "# Session 초기화\n",
    "sess.run(tf.global_variables_initializer())\n",
    "\n",
    "# 반복 학습\n",
    "for step in range(5000):\n",
    "    \n",
    "    tmp, loss_val = sess.run([train, loss], feed_dict={X:norm_train_x_data, T:onehot_train_t_data})\n",
    "    \n",
    "    if step % 500 == 0:\n",
    "        print('loss 값 : {}'.format(loss_val))"
   ]
  },
  {
   "cell_type": "code",
   "execution_count": 11,
   "id": "ce716007",
   "metadata": {},
   "outputs": [
    {
     "name": "stdout",
     "output_type": "stream",
     "text": [
      "train 데이터의 정확도 : 0.7808163166046143\n",
      "test 데이터의 정확도 : 0.7566666603088379\n"
     ]
    }
   ],
   "source": [
    "# 성능평가(Accuracy)\n",
    "predict = tf.argmax(H,1) # axis=1(열 방향)으로 가장 큰 요소를 찾아라\n",
    "correct = tf.equal(predict, tf.argmax(T,1)) # 예측과 정답이 맞는지에 대한 Boolean\n",
    "accuracy = tf.reduce_mean(tf.cast(correct, dtype=tf.float32)) # Boolean을 실수로 바뀜\n",
    "\n",
    "# 학습 데이터로 성능평가를 하면 안됨! 이마저도 낮다면 학습이 안 된 것!\n",
    "train_result = sess.run(accuracy, feed_dict={X:norm_train_x_data, T:onehot_train_t_data})\n",
    "print('train 데이터의 정확도 : {}'.format(train_result)) # 0.8769387602806091\n",
    "\n",
    "result = sess.run(accuracy, feed_dict={X:norm_test_x_data, T:onehot_test_t_data})\n",
    "print('test 데이터의 정확도 : {}'.format(result)) # 0.8660317659378052"
   ]
  },
  {
   "cell_type": "code",
   "execution_count": 8,
   "id": "f04d256a",
   "metadata": {},
   "outputs": [
    {
     "name": "stdout",
     "output_type": "stream",
     "text": [
      "loss 값 : 11.550267219543457\n",
      "loss 값 : 2.205697536468506\n",
      "loss 값 : 1.5338445901870728\n",
      "loss 값 : 1.245466947555542\n",
      "loss 값 : 1.0781234502792358\n",
      "loss 값 : 0.9658823609352112\n",
      "loss 값 : 0.8839429616928101\n",
      "loss 값 : 0.8205621838569641\n",
      "loss 값 : 0.7695373892784119\n",
      "loss 값 : 0.7272635698318481\n"
     ]
    }
   ],
   "source": [
    "# Multinomial Classification by Tensorflow 1.15 ver. w/h Neural Network\n",
    "# (Weight 초기화, Activation 변경, Dropout은 일단 제외)\n",
    "\n",
    "# Weight, bias\n",
    "W2 = tf.Variable(tf.random.normal([784,256]))\n",
    "b2 = tf.Variable(tf.random.normal([256]))\n",
    "layer2 = tf.sigmoid(tf.matmul(X,W2) + b2)\n",
    "\n",
    "W3 = tf.Variable(tf.random.normal([256,128]))\n",
    "b3 = tf.Variable(tf.random.normal([128]))\n",
    "layer3 = tf.sigmoid(tf.matmul(layer2,W3) + b3)\n",
    "\n",
    "W4 = tf.Variable(tf.random.normal([128,10]))\n",
    "b4 = tf.Variable(tf.random.normal([10]))\n",
    "\n",
    "# Model, Hypothesis\n",
    "logit = tf.matmul(layer3,W4) + b4\n",
    "H = tf.nn.softmax(logit)\n",
    "\n",
    "# Cross Entropy(loss func)\n",
    "loss = tf.reduce_mean(tf.nn.softmax_cross_entropy_with_logits_v2(logits=logit, labels=T))\n",
    "\n",
    "# Train\n",
    "train = tf.train.GradientDescentOptimizer(learning_rate=1e-1).minimize(loss)\n",
    "\n",
    "# Session 초기화\n",
    "sess.run(tf.global_variables_initializer())\n",
    "\n",
    "# 반복 학습\n",
    "for step in range(1000):\n",
    "    \n",
    "    tmp, loss_val = sess.run([train, loss], feed_dict={X:norm_train_x_data, T:onehot_train_t_data})\n",
    "    \n",
    "    if step % 100 == 0:\n",
    "        print('loss 값 : {}'.format(loss_val))"
   ]
  },
  {
   "cell_type": "code",
   "execution_count": 12,
   "id": "224fd308",
   "metadata": {},
   "outputs": [
    {
     "name": "stdout",
     "output_type": "stream",
     "text": [
      "train 데이터의 정확도 : 0.7808163166046143\n",
      "test 데이터의 정확도 : 0.7566666603088379\n"
     ]
    }
   ],
   "source": [
    "# NN 구현의 성능평가(Accuracy)\n",
    "predict = tf.argmax(H,1) # axis=1(열 방향)으로 가장 큰 요소를 찾아라\n",
    "correct = tf.equal(predict, tf.argmax(T,1)) # 예측과 정답이 맞는지에 대한 Boolean\n",
    "accuracy = tf.reduce_mean(tf.cast(correct, dtype=tf.float32)) # Boolean을 실수로 바뀜\n",
    "\n",
    "# 학습 데이터로 성능평가를 하면 안됨! 이마저도 낮다면 학습이 안 된 것!\n",
    "train_result = sess.run(accuracy, feed_dict={X:norm_train_x_data, T:onehot_train_t_data})\n",
    "print('train 데이터의 정확도 : {}'.format(train_result)) # 0.7808163166046143\n",
    "\n",
    "result = sess.run(accuracy, feed_dict={X:norm_test_x_data, T:onehot_test_t_data})\n",
    "print('test 데이터의 정확도 : {}'.format(result)) # 0.7566666603088379"
   ]
  },
  {
   "cell_type": "code",
   "execution_count": 4,
   "id": "6f6e7f82",
   "metadata": {},
   "outputs": [
    {
     "name": "stdout",
     "output_type": "stream",
     "text": [
      "WARNING:tensorflow:From C:\\Users\\dhl99\\AppData\\Local\\Temp\\ipykernel_17728\\1336198900.py:9: The name tf.get_variable is deprecated. Please use tf.compat.v1.get_variable instead.\n",
      "\n",
      "WARNING:tensorflow:\n",
      "The TensorFlow contrib module will not be included in TensorFlow 2.0.\n",
      "For more information, please see:\n",
      "  * https://github.com/tensorflow/community/blob/master/rfcs/20180907-contrib-sunset.md\n",
      "  * https://github.com/tensorflow/addons\n",
      "  * https://github.com/tensorflow/io (for I/O related ops)\n",
      "If you depend on functionality not listed there, please file an issue.\n",
      "\n",
      "WARNING:tensorflow:From C:\\Users\\dhl99\\AppData\\Local\\Temp\\ipykernel_17728\\1336198900.py:39: The name tf.train.GradientDescentOptimizer is deprecated. Please use tf.compat.v1.train.GradientDescentOptimizer instead.\n",
      "\n",
      "WARNING:tensorflow:From C:\\Users\\dhl99\\AppData\\Local\\Temp\\ipykernel_17728\\1336198900.py:42: The name tf.global_variables_initializer is deprecated. Please use tf.compat.v1.global_variables_initializer instead.\n",
      "\n",
      "loss 값 : 3.470918655395508\n",
      "loss 값 : 0.3408123850822449\n",
      "loss 값 : 0.24845963716506958\n",
      "loss 값 : 0.19750212132930756\n",
      "loss 값 : 0.16650672256946564\n",
      "loss 값 : 0.14401407539844513\n",
      "loss 값 : 0.12636609375476837\n",
      "loss 값 : 0.10995304584503174\n",
      "loss 값 : 0.09653723984956741\n",
      "loss 값 : 0.09178952872753143\n"
     ]
    }
   ],
   "source": [
    "# Multinomial Classification by Tensorflow 1.15 ver. w/h Deep Learning\n",
    "# (Weight 초기화, Activation 변경 : Sigmoid -> ReLU, Dropout)\n",
    "\n",
    "import warnings\n",
    "warnings.filterwarnings('ignore')\n",
    "\n",
    "# Weight, bias\n",
    "# W2 = tf.Variable(tf.random.normal([784,256]))\n",
    "W2 = tf.get_variable('W2', shape=[784,256],\n",
    "                     initializer=tf.contrib.layers.xavier_initializer())\n",
    "b2 = tf.Variable(tf.random.normal([256]))\n",
    "_layer2 = tf.nn.relu(tf.matmul(X,W2) + b2)\n",
    "layer2 = tf.nn.dropout(_layer2, rate=0.3) # 30% Drop-out\n",
    "\n",
    "# W3 = tf.Variable(tf.random.normal([256,128]))\n",
    "W3 = tf.get_variable('W3', shape=[256,128],\n",
    "                     initializer=tf.contrib.layers.xavier_initializer())\n",
    "# W3 = tf.get_variable('W3', shape=[256,128],\n",
    "#                      initializer=tf.contrib.layers.variance_scaling_initializer())\n",
    "b3 = tf.Variable(tf.random.normal([128]))\n",
    "_layer3 = tf.nn.relu(tf.matmul(layer2,W3) + b3)\n",
    "layer3 = tf.nn.dropout(_layer3, rate=0.3)\n",
    "\n",
    "# W4 = tf.Variable(tf.random.normal([128,10]))\n",
    "W4 = tf.get_variable('W4', shape=[128,10],\n",
    "                     initializer=tf.contrib.layers.xavier_initializer())\n",
    "# W4 = tf.get_variable('W4', shape=[128,10],\n",
    "#                      initializer=tf.contrib.layers.variance_scaling__initializer())\n",
    "b4 = tf.Variable(tf.random.normal([10]))\n",
    "\n",
    "# Model, Hypothesis\n",
    "logit = tf.matmul(layer3,W4) + b4\n",
    "H = tf.nn.softmax(logit)\n",
    "\n",
    "# Cross Entropy(loss func)\n",
    "loss = tf.reduce_mean(tf.nn.softmax_cross_entropy_with_logits_v2(logits=logit, labels=T))\n",
    "\n",
    "# Train\n",
    "train = tf.train.GradientDescentOptimizer(learning_rate=1e-1).minimize(loss)\n",
    "\n",
    "# Session 초기화\n",
    "sess.run(tf.global_variables_initializer())\n",
    "\n",
    "# 반복 학습\n",
    "for step in range(5000):\n",
    "    \n",
    "    tmp, loss_val = sess.run([train, loss], feed_dict={X:norm_train_x_data, T:onehot_train_t_data})\n",
    "    \n",
    "    if step % 500 == 0:\n",
    "        print('loss 값 : {}'.format(loss_val))"
   ]
  },
  {
   "cell_type": "code",
   "execution_count": 5,
   "id": "323094aa",
   "metadata": {},
   "outputs": [
    {
     "name": "stdout",
     "output_type": "stream",
     "text": [
      "train 데이터의 정확도 : 0.9743537306785583\n",
      "test 데이터의 정확도 : 0.9568253755569458\n"
     ]
    }
   ],
   "source": [
    "# Deep Learning 구현의 성능평가(Accuracy)\n",
    "predict = tf.argmax(H,1)\n",
    "correct = tf.equal(predict, tf.argmax(T,1))\n",
    "accuracy = tf.reduce_mean(tf.cast(correct, dtype=tf.float32))\n",
    "\n",
    "# 학습 데이터로 성능평가를 하면 안됨! 이마저도 낮다면 학습이 안 된 것!\n",
    "train_result = sess.run(accuracy, feed_dict={X:norm_train_x_data, T:onehot_train_t_data})\n",
    "print('train 데이터의 정확도 : {}'.format(train_result)) # 0.9743537306785583\n",
    "\n",
    "result = sess.run(accuracy, feed_dict={X:norm_test_x_data, T:onehot_test_t_data})\n",
    "print('test 데이터의 정확도 : {}'.format(result)) # 0.9568253755569458"
   ]
  }
 ],
 "metadata": {
  "kernelspec": {
   "display_name": "Python [conda env:machine_TF15] *",
   "language": "python",
   "name": "conda-env-machine_TF15-py"
  },
  "language_info": {
   "codemirror_mode": {
    "name": "ipython",
    "version": 3
   },
   "file_extension": ".py",
   "mimetype": "text/x-python",
   "name": "python",
   "nbconvert_exporter": "python",
   "pygments_lexer": "ipython3",
   "version": "3.7.13"
  }
 },
 "nbformat": 4,
 "nbformat_minor": 5
}
