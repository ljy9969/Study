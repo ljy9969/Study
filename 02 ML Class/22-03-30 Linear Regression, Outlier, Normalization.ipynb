{
 "cells": [
  {
   "cell_type": "code",
   "execution_count": 18,
   "id": "f16f9ccc",
   "metadata": {
    "scrolled": true
   },
   "outputs": [
    {
     "name": "stdout",
     "output_type": "stream",
     "text": [
      "11.5 - 4.5 = 7.0\n",
      "[22.1]\n",
      "[ 1.  2.  3.  4.  5.  6.  7.  8.  9. 10. 11. 12. 13. 14.]\n"
     ]
    },
    {
     "data": {
      "image/png": "[encoded data removed]",
      "text/plain": [
       "<Figure size 432x288 with 2 Axes>"
      ]
     },
     "metadata": {
      "needs_background": "light"
     },
     "output_type": "display_data"
    }
   ],
   "source": [
    "# 이상치(Outlier)를 판단하는 Turkey Fence\n",
    "\n",
    "import numpy as np\n",
    "import matplotlib.pyplot as plt\n",
    "\n",
    "data = np.array([1, 2, 3, 4, 5, 6, 7, 8, 9, 10, 11, 12, 13, 14, 22.1])\n",
    "\n",
    "figure = plt.figure()\n",
    "\n",
    "ax1 = figure.add_subplot(1,2,1) # 1행 2열의 첫번째\n",
    "ax2 = figure.add_subplot(1,2,2) # 1행 2열의 두번째\n",
    "\n",
    "ax1.set_title('Original Data Boxplot')\n",
    "ax1.boxplot(data)\n",
    "\n",
    "# 사분위 값을 구하는 Numpy의 함수. 사분위 범위(IQR)\n",
    "first = np.percentile(data, 25) # 1사분위(Q1, 25%)\n",
    "third = np.percentile(data, 75) # 3사분위(Q3, 75%)\n",
    "\n",
    "IQR_value = third - first\n",
    "print(third, '-', first, '=', IQR_value)\n",
    "\n",
    "upper_fence = third + (IQR_value * 1.5)\n",
    "lower_fence = first - (IQR_value * 1.5)\n",
    "\n",
    "# boolean indexing을 이용해서 이상치를 추출하자\n",
    "print(data[(data > upper_fence) | (data < lower_fence)]) # [22.1]. |은 or 연산\n",
    "\n",
    "# boolean indexing을 이용해서 이상치를 제거하고 나머지 데이터를 추출하자\n",
    "result = data[(data <= upper_fence) & (data >= lower_fence)]\n",
    "print(result) # [ 1.  2.  3.  4.  5.  6.  7.  8.  9. 10. 11. 12. 13. 14.]\n",
    "\n",
    "ax2.boxplot(result)\n",
    "ax2.set_title('Turkey Fence')\n",
    "plt.show()"
   ]
  },
  {
   "cell_type": "code",
   "execution_count": 24,
   "id": "f0255bb1",
   "metadata": {},
   "outputs": [
    {
     "name": "stdout",
     "output_type": "stream",
     "text": [
      "[-1.40160702 -1.21405925 -1.02651147 -0.8389637  -0.65141593 -0.46386816\n",
      " -0.27632038 -0.08877261  0.09877516  0.28632293  0.4738707   0.66141848\n",
      "  0.84896625  1.03651402  2.55565098]\n"
     ]
    }
   ],
   "source": [
    "# 이상치(Outlier)를 판단하는 표준화 방법(Z-Score)\n",
    "\n",
    "data = np.array([1, 2, 3, 4, 5, 6, 7, 8, 9, 10, 11, 12, 13, 14, 22.1])\n",
    "\n",
    "mean = data.mean() # 8.473333333333333\n",
    "std = data.std() # 5.331974826980671\n",
    "\n",
    "zscore_data = (data - mean) / std\n",
    "\n",
    "print(zscore_data)"
   ]
  },
  {
   "cell_type": "code",
   "execution_count": 39,
   "id": "f1e1cebb",
   "metadata": {},
   "outputs": [
    {
     "name": "stdout",
     "output_type": "stream",
     "text": [
      "[-10.   22.1]\n"
     ]
    },
    {
     "data": {
      "text/plain": [
       "array([ 1.,  2.,  3.,  4.,  5.,  6.,  7.,  8.,  9., 10., 11., 12., 13.,\n",
       "       14.])"
      ]
     },
     "execution_count": 39,
     "metadata": {},
     "output_type": "execute_result"
    }
   ],
   "source": [
    "# scipy는 sklearn과 유사한 통계전용 모듈\n",
    "\n",
    "from scipy import stats\n",
    "\n",
    "data = np.array([-10, 1, 2, 3, 4, 5, 6, 7, 8, 9, 10, 11, 12, 13, 14, 22.1])\n",
    "\n",
    "zscore_threshold = 2.0 # 일반적인 기준\n",
    "\n",
    "# print(np.abs(stats.zscore(data))) # np.abs로 z-score의 절대값을 구해서 -2 ~ 2 범위 내의 것들을 구함\n",
    "\n",
    "outlier = data[np.abs(stats.zscore(data)) > zscore_threshold]\n",
    "# print(outlier) # [-10.   22.1]\n",
    "\n",
    "data[np.isin(data, outlier, invert=True)] # invert=True 옵션을 주면 True False를 역으로 바꿀 수 있음\n",
    "# array([ 1.,  2.,  3.,  4.,  5.,  6.,  7.,  8.,  9., 10., 11., 12., 13.,\n",
    "#        14.])"
   ]
  },
  {
   "cell_type": "code",
   "execution_count": 54,
   "id": "af265aa2",
   "metadata": {},
   "outputs": [
    {
     "name": "stdout",
     "output_type": "stream",
     "text": [
      "W : [[0.49575807]], b : [0.37397524], loss : 493.2677739116658\n",
      "W : [[0.63002676]], b : [-10.24092639], loss : 455.6734091331335\n",
      "W : [[0.7538855]], b : [-19.96351262], loss : 424.1385353365726\n",
      "W : [[0.86733249]], b : [-28.86880395], loss : 397.6825613992969\n",
      "W : [[0.97124295]], b : [-37.02550341], loss : 375.48749693135693\n",
      "W : [[1.06641856]], b : [-44.49653871], loss : 356.86709429802477\n",
      "W : [[1.15359356]], b : [-51.3395478], loss : 341.2456305836442\n",
      "W : [[1.2334405]], b : [-57.60732349], loss : 328.1401068532783\n",
      "W : [[1.30657539]], b : [-63.34822073], loss : 317.1453143429463\n",
      "W : [[1.37356245]], b : [-68.60652972], loss : 307.9213058384321\n"
     ]
    }
   ],
   "source": [
    "# 온도에 따른 Ozone량 예측 -> Python 구현 + 결측치와 이상치 처리도 같이 진행\n",
    "import numpy as np\n",
    "import pandas as pd\n",
    "import matplotlib.pyplot as plt\n",
    "from scipy import stats\n",
    "import warnings\n",
    "warnings.filterwarnings('ignore')\n",
    "\n",
    "# 다변수 함수의 수치미분 코드\n",
    "def numerical_derivative(f,x):\n",
    "\n",
    "    delta_x = 1e-4\n",
    "    derivative_x = np.zeros_like(x)\n",
    "\n",
    "    it = np.nditer(x, flags=['multi_index'])\n",
    "\n",
    "    while not it.finished:\n",
    "        \n",
    "        idx = it.multi_index\n",
    "        tmp = x[idx]\n",
    "\n",
    "        x[idx] = tmp + delta_x\n",
    "        fx_plus_delta = f(x)\n",
    "\n",
    "        x[idx] = tmp - delta_x\n",
    "        fx_minus_delta = f(x)\n",
    "\n",
    "        derivative_x[idx] = (fx_plus_delta - fx_minus_delta) / (2 * delta_x)\n",
    "\n",
    "        x[idx] = tmp\n",
    "        it.iternext()\n",
    "        \n",
    "    return derivative_x\n",
    "\n",
    "# Raw Data Set Loading\n",
    "df = pd.read_csv('./data/ozone.csv')\n",
    "training_data = df[['Ozone', 'Temp']]\n",
    "\n",
    "training_data.dropna(how='any', inplace=True) # 결치가 존재하는 행을 삭제\n",
    "\n",
    "# 데이터에 이상치가 있는지 확인하고 제거\n",
    "zscore_threshold = 2.0\n",
    "outlier = training_data['Ozone'][(np.abs(stats.zscore(training_data['Ozone'])) > zscore_threshold)]\n",
    "training_data = training_data.loc[np.isin(training_data['Ozone'], outlier, invert=True)]\n",
    "\n",
    "# Training Data Set\n",
    "x_data = training_data['Temp'].values.reshape(-1,1)\n",
    "t_data = training_data['Ozone'].values.reshape(-1,1)\n",
    "\n",
    "# Weight, bias\n",
    "W = np.random.rand(1,1)\n",
    "b = np.random.rand(1)\n",
    "\n",
    "# loss function\n",
    "def loss_func(input_data):\n",
    "    W = input_data[0].reshape(1,1)\n",
    "    b = input_data[1]\n",
    "    \n",
    "    y = np.dot(x_data, W) + b\n",
    "    return np.mean(np.power(t_data-y,2))\n",
    "\n",
    "# predict\n",
    "def predict(x):\n",
    "    y = np.dot(x, W) + b\n",
    "    return y\n",
    "\n",
    "# learning_rate\n",
    "learning_rate = 1e-4\n",
    "\n",
    "# 반복 학습\n",
    "for step in range(300000):\n",
    "    \n",
    "    input_param = np.concatenate((W.ravel(), b.ravel()), axis=0)\n",
    "    derivative_result = learning_rate * numerical_derivative(loss_func, input_param)\n",
    "    \n",
    "    W = W - derivative_result[0].reshape(1,1)\n",
    "    b = b - derivative_result[1]\n",
    "    \n",
    "    if step % 30000 == 0:\n",
    "        input_param = np.concatenate((W.ravel(), b.ravel()), axis=0)\n",
    "        print('W : {}, b : {}, loss : {}'.format(W, b, loss_func(input_param)))"
   ]
  },
  {
   "cell_type": "code",
   "execution_count": 55,
   "id": "b54fad98",
   "metadata": {},
   "outputs": [
    {
     "name": "stdout",
     "output_type": "stream",
     "text": [
      "온도가 62일 때 오존량 : [[15.5421609]]\n"
     ]
    }
   ],
   "source": [
    "# 학습종료 후 예측 (Temp : 62)\n",
    "predict_data = predict(np.array([[62]]))\n",
    "print('온도가 62일 때 오존량 : {}'.format(predict_data)) # [[15.5421609]]"
   ]
  },
  {
   "cell_type": "code",
   "execution_count": 56,
   "id": "2b8a6f70",
   "metadata": {},
   "outputs": [
    {
     "data": {
      "image/png": "[encoded data removed]",
      "text/plain": [
       "<Figure size 432x288 with 1 Axes>"
      ]
     },
     "metadata": {
      "needs_background": "light"
     },
     "output_type": "display_data"
    }
   ],
   "source": [
    "# 그래프로 표현해보자\n",
    "import matplotlib.pyplot as plt\n",
    "\n",
    "plt.scatter(x_data.ravel(), t_data.ravel())\n",
    "plt.plot(x_data.ravel(), x_data.ravel()*W.ravel() + b, color='r')\n",
    "plt.show()"
   ]
  },
  {
   "cell_type": "code",
   "execution_count": 57,
   "id": "27a0a8bd",
   "metadata": {
    "scrolled": true
   },
   "outputs": [
    {
     "name": "stdout",
     "output_type": "stream",
     "text": [
      "sklearn으로 구한 온도가 62도 일 때의 오존량 : [[4.51299041]]\n"
     ]
    },
    {
     "data": {
      "image/png": "[encoded data removed]",
      "text/plain": [
       "<Figure size 432x288 with 1 Axes>"
      ]
     },
     "metadata": {
      "needs_background": "light"
     },
     "output_type": "display_data"
    }
   ],
   "source": [
    "import numpy as np\n",
    "import pandas as pd\n",
    "import matplotlib.pyplot as plt\n",
    "from sklearn import linear_model\n",
    "import warnings\n",
    "warnings.filterwarnings('ignore')\n",
    "\n",
    "# Raw Data Set Loading\n",
    "df = pd.read_csv('./data/ozone.csv')\n",
    "\n",
    "# Linear Regression으로 하나의 독립변수만 사용함\n",
    "training_data = df[['Ozone', 'Temp']]\n",
    "\n",
    "# 결치가 존재하는 행을 삭제\n",
    "training_data.dropna(how='any', inplace=True)\n",
    "\n",
    "# 데이터에 이상치가 있는지 확인하고 제거\n",
    "zscore_threshold = 2.0\n",
    "outlier = training_data['Ozone'][(np.abs(stats.zscore(training_data['Ozone'])) > zscore_threshold)]\n",
    "training_data = training_data.loc[np.isin(training_data['Ozone'], outlier, invert=True)]\n",
    "\n",
    "# Training Data Set\n",
    "x_data = training_data['Temp'].values.reshape(-1,1)\n",
    "t_data = training_data['Ozone'].values.reshape(-1,1)\n",
    "\n",
    "# model 생성\n",
    "model = linear_model.LinearRegression()\n",
    "\n",
    "# model 학습\n",
    "model.fit(x_data, t_data)\n",
    "\n",
    "# 예측\n",
    "result = model.predict(np.array([[62]]))\n",
    "print('sklearn으로 구한 온도가 62도 일 때의 오존량 : {}'.format(result)) # [[4.51299041]]\n",
    "\n",
    "# 그래프 표현\n",
    "plt.scatter(x_data.ravel(), t_data.ravel())\n",
    "plt.plot(x_data.ravel(), \n",
    "         x_data.ravel()*model.coef_.ravel() + model.intercept_, color='g')\n",
    "plt.show()"
   ]
  },
  {
   "cell_type": "code",
   "execution_count": 66,
   "id": "ad70813b",
   "metadata": {
    "scrolled": true
   },
   "outputs": [
    {
     "data": {
      "text/html": [
       "<div>\n",
       "<style scoped>\n",
       "    .dataframe tbody tr th:only-of-type {\n",
       "        vertical-align: middle;\n",
       "    }\n",
       "\n",
       "    .dataframe tbody tr th {\n",
       "        vertical-align: top;\n",
       "    }\n",
       "\n",
       "    .dataframe thead th {\n",
       "        text-align: right;\n",
       "    }\n",
       "</style>\n",
       "<table border=\"1\" class=\"dataframe\">\n",
       "  <thead>\n",
       "    <tr style=\"text-align: right;\">\n",
       "      <th></th>\n",
       "      <th>age</th>\n",
       "      <th>fare</th>\n",
       "    </tr>\n",
       "  </thead>\n",
       "  <tbody>\n",
       "    <tr>\n",
       "      <th>0</th>\n",
       "      <td>22.0</td>\n",
       "      <td>7.2500</td>\n",
       "    </tr>\n",
       "    <tr>\n",
       "      <th>1</th>\n",
       "      <td>38.0</td>\n",
       "      <td>71.2833</td>\n",
       "    </tr>\n",
       "    <tr>\n",
       "      <th>2</th>\n",
       "      <td>26.0</td>\n",
       "      <td>7.9250</td>\n",
       "    </tr>\n",
       "    <tr>\n",
       "      <th>3</th>\n",
       "      <td>35.0</td>\n",
       "      <td>53.1000</td>\n",
       "    </tr>\n",
       "    <tr>\n",
       "      <th>4</th>\n",
       "      <td>35.0</td>\n",
       "      <td>8.0500</td>\n",
       "    </tr>\n",
       "  </tbody>\n",
       "</table>\n",
       "</div>"
      ],
      "text/plain": [
       "    age     fare\n",
       "0  22.0   7.2500\n",
       "1  38.0  71.2833\n",
       "2  26.0   7.9250\n",
       "3  35.0  53.1000\n",
       "4  35.0   8.0500"
      ]
     },
     "metadata": {},
     "output_type": "display_data"
    },
    {
     "data": {
      "text/html": [
       "<div>\n",
       "<style scoped>\n",
       "    .dataframe tbody tr th:only-of-type {\n",
       "        vertical-align: middle;\n",
       "    }\n",
       "\n",
       "    .dataframe tbody tr th {\n",
       "        vertical-align: top;\n",
       "    }\n",
       "\n",
       "    .dataframe thead th {\n",
       "        text-align: right;\n",
       "    }\n",
       "</style>\n",
       "<table border=\"1\" class=\"dataframe\">\n",
       "  <thead>\n",
       "    <tr style=\"text-align: right;\">\n",
       "      <th></th>\n",
       "      <th>age</th>\n",
       "      <th>fare</th>\n",
       "    </tr>\n",
       "  </thead>\n",
       "  <tbody>\n",
       "    <tr>\n",
       "      <th>0</th>\n",
       "      <td>0.271174</td>\n",
       "      <td>0.014151</td>\n",
       "    </tr>\n",
       "    <tr>\n",
       "      <th>1</th>\n",
       "      <td>0.472229</td>\n",
       "      <td>0.139136</td>\n",
       "    </tr>\n",
       "    <tr>\n",
       "      <th>2</th>\n",
       "      <td>0.321438</td>\n",
       "      <td>0.015469</td>\n",
       "    </tr>\n",
       "    <tr>\n",
       "      <th>3</th>\n",
       "      <td>0.434531</td>\n",
       "      <td>0.103644</td>\n",
       "    </tr>\n",
       "    <tr>\n",
       "      <th>4</th>\n",
       "      <td>0.434531</td>\n",
       "      <td>0.015713</td>\n",
       "    </tr>\n",
       "  </tbody>\n",
       "</table>\n",
       "</div>"
      ],
      "text/plain": [
       "        age      fare\n",
       "0  0.271174  0.014151\n",
       "1  0.472229  0.139136\n",
       "2  0.321438  0.015469\n",
       "3  0.434531  0.103644\n",
       "4  0.434531  0.015713"
      ]
     },
     "metadata": {},
     "output_type": "display_data"
    }
   ],
   "source": [
    "# 정규화 작업을 포함해서 모델 학습 진행(Min-Max Scaling) - Python\n",
    "\n",
    "import pandas as pd\n",
    "import seaborn as sns\n",
    "\n",
    "titanic = sns.load_dataset('titanic')\n",
    "df = titanic[['age', 'fare']]\n",
    "\n",
    "display(df.head())\n",
    "\n",
    "def min_max(s):\n",
    "    return (s - s.min()) / (s.max() - s.min())\n",
    "\n",
    "result = df.apply(min_max, axis=0)\n",
    "\n",
    "display(result.head())"
   ]
  },
  {
   "cell_type": "code",
   "execution_count": 182,
   "id": "43ecc53b",
   "metadata": {
    "scrolled": false
   },
   "outputs": [
    {
     "data": {
      "text/html": [
       "<div>\n",
       "<style scoped>\n",
       "    .dataframe tbody tr th:only-of-type {\n",
       "        vertical-align: middle;\n",
       "    }\n",
       "\n",
       "    .dataframe tbody tr th {\n",
       "        vertical-align: top;\n",
       "    }\n",
       "\n",
       "    .dataframe thead th {\n",
       "        text-align: right;\n",
       "    }\n",
       "</style>\n",
       "<table border=\"1\" class=\"dataframe\">\n",
       "  <thead>\n",
       "    <tr style=\"text-align: right;\">\n",
       "      <th></th>\n",
       "      <th>Ozone</th>\n",
       "      <th>Temp</th>\n",
       "    </tr>\n",
       "  </thead>\n",
       "  <tbody>\n",
       "    <tr>\n",
       "      <th>0</th>\n",
       "      <td>0.416667</td>\n",
       "      <td>0.250</td>\n",
       "    </tr>\n",
       "    <tr>\n",
       "      <th>1</th>\n",
       "      <td>0.364583</td>\n",
       "      <td>0.375</td>\n",
       "    </tr>\n",
       "    <tr>\n",
       "      <th>2</th>\n",
       "      <td>0.114583</td>\n",
       "      <td>0.425</td>\n",
       "    </tr>\n",
       "    <tr>\n",
       "      <th>3</th>\n",
       "      <td>0.177083</td>\n",
       "      <td>0.125</td>\n",
       "    </tr>\n",
       "    <tr>\n",
       "      <th>5</th>\n",
       "      <td>0.281250</td>\n",
       "      <td>0.225</td>\n",
       "    </tr>\n",
       "  </tbody>\n",
       "</table>\n",
       "</div>"
      ],
      "text/plain": [
       "      Ozone   Temp\n",
       "0  0.416667  0.250\n",
       "1  0.364583  0.375\n",
       "2  0.114583  0.425\n",
       "3  0.177083  0.125\n",
       "5  0.281250  0.225"
      ]
     },
     "metadata": {},
     "output_type": "display_data"
    },
    {
     "name": "stdout",
     "output_type": "stream",
     "text": [
      "W : [[0.4387315]], b : [0.14768411], loss : 0.03884366987227514\n",
      "W : [[0.54360343]], b : [0.10409193], loss : 0.034411007368615965\n",
      "W : [[0.62039286]], b : [0.06324822], loss : 0.03187497087615693\n",
      "W : [[0.67946461]], b : [0.03182384], loss : 0.030374111076493345\n",
      "W : [[0.72490815]], b : [0.00764925], loss : 0.02948588246615274\n",
      "W : [[0.75986759]], b : [-0.01094812], loss : 0.028960217067956005\n",
      "W : [[0.78676167]], b : [-0.02525496], loss : 0.02864912135718473\n",
      "W : [[0.80745113]], b : [-0.03626113], loss : 0.028465010815398466\n",
      "W : [[0.8233674]], b : [-0.04472811], loss : 0.02835605177024542\n",
      "W : [[0.8356117]], b : [-0.0512417], loss : 0.02829156837127503\n"
     ]
    }
   ],
   "source": [
    "# 정규화 작업을 포함해서 모델 학습 진행(Min-Max Scaling) - Sklearn의 기능(MinMaxScaler)\n",
    "\n",
    "import numpy as np\n",
    "import pandas as pd\n",
    "import matplotlib.pyplot as plt\n",
    "from sklearn import linear_model # LinearRegression 모델\n",
    "from scipy import stats # 이상치 처리\n",
    "from sklearn.preprocessing import MinMaxScaler # 정규화 처리\n",
    "import warnings\n",
    "warnings.filterwarnings('ignore')\n",
    "\n",
    "# figure - plt.figure() # python과 sklearn으로 구현한 그래프를 한번에 비교하자\n",
    "# python_ax = figure.add_subplot(1,2,1)\n",
    "# sklearn_ax = figure.add_subplot(1,2,2)\n",
    "\n",
    "# Raw Data Set Loading\n",
    "df = pd.read_csv('./data/ozone.csv')\n",
    "\n",
    "# Linear Regression으로 하나의 독립변수만 사용함\n",
    "training_data = df[['Ozone', 'Temp']]\n",
    "\n",
    "# 결치가 존재하는 행을 삭제\n",
    "training_data.dropna(how='any', inplace=True)\n",
    "\n",
    "# 데이터에 이상치가 있는지 확인하고 제거\n",
    "zscore_threshold = 2.0\n",
    "outlier = training_data['Ozone'][(np.abs(stats.zscore(training_data['Ozone'])) > zscore_threshold)]\n",
    "training_data = training_data.loc[np.isin(training_data['Ozone'], outlier, invert=True)]\n",
    "\n",
    "# 정규화 처리\n",
    "scaler_x = MinMaxScaler() # 온도 처리를 위한 scaler(독립변수들을 위한)\n",
    "scaler_t = MinMaxScaler() # 오존량 처리를 위한 scaler(종속변수를 위한)\n",
    "\n",
    "scaler_x.fit(training_data['Temp'].values.reshape(-1,1)) # 2차원으로\n",
    "scaler_t.fit(training_data['Ozone'].values.reshape(-1,1))\n",
    "\n",
    "scaled_Temp = scaler_x.transform(training_data['Temp'].values.reshape(-1,1))\n",
    "scaled_Ozone = scaler_t.transform(training_data['Ozone'].values.reshape(-1,1))\n",
    "\n",
    "training_data['Temp'] = scaled_Temp\n",
    "training_data['Ozone'] = scaled_Ozone\n",
    "\n",
    "display(training_data.head())\n",
    "\n",
    "# Training Data Set\n",
    "p_x_data = training_data['Temp'].values.reshape(-1,1)\n",
    "p_t_data = training_data['Ozone'].values.reshape(-1,1)\n",
    "\n",
    "# Weight, bias\n",
    "W = np.random.rand(1,1)\n",
    "b = np.random.rand(1)\n",
    "\n",
    "# loss function\n",
    "def loss_func(input_data):\n",
    "    W = input_data[0].reshape(1,1)\n",
    "    b = input_data[1]\n",
    "    \n",
    "    y = np.dot(p_x_data, W) + b\n",
    "    return np.mean(np.power(p_t_data-y,2))\n",
    "\n",
    "# predict\n",
    "def predict(x):\n",
    "    y = np.dot(x, W) + b\n",
    "    return y\n",
    "\n",
    "# learning_rate\n",
    "learning_rate = 1e-4\n",
    "\n",
    "# 반복 학습\n",
    "for step in range(300000):\n",
    "    \n",
    "    input_param = np.concatenate((W.ravel(), b.ravel()), axis=0)\n",
    "    derivative_result = learning_rate * numerical_derivative(loss_func, input_param)\n",
    "    \n",
    "    W = W - derivative_result[0].reshape(1,1)\n",
    "    b = b - derivative_result[1]\n",
    "    \n",
    "    if step % 30000 == 0:\n",
    "        input_param = np.concatenate((W.ravel(), b.ravel()), axis=0)\n",
    "        print('W : {}, b : {}, loss : {}'.format(W, b, loss_func(input_param)))"
   ]
  },
  {
   "cell_type": "code",
   "execution_count": 186,
   "id": "d9eb228a",
   "metadata": {
    "scrolled": true
   },
   "outputs": [
    {
     "name": "stdout",
     "output_type": "stream",
     "text": [
      "[[5.74013754]]\n"
     ]
    }
   ],
   "source": [
    "# 학습종료 후 예측 (Temp : 62) -> [[53.03797526]]?!?! 독립변수도 정규화 해줘야 한다!\n",
    "predict_data = np.array([[62]])\n",
    "scaled_predict_data = scaler_x.transform(predict_data) # 입력값 또한 정규화\n",
    "python_result = predict(scaled_predict_data)\n",
    "\n",
    "python_result = scaler_t.inverse_transform(python_result) # 정규화 이전의 값으로 복원해야 함\n",
    "\n",
    "print(python_result) # [[5.74013754]]"
   ]
  },
  {
   "cell_type": "code",
   "execution_count": 189,
   "id": "3ba2678b",
   "metadata": {},
   "outputs": [
    {
     "name": "stdout",
     "output_type": "stream",
     "text": [
      "sklearn으로 구한 온도가 62도 일 때의 오존량 : [[4.51299041]]\n"
     ]
    }
   ],
   "source": [
    "import numpy as np\n",
    "import pandas as pd\n",
    "import matplotlib.pyplot as plt\n",
    "from sklearn import linear_model\n",
    "import warnings\n",
    "warnings.filterwarnings('ignore')\n",
    "\n",
    "# Raw Data Set Loading\n",
    "df = pd.read_csv('./data/ozone.csv')\n",
    "\n",
    "# Linear Regression으로 하나의 독립변수만 사용함\n",
    "training_data = df[['Ozone', 'Temp']]\n",
    "\n",
    "# 결치가 존재하는 행을 삭제\n",
    "training_data.dropna(how='any', inplace=True)\n",
    "\n",
    "# 데이터에 이상치가 있는지 확인하고 제거\n",
    "zscore_threshold = 2.0\n",
    "outlier = training_data['Ozone'][(np.abs(stats.zscore(training_data['Ozone'])) > zscore_threshold)]\n",
    "training_data = training_data.loc[np.isin(training_data['Ozone'], outlier, invert=True)]\n",
    "\n",
    "# 정규화 처리는 sklearn이 알아서 진행\n",
    "\n",
    "# Training Data Set\n",
    "s_x_data = training_data['Temp'].values.reshape(-1,1)\n",
    "s_t_data = training_data['Ozone'].values.reshape(-1,1)\n",
    "\n",
    "# model 생성\n",
    "model = linear_model.LinearRegression()\n",
    "\n",
    "# model 학습\n",
    "model.fit(s_x_data, s_t_data)\n",
    "\n",
    "# 예측\n",
    "result = model.predict(np.array([[62]]))\n",
    "print('sklearn으로 구한 온도가 62도 일 때의 오존량 : {}'.format(result)) # [[4.51299041]]"
   ]
  },
  {
   "cell_type": "code",
   "execution_count": 193,
   "id": "272bf22f",
   "metadata": {
    "scrolled": true
   },
   "outputs": [
    {
     "data": {
      "image/png": "[encoded data removed]",
      "text/plain": [
       "<Figure size 1080x360 with 2 Axes>"
      ]
     },
     "metadata": {
      "needs_background": "light"
     },
     "output_type": "display_data"
    }
   ],
   "source": [
    "# python과 sklearn으로 구현한 그래프를 한번에 비교하자\n",
    "import matplotlib.pyplot as plt\n",
    "\n",
    "figure = plt.figure(figsize=(15,5))\n",
    "python_ax = figure.add_subplot(1,2,1)\n",
    "sklearn_ax = figure.add_subplot(1,2,2)\n",
    "\n",
    "python_ax.set_title('python_ax')\n",
    "python_ax.scatter(p_x_data.ravel(), p_t_data.ravel())\n",
    "python_ax.plot(p_x_data.ravel(), p_x_data.ravel()*W.ravel() + b, color='r')\n",
    "\n",
    "sklearn_ax.set_title('sklearn_ax')\n",
    "sklearn_ax.scatter(s_x_data.ravel(), s_t_data.ravel())\n",
    "sklearn_ax.plot(s_x_data.ravel(), s_x_data.ravel()*model.coef_.ravel() + model.intercept_, color='g')\n",
    "\n",
    "plt.show()"
   ]
  },
  {
   "cell_type": "code",
   "execution_count": 195,
   "id": "b39dd0c3",
   "metadata": {
    "scrolled": true
   },
   "outputs": [
    {
     "name": "stdout",
     "output_type": "stream",
     "text": [
      "Once deleted, variables cannot be recovered. Proceed (y/[n])? y\n"
     ]
    }
   ],
   "source": [
    "# 메모리 초기화 (이전의 함수와 변수들을 메모리에서 지우는 매직 펑션)\n",
    "%reset "
   ]
  },
  {
   "cell_type": "code",
   "execution_count": 202,
   "id": "4f47566e",
   "metadata": {
    "scrolled": false
   },
   "outputs": [
    {
     "name": "stdout",
     "output_type": "stream",
     "text": [
      "W : [[0.75704147]\n",
      " [0.87293951]\n",
      " [0.08290194]], b : [0.11776917], loss : 716.9251288061897\n",
      "W : [[0.35624398]\n",
      " [0.53000139]\n",
      " [1.12626181]], b : [0.07518911], loss : 6.113046624939858\n",
      "W : [[0.35598491]\n",
      " [0.53027968]\n",
      " [1.12685259]], b : [0.02445161], loss : 6.104462995534996\n",
      "W : [[0.35598423]\n",
      " [0.53042053]\n",
      " [1.12731954]], b : [-0.02570377], loss : 6.096076903392734\n",
      "W : [[0.3559837 ]\n",
      " [0.53055968]\n",
      " [1.12778106]], b : [-0.07528226], loss : 6.087882616566788\n",
      "W : [[0.35598318]\n",
      " [0.53069724]\n",
      " [1.12823726]], b : [-0.1242905], loss : 6.07987574811723\n",
      "W : [[0.35598266]\n",
      " [0.53083321]\n",
      " [1.12868823]], b : [-0.17273504], loss : 6.072052011441858\n",
      "W : [[0.35598215]\n",
      " [0.53096762]\n",
      " [1.129134  ]], b : [-0.22062236], loss : 6.064407217980948\n",
      "W : [[0.35598165]\n",
      " [0.53110048]\n",
      " [1.12957465]], b : [-0.26795889], loss : 6.056937274974839\n",
      "W : [[0.35598115]\n",
      " [0.53123181]\n",
      " [1.13001022]], b : [-0.31475094], loss : 6.049638183272781\n"
     ]
    }
   ],
   "source": [
    "import numpy as np\n",
    "import pandas as pd\n",
    "import matplotlib.pyplot as plt\n",
    "from sklearn import linear_model # LinearRegression 모델\n",
    "from scipy import stats # 이상치 처리\n",
    "from sklearn.preprocessing import MinMaxScaler # 정규화 처리\n",
    "import warnings\n",
    "warnings.filterwarnings('ignore')\n",
    "\n",
    "# 다변수 함수의 수치미분 코드\n",
    "def numerical_derivative(f,x):\n",
    "\n",
    "    delta_x = 1e-4\n",
    "    derivative_x = np.zeros_like(x)\n",
    "\n",
    "    it = np.nditer(x, flags=['multi_index'])\n",
    "\n",
    "    while not it.finished:\n",
    "        \n",
    "        idx = it.multi_index\n",
    "        tmp = x[idx]\n",
    "\n",
    "        x[idx] = tmp + delta_x\n",
    "        fx_plus_delta = f(x)\n",
    "\n",
    "        x[idx] = tmp - delta_x\n",
    "        fx_minus_delta = f(x)\n",
    "\n",
    "        derivative_x[idx] = (fx_plus_delta - fx_minus_delta) / (2 * delta_x)\n",
    "\n",
    "        x[idx] = tmp\n",
    "        it.iternext()\n",
    "        \n",
    "    return derivative_x\n",
    "\n",
    "# Raw Data Loading. NaN, Outlier 존재하지 않음. 각 변수의 scale이 비슷하기 때문에 정규화가 굳이 필요 없음\n",
    "df = pd.read_csv('./data/student_exam_score.csv')\n",
    "# display(df)\n",
    "\n",
    "# Training Data Set\n",
    "x_data = df.drop('exam', axis=1, inplace=False)\n",
    "t_data = df.iloc[:,-1].values.reshape(-1,1)\n",
    "\n",
    "# Weight, bias\n",
    "W = np.random.rand(3,1) # 행렬곱연산(데이터의 열 × W의 행)이 일어날 수 있도록 shape을 맞춰주기\n",
    "b = np.random.rand(1)\n",
    "\n",
    "# loss function\n",
    "def loss_func(input_data): # [w1 w2 w3 b]\n",
    "    \n",
    "    input_w = input_data[:-1].reshape(-1,1) # 행은 알아서, 열은 1로 만들어줘! (3,1)\n",
    "    input_b = input_data[-1:]\n",
    "    \n",
    "    y = np.dot(x_data, input_w) + input_b\n",
    "    return np.mean(np.power(t_data-y,2)) # MSE(평균제곱오차)\n",
    "\n",
    "# predict\n",
    "def predict(x):\n",
    "    y = np.dot(x, W) + b\n",
    "    return y\n",
    "\n",
    "# learning_rate\n",
    "learning_rate = 1e-5\n",
    "\n",
    "# 반복 학습\n",
    "for step in range(300000):\n",
    "    \n",
    "    input_param = np.concatenate((W.ravel(), b.ravel()), axis=0) # [w1 w2 w3 b]\n",
    "    derivative_result = learning_rate * numerical_derivative(loss_func, input_param)\n",
    "    \n",
    "    W = W - derivative_result[:-1].reshape(-1,1) # (3,1)\n",
    "    b = b - derivative_result[-1]\n",
    "    \n",
    "    if step % 30000 == 0:\n",
    "        input_param = np.concatenate((W.ravel(), b.ravel()), axis=0)\n",
    "        print('W : {}, b : {}, loss : {}'.format(W, b, loss_func(input_param)))"
   ]
  },
  {
   "cell_type": "code",
   "execution_count": 203,
   "id": "30d939f4",
   "metadata": {
    "scrolled": true
   },
   "outputs": [
    {
     "name": "stdout",
     "output_type": "stream",
     "text": [
      "[[191.84931203]]\n"
     ]
    }
   ],
   "source": [
    "# 학습종료 후 예측\n",
    "result = predict(np.array([[89, 100, 95]]))\n",
    "print(result) # [[191.84931203]]"
   ]
  },
  {
   "cell_type": "code",
   "execution_count": 204,
   "id": "b09c8fe4",
   "metadata": {},
   "outputs": [
    {
     "name": "stdout",
     "output_type": "stream",
     "text": [
      "[[192.50147537]]\n"
     ]
    }
   ],
   "source": [
    "from sklearn import linear_model\n",
    "\n",
    "model = linear_model.LinearRegression() # model 생성\n",
    "\n",
    "model.fit(x_data, t_data) # model 학습\n",
    "\n",
    "result_sklearn = model.predict(np.array([[89, 100, 95]])) # 예측\n",
    "print(result_sklearn) # [[192.50147537]]"
   ]
  }
 ],
 "metadata": {
  "kernelspec": {
   "display_name": "Python [conda env:machine] *",
   "language": "python",
   "name": "conda-env-machine-py"
  },
  "language_info": {
   "codemirror_mode": {
    "name": "ipython",
    "version": 3
   },
   "file_extension": ".py",
   "mimetype": "text/x-python",
   "name": "python",
   "nbconvert_exporter": "python",
   "pygments_lexer": "ipython3",
   "version": "3.8.12"
  }
 },
 "nbformat": 4,
 "nbformat_minor": 5
}
