{
 "cells": [
  {
   "cell_type": "code",
   "execution_count": 13,
   "id": "8ff36a2e",
   "metadata": {
    "scrolled": true
   },
   "outputs": [
    {
     "name": "stdout",
     "output_type": "stream",
     "text": [
      "[1, 2, 3, 4] <class 'list'>\n",
      "[1 2 3 4] <class 'numpy.ndarray'>\n",
      "int32\n",
      "float64\n",
      "<U11\n"
     ]
    }
   ],
   "source": [
    "import numpy as np\n",
    "\n",
    "a = [1, 2, 3, 4]\n",
    "print(a, type(a)) # [1, 2, 3, 4] <class 'list'>\n",
    "\n",
    "# Numpy의 ndarray\n",
    "arr = np.array([1, 2, 3, 4]) # list로 ndarray 만들기\n",
    "print(arr, type(arr)) # [1 2 3 4] <class 'numpy.ndarray'> → 1차원\n",
    "\n",
    "print(arr.dtype) # int32 ← 정수\n",
    "arr1 = np.array([1., 2.3, 3., 4.])\n",
    "print(arr1.dtype) # float64 ← 실수\n",
    "arr2 = np.array([1, 2, 3, 4, \"Hello\"])\n",
    "print(arr2.dtype) # <U11 ← 문자"
   ]
  },
  {
   "cell_type": "code",
   "execution_count": 23,
   "id": "49cb5424",
   "metadata": {},
   "outputs": [
    {
     "name": "stdout",
     "output_type": "stream",
     "text": [
      "[[1, 2, 3], [4, 5, 6]]\n",
      "5\n",
      "[[1 2 3]\n",
      " [4 5 6]]\n",
      "5\n",
      "[4 5 6]\n",
      "5\n",
      "int32\n",
      "[[1. 2. 3.]\n",
      " [4. 5. 6.]] float64\n"
     ]
    }
   ],
   "source": [
    "import numpy as np\n",
    "# 중첩리스트\n",
    "my_list = [[1, 2, 3], [4, 5, 6]] # [[1, 2, 3], [4, 5, 6]]\n",
    "print(my_list)\n",
    "print(my_list[1][1]) # 5\n",
    "\n",
    "# 다차원 배열 (2차원) ndarray\n",
    "arr = np.array([[1, 2, 3], [4, 5, 6]])\n",
    "print(arr)           # [[1 2 3] : 0번째 행\n",
    "                     # [4 5 6]] : 1번째 행\n",
    "print(arr[1, 1])     # 5 : 1번째 행의 1번째 열. 이렇게 하는게 통속적\n",
    "print(arr[1])        # [4 5 6] : 1번째 행\n",
    "print(arr[1][1])     # 5 : 1번째 행의 1번째 인자\n",
    "\n",
    "print(arr.dtype)     # int32 : ndarray는 요소의 데이터 타입을 이용해서 dtype을 설정함\n",
    "arr = np.array([[1, 2, 3], [4, 5, 6]], dtype=np.float64) # 데이터 타입을 지정하여 ndarray를 생성할 수 있음\n",
    "print(arr, arr.dtype) # float64"
   ]
  },
  {
   "cell_type": "code",
   "execution_count": 5,
   "id": "5c7b35de",
   "metadata": {},
   "outputs": [
    {
     "name": "stdout",
     "output_type": "stream",
     "text": [
      "[1 2 3 4] int32\n",
      "1\n",
      "(4,)\n",
      "2\n",
      "(2, 3)\n",
      "3 (2, 2, 3)\n"
     ]
    }
   ],
   "source": [
    "import numpy as np\n",
    "\n",
    "# ndarray의 차원 관련 속성\n",
    "my_list = [1, 2, 3, 4]\n",
    "arr = np.array(my_list)\n",
    "print(arr, arr.dtype)\n",
    "print(arr.ndim) # 1 : ndim은 차원을 숫자로 알려줌\n",
    "print(arr.shape) # (4,) : shape은 차원과 요소 수를 tuple로 알려줌\n",
    "\n",
    "my_list = [[1, 2, 3], [4, 5, 6]]\n",
    "arr = np.array(my_list)\n",
    "print(arr.ndim) # 2 : 2차원\n",
    "print(arr.shape) # (2, 3) : 2차원, 2행 3열\n",
    "\n",
    "my_list = [[[1,2,3], \n",
    "            [1,2,3]], \n",
    "          [[1,2,3], \n",
    "          [1,2,3]]]\n",
    "arr = np.array(my_list)\n",
    "print(arr.ndim, arr.shape) # 2면 2행 3열. 3차원 12개의 요소들, (2, 2, 3)"
   ]
  },
  {
   "cell_type": "code",
   "execution_count": 11,
   "id": "479e4b06",
   "metadata": {
    "scrolled": true
   },
   "outputs": [
    {
     "name": "stdout",
     "output_type": "stream",
     "text": [
      "float64\n",
      "[1 2 3 4 5] int32\n",
      "['1.2' '2.3' '3.0' '4.0' '5.7'] <U32\n"
     ]
    }
   ],
   "source": [
    "import numpy as np\n",
    "\n",
    "arr = np.array([1.2, 2.3, 3, 4, 5.7])\n",
    "print(arr.dtype) # float64\n",
    "new_arr = arr.astype(np.int32) # astype 메서드로 원하는 데이터 타입으로 바꿀 수 있음\n",
    "print(new_arr, new_arr.dtype) # [1 2 3 4 5] int32\n",
    "\n",
    "new_arr = arr.astype(np.str_) # 문자\n",
    "print(new_arr, new_arr.dtype) # ['1.2' '2.3' '3.0' '4.0' '5.7'] <U32"
   ]
  },
  {
   "cell_type": "code",
   "execution_count": 35,
   "id": "4189f43d",
   "metadata": {
    "scrolled": true
   },
   "outputs": [
    {
     "name": "stdout",
     "output_type": "stream",
     "text": [
      "[[0. 0. 0. 0.]\n",
      " [0. 0. 0. 0.]\n",
      " [0. 0. 0. 0.]]\n",
      "[[1. 1. 1.]\n",
      " [1. 1. 1.]]\n",
      "[[[6.23042070e-307 4.67296746e-307 1.69121096e-306]\n",
      "  [1.24611198e-306 7.56587584e-307 1.37961302e-306]\n",
      "  [1.05699242e-307 1.95821439e-306 7.56599128e-307]]\n",
      "\n",
      " [[1.33511562e-306 1.11261027e-306 1.11261502e-306]\n",
      "  [1.42410839e-306 7.56597770e-307 6.23059726e-307]\n",
      "  [1.42419530e-306 7.56599128e-307 7.23168527e-308]]]\n",
      "[[7. 7. 7.]\n",
      " [7. 7. 7.]]\n",
      "float64\n"
     ]
    }
   ],
   "source": [
    "# ndarray를 만드는 다양한 함수들\n",
    "import numpy as np\n",
    "\n",
    "my_list = [1, 2, 3]\n",
    "arr = np.array(my_list)\n",
    "\n",
    "arr = np.zeros((3,4)) # 주어진 shape에 대한 ndarray를 생성하고 0으로 채움\n",
    "print(arr)\n",
    "\n",
    "arr = np.ones((2,3)) # 주어진 shape에 대한 ndarray를 생성하고 1으로 채움\n",
    "print(arr)\n",
    "\n",
    "arr = np.empty((2,3,3)) # 주어진 shape에 대한 ndarray를 생성하고 값을 채우지 않음. garbage 값이 들어갈 수 있음. 초기화 하지 않기 때문에 빠르게 만들 수 있음\n",
    "print(arr)\n",
    "\n",
    "arr = np.full((2,3), # 2행 3열을 7이라는 요소를 채워서 ndarray를 생성하라\n",
    "              7,\n",
    "              dtype=np.float64)\n",
    "print(arr)\n",
    "print(arr.dtype)"
   ]
  },
  {
   "cell_type": "code",
   "execution_count": 41,
   "id": "d1726d41",
   "metadata": {
    "scrolled": true
   },
   "outputs": [
    {
     "name": "stdout",
     "output_type": "stream",
     "text": [
      "[[1 2 3]\n",
      " [4 5 6]]\n",
      "[[0 0 0]\n",
      " [0 0 0]]\n",
      "[[1 1 1]\n",
      " [1 1 1]]\n",
      "[[5 5 5]\n",
      " [5 5 5]]\n"
     ]
    }
   ],
   "source": [
    "import numpy as np\n",
    "\n",
    "arr = np.array([[1,2,3], [4,5,6]],\n",
    "              dtype=np.int32)\n",
    "print(arr)     # [[1 2 3]\n",
    "               # [4 5 6]]\n",
    "\n",
    "new_arr = np.zeros_like(arr) # arr의 shape과 같은 형태로 ndarray를 생성하고 값을 0으로 채워라. 데이터 타입도 따라서 정수. 0은 원래 실수\n",
    "print(new_arr) # [[0 0 0]\n",
    "               # [0 0 0]]\n",
    "    \n",
    "new_arr = np.ones_like(arr) # [[1 1 1]\n",
    "print(new_arr)              #  [1 1 1]]\n",
    "\n",
    "new_arr = np.full_like(arr, 5) # [[5 5 5]\n",
    "print(new_arr)                 #  [5 5 5]]"
   ]
  },
  {
   "cell_type": "code",
   "execution_count": 26,
   "id": "ad5aa8e3",
   "metadata": {},
   "outputs": [
    {
     "name": "stdout",
     "output_type": "stream",
     "text": [
      "range(1, 10)\n",
      "[1 2 3 4 5 6 7 8 9]\n",
      "[1.3 3.3 5.3 7.3 9.3]\n"
     ]
    }
   ],
   "source": [
    "import numpy as np\n",
    "\n",
    "a = range(1, 10)      # python의 range\n",
    "print(a)\n",
    "\n",
    "arr = np.arange(1,10) # numpy의 arange. 1부터 10까지(10은 포함 안 함). 1씩 증가하는 값으로 구성된 ndarray\n",
    "print(arr)            # [1 2 3 4 5 6 7 8 9]\n",
    "\n",
    "arr = np.arange(1.3, 10.1, 2) # 1.3부터 10.1까지 2씩 증가하는 값으로 구성된 ndarray\n",
    "print(arr)            # [1.3 3.3 5.3 7.3 9.3]"
   ]
  },
  {
   "cell_type": "code",
   "execution_count": 3,
   "id": "3506dbf9",
   "metadata": {
    "scrolled": true
   },
   "outputs": [
    {
     "name": "stdout",
     "output_type": "stream",
     "text": [
      "[ 0.  1.  2.  3.  4.  5.  6.  7.  8.  9. 10.]\n",
      "[ 0.  2.  4.  6.  8. 10.]\n",
      "[  0.   4.   8.  12.  16.  20.  24.  28.  32.  36.  40.  44.  48.  52.\n",
      "  56.  60.  64.  68.  72.  76.  80.  84.  88.  92.  96. 100. 104. 108.\n",
      " 112. 116. 120.]\n"
     ]
    }
   ],
   "source": [
    "import numpy as np\n",
    "\n",
    "arr = np.linspace(0, 10, 11) # 0부터 10까지 11개의 요소가 동일한 간격으로 구성된 ndarray\n",
    "print(arr)                   # [ 0.  1.  2.  3.  4.  5.  6.  7.  8.  9. 10.]\n",
    "\n",
    "arr = np.linspace(0, 10, 6) # (start - stop) / (num - 1) = 간격이 2\n",
    "print(arr)                  # [ 0.  2.  4.  6.  8. 10.]\n",
    "\n",
    "arr = np.linspace(0, 120, 31)\n",
    "print(arr)                  # [  0.   4.   8.  12.  16.  20.  24.  28.  32.  36.  40.  44.  48.  52. 56.  60.  64.  68.  72.  76.  80.  84.  88.  92.  96. 100. 104. 108. 112. 116. 120.]"
   ]
  },
  {
   "cell_type": "code",
   "execution_count": 6,
   "id": "9beecc2a",
   "metadata": {
    "scrolled": true
   },
   "outputs": [
    {
     "name": "stdout",
     "output_type": "stream",
     "text": [
      "[49.71051468 47.42118126 49.35286723 ... 46.86898618 50.08717482\n",
      " 51.77933979]\n"
     ]
    },
    {
     "data": {
      "image/png": "[encoded data removed]",
      "text/plain": [
       "<Figure size 432x288 with 1 Axes>"
      ]
     },
     "metadata": {
      "needs_background": "light"
     },
     "output_type": "display_data"
    }
   ],
   "source": [
    "import numpy as np\n",
    "import matplotlib.pyplot as plt # matplotlib 외장 모듈의 pyplot sub module은 그래프를 그려줌\n",
    "\n",
    "mean = 50 # 평균\n",
    "std = 2 # 표준편차\n",
    "\n",
    "arr = np.random.normal(mean,\n",
    "                      std,\n",
    "                      (100000,)) # shape는 튜플로 주기. 평균이 59이고 표준편차가 2인 정규분포도를 출력. 실수 형태\n",
    "print(arr)\n",
    "plt.hist(arr,bins=100) # bin은 간격\n",
    "plt.show()"
   ]
  },
  {
   "cell_type": "code",
   "execution_count": 9,
   "id": "6df4c812",
   "metadata": {
    "scrolled": true
   },
   "outputs": [
    {
     "name": "stdout",
     "output_type": "stream",
     "text": [
      "[0.36392927 0.25358596 0.56242037 ... 0.2090471  0.41698996 0.32896451]\n"
     ]
    },
    {
     "data": {
      "image/png": "[encoded data removed]",
      "text/plain": [
       "<Figure size 432x288 with 1 Axes>"
      ]
     },
     "metadata": {
      "needs_background": "light"
     },
     "output_type": "display_data"
    },
    {
     "name": "stdout",
     "output_type": "stream",
     "text": [
      "[0.09272642 0.28301561 0.22448751 ... 0.21133162 0.08452041 0.94104673]\n"
     ]
    },
    {
     "data": {
      "image/png": "[encoded data removed]",
      "text/plain": [
       "<Figure size 432x288 with 1 Axes>"
      ]
     },
     "metadata": {
      "needs_background": "light"
     },
     "output_type": "display_data"
    }
   ],
   "source": [
    "import numpy as np\n",
    "import matplotlib.pyplot as plt\n",
    "\n",
    "arr = np.random.rand(100000) # 인자가 하나면 일차원. (d1, d2, d3). 0 ~ 1 사이. 균등분포 표본\n",
    "print(arr)\n",
    "plt.hist(arr, bins=100)\n",
    "plt.show()\n",
    "\n",
    "arr = np.random.rand(1000000) # 요소가 더 많은 경우 편차가 적음\n",
    "print(arr)\n",
    "plt.hist(arr, bins=100)\n",
    "plt.show()"
   ]
  },
  {
   "cell_type": "code",
   "execution_count": 10,
   "id": "8fe6b125",
   "metadata": {
    "scrolled": true
   },
   "outputs": [
    {
     "name": "stdout",
     "output_type": "stream",
     "text": [
      "[ 1.10442641 -0.47795901 -0.06167895 ... -1.34269834 -1.05094112\n",
      "  0.90323296]\n"
     ]
    },
    {
     "data": {
      "image/png": "[encoded data removed]",
      "text/plain": [
       "<Figure size 432x288 with 1 Axes>"
      ]
     },
     "metadata": {
      "needs_background": "light"
     },
     "output_type": "display_data"
    }
   ],
   "source": [
    "import numpy as np\n",
    "import matplotlib.pyplot as plt\n",
    "\n",
    "arr = np.random.randn(100000) # 표준정규분포(평균이 0이고 표준편차가 1인 정규분포)에서 난수를 추출\n",
    "print(arr)\n",
    "plt.hist(arr, bins=100)\n",
    "plt.show()"
   ]
  },
  {
   "cell_type": "code",
   "execution_count": 15,
   "id": "0a23d54a",
   "metadata": {
    "scrolled": false
   },
   "outputs": [
    {
     "name": "stdout",
     "output_type": "stream",
     "text": [
      "[93 30 26 ... 34 81 64]\n"
     ]
    },
    {
     "data": {
      "image/png": "[encoded data removed]",
      "text/plain": [
       "<Figure size 432x288 with 1 Axes>"
      ]
     },
     "metadata": {
      "needs_background": "light"
     },
     "output_type": "display_data"
    }
   ],
   "source": [
    "import numpy as np # 균등분포에서 정수형 난수를 추출\n",
    "import matplotlib.pyplot as plt\n",
    "\n",
    "arr = np.random.randint(1, 100, (10000,)) # low, high, shape\n",
    "print(arr)\n",
    "plt.hist(arr, bins=99)\n",
    "plt.show()"
   ]
  },
  {
   "cell_type": "code",
   "execution_count": 16,
   "id": "64b4bca5",
   "metadata": {
    "scrolled": true
   },
   "outputs": [
    {
     "name": "stdout",
     "output_type": "stream",
     "text": [
      "[0.93500112 0.54325781 0.75116192 ... 0.29807762 0.05296489 0.58700837]\n"
     ]
    },
    {
     "data": {
      "image/png": "[encoded data removed]",
      "text/plain": [
       "<Figure size 432x288 with 1 Axes>"
      ]
     },
     "metadata": {
      "needs_background": "light"
     },
     "output_type": "display_data"
    }
   ],
   "source": [
    "import numpy as np # 균등분포에서 [0, 1) 0부터 1사이(0은 포함, 1은 불포함)의 실수형 난수를 추출. rand()와 사용방법이 다름\n",
    "import matplotlib.pyplot as plt\n",
    "\n",
    "arr = np.random.random((100000,))\n",
    "print(arr)\n",
    "plt.hist(arr, bins=100)\n",
    "plt.show()"
   ]
  },
  {
   "cell_type": "code",
   "execution_count": 42,
   "id": "8add43ed",
   "metadata": {},
   "outputs": [
    {
     "name": "stdout",
     "output_type": "stream",
     "text": [
      "[6 9 6 1 1]\n",
      "[1 8 4 1 7]\n"
     ]
    }
   ],
   "source": [
    "# 기억해야 하는 random 관련 함수들\n",
    "# 1. Seed : 랜던 값을 도출하는 초기 값을 고정. 항상 같은 랜덤 값을 얻을 수 있음. 난수(랜덤 값)의 재현성 확보\n",
    "\n",
    "np.random.seed(1)    # 초기 값 = 1\n",
    "arr = np.random.randint(1, 10, (5,))\n",
    "print(arr) # [6 9 6 1 1]\n",
    "\n",
    "np.random.seed(None) # 초기 값 = None\n",
    "arr = np.random.randint(1, 10, (5,))\n",
    "print(arr) # 난수(랜덤 값)"
   ]
  },
  {
   "cell_type": "code",
   "execution_count": 45,
   "id": "a49e2016",
   "metadata": {},
   "outputs": [
    {
     "name": "stdout",
     "output_type": "stream",
     "text": [
      "[1 2 3 4 5 6 7 8 9]\n",
      "[7 1 4 2 3 5 6 9 8]\n"
     ]
    }
   ],
   "source": [
    "import numpy as np\n",
    "# 2. suffle은 원본을 섞어버림\n",
    "arr = np.arange(1, 10)\n",
    "print(arr) # [1 2 3 4 5 6 7 8 9]\n",
    "\n",
    "np.random.shuffle(arr)\n",
    "print(arr) # [7 1 4 2 3 5 6 9 8]"
   ]
  },
  {
   "cell_type": "code",
   "execution_count": 81,
   "id": "8b1e448c",
   "metadata": {},
   "outputs": [
    {
     "name": "stdout",
     "output_type": "stream",
     "text": [
      "[4 4 2]\n"
     ]
    }
   ],
   "source": [
    "import numpy as np\n",
    "# 3. np.random.choice(a, size, replace, p)\n",
    "# a는 모집단이자 배열, size는 숫자 몇 개를 뽑을 건지, replace가 True이면 뽑았던 것 다시 뽑을 수 있음, p는 각 데이터가 뽑힐 수 있는 확률\n",
    "\n",
    "arr = np.random.choice(np.array([1,2,3,4,5]), 3)\n",
    "arr = np.random.choice(np.array([1,2,3,4,5]), 3, replace=True)\n",
    "arr = np.random.choice(np.array([1,2,3,4,5]), 3, replace=False)\n",
    "arr = np.random.choice(np.array([1,2,3,4,5]), 3, p=[0.1, 0.2, 0.2, 0.5, 0]) # 5는 0%의 확률\n",
    "print(arr)"
   ]
  },
  {
   "cell_type": "code",
   "execution_count": 101,
   "id": "68e16226",
   "metadata": {
    "scrolled": false
   },
   "outputs": [
    {
     "name": "stdout",
     "output_type": "stream",
     "text": [
      "[[ 1  2  3  4  5  6]\n",
      " [ 7  8  9 10 11 12]]\n",
      "(2, 6)\n",
      "[[ 1  2  3  4]\n",
      " [ 5  6  7  8]\n",
      " [ 9 10 11 12]]\n",
      "[[[[ 1  2]\n",
      "   [ 3  4]\n",
      "   [ 5  6]]\n",
      "\n",
      "  [[ 7  8]\n",
      "   [ 9 10]\n",
      "   [11 12]]]]\n",
      "[[ 1  2  3  4]\n",
      " [ 5  6  7  8]\n",
      " [ 9 10 11 12]]\n",
      "[[ 1  2  3  4  5  6]\n",
      " [ 7  8  9 10 11 12]]\n"
     ]
    }
   ],
   "source": [
    "arr = np.array([[1,2,3,4,5,6],[7,8,9,10,11,12]])\n",
    "print(arr)\n",
    "print(arr.shape) # 2행 6열 [[ 1  2  3  4  5  6]\n",
    "                          # [ 7  8  9 10 11 12]]\n",
    "\n",
    "new_arr = arr.reshape(3, 4)\n",
    "print(new_arr)            # [[ 1  2  3  4]\n",
    "                          # [ 5  6  7  8]\n",
    "                          # [ 9 10 11 12]]\n",
    "        \n",
    "new_arr1 = arr.reshape(1,2,3,2) # 4차원, 1면, 2면, 3행, 2열\n",
    "print(new_arr1)             # [[[[ 1  2]\n",
    "                            #   [ 3  4]\n",
    "                            #   [ 5  6]]\n",
    "                            #\n",
    "                            #  [[ 7  8]\n",
    "                            #   [ 9 10]\n",
    "                            #   [11 12]]]]\n",
    "\n",
    "# new_arr[0,0] = 100\n",
    "# print(new_arr)\n",
    "# print(arr)                # 사본도 원본도 data의 0번째 인자도 바뀌었다! 원래 ndarray의 view\n",
    "                            # [[100   2   3   4]\n",
    "                            #  [  5   6   7   8]\n",
    "                            #  [  9  10  11  12]]\n",
    "                            # [[100   2   3   4   5   6]\n",
    "                            #  [  7   8   9  10  11  12]]\n",
    "                    \n",
    "new_arr = arr.reshape(3,4).copy()\n",
    "print(new_arr)\n",
    "print(arr)\n",
    "# [[ 1  2  3  4]\n",
    "#  [ 5  6  7  8]\n",
    "#  [ 9 10 11 12]]\n",
    "# [[ 1  2  3  4  5  6]\n",
    "#  [ 7  8  9 10 11 12]]"
   ]
  },
  {
   "cell_type": "code",
   "execution_count": 103,
   "id": "b94d0d3d",
   "metadata": {
    "scrolled": true
   },
   "outputs": [
    {
     "name": "stdout",
     "output_type": "stream",
     "text": [
      "[[ 1  2  3  4  5  6]\n",
      " [ 7  8  9 10 11 12]]\n",
      "(2, 6)\n",
      "[ 1  2  3  4  5  6  7  8  9 10 11 12]\n",
      "[ 1  2  3  4  5  6  7  8  9 10 11 12]\n",
      "[[ 1  2  3  4  5  6]\n",
      " [ 7  8  9 10 11 12]]\n"
     ]
    }
   ],
   "source": [
    "arr = np.array([[1,2,3,4,5,6],[7,8,9,10,11,12]])\n",
    "print(arr)\n",
    "print(arr.shape)\n",
    "\n",
    "new_arr = arr.ravel() # 무조건 1차원의 view를 만듦\n",
    "new_arr1 = arr.reshape(12).copy()\n",
    "print(new_arr)\n",
    "print(new_arr1)\n",
    "print(arr)"
   ]
  },
  {
   "cell_type": "code",
   "execution_count": 107,
   "id": "e98a32c2",
   "metadata": {
    "scrolled": true
   },
   "outputs": [
    {
     "name": "stdout",
     "output_type": "stream",
     "text": [
      "[[ 1  2  3  4  5  6]\n",
      " [ 7  8  9 10 11 12]]\n",
      "(2, 6)\n",
      "None\n",
      "[[1 2]\n",
      " [3 4]\n",
      " [5 6]]\n"
     ]
    }
   ],
   "source": [
    "arr = np.array([[1,2,3,4,5,6],[7,8,9,10,11,12]])\n",
    "print(arr)\n",
    "print(arr.shape)\n",
    "\n",
    "# new_arr = arr.reshape(3,5) # 12 != 15. 요소 갯수가 맞지 않기 때문에 에러!\n",
    "# new_arr = arr.resize(3,5) # None. 사본을 만들지 않고, 원본을 변경\n",
    "# print(new_arr)\n",
    "# print(arr)\n",
    "# [[ 1  2  3  4  5]\n",
    "#  [ 6  7  8  9 10]\n",
    "#  [11 12  0  0  0]]\n",
    "\n",
    "new_arr = arr.resize(3,2)\n",
    "print(new_arr)\n",
    "print(arr)\n",
    "# [[1 2]\n",
    "#  [3 4]\n",
    "#  [5 6]]"
   ]
  },
  {
   "cell_type": "code",
   "execution_count": 114,
   "id": "b606fe8c",
   "metadata": {},
   "outputs": [
    {
     "name": "stdout",
     "output_type": "stream",
     "text": [
      "[10 11 12 13 14]\n",
      "10\n",
      "[11 12]\n",
      "[11 12 13]\n",
      "[13 14] [10 11]\n"
     ]
    }
   ],
   "source": [
    "arr = np.arange(10,15,1)\n",
    "print(arr)              # [10 11 12 13 14]\n",
    "print(arr[0])           # 10\n",
    "print(arr[1:3])         # [11 12]\n",
    "print(arr[1:-1])        # [11 12 13]\n",
    "print(arr[3:], arr[:2]) # [13 14] [10 11]"
   ]
  },
  {
   "cell_type": "code",
   "execution_count": 122,
   "id": "5d61fb93",
   "metadata": {
    "scrolled": true
   },
   "outputs": [
    {
     "name": "stdout",
     "output_type": "stream",
     "text": [
      "[[ 0  1  2  3]\n",
      " [ 4  5  6  7]\n",
      " [ 8  9 10 11]]\n",
      "6\n",
      "[4 5 6 7]\n",
      "[4 5 6 7]\n",
      "[6 7] [10 11]\n",
      "[[ 6  7]\n",
      " [10 11]]\n"
     ]
    }
   ],
   "source": [
    "arr = np.arange(0,12).reshape(3,4)\n",
    "print(arr)\n",
    "# [[ 0  1  2  3]\n",
    "#  [ 4  5  6  7]\n",
    "#  [ 8  9 10 11]]\n",
    "print(arr[1,2])               # 6. [행,열]\n",
    "print(arr[1])                 # [4 5 6 7]. 1번째 행\n",
    "print(arr[1,:])               # [4 5 6 7]. 1번째 행의 열을 모두 가져와라\n",
    "print(arr[1, 2:], arr[2, 2:]) # [6 7] [10 11]\n",
    "print(arr[1:, 2:])            # [[ 6  7]\n",
    "                              # [10 11]]"
   ]
  },
  {
   "cell_type": "code",
   "execution_count": 143,
   "id": "8816c009",
   "metadata": {
    "scrolled": true
   },
   "outputs": [
    {
     "name": "stdout",
     "output_type": "stream",
     "text": [
      "[5 8 9 5 0 0 1 7 6 9]\n",
      "[15 18 19 15 10 10 11 17 16 19]\n",
      "[1 0 1 1 0 0 1 1 0 1]\n",
      "[False  True False False  True  True False False  True False]\n",
      "[8 0 0 6]\n",
      "[5 7 9]\n",
      "[5 6 7]\n"
     ]
    }
   ],
   "source": [
    "# Boolean indexing\n",
    "import numpy as np\n",
    "\n",
    "np.random.seed(1)\n",
    "arr = np.random.randint(0, 10, (10,)) # 0 ~ 10. 1차원의 요소 10개\n",
    "print(arr)               # [5 8 9 5 0 0 1 7 6 9]\n",
    "print(arr + 10)          # [15 18 19 15 10 10 11 17 16 19] broadcasting\n",
    "print(arr % 2)           # [1 0 1 1 0 0 1 1 0 1]\n",
    "print(arr % 2 == 0)      # [False  True False False  True  True False False  True False] 나머지가 0과 같은가? Boolean Mask\n",
    "my_mask = (arr % 2 == 0)\n",
    "print(arr[my_mask])      # [8 0 0 6] arr 요소들이 True인 것만 가져옮. 짝수만\n",
    "\n",
    "arr1 = np.array([1,2,3]) # python의 list 연산과 다름. 같은 위치의 요소들끼리 연산\n",
    "arr2 = np.array([4,5,6])\n",
    "print(arr1 + arr2)       # [5 7 9]\n",
    "\n",
    "arr3 = np.array([1,2,3])\n",
    "arr3 + 4                 # 연산해준 정수는 0차원(scala). [1,2,3] + [4 4 4]\n",
    "print(arr3 + 4)          # [5 6 7]"
   ]
  },
  {
   "cell_type": "code",
   "execution_count": 148,
   "id": "ba9d876b",
   "metadata": {},
   "outputs": [
    {
     "name": "stdout",
     "output_type": "stream",
     "text": [
      "[1 2 3 4 5 6] 4 [4 5 6]\n",
      "[4 6]\n"
     ]
    }
   ],
   "source": [
    "# Fancy Indexing\n",
    "\n",
    "arr = np.array([1,2,3,4,5,6])\n",
    "print(arr, arr[3], arr[3:]) # [1 2 3 4 5 6] 4 [4 5 6]\n",
    "print(arr[[3, 5]]) # [4 6] 인덱스 list를 전달해서 ndarray 안의 원하는 요소만 추출"
   ]
  },
  {
   "cell_type": "code",
   "execution_count": 160,
   "id": "847bd5ec",
   "metadata": {},
   "outputs": [
    {
     "name": "stdout",
     "output_type": "stream",
     "text": [
      "[[ 0  1  2  3]\n",
      " [ 4  5  6  7]\n",
      " [ 8  9 10 11]]\n",
      "[[1 2 3]\n",
      " [5 6 7]]\n",
      "[[1 3]\n",
      " [5 7]]\n",
      "[ 1 11]\n",
      "[[ 1  3]\n",
      " [ 9 11]]\n"
     ]
    }
   ],
   "source": [
    "arr = np.arange(0, 12, 1).reshape(3,4)\n",
    "print(arr)\n",
    "print(arr[0:2, 1:])         # [행에 대한 slicing, 열에 대한 slicing]\n",
    "print(arr[0:2, [1,3]])      # Fancy Indexing\n",
    "                            # [[1 3]\n",
    "                            #  [5 7]]\n",
    "print(arr[[0,2], [1,3]])    # [ 1 11] Numpy 내부구조 때문에 Fancy Indexing이 안 되는 경우, np.ix_() 함수 이용\n",
    "print(arr[np.ix_([0,2], [1,3])])\n",
    "                            # [[ 1  3]\n",
    "                            #  [ 9 11]]"
   ]
  }
 ],
 "metadata": {
  "kernelspec": {
   "display_name": "Python [conda env:machine] *",
   "language": "python",
   "name": "conda-env-machine-py"
  },
  "language_info": {
   "codemirror_mode": {
    "name": "ipython",
    "version": 3
   },
   "file_extension": ".py",
   "mimetype": "text/x-python",
   "name": "python",
   "nbconvert_exporter": "python",
   "pygments_lexer": "ipython3",
   "version": "3.8.12"
  }
 },
 "nbformat": 4,
 "nbformat_minor": 5
}
