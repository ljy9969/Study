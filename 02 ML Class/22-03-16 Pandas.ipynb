{
 "cells": [
  {
   "cell_type": "code",
   "execution_count": 5,
   "id": "b4c17314",
   "metadata": {
    "scrolled": true
   },
   "outputs": [
    {
     "name": "stdout",
     "output_type": "stream",
     "text": [
      "[1. 2. 3. 4. 5.]\n",
      "0    1.0\n",
      "1    2.0\n",
      "2    3.0\n",
      "3    4.0\n",
      "4    5.0\n",
      "dtype: float64\n",
      "[1. 2. 3. 4. 5.]\n",
      "RangeIndex(start=0, stop=5, step=1)\n",
      "float64\n"
     ]
    }
   ],
   "source": [
    "# ndarray의 정렬, 연결, 삭제, CSV파일 로딩은 Numpy가 아닌 Pandas로 처리\n",
    "# Series : 1차원 자료구조. 같은 데이터 타입만 저장 가능\n",
    "# DataFrame : 2차원 자료구조. Series의 집합\n",
    "\n",
    "import numpy as np\n",
    "import pandas as pd\n",
    "\n",
    "arr = np.array([1,2,3,4,5], dtype=np.float64)\n",
    "print(arr)\n",
    "\n",
    "s = pd.Series([1,2,3,4,5], dtype=np.float64) # Series. 내부적으로 사용하는 데이터 타입은 ndarray의 것\n",
    "print(s)                                     # 앞은 인덱스(key), 뒤는 요소(value)\n",
    "print(s.values)                              # [1. 2. 3. 4. 5.]. 요소만 출력하라. Numpy array(ndarray)\n",
    "print(s.index)                               # RangeIndex(start=0, stop=5, step=1). 인덱스만 출력하라. Pandas의 객체\n",
    "print(s.dtype)                               # float64\n",
    "# [1. 2. 3. 4. 5.]\n",
    "# 0    1.0\n",
    "# 1    2.0\n",
    "# 2    3.0\n",
    "# 3    4.0\n",
    "# 4    5.0\n",
    "# dtype: float64\n",
    "# [1. 2. 3. 4. 5.]\n",
    "# RangeIndex(start=0, stop=5, step=1)\n",
    "# float64"
   ]
  },
  {
   "cell_type": "code",
   "execution_count": 11,
   "id": "ce33fe7b",
   "metadata": {
    "scrolled": true
   },
   "outputs": [
    {
     "name": "stdout",
     "output_type": "stream",
     "text": [
      "c      1.0\n",
      "b      2.0\n",
      "a      3.0\n",
      "kk     4.0\n",
      "홍길동    5.0\n",
      "dtype: float64\n",
      "1.0 1.0\n"
     ]
    }
   ],
   "source": [
    "s = pd.Series([1,2,3,4,5],\n",
    "              dtype=np.float64,                    # 실수가 기본 데이터 타입.\n",
    "             index=['c', 'b', 'a','kk', '홍길동']) # 인덱스를 문자로 지정해주기. 기존의 숫자 인덱스는 숨어있음\n",
    "print(s)\n",
    "# c      1.0\n",
    "# b      2.0\n",
    "# a      3.0\n",
    "# kk     4.0\n",
    "# 홍길동    5.0\n",
    "# dtype: float64\n",
    "\n",
    "print(s[0], s['c']) # 1.0 1.0. 숫자/지정 인덱스\n",
    "# print(s[100], s['haha']) # Error!"
   ]
  },
  {
   "cell_type": "code",
   "execution_count": 18,
   "id": "bac74199",
   "metadata": {
    "scrolled": true
   },
   "outputs": [
    {
     "name": "stdout",
     "output_type": "stream",
     "text": [
      "0      1.0\n",
      "2      2.0\n",
      "100    3.0\n",
      "6      4.0\n",
      "9      5.0\n",
      "dtype: float64\n",
      "1.0\n",
      "3.0\n"
     ]
    }
   ],
   "source": [
    "s = pd.Series([1,2,3,4,5],\n",
    "              dtype=np.float64,\n",
    "             index=[0, 2, 100, 6, 9]) # 인덱스를 숫자로 지정해주기\n",
    "print(s)\n",
    "# 0      1.0\n",
    "# 2      2.0\n",
    "# 100    3.0\n",
    "# 6      4.0\n",
    "# 9      5.0\n",
    "print(s[0]) # 1.0\n",
    "# print(s[1]) # Error! 지정 인덱스가 숫자이면 기존의 숫자 인덱스를 쓸 수 없음. Error!\n",
    "print(s[100]) # 3.0"
   ]
  },
  {
   "cell_type": "code",
   "execution_count": 20,
   "id": "4c360587",
   "metadata": {
    "scrolled": true
   },
   "outputs": [
    {
     "name": "stdout",
     "output_type": "stream",
     "text": [
      "c    1.0\n",
      "b    2.0\n",
      "c    3.0\n",
      "k    4.0\n",
      "m    5.0\n",
      "dtype: float64\n",
      "c    1.0\n",
      "c    3.0\n",
      "dtype: float64\n"
     ]
    }
   ],
   "source": [
    "s = pd.Series([1,2,3,4,5],\n",
    "              dtype=np.float64,\n",
    "             index=['c', 'b', 'c', 'k', 'm']) # 지정 인덱스에 중복값이 있음\n",
    "print(s)\n",
    "# c    1.0\n",
    "# b    2.0\n",
    "# c    3.0\n",
    "# k    4.0\n",
    "# m    5.0\n",
    "# dtype: float64\n",
    "\n",
    "print(s['c']) # 인덱스가 'c'인 것을 모두 Series로 가져옴\n",
    "# c    1.0\n",
    "# c    3.0\n",
    "# dtype: float64"
   ]
  },
  {
   "cell_type": "code",
   "execution_count": 30,
   "id": "b5ad3476",
   "metadata": {
    "scrolled": true
   },
   "outputs": [
    {
     "name": "stdout",
     "output_type": "stream",
     "text": [
      "c    1.0\n",
      "b    2.0\n",
      "a    3.0\n",
      "dtype: float64\n",
      "c    1.0\n",
      "b    2.0\n",
      "a    3.0\n",
      "dtype: float64\n"
     ]
    }
   ],
   "source": [
    "# Series의 slicing\n",
    "\n",
    "s = pd.Series([1,2,3,4,5],\n",
    "              dtype=np.float64,\n",
    "             index=['c', 'b', 'a', 'k', 'm'])\n",
    "print(s[0:3])\n",
    "print(s['c':'a']) # 지정 인덱싱은 start/stop 모두 포함(숫자 인덱싱은 포함/불포함)\n",
    "# c    1.0\n",
    "# b    2.0\n",
    "# a    3.0\n",
    "# dtype: float64"
   ]
  },
  {
   "cell_type": "code",
   "execution_count": 33,
   "id": "8034d0a5",
   "metadata": {
    "scrolled": true
   },
   "outputs": [
    {
     "name": "stdout",
     "output_type": "stream",
     "text": [
      "c    1.0\n",
      "b    2.0\n",
      "a    3.0\n",
      "k    4.0\n",
      "m    5.0\n",
      "dtype: float64\n",
      "b    2.0\n",
      "k    4.0\n",
      "dtype: float64\n",
      "c    1.0\n",
      "a    3.0\n",
      "dtype: float64\n"
     ]
    }
   ],
   "source": [
    "# Boolean indexing\n",
    "s = pd.Series([1,2,3,4,5],\n",
    "              dtype=np.float64,\n",
    "             index=['c', 'b', 'a', 'k', 'm'])\n",
    "print(s)\n",
    "print(s[s % 2 == 0]) # Boolean indexing. Mask 만들어서 짝수인 요소들 인덱싱\n",
    "print(s[[0,2]])      # Fancy indexing"
   ]
  },
  {
   "cell_type": "code",
   "execution_count": 35,
   "id": "6949f05d",
   "metadata": {
    "scrolled": true
   },
   "outputs": [
    {
     "name": "stdout",
     "output_type": "stream",
     "text": [
      "서울    1000\n",
      "인천     500\n",
      "제주     200\n",
      "dtype: int64\n"
     ]
    }
   ],
   "source": [
    "# dictionary로 Series 만들기\n",
    "my_dict = {'서울': 1000,\n",
    "          '인천': 500,\n",
    "          '제주': 200}\n",
    "s = pd.Series(my_dict)\n",
    "print(s)"
   ]
  },
  {
   "cell_type": "code",
   "execution_count": 64,
   "id": "af2fa8ef",
   "metadata": {
    "scrolled": true
   },
   "outputs": [
    {
     "name": "stdout",
     "output_type": "stream",
     "text": [
      "2020-01-01    47\n",
      "2020-01-02    46\n",
      "2020-01-03    46\n",
      "2020-01-04    46\n",
      "2020-01-05    52\n",
      "2020-01-06    56\n",
      "2020-01-07    54\n",
      "2020-01-08    45\n",
      "2020-01-09    42\n",
      "2020-01-10    48\n",
      "dtype: int64\n",
      "2020-01-01    72\n",
      "2020-01-02    70\n",
      "2020-01-03    68\n",
      "2020-01-04    65\n",
      "2020-01-05    61\n",
      "2020-01-06    62\n",
      "2020-01-07    57\n",
      "2020-01-08    66\n",
      "2020-01-09    75\n",
      "2020-01-10    61\n",
      "dtype: int64\n",
      "2020-01-01    119\n",
      "2020-01-02    116\n",
      "2020-01-03    114\n",
      "2020-01-04    111\n",
      "2020-01-05    113\n",
      "2020-01-06    118\n",
      "2020-01-07    111\n",
      "2020-01-08    111\n",
      "2020-01-09    117\n",
      "2020-01-10    109\n",
      "dtype: int64\n"
     ]
    }
   ],
   "source": [
    "# 연습문제. A 공장의 2020년 1월 1일부터 10일간 생산량의 Series로 저장\n",
    "# 생산량은 평균이 50이고 표준편차가 5인 정규분포에서 랜덤하게 생성(정수)\n",
    "# index가 날짜\n",
    "\n",
    "# 연습문제. B 공장의 2020년 1월 1일부터 10일간 생산량의 Series로 저장\n",
    "# 생산량은 평균이 70이고 표준편차가 8인 정규분포에서 랜덤하게 생성(정수)\n",
    "# index가 날짜\n",
    "\n",
    "import numpy as np\n",
    "import pandas as pd\n",
    "from datetime import datetime, timedelta\n",
    "\n",
    "start_day = datetime(2020,1,1) # 날짜 객체\n",
    "# print(start_day)               # 2020-01-01 00:00:00\n",
    "\n",
    "# my_list = np.arange(1, 101)\n",
    "# print(my_list)\n",
    "\n",
    "# my_list = [tmp for tmp in range(100)] # list comprehension : list 생성 시 제어문(for, if)을 이용\n",
    "# print(my_list)\n",
    "\n",
    "# my_list = [tmp for tmp in range(100) if tmp % 2 == 0] # 0~99 사이의 짝수만 list로 출력\n",
    "# print(my_list)\n",
    "\n",
    "my_list = [int(x) for x in np.random.normal(50,5,(10,))]\n",
    "\n",
    "# s = pd.Series(my_list,\n",
    "#               index=[start_day + timedelta(days=x) for x in range(10)]) # start_day timedelta(날짜 차이, 1일)를 더해줌\n",
    "# print(s)\n",
    "\n",
    "s1 = pd.Series([int(x) for x in np.random.normal(50,5,(10,))],\n",
    "              index=[start_day + timedelta(days=x) for x in range(10)]) # start_day timedelta(날짜 차이, 1일)를 더해줌\n",
    "print(s1)\n",
    "\n",
    "s2 = pd.Series([int(x) for x in np.random.normal(70,8,(10,))],\n",
    "              index=[start_day + timedelta(days=x) for x in range(10)]) # start_day timedelta(날짜 차이, 1일)를 더해줌\n",
    "print(s2)\n",
    "\n",
    "print(s1 + s2)"
   ]
  },
  {
   "cell_type": "code",
   "execution_count": 62,
   "id": "28abfd15",
   "metadata": {
    "scrolled": true
   },
   "outputs": [
    {
     "name": "stdout",
     "output_type": "stream",
     "text": [
      "2020-01-01    42\n",
      "2020-01-02    52\n",
      "2020-01-03    54\n",
      "2020-01-04    53\n",
      "2020-01-05    42\n",
      "2020-01-06    55\n",
      "2020-01-07    42\n",
      "2020-01-08    47\n",
      "2020-01-09    48\n",
      "2020-01-10    56\n",
      "dtype: int64\n",
      "2020-01-05    78\n",
      "2020-01-06    58\n",
      "2020-01-07    56\n",
      "2020-01-08    64\n",
      "2020-01-09    61\n",
      "2020-01-10    84\n",
      "2020-01-11    59\n",
      "2020-01-12    84\n",
      "2020-01-13    75\n",
      "2020-01-14    69\n",
      "dtype: int64\n",
      "2020-01-01      NaN\n",
      "2020-01-02      NaN\n",
      "2020-01-03      NaN\n",
      "2020-01-04      NaN\n",
      "2020-01-05    120.0\n",
      "2020-01-06    113.0\n",
      "2020-01-07     98.0\n",
      "2020-01-08    111.0\n",
      "2020-01-09    109.0\n",
      "2020-01-10    140.0\n",
      "2020-01-11      NaN\n",
      "2020-01-12      NaN\n",
      "2020-01-13      NaN\n",
      "2020-01-14      NaN\n",
      "dtype: float64\n"
     ]
    }
   ],
   "source": [
    "# 연습문제. A 공장의 2020년 1월 1일부터 10일간 생산량의 Series로 저장\n",
    "# 생산량은 평균이 50이고 표준편차가 5인 정규분포에서 랜덤하게 생성(정수)\n",
    "# index가 날짜\n",
    "\n",
    "# 연습문제. B 공장의 2020년 1월 5일부터 10일간 생산량의 Series로 저장\n",
    "# 생산량은 평균이 70이고 표준편차가 8인 정규분포에서 랜덤하게 생성(정수)\n",
    "# index가 날짜\n",
    "\n",
    "import numpy as np\n",
    "import pandas as pd\n",
    "from datetime import datetime, timedelta\n",
    "\n",
    "start_day_A_factory = datetime(2020,1,1)\n",
    "start_day_B_factory = datetime(2020,1,5)\n",
    "\n",
    "my_list = [int(x) for x in np.random.normal(50,5,(10,))]\n",
    "\n",
    "s1 = pd.Series([int(x) for x in np.random.normal(50,5,(10,))],\n",
    "              index=[start_day_A_factory + timedelta(days=x) for x in range(10)])\n",
    "print(s1)\n",
    "\n",
    "s2 = pd.Series([int(x) for x in np.random.normal(70,8,(10,))],\n",
    "              index=[start_day_B_factory + timedelta(days=x) for x in range(10)])\n",
    "print(s2)\n",
    "\n",
    "print(s1 + s2) # Series는 인덱스가 똑같은 것끼리 연산함. A orB 공장에는 있는 인덱스, B or A 에는 없다면 NaN"
   ]
  },
  {
   "cell_type": "code",
   "execution_count": 74,
   "id": "b908b070",
   "metadata": {
    "scrolled": true
   },
   "outputs": [
    {
     "data": {
      "text/html": [
       "<div>\n",
       "<style scoped>\n",
       "    .dataframe tbody tr th:only-of-type {\n",
       "        vertical-align: middle;\n",
       "    }\n",
       "\n",
       "    .dataframe tbody tr th {\n",
       "        vertical-align: top;\n",
       "    }\n",
       "\n",
       "    .dataframe thead th {\n",
       "        text-align: right;\n",
       "    }\n",
       "</style>\n",
       "<table border=\"1\" class=\"dataframe\">\n",
       "  <thead>\n",
       "    <tr style=\"text-align: right;\">\n",
       "      <th></th>\n",
       "      <th>이름</th>\n",
       "      <th>학년</th>\n",
       "      <th>학점</th>\n",
       "    </tr>\n",
       "  </thead>\n",
       "  <tbody>\n",
       "    <tr>\n",
       "      <th>0</th>\n",
       "      <td>홍길동</td>\n",
       "      <td>4</td>\n",
       "      <td>1.5</td>\n",
       "    </tr>\n",
       "    <tr>\n",
       "      <th>1</th>\n",
       "      <td>아이유</td>\n",
       "      <td>3</td>\n",
       "      <td>2.4</td>\n",
       "    </tr>\n",
       "    <tr>\n",
       "      <th>2</th>\n",
       "      <td>김연아</td>\n",
       "      <td>1</td>\n",
       "      <td>3.9</td>\n",
       "    </tr>\n",
       "    <tr>\n",
       "      <th>3</th>\n",
       "      <td>신사임당</td>\n",
       "      <td>2</td>\n",
       "      <td>3.2</td>\n",
       "    </tr>\n",
       "  </tbody>\n",
       "</table>\n",
       "</div>"
      ],
      "text/plain": [
       "     이름  학년   학점\n",
       "0   홍길동   4  1.5\n",
       "1   아이유   3  2.4\n",
       "2   김연아   1  3.9\n",
       "3  신사임당   2  3.2"
      ]
     },
     "metadata": {},
     "output_type": "display_data"
    },
    {
     "name": "stdout",
     "output_type": "stream",
     "text": [
      "(4, 3)\n",
      "[['홍길동' 4 1.5]\n",
      " ['아이유' 3 2.4]\n",
      " ['김연아' 1 3.9]\n",
      " ['신사임당' 2 3.2]]\n",
      "12 2\n",
      "RangeIndex(start=0, stop=4, step=1)\n",
      "Index(['이름', '학년', '학점'], dtype='object')\n"
     ]
    },
    {
     "data": {
      "text/html": [
       "<div>\n",
       "<style scoped>\n",
       "    .dataframe tbody tr th:only-of-type {\n",
       "        vertical-align: middle;\n",
       "    }\n",
       "\n",
       "    .dataframe tbody tr th {\n",
       "        vertical-align: top;\n",
       "    }\n",
       "\n",
       "    .dataframe thead th {\n",
       "        text-align: right;\n",
       "    }\n",
       "</style>\n",
       "<table border=\"1\" class=\"dataframe\">\n",
       "  <thead>\n",
       "    <tr style=\"text-align: right;\">\n",
       "      <th>학생정보</th>\n",
       "      <th>이름</th>\n",
       "      <th>학년</th>\n",
       "      <th>학점</th>\n",
       "    </tr>\n",
       "    <tr>\n",
       "      <th>학번</th>\n",
       "      <th></th>\n",
       "      <th></th>\n",
       "      <th></th>\n",
       "    </tr>\n",
       "  </thead>\n",
       "  <tbody>\n",
       "    <tr>\n",
       "      <th>0</th>\n",
       "      <td>홍길동</td>\n",
       "      <td>4</td>\n",
       "      <td>1.5</td>\n",
       "    </tr>\n",
       "    <tr>\n",
       "      <th>1</th>\n",
       "      <td>아이유</td>\n",
       "      <td>3</td>\n",
       "      <td>2.4</td>\n",
       "    </tr>\n",
       "    <tr>\n",
       "      <th>2</th>\n",
       "      <td>김연아</td>\n",
       "      <td>1</td>\n",
       "      <td>3.9</td>\n",
       "    </tr>\n",
       "    <tr>\n",
       "      <th>3</th>\n",
       "      <td>신사임당</td>\n",
       "      <td>2</td>\n",
       "      <td>3.2</td>\n",
       "    </tr>\n",
       "  </tbody>\n",
       "</table>\n",
       "</div>"
      ],
      "text/plain": [
       "학생정보    이름  학년   학점\n",
       "학번                 \n",
       "0      홍길동   4  1.5\n",
       "1      아이유   3  2.4\n",
       "2      김연아   1  3.9\n",
       "3     신사임당   2  3.2"
      ]
     },
     "metadata": {},
     "output_type": "display_data"
    }
   ],
   "source": [
    "# Pandas의 DataFrame. Series의 집합. dictionary를 이용해서 만듦\n",
    "\n",
    "import numpy as np\n",
    "import pandas as pd\n",
    "\n",
    "my_dict = {'이름': ['홍길동', '아이유', '김연아', '신사임당'],\n",
    "          '학년': [4, 3, 1, 2],\n",
    "          '학점': [1.5, 2.4, 3.9, 3.2]}\n",
    "df = pd.DataFrame(my_dict)\n",
    "# print(df)              # 보기 불편함\n",
    "display(df)              # DataFrame을 DB table처럼 출력\n",
    "\n",
    "# 이름\t학년\t학점\n",
    "# 0\t홍길동\t4\t1.5\n",
    "# 1\t아이유\t3\t2.4\n",
    "# 2\t김연아\t1\t3.9\n",
    "# 3\t신사임당\t2\t3.2\n",
    "\n",
    "print(df.shape)          # (4, 3). 2차원 4행 3열\n",
    "print(df.values)         # 값들로만 구성된 ndarray 출력\n",
    "print(df.size, df.ndim)  # 12 2. DataFrame 안에 있는 요소들의 갯수, 차원\n",
    "print(df.index)          # RangeIndex(start=0, stop=4, step=1). 행 index\n",
    "print(df.columns)        # Index(['이름', '학년', '학점'], dtype='object'). 컬럼으로만 구성된 ndarray 출력. 열 index\n",
    "\n",
    "df.index.name = '학번'      # 행 index에 대한 이름을 지정\n",
    "df.columns.name = '학생정보' # 열 index에 대한 이름을 지정\n",
    "display(df) "
   ]
  },
  {
   "cell_type": "code",
   "execution_count": 77,
   "id": "ce076f3a",
   "metadata": {
    "scrolled": true
   },
   "outputs": [
    {
     "data": {
      "text/html": [
       "<div>\n",
       "<style scoped>\n",
       "    .dataframe tbody tr th:only-of-type {\n",
       "        vertical-align: middle;\n",
       "    }\n",
       "\n",
       "    .dataframe tbody tr th {\n",
       "        vertical-align: top;\n",
       "    }\n",
       "\n",
       "    .dataframe thead th {\n",
       "        text-align: right;\n",
       "    }\n",
       "</style>\n",
       "<table border=\"1\" class=\"dataframe\">\n",
       "  <thead>\n",
       "    <tr style=\"text-align: right;\">\n",
       "      <th></th>\n",
       "      <th>이름</th>\n",
       "      <th>학년</th>\n",
       "      <th>학점</th>\n",
       "    </tr>\n",
       "  </thead>\n",
       "  <tbody>\n",
       "    <tr>\n",
       "      <th>0</th>\n",
       "      <td>홍길동</td>\n",
       "      <td>4</td>\n",
       "      <td>1.5</td>\n",
       "    </tr>\n",
       "    <tr>\n",
       "      <th>1</th>\n",
       "      <td>아이유</td>\n",
       "      <td>3</td>\n",
       "      <td>2.4</td>\n",
       "    </tr>\n",
       "    <tr>\n",
       "      <th>2</th>\n",
       "      <td>김연아</td>\n",
       "      <td>1</td>\n",
       "      <td>3.9</td>\n",
       "    </tr>\n",
       "    <tr>\n",
       "      <th>3</th>\n",
       "      <td>신사임당</td>\n",
       "      <td>2</td>\n",
       "      <td>3.2</td>\n",
       "    </tr>\n",
       "  </tbody>\n",
       "</table>\n",
       "</div>"
      ],
      "text/plain": [
       "     이름  학년   학점\n",
       "0   홍길동   4  1.5\n",
       "1   아이유   3  2.4\n",
       "2   김연아   1  3.9\n",
       "3  신사임당   2  3.2"
      ]
     },
     "metadata": {},
     "output_type": "display_data"
    },
    {
     "data": {
      "text/html": [
       "<div>\n",
       "<style scoped>\n",
       "    .dataframe tbody tr th:only-of-type {\n",
       "        vertical-align: middle;\n",
       "    }\n",
       "\n",
       "    .dataframe tbody tr th {\n",
       "        vertical-align: top;\n",
       "    }\n",
       "\n",
       "    .dataframe thead th {\n",
       "        text-align: right;\n",
       "    }\n",
       "</style>\n",
       "<table border=\"1\" class=\"dataframe\">\n",
       "  <thead>\n",
       "    <tr style=\"text-align: right;\">\n",
       "      <th></th>\n",
       "      <th>학생이름</th>\n",
       "      <th>학년</th>\n",
       "      <th>평균평점</th>\n",
       "    </tr>\n",
       "  </thead>\n",
       "  <tbody>\n",
       "    <tr>\n",
       "      <th>one</th>\n",
       "      <td>홍길동</td>\n",
       "      <td>4</td>\n",
       "      <td>1.5</td>\n",
       "    </tr>\n",
       "    <tr>\n",
       "      <th>1</th>\n",
       "      <td>아이유</td>\n",
       "      <td>3</td>\n",
       "      <td>2.4</td>\n",
       "    </tr>\n",
       "    <tr>\n",
       "      <th>2</th>\n",
       "      <td>김연아</td>\n",
       "      <td>1</td>\n",
       "      <td>3.9</td>\n",
       "    </tr>\n",
       "    <tr>\n",
       "      <th>3</th>\n",
       "      <td>신사임당</td>\n",
       "      <td>2</td>\n",
       "      <td>3.2</td>\n",
       "    </tr>\n",
       "  </tbody>\n",
       "</table>\n",
       "</div>"
      ],
      "text/plain": [
       "     학생이름  학년  평균평점\n",
       "one   홍길동   4   1.5\n",
       "1     아이유   3   2.4\n",
       "2     김연아   1   3.9\n",
       "3    신사임당   2   3.2"
      ]
     },
     "metadata": {},
     "output_type": "display_data"
    }
   ],
   "source": [
    "# DataFrame의 column 명과 index 명을 변경. rename()\n",
    "my_dict = {'이름': ['홍길동', '아이유', '김연아', '신사임당'],\n",
    "          '학년': [4, 3, 1, 2],\n",
    "          '학점': [1.5, 2.4, 3.9, 3.2]}\n",
    "\n",
    "df = pd.DataFrame(my_dict)\n",
    "display(df)\n",
    "\n",
    "new_df = df.rename(columns={'이름':'학생이름',\n",
    "                            '학점':'평균평점'},\n",
    "                  index={0:'one'},\n",
    "                  inplace=False) # inplace가 True이면 원본을 수정, False면 사본을 만듦\n",
    "display(new_df)"
   ]
  },
  {
   "cell_type": "code",
   "execution_count": 79,
   "id": "c18c1a5c",
   "metadata": {
    "scrolled": true
   },
   "outputs": [
    {
     "data": {
      "text/html": [
       "<div>\n",
       "<style scoped>\n",
       "    .dataframe tbody tr th:only-of-type {\n",
       "        vertical-align: middle;\n",
       "    }\n",
       "\n",
       "    .dataframe tbody tr th {\n",
       "        vertical-align: top;\n",
       "    }\n",
       "\n",
       "    .dataframe thead th {\n",
       "        text-align: right;\n",
       "    }\n",
       "</style>\n",
       "<table border=\"1\" class=\"dataframe\">\n",
       "  <thead>\n",
       "    <tr style=\"text-align: right;\">\n",
       "      <th></th>\n",
       "      <th>이름</th>\n",
       "      <th>학년</th>\n",
       "      <th>학점</th>\n",
       "    </tr>\n",
       "  </thead>\n",
       "  <tbody>\n",
       "    <tr>\n",
       "      <th>0</th>\n",
       "      <td>홍길동</td>\n",
       "      <td>4</td>\n",
       "      <td>1.5</td>\n",
       "    </tr>\n",
       "    <tr>\n",
       "      <th>1</th>\n",
       "      <td>아이유</td>\n",
       "      <td>3</td>\n",
       "      <td>2.4</td>\n",
       "    </tr>\n",
       "    <tr>\n",
       "      <th>2</th>\n",
       "      <td>김연아</td>\n",
       "      <td>1</td>\n",
       "      <td>3.9</td>\n",
       "    </tr>\n",
       "    <tr>\n",
       "      <th>3</th>\n",
       "      <td>신사임당</td>\n",
       "      <td>2</td>\n",
       "      <td>3.2</td>\n",
       "    </tr>\n",
       "  </tbody>\n",
       "</table>\n",
       "</div>"
      ],
      "text/plain": [
       "     이름  학년   학점\n",
       "0   홍길동   4  1.5\n",
       "1   아이유   3  2.4\n",
       "2   김연아   1  3.9\n",
       "3  신사임당   2  3.2"
      ]
     },
     "metadata": {},
     "output_type": "display_data"
    },
    {
     "data": {
      "text/html": [
       "<div>\n",
       "<style scoped>\n",
       "    .dataframe tbody tr th:only-of-type {\n",
       "        vertical-align: middle;\n",
       "    }\n",
       "\n",
       "    .dataframe tbody tr th {\n",
       "        vertical-align: top;\n",
       "    }\n",
       "\n",
       "    .dataframe thead th {\n",
       "        text-align: right;\n",
       "    }\n",
       "</style>\n",
       "<table border=\"1\" class=\"dataframe\">\n",
       "  <thead>\n",
       "    <tr style=\"text-align: right;\">\n",
       "      <th></th>\n",
       "      <th>학년</th>\n",
       "      <th>학점</th>\n",
       "    </tr>\n",
       "    <tr>\n",
       "      <th>이름</th>\n",
       "      <th></th>\n",
       "      <th></th>\n",
       "    </tr>\n",
       "  </thead>\n",
       "  <tbody>\n",
       "    <tr>\n",
       "      <th>홍길동</th>\n",
       "      <td>4</td>\n",
       "      <td>1.5</td>\n",
       "    </tr>\n",
       "    <tr>\n",
       "      <th>아이유</th>\n",
       "      <td>3</td>\n",
       "      <td>2.4</td>\n",
       "    </tr>\n",
       "    <tr>\n",
       "      <th>김연아</th>\n",
       "      <td>1</td>\n",
       "      <td>3.9</td>\n",
       "    </tr>\n",
       "    <tr>\n",
       "      <th>신사임당</th>\n",
       "      <td>2</td>\n",
       "      <td>3.2</td>\n",
       "    </tr>\n",
       "  </tbody>\n",
       "</table>\n",
       "</div>"
      ],
      "text/plain": [
       "      학년   학점\n",
       "이름           \n",
       "홍길동    4  1.5\n",
       "아이유    3  2.4\n",
       "김연아    1  3.9\n",
       "신사임당   2  3.2"
      ]
     },
     "metadata": {},
     "output_type": "display_data"
    }
   ],
   "source": [
    "# DataFrame의 특정 column을 index(행)로 설정. set_index()\n",
    "my_dict = {'이름': ['홍길동', '아이유', '김연아', '신사임당'],\n",
    "          '학년': [4, 3, 1, 2],\n",
    "          '학점': [1.5, 2.4, 3.9, 3.2]}\n",
    "\n",
    "df = pd.DataFrame(my_dict)\n",
    "display(df)\n",
    "\n",
    "new_df = df.set_index('이름',\n",
    "                     inplace=False)\n",
    "display(new_df)"
   ]
  },
  {
   "cell_type": "code",
   "execution_count": 80,
   "id": "631fe9a8",
   "metadata": {
    "scrolled": true
   },
   "outputs": [
    {
     "data": {
      "text/html": [
       "<div>\n",
       "<style scoped>\n",
       "    .dataframe tbody tr th:only-of-type {\n",
       "        vertical-align: middle;\n",
       "    }\n",
       "\n",
       "    .dataframe tbody tr th {\n",
       "        vertical-align: top;\n",
       "    }\n",
       "\n",
       "    .dataframe thead th {\n",
       "        text-align: right;\n",
       "    }\n",
       "</style>\n",
       "<table border=\"1\" class=\"dataframe\">\n",
       "  <thead>\n",
       "    <tr style=\"text-align: right;\">\n",
       "      <th></th>\n",
       "      <th>이름</th>\n",
       "      <th>입학연도</th>\n",
       "      <th>성적</th>\n",
       "    </tr>\n",
       "  </thead>\n",
       "  <tbody>\n",
       "    <tr>\n",
       "      <th>0</th>\n",
       "      <td>아이유</td>\n",
       "      <td>2015</td>\n",
       "      <td>1.5</td>\n",
       "    </tr>\n",
       "    <tr>\n",
       "      <th>1</th>\n",
       "      <td>김연아</td>\n",
       "      <td>2016</td>\n",
       "      <td>2.0</td>\n",
       "    </tr>\n",
       "    <tr>\n",
       "      <th>2</th>\n",
       "      <td>홍길동</td>\n",
       "      <td>2015</td>\n",
       "      <td>3.1</td>\n",
       "    </tr>\n",
       "    <tr>\n",
       "      <th>3</th>\n",
       "      <td>강감찬</td>\n",
       "      <td>2017</td>\n",
       "      <td>1.1</td>\n",
       "    </tr>\n",
       "    <tr>\n",
       "      <th>4</th>\n",
       "      <td>이순신</td>\n",
       "      <td>2016</td>\n",
       "      <td>2.7</td>\n",
       "    </tr>\n",
       "  </tbody>\n",
       "</table>\n",
       "</div>"
      ],
      "text/plain": [
       "    이름  입학연도   성적\n",
       "0  아이유  2015  1.5\n",
       "1  김연아  2016  2.0\n",
       "2  홍길동  2015  3.1\n",
       "3  강감찬  2017  1.1\n",
       "4  이순신  2016  2.7"
      ]
     },
     "metadata": {},
     "output_type": "display_data"
    }
   ],
   "source": [
    "import numpy as np\n",
    "import pandas as pd\n",
    "\n",
    "df = pd.read_csv('./data/student.csv')\n",
    "display(df)"
   ]
  }
 ],
 "metadata": {
  "kernelspec": {
   "display_name": "Python [conda env:machine] *",
   "language": "python",
   "name": "conda-env-machine-py"
  },
  "language_info": {
   "codemirror_mode": {
    "name": "ipython",
    "version": 3
   },
   "file_extension": ".py",
   "mimetype": "text/x-python",
   "name": "python",
   "nbconvert_exporter": "python",
   "pygments_lexer": "ipython3",
   "version": "3.8.12"
  }
 },
 "nbformat": 4,
 "nbformat_minor": 5
}
