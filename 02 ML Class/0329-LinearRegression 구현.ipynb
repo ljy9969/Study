{
 "cells": [
  {
   "cell_type": "code",
   "execution_count": 18,
   "id": "a785e942",
   "metadata": {},
   "outputs": [
    {
     "name": "stdout",
     "output_type": "stream",
     "text": [
      "W : [[0.77152861]], b:[0.04380901], loss:24.562782318726413\n",
      "W : [[2.05746079]], b:[0.79254831], loss:0.007833342042532731\n",
      "W : [[2.02083839]], b:[0.92476679], loss:0.0010302254779864365\n",
      "W : [[2.00755713]], b:[0.97271637], loss:0.0001354931943132694\n",
      "W : [[2.00274062]], b:[0.99010548], loss:1.7819793916477376e-05\n",
      "W : [[2.0009939]], b:[0.99641171], loss:2.3436236545577826e-06\n",
      "W : [[2.00036044]], b:[0.99869869], loss:3.082286955728608e-07\n",
      "W : [[2.00013072]], b:[0.99952808], loss:4.053762155304873e-08\n",
      "W : [[2.0000474]], b:[0.99982885], loss:5.331426907287534e-09\n",
      "W : [[2.00001719]], b:[0.99993793], loss:7.011786032588625e-10\n"
     ]
    }
   ],
   "source": [
    "import numpy as np\n",
    "\n",
    "# Training Data Set 준비. x_data -> 독립변수(공부시간)\n",
    "x_data = np.array([1, 2, 3, 4, 5], dtype=np.float64).reshape(5,1) # (5,-1) 앞의 행이 정해지면 열을 알아서 계산하라 (-1,5)\n",
    "\n",
    "\n",
    "# t_data -> 정답데이터(시험점수)\n",
    "t_data = np.array([3, 5, 7, 9, 11], dtype=np.float64).reshape(5,1)\n",
    "\n",
    "\n",
    "# Weight & Bias 정의\n",
    "W = np.random.rand(1,1) # 1행 1열짜리(값은 1개) ndarray를 만들고 0과 1 사이의 균등분포에서 실수 난수를 추출\n",
    "b = np.random.rand(1)\n",
    "\n",
    "\n",
    "# predict function(예측 함수, 모델, hypothesis)\n",
    "def predict(x):\n",
    "    y = np.dot(x,W) + b\n",
    "    return y\n",
    "\n",
    "\n",
    "# loss function\n",
    "def loss_func(input_data): # loss 함수는 W와 b의 함수\n",
    "    \n",
    "    input_W = input_data[0].reshape(1,1) # input_data -> [W b]\n",
    "    input_b = input_data[1]\n",
    "    \n",
    "    y = np.dot(x_data, input_W) + input_b # 예측값. dot 메서드는 행렬곱연산. y = XW+b\n",
    "    \n",
    "    return np.mean(np.power(t_data - y, 2)) # MSE(평균제곱오차)를 구하자(v). t_data - y -> 오차. power 제곱\n",
    "\n",
    "\n",
    "# 다변수 함수의 수치미분 코드. input_value = [x y] ndarray로 값이 2개 넘어온다\n",
    "def numerical_derivative(f,x):\n",
    "\n",
    "    delta_x = 1e-4\n",
    "    derivative_x = np.zeros_like(x) # derivative_x : [0.0 0.0]. x의 shape과 같도록 ndarray 만듦\n",
    "\n",
    "# iterator를 이용해서 입력변수 x에 대한 편미분을 수행\n",
    "    it = np.nditer(x, flags=['multi_index']) # iterator 객체를 얻어 변수 넣고 flags라는 속성으로 차원 정해주고 반복~\n",
    "\n",
    "    while not it.finished:\n",
    "        \n",
    "        idx = it.multi_index\n",
    "        tmp = x[idx]\n",
    "\n",
    "        x[idx] = tmp + delta_x\n",
    "        fx_plus_delta = f(x)\n",
    "\n",
    "        x[idx] = tmp - delta_x\n",
    "        fx_minus_delta = f(x)\n",
    "\n",
    "        derivative_x[idx] = (fx_plus_delta - fx_minus_delta) / (2 * delta_x)\n",
    "\n",
    "        x[idx] = tmp\n",
    "        it.iternext()\n",
    "        \n",
    "    return derivative_x\n",
    "\n",
    "\n",
    "# learning rate의 값을 설정. 초기에는 1e-4 or 1e-3 정도로 설정\n",
    "learning_rate = 1e-4\n",
    "\n",
    "\n",
    "# 학습과정을 진행\n",
    "for step in range(300000):\n",
    "    \n",
    "    input_param = np.concatenate((W.ravel(), b.ravel()), axis=0) # [W b] Numpy array. 1차원을 열 방향으로 붙여라\n",
    "    derivative_result = learning_rate * numerical_derivative(loss_func, input_param) # 편미분한 값에 learning_rate를 곱함\n",
    "    \n",
    "    W = W - derivative_result[0].reshape(1,1) # 새로운 W'\n",
    "    b = b - derivative_result[1] # 새로운 b'\n",
    "    \n",
    "    if step % 30000 == 0: # loss 값이 실제로 줄어드는지 10번만 출력해서 확인하자\n",
    "        input_param = np.concatenate((W.ravel(), b.ravel()), axis=0) # loss 값 구하기 위해\n",
    "        print('W : {}, b:{}, loss:{}'.format(W, b, loss_func(input_param)))"
   ]
  },
  {
   "cell_type": "code",
   "execution_count": 19,
   "id": "e14a7b47",
   "metadata": {
    "scrolled": false
   },
   "outputs": [
    {
     "name": "stdout",
     "output_type": "stream",
     "text": [
      "6시간 공부했을 때 점수 :  [[13.0000149]]\n"
     ]
    }
   ],
   "source": [
    "# 6시간 공부하면 몇 점일지를 예측해보자\n",
    "\n",
    "predict_date = predict(np.array([[6]])) # 인자를 2차원으로 줘야 행렬곱연산이 일어남\n",
    "print('6시간 공부했을 때 점수 : ', predict_date)"
   ]
  },
  {
   "cell_type": "code",
   "execution_count": 21,
   "id": "3cd92de2",
   "metadata": {},
   "outputs": [
    {
     "name": "stdout",
     "output_type": "stream",
     "text": [
      "W : [[2.]], b:[1.]\n",
      "[[13.]]\n"
     ]
    }
   ],
   "source": [
    "from sklearn import linear_model\n",
    "\n",
    "x_data = np.array([1, 2, 3, 4, 5], dtype=np.float64).reshape(5,1) # Training Data Set\n",
    "t_data = np.array([3, 5, 7, 9, 11], dtype=np.float64).reshape(5,1)\n",
    "\n",
    "model = linear_model.LinearRegression() # model 생성\n",
    "\n",
    "model.fit(x_data, t_data) # model 학습\n",
    "\n",
    "print('W : {}, b:{}'.format(model.coef_, model.intercept_)) # W : [[2.]], b:[1.]. W, b 구해보자\n",
    "\n",
    "print(model.predict(np.array([[6]]))) # [[13.]]. model을 이용한 예측"
   ]
  },
  {
   "cell_type": "code",
   "execution_count": 31,
   "id": "b981daa6",
   "metadata": {},
   "outputs": [
    {
     "name": "stdout",
     "output_type": "stream",
     "text": [
      "W : [[0.58129687]], b:[0.59589753], loss:871.031119074389\n",
      "W : [[0.71641722]], b:[-11.69753347], loss:818.0413017913634\n",
      "W : [[0.85903709]], b:[-22.9667817], loss:775.6759166927828\n",
      "W : [[0.98977785]], b:[-33.29739081], loss:740.0740207912045\n",
      "W : [[1.10962895]], b:[-42.767542], loss:710.15584610966\n",
      "W : [[1.21949739]], b:[-51.44890461], loss:685.01400594736\n",
      "W : [[1.32021467]], b:[-59.40717847], loss:663.8859747932473\n",
      "W : [[1.41254299]], b:[-66.70259115], loss:646.1309617326336\n",
      "W : [[1.4971811]], b:[-73.39035374], loss:631.2104759342972\n",
      "W : [[1.57476952]], b:[-79.52107868], loss:618.6719947910289\n"
     ]
    }
   ],
   "source": [
    "# Ozone량 예측하는 모델을 만들어 보자\n",
    "import numpy as np\n",
    "import pandas as pd\n",
    "\n",
    "# 다변수 함수의 수치미분 코드\n",
    "def numerical_derivative(f,x):\n",
    "\n",
    "    delta_x = 1e-4\n",
    "    derivative_x = np.zeros_like(x)\n",
    "\n",
    "# iterator를 이용해서 입력변수 x에 대한 편미분을 수행\n",
    "    it = np.nditer(x, flags=['multi_index'])\n",
    "\n",
    "    while not it.finished:\n",
    "        \n",
    "        idx = it.multi_index\n",
    "        tmp = x[idx]\n",
    "\n",
    "        x[idx] = tmp + delta_x\n",
    "        fx_plus_delta = f(x)\n",
    "\n",
    "        x[idx] = tmp - delta_x\n",
    "        fx_minus_delta = f(x)\n",
    "\n",
    "        derivative_x[idx] = (fx_plus_delta - fx_minus_delta) / (2 * delta_x)\n",
    "\n",
    "        x[idx] = tmp\n",
    "        it.iternext()\n",
    "        \n",
    "    return derivative_x\n",
    "\n",
    "# Raw Data Set Loading\n",
    "df = pd.read_csv('./data/ozone.csv')\n",
    "# display(df.head())\n",
    "\n",
    "# Ozone(오존량) : 종속변수\n",
    "# Solar.R(태양광세기), Wind, Temp : 독립변수. Linear Regression으로 하나의 독립변수만 사용함\n",
    "training_data = df[['Ozone', 'Temp']]\n",
    "# display(training_data)\n",
    "# print(training_data.shape) # (153, 2)\n",
    "# training_data.info() # 결치값이 존재함. 데이터가 충분히 많다면 삭제 or 대체\n",
    "\n",
    "training_data.dropna(how='any', inplace=True) # 결치가 존재하는 행을 삭제\n",
    "# training_data.info()\n",
    "\n",
    "x_data = training_data['Temp'].values.reshape(-1,1) # Training Data Set\n",
    "t_data = training_data['Ozone'].values.reshape(-1,1)\n",
    "\n",
    "# Weight, bias\n",
    "W = np.random.rand(1,1)\n",
    "b = np.random.rand(1)\n",
    "\n",
    "# loss function\n",
    "def loss_function(input_data):\n",
    "    W = input_data[0].reshape(1,1)\n",
    "    b = input_data[1]\n",
    "    \n",
    "    y = np.dot(x_data, W) + b\n",
    "    return np.mean(np.power(t_data-y,2))\n",
    "\n",
    "# predict\n",
    "def predict(x):\n",
    "    y = np.dot(x, W) + b\n",
    "    return y\n",
    "\n",
    "# learning_rate\n",
    "learning_rate = 1e-4\n",
    "\n",
    "# 반복 학습\n",
    "for step in range(300000):\n",
    "    \n",
    "    input_param = np.concatenate((W.ravel(), b.ravel()), axis=0)\n",
    "    derivative_result = learning_rate * numerical_derivative(loss_func, input_param)\n",
    "    \n",
    "    W = W - derivative_result[0].reshape(1,1)\n",
    "    b = b - derivative_result[1]\n",
    "    \n",
    "    if step % 30000 == 0:\n",
    "        input_param = np.concatenate((W.ravel(), b.ravel()), axis=0)\n",
    "        print('W : {}, b : {}, loss : {}'.format(W, b, loss_func(input_param)))"
   ]
  },
  {
   "cell_type": "code",
   "execution_count": 32,
   "id": "6b9591dd",
   "metadata": {
    "scrolled": true
   },
   "outputs": [
    {
     "name": "stdout",
     "output_type": "stream",
     "text": [
      "온도가 62일 때 오존량 : [[16.90439304]]\n"
     ]
    }
   ],
   "source": [
    "# 학습종료 후 예측\n",
    "predict_data = predict(np.array([[62]]))\n",
    "print('온도가 62일 때 오존량 : {}'.format(predict_data)) # [[16.90439304]]"
   ]
  },
  {
   "cell_type": "code",
   "execution_count": 36,
   "id": "ab227ba7",
   "metadata": {},
   "outputs": [
    {
     "data": {
      "image/png": "[encoded data removed]",
      "text/plain": [
       "<Figure size 432x288 with 1 Axes>"
      ]
     },
     "metadata": {
      "needs_background": "light"
     },
     "output_type": "display_data"
    }
   ],
   "source": [
    "# 그래프로 표현해보자\n",
    "import matplotlib.pyplot as plt\n",
    "\n",
    "plt.scatter(x_data.ravel(), t_data.ravel())\n",
    "plt.plot(x_data.ravel(), x_data.ravel()*W.ravel() + b, color='r')\n",
    "plt.show()"
   ]
  },
  {
   "cell_type": "code",
   "execution_count": 1,
   "id": "c7b08b6f",
   "metadata": {},
   "outputs": [
    {
     "name": "stdout",
     "output_type": "stream",
     "text": [
      "sklearn으로 구한 온도가 62도 일 때의 오존량 : [[3.58411393]]\n"
     ]
    },
    {
     "data": {
      "image/png": "[encoded data removed]",
      "text/plain": [
       "<Figure size 432x288 with 1 Axes>"
      ]
     },
     "metadata": {
      "needs_background": "light"
     },
     "output_type": "display_data"
    }
   ],
   "source": [
    "import numpy as np\n",
    "import pandas as pd\n",
    "import matplotlib.pyplot as plt\n",
    "from sklearn import linear_model\n",
    "import warnings\n",
    "warnings.filterwarnings('ignore')\n",
    "\n",
    "# Raw Data Set Loading\n",
    "df = pd.read_csv('./data/ozone.csv')\n",
    "\n",
    "# Linear Regression으로 하나의 독립변수만 사용함\n",
    "training_data = df[['Ozone', 'Temp']]\n",
    "\n",
    "training_data.dropna(how='any', inplace=True) # 결치가 존재하는 행을 삭제\n",
    "\n",
    "x_data = training_data['Temp'].values.reshape(-1,1) # Training Data Set\n",
    "t_data = training_data['Ozone'].values.reshape(-1,1)\n",
    "\n",
    "# model 생성\n",
    "model = linear_model.LinearRegression()\n",
    "\n",
    "# model 학습\n",
    "model.fit(x_data, t_data)\n",
    "\n",
    "# 예측\n",
    "result = model.predict(np.array([[62]]))\n",
    "print('sklearn으로 구한 온도가 62도 일 때의 오존량 : {}'.format(result)) # [[3.58411393]]\n",
    "\n",
    "# 그래프 표현\n",
    "plt.scatter(x_data.ravel(), t_data.ravel())\n",
    "plt.plot(x_data.ravel(), \n",
    "         x_data.ravel()*model.coef_.ravel() + model.intercept_, color='g')\n",
    "plt.show()"
   ]
  }
 ],
 "metadata": {
  "kernelspec": {
   "display_name": "Python [conda env:machine] *",
   "language": "python",
   "name": "conda-env-machine-py"
  },
  "language_info": {
   "codemirror_mode": {
    "name": "ipython",
    "version": 3
   },
   "file_extension": ".py",
   "mimetype": "text/x-python",
   "name": "python",
   "nbconvert_exporter": "python",
   "pygments_lexer": "ipython3",
   "version": "3.8.12"
  }
 },
 "nbformat": 4,
 "nbformat_minor": 5
}
