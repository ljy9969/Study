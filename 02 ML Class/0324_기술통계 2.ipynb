{
 "cells": [
  {
   "cell_type": "code",
   "execution_count": 6,
   "id": "01ade738",
   "metadata": {},
   "outputs": [
    {
     "data": {
      "text/html": [
       "<div>\n",
       "<style scoped>\n",
       "    .dataframe tbody tr th:only-of-type {\n",
       "        vertical-align: middle;\n",
       "    }\n",
       "\n",
       "    .dataframe tbody tr th {\n",
       "        vertical-align: top;\n",
       "    }\n",
       "\n",
       "    .dataframe thead th {\n",
       "        text-align: right;\n",
       "    }\n",
       "</style>\n",
       "<table border=\"1\" class=\"dataframe\">\n",
       "  <thead>\n",
       "    <tr style=\"text-align: right;\">\n",
       "      <th></th>\n",
       "      <th>english</th>\n",
       "      <th>mathematics</th>\n",
       "      <th>en_deviation</th>\n",
       "      <th>ma_deviation</th>\n",
       "      <th>product_deviation</th>\n",
       "    </tr>\n",
       "  </thead>\n",
       "  <tbody>\n",
       "    <tr>\n",
       "      <th>A</th>\n",
       "      <td>42</td>\n",
       "      <td>65</td>\n",
       "      <td>-13.0</td>\n",
       "      <td>-6.4</td>\n",
       "      <td>83.2</td>\n",
       "    </tr>\n",
       "    <tr>\n",
       "      <th>B</th>\n",
       "      <td>69</td>\n",
       "      <td>80</td>\n",
       "      <td>14.0</td>\n",
       "      <td>8.6</td>\n",
       "      <td>120.4</td>\n",
       "    </tr>\n",
       "    <tr>\n",
       "      <th>C</th>\n",
       "      <td>56</td>\n",
       "      <td>63</td>\n",
       "      <td>1.0</td>\n",
       "      <td>-8.4</td>\n",
       "      <td>-8.4</td>\n",
       "    </tr>\n",
       "    <tr>\n",
       "      <th>D</th>\n",
       "      <td>41</td>\n",
       "      <td>63</td>\n",
       "      <td>-14.0</td>\n",
       "      <td>-8.4</td>\n",
       "      <td>117.6</td>\n",
       "    </tr>\n",
       "    <tr>\n",
       "      <th>E</th>\n",
       "      <td>57</td>\n",
       "      <td>76</td>\n",
       "      <td>2.0</td>\n",
       "      <td>4.6</td>\n",
       "      <td>9.2</td>\n",
       "    </tr>\n",
       "    <tr>\n",
       "      <th>F</th>\n",
       "      <td>48</td>\n",
       "      <td>60</td>\n",
       "      <td>-7.0</td>\n",
       "      <td>-11.4</td>\n",
       "      <td>79.8</td>\n",
       "    </tr>\n",
       "    <tr>\n",
       "      <th>G</th>\n",
       "      <td>65</td>\n",
       "      <td>81</td>\n",
       "      <td>10.0</td>\n",
       "      <td>9.6</td>\n",
       "      <td>96.0</td>\n",
       "    </tr>\n",
       "    <tr>\n",
       "      <th>H</th>\n",
       "      <td>49</td>\n",
       "      <td>66</td>\n",
       "      <td>-6.0</td>\n",
       "      <td>-5.4</td>\n",
       "      <td>32.4</td>\n",
       "    </tr>\n",
       "    <tr>\n",
       "      <th>I</th>\n",
       "      <td>65</td>\n",
       "      <td>78</td>\n",
       "      <td>10.0</td>\n",
       "      <td>6.6</td>\n",
       "      <td>66.0</td>\n",
       "    </tr>\n",
       "    <tr>\n",
       "      <th>J</th>\n",
       "      <td>58</td>\n",
       "      <td>82</td>\n",
       "      <td>3.0</td>\n",
       "      <td>10.6</td>\n",
       "      <td>31.8</td>\n",
       "    </tr>\n",
       "  </tbody>\n",
       "</table>\n",
       "</div>"
      ],
      "text/plain": [
       "   english  mathematics  en_deviation  ma_deviation  product_deviation\n",
       "A       42           65         -13.0          -6.4               83.2\n",
       "B       69           80          14.0           8.6              120.4\n",
       "C       56           63           1.0          -8.4               -8.4\n",
       "D       41           63         -14.0          -8.4              117.6\n",
       "E       57           76           2.0           4.6                9.2\n",
       "F       48           60          -7.0         -11.4               79.8\n",
       "G       65           81          10.0           9.6               96.0\n",
       "H       49           66          -6.0          -5.4               32.4\n",
       "I       65           78          10.0           6.6               66.0\n",
       "J       58           82           3.0          10.6               31.8"
      ]
     },
     "metadata": {},
     "output_type": "display_data"
    },
    {
     "name": "stdout",
     "output_type": "stream",
     "text": [
      "covariance(공분산) :  62.8\n"
     ]
    }
   ],
   "source": [
    "# 2차원 데이터를 이용해서 수치지표와 그래프를 표현하기. scatter를\n",
    "\n",
    "import numpy as np\n",
    "import pandas as pd\n",
    "\n",
    "df = pd.read_csv('./data/student_scores_em.csv',\n",
    "                 index_col='student number')\n",
    "\n",
    "en_scores = df['english'][:10]\n",
    "ma_scores = df['mathematics'][:10]\n",
    "\n",
    "scores_df = pd.DataFrame({'english': en_scores.values,\n",
    "                          'mathematics': ma_scores.values},\n",
    "                         index=['A','B','C','D','E','F','G','H','I','J'])\n",
    "\n",
    "scores_df['en_deviation'] = scores_df['english'] - scores_df['english'].mean()\n",
    "scores_df['ma_deviation'] = scores_df['mathematics'] - scores_df['mathematics'].mean()\n",
    "scores_df['product_deviation'] = scores_df['en_deviation'] * scores_df['ma_deviation']\n",
    "\n",
    "display(scores_df)\n",
    "\n",
    "print('covariance(공분산) : ', scores_df['product_deviation'].mean()) # 62.8. 양의 상관관계"
   ]
  },
  {
   "cell_type": "code",
   "execution_count": 8,
   "id": "fab06ab1",
   "metadata": {},
   "outputs": [
    {
     "name": "stdout",
     "output_type": "stream",
     "text": [
      "[[86.   62.8 ]\n",
      " [62.8  68.44]]\n"
     ]
    }
   ],
   "source": [
    "df = pd.read_csv('./data/student_scores_em.csv',\n",
    "                 index_col='student number')\n",
    "\n",
    "en_scores = df['english'][:10]\n",
    "ma_scores = df['mathematics'][:10]\n",
    "\n",
    "scores_df = pd.DataFrame({'english': en_scores.values,\n",
    "                          'mathematics': ma_scores.values},\n",
    "                         index=['A','B','C','D','E','F','G','H','I','J'])\n",
    "\n",
    "# Numpy의 함수를 이용해 공분산 구하기. 결과가 covariance matrix(공분산 행렬)로 리턴\n",
    "# 편차의 곱의 평균(공분산)을 구하는데 평균을 구할 때 n으로 나누는 경우와 n-1로 나누는 경우가 있음\n",
    "cov_matrix = np.cov(en_scores, ma_scores, ddof=0) # 평균을 구할 때 n으로 나누는 표본분산\n",
    "print(cov_matrix)\n",
    "# 0행 0열 - 영어와 영어의 공분산 -> 영어의 분산\n",
    "# 0행 1열 - 영어와 수학의 공분산\n",
    "# 1행 0열 - 수학과 영어의 공분산\n",
    "# 1행 1열 - 수학과 수학의 공분산 -> 수학의 분산\n",
    "# Pandas에도 cov() 존재하지만, 무조건 n-1로 나누는 불편분산 형태로 사용됨\n",
    "\n",
    "# [[86.   62.8 ]\n",
    "#  [62.8  68.44]]"
   ]
  },
  {
   "cell_type": "code",
   "execution_count": 13,
   "id": "300fc523",
   "metadata": {},
   "outputs": [
    {
     "name": "stdout",
     "output_type": "stream",
     "text": [
      "[[   24078.14439225   488212.99831291]\n",
      " [  488212.99831291 11871059.41111261]]\n"
     ]
    }
   ],
   "source": [
    "# 실제 데이터를 이용해서 공분산을 구해보자. KOSPI 지수 vs. 삼성전자 주가(KOSPI 200 안의 비중 33%)\n",
    "\n",
    "import numpy as np\n",
    "import pandas as pd\n",
    "import pandas_datareader.data as pdr\n",
    "from datetime import datetime\n",
    "\n",
    "start = datetime(2018,1,1) # 2018-01-01 00:00:00\n",
    "end = datetime(2018,12,31) # 2018-12-31 00:00:00\n",
    "\n",
    "df_kospi = pdr.DataReader('^KS11', 'yahoo', start, end) # Yahoo Finance에서 KOSPI 지수, 삼성전자 주가를 가져오기. 주가 코드\n",
    "# display(df_kospi) # 고점, 저점, 시가, 종가, 거래량, 수정종가\n",
    "df_se = pdr.DataReader('005930.KS', 'yahoo', start, end)\n",
    "# display(df_se)\n",
    "\n",
    "cov_matrix = np.cov(df_kospi['Close'], df_se['Close'], ddof=0)\n",
    "print(cov_matrix) # 488212.99831291. KOSPI 지수와 삼성전자 주가는 양의 상관관계"
   ]
  },
  {
   "cell_type": "code",
   "execution_count": 14,
   "id": "befbddff",
   "metadata": {},
   "outputs": [
    {
     "name": "stdout",
     "output_type": "stream",
     "text": [
      "[[ 4.62857448e+09 -3.84951773e+08]\n",
      " [-3.84951773e+08  6.33317924e+07]]\n"
     ]
    }
   ],
   "source": [
    "# 음의 상관관계인 데이터를 보자! 남북경협주, 방산주\n",
    "df_pusan = pdr.DataReader('011390.KS', 'yahoo', start, end) # 남북경협주, 부산산업\n",
    "df_lig = pdr.DataReader('079550.KS', 'yahoo', start, end) # 방산주, LIG넥스원\n",
    "\n",
    "cov_matrix = np.cov(df_pusan['Close'], df_lig['Close'], ddof=0)\n",
    "print(cov_matrix) # -3.84951773e+08. 남북경협주와 방산주 주가는 음의 상관관계"
   ]
  },
  {
   "cell_type": "code",
   "execution_count": 16,
   "id": "eca5f834",
   "metadata": {},
   "outputs": [
    {
     "name": "stdout",
     "output_type": "stream",
     "text": [
      "[[1.         0.91317306]\n",
      " [0.91317306 1.        ]]\n"
     ]
    }
   ],
   "source": [
    "# 변수 두 개가 서로 다른 단위일 경우 공분산 값이 달라짐 ex) 키(m, cm, mm) vs. 점수(숫자)\n",
    "# → normalization로 단위, 숫자 크기를 표준화함. 상관계수(correlation coefficient)\n",
    "\n",
    "df_kospi = pdr.DataReader('^KS11', 'yahoo', start, end)\n",
    "df_se = pdr.DataReader('005930.KS', 'yahoo', start, end)\n",
    "\n",
    "corr_coef = np.corrcoef(df_kospi['Close'], df_se['Close'])\n",
    "print(corr_coef) # 0.91317306. KOSPI 지수와 삼성전자 주가의 상관계수"
   ]
  }
 ],
 "metadata": {
  "kernelspec": {
   "display_name": "Python [conda env:machine] *",
   "language": "python",
   "name": "conda-env-machine-py"
  },
  "language_info": {
   "codemirror_mode": {
    "name": "ipython",
    "version": 3
   },
   "file_extension": ".py",
   "mimetype": "text/x-python",
   "name": "python",
   "nbconvert_exporter": "python",
   "pygments_lexer": "ipython3",
   "version": "3.8.12"
  }
 },
 "nbformat": 4,
 "nbformat_minor": 5
}
