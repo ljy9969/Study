{
 "cells": [
  {
   "cell_type": "code",
   "execution_count": 5,
   "id": "9bf3c2ef",
   "metadata": {},
   "outputs": [
    {
     "name": "stdout",
     "output_type": "stream",
     "text": [
      "10.0\n",
      "40.0\n",
      "[10.0, 40.0]\n"
     ]
    }
   ],
   "source": [
    "import tensorflow as tf # 1.15 ver.\n",
    "\n",
    "node1 = tf.constant(10, dtype=tf.float32) # 상수 node를 만들자\n",
    "node2 = tf.constant(30, dtype=tf.float32)\n",
    "\n",
    "node3 = node1 + node2\n",
    "\n",
    "sess = tf.Session() # 그래프를 실행시켜주는 Session이 필요하다\n",
    "\n",
    "print(sess.run(node1)) # graph를 실행시킴\n",
    "print(sess.run(node3))\n",
    "print(sess.run([node1, node3]))"
   ]
  },
  {
   "cell_type": "code",
   "execution_count": 8,
   "id": "4c9ad5ad",
   "metadata": {},
   "outputs": [
    {
     "name": "stdout",
     "output_type": "stream",
     "text": [
      "40.0\n"
     ]
    }
   ],
   "source": [
    "import tensorflow as tf\n",
    "\n",
    "# 만약 다차원 데이터가 입력되려면 shape을 지정해야함. 나중에 입력 받을 값을 실수로 사용하겠다\n",
    "# node1 = tf.placeholder(shape=[2,2], dtype=tf.float32)\n",
    "\n",
    "node1 = tf.placeholder(dtype=tf.float32) # scalar\n",
    "node2 = tf.placeholder(dtype=tf.float32)\n",
    "\n",
    "node3 = node1 + node2\n",
    "\n",
    "sess = tf.Session()\n",
    "\n",
    "result = sess.run(node3, feed_dict={node1: 10, node2: 30}) # 입력이 없는 상태에서 sess을 실행하면 오류. feed로 초기값을 지정해줌\n",
    "\n",
    "print(result)"
   ]
  },
  {
   "cell_type": "code",
   "execution_count": 24,
   "id": "d92dac1d",
   "metadata": {
    "scrolled": false
   },
   "outputs": [
    {
     "name": "stdout",
     "output_type": "stream",
     "text": [
      "W : [[ 0.35620126]\n",
      " [ 0.6802199 ]\n",
      " [-1.2736073 ]], b: [1.7118871], loss : 34067.4140625\n",
      "W : [[ 1.0466127 ]\n",
      " [ 1.3010069 ]\n",
      " [-0.31793556]], b: [1.7212033], loss : 70.16020965576172\n",
      "W : [[ 0.99326324]\n",
      " [ 1.1868298 ]\n",
      " [-0.15451476]], b: [1.7212033], loss : 55.9371337890625\n",
      "W : [[ 0.9441845 ]\n",
      " [ 1.0882058 ]\n",
      " [-0.01044486]], b: [1.7212033], loss : 44.94955062866211\n",
      "W : [[0.8990436 ]\n",
      " [1.0030878 ]\n",
      " [0.11662561]], b: [1.7212033], loss : 36.45235061645508\n",
      "W : [[0.85749674]\n",
      " [0.929632  ]\n",
      " [0.22878143]], b: [1.7212033], loss : 29.87066078186035\n",
      "W : [[0.81922096]\n",
      " [0.8663443 ]\n",
      " [0.32781464]], b: [1.7212033], loss : 24.767221450805664\n",
      "W : [[0.78408545]\n",
      " [0.8118457 ]\n",
      " [0.41522998]], b: [1.7212033], loss : 20.807594299316406\n",
      "W : [[0.7515445 ]\n",
      " [0.765078  ]\n",
      " [0.49254933]], b: [1.7212033], loss : 17.726661682128906\n",
      "W : [[0.72171825]\n",
      " [0.72483176]\n",
      " [0.5608492 ]], b: [1.7212033], loss : 15.328995704650879\n"
     ]
    }
   ],
   "source": [
    "# Q1, Q2, Q3, Exam 예제에 Tensorflow를 사용해서 다중선형회귀를 구현해보자\n",
    "import numpy as np\n",
    "import pandas as pd\n",
    "import tensorflow as tf\n",
    "\n",
    "# Raw Data Loading\n",
    "df = pd.read_csv('./data/student_exam_score.csv')\n",
    "# display(df.head())\n",
    "\n",
    "# Training Data Set\n",
    "x_data = df.drop('exam', axis=1, inplace=False) # (25, 3)\n",
    "t_data = df['exam'].values.reshape(-1,1) # (25, 1)\n",
    "\n",
    "# 학습종료 후 예측\n",
    "# predict_data = np.array([[90, 100, 95]]) # (1, 3)\n",
    "\n",
    "# Placeholder\n",
    "X = tf.placeholder(shape=[None, 3], dtype=tf.float32) # Shape는 입력값이 어떻든 상관없지만, 열은 3개다\n",
    "T = tf.placeholder(shape=[None, 1], dtype=tf.float32) # Shape는 입력값이 어떻든 상관없지만, 열은 1개다\n",
    "\n",
    "# Weight, bias. 파이썬의 변수처럼 텐서플로에도 변수처럼 작동하는 Node를 쓰자\n",
    "W = tf.Variable(tf.random.normal([3,1])) # Shape는 (3, 1). 표준 정규분포에서 난수를 추출\n",
    "b = tf.Variable(tf.random.normal([1]))\n",
    "\n",
    "# model(hypothesis, 가설) y = Wx + b\n",
    "H = tf.matmul(X,W) + b\n",
    "\n",
    "# loss function. Error(오차, t-y)를 가지고 동작하는 Node\n",
    "loss = tf.reduce_mean(tf.square(H - T)) # square과 reduce_mean으로 오차의 제곱의 평균(MSE) 구하자\n",
    "\n",
    "# train node를 생성하자. 경사하강법과 learning rate와 최소 MSE. loss를 가지고 동작하는 Node\n",
    "train = tf.train.GradientDescentOptimizer(learning_rate=1e-7).minimize(loss)\n",
    "\n",
    "# Session을 생성하고 초기화를 진행\n",
    "sess = tf.Session()\n",
    "sess.run(tf.global_variables_initializer()) # 그래프를 실행하기 전에 초기화 구문이 선행되어야 함\n",
    "\n",
    "# 반복 학습\n",
    "for step in range(300000):\n",
    "    _, W_val, b_val, loss_val = sess.run([train, W, b, loss], feed_dict={X: x_data, T: t_data})\n",
    "    if step % 30000 == 0:\n",
    "        print('W : {}, b: {}, loss : {}'.format(W_val, b_val, loss_val))"
   ]
  },
  {
   "cell_type": "code",
   "execution_count": 25,
   "id": "a7b7149d",
   "metadata": {},
   "outputs": [
    {
     "name": "stdout",
     "output_type": "stream",
     "text": [
      "[[191.56349]]\n"
     ]
    }
   ],
   "source": [
    "# 학습종료 후 예측\n",
    "result = sess.run(H, feed_dict={X: np.array([[89, 100, 95]])})\n",
    "print(result) # 30만번 : [[187.72133]], [[195.62724]], [[191.56349]] / 40만번 : [[194.6791]]"
   ]
  }
 ],
 "metadata": {
  "kernelspec": {
   "display_name": "Python [conda env:machine_TF15] *",
   "language": "python",
   "name": "conda-env-machine_TF15-py"
  },
  "language_info": {
   "codemirror_mode": {
    "name": "ipython",
    "version": 3
   },
   "file_extension": ".py",
   "mimetype": "text/x-python",
   "name": "python",
   "nbconvert_exporter": "python",
   "pygments_lexer": "ipython3",
   "version": "3.7.13"
  }
 },
 "nbformat": 4,
 "nbformat_minor": 5
}
