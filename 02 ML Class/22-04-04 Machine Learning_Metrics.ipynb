{
 "cells": [
  {
   "cell_type": "code",
   "execution_count": 78,
   "id": "ffadd4cb",
   "metadata": {},
   "outputs": [
    {
     "name": "stdout",
     "output_type": "stream",
     "text": [
      "Sklearn이 예측한 결과 : 합격여부 : [1], 확률 : [[0.43740782 0.56259218]]\n"
     ]
    }
   ],
   "source": [
    "# Logistic Regression by Sklearn\n",
    "\n",
    "import numpy as np\n",
    "import pandas as pd\n",
    "import tensorflow as tf\n",
    "from sklearn import linear_model\n",
    "from sklearn.preprocessing import MinMaxScaler\n",
    "from scipy import stats\n",
    "import matplotlib.pyplot as plt\n",
    "import warnings\n",
    "warnings.filterwarnings('ignore')\n",
    "\n",
    "df = pd.read_csv('./data/admission.csv')\n",
    "\n",
    "# display(df.head())\n",
    "# df.info()\n",
    "# print(df.isnull().sum()) # 결치값 없음\n",
    "\n",
    "# figure = plt.figure()\n",
    "# ax1 = figure.add_subplot(1,4,1)\n",
    "# ax2 = figure.add_subplot(1,4,2)\n",
    "# ax3 = figure.add_subplot(1,4,3)\n",
    "# ax4 = figure.add_subplot(1,4,4)\n",
    "\n",
    "# ax1.set_title('ADMIT')\n",
    "# ax2.set_title('GRE')\n",
    "# ax3.set_title('GPA')\n",
    "# ax4.set_title('RANK')\n",
    "\n",
    "# ax1.boxplot(df['admit'])\n",
    "# ax2.boxplot(df['gre'])\n",
    "# ax3.boxplot(df['gpa'])\n",
    "# ax4.boxplot(df['rank'])\n",
    "\n",
    "# figure.tight_layout()\n",
    "# plt.show() # df['gre'], df['gpa']에 이상치가 있다\n",
    "\n",
    "zscore_threshold = 2.0 # zscore로 이상치 제거\n",
    "for col in df.columns:\n",
    "    outlier = df[col][np.abs(stats.zscore(df[col])) > zscore_threshold]\n",
    "    df = df.loc[~df[col].isin(outlier)] # ~는 Not\n",
    "\n",
    "x_data = df.drop('admit', axis = 1, inplace=False) # 정규화 진행\n",
    "t_data = df['admit'].values.reshape(-1,1) # 0과 1로만 구성되어 있음\n",
    "\n",
    "scaler = MinMaxScaler()\n",
    "scaler.fit(x_data) # fit으로 변환을 위한 사전구조 맞추기\n",
    "\n",
    "norm_x_data = scaler.transform(x_data) # 0 ~ 1 사이의 값으로 변환\n",
    "# print(norm_x_data) # norm_x_data, t_data 준비\n",
    "\n",
    "model = linear_model.LogisticRegression() # Sklearn 구현\n",
    "model.fit(x_data, t_data)\n",
    "my_score = np.array([[600, 3.8, 1]])\n",
    "predict_val = model.predict(my_score) # 1. 0 or 1로 결과 도출\n",
    "predict_proba = model.predict_proba(my_score) # [[0.43740782 0.56259218]]. 확률값으로 결과 도출\n",
    "\n",
    "print('Sklearn이 예측한 결과 : 합격여부 : {}, 확률 : {}'.format(predict_val, predict_proba)) # 합격!"
   ]
  },
  {
   "cell_type": "code",
   "execution_count": 79,
   "id": "baeef2a9",
   "metadata": {},
   "outputs": [
    {
     "name": "stdout",
     "output_type": "stream",
     "text": [
      "loss의 값 : 2.3886940479278564\n",
      "loss의 값 : 0.8489124774932861\n",
      "loss의 값 : 0.610153079032898\n",
      "loss의 값 : 0.5910931825637817\n",
      "loss의 값 : 0.5888001322746277\n",
      "loss의 값 : 0.5879842042922974\n",
      "loss의 값 : 0.5873535871505737\n",
      "loss의 값 : 0.5867820978164673\n",
      "loss의 값 : 0.5862650275230408\n",
      "loss의 값 : 0.5857952833175659\n"
     ]
    }
   ],
   "source": [
    "import warnings\n",
    "warnings.filterwarnings('ignore')\n",
    "\n",
    "# Logistic Regression by Tensorflow\n",
    "X = tf.placeholder(shape=[None,3], dtype=tf.float32) # placeholder\n",
    "T = tf.placeholder(shape=[None,1], dtype=tf.float32)\n",
    "\n",
    "# Weight, bias\n",
    "W = tf.Variable(tf.random.normal([3,1]))\n",
    "b = tf.Variable(tf.random.normal([1]))\n",
    "\n",
    "# Hypothesis, Model, Predict Model, Logistic Regression Model\n",
    "logit = tf.matmul(X,W) + b\n",
    "H = tf.sigmoid(logit)\n",
    "\n",
    "# loss func, cross entropy 혹은 log loss\n",
    "loss = tf.reduce_mean(tf.nn.sigmoid_cross_entropy_with_logits(logits=logit, labels=T)) # logits은 선형회귀, y. label은 T\n",
    "\n",
    "# train node\n",
    "train = tf.train.GradientDescentOptimizer(learning_rate=1e-4).minimize(loss)\n",
    "\n",
    "# Session & 초기화\n",
    "sess = tf.Session()\n",
    "sess.run(tf.global_variables_initializer())\n",
    "\n",
    "# 반복 학습\n",
    "for step in range(300000):\n",
    "    _, loss_val = sess.run([train, loss], feed_dict={X: norm_x_data, T: t_data})\n",
    "    \n",
    "    if step % 30000 == 0:\n",
    "        print('loss의 값 : {}'.format(loss_val))"
   ]
  },
  {
   "cell_type": "code",
   "execution_count": 80,
   "id": "4bb9e502",
   "metadata": {},
   "outputs": [
    {
     "name": "stdout",
     "output_type": "stream",
     "text": [
      "Tensorflow가 예측한 : 확률 : [[0.4715909]]\n"
     ]
    }
   ],
   "source": [
    "# Prediction + MinMaxScaler\n",
    "my_score = np.array([[600, 3.8, 1]])\n",
    "norm_my_score = scaler.transform(my_score)\n",
    "\n",
    "result = sess.run(H, feed_dict={X: norm_my_score})\n",
    "print('Tensorflow가 예측한 : 확률 : {}'.format(result)) # [[0.4715909]]. 불합격!"
   ]
  },
  {
   "cell_type": "code",
   "execution_count": 71,
   "id": "21389f18",
   "metadata": {
    "scrolled": false
   },
   "outputs": [],
   "source": [
    "# Regression의 Metrics(Hold-Out Validation, Sklearn)\n",
    "\n",
    "import numpy as np\n",
    "import pandas as pd\n",
    "from sklearn import linear_model\n",
    "from scipy import stats\n",
    "from sklearn.model_selection import train_test_split # Training set / Test set 나누기\n",
    "\n",
    "df = pd.read_csv('./data/ozone.csv')\n",
    "# print(df.shape) # (153, 6)\n",
    "\n",
    "training_data = df.dropna(how='any', inplace=False) # 결측치 제거\n",
    "# print(training_data.shape) # (111, 6)\n",
    "\n",
    "zscore_threshold = 2.0 # zscore로 이상치 제거\n",
    "\n",
    "for col in training_data.columns:\n",
    "    outlier = training_data[col][np.abs(stats.zscore(training_data[col])) > zscore_threshold]\n",
    "    training_data = training_data.loc[~training_data[col].isin(outlier)]\n",
    "\n",
    "# display(training_data.head()) # Sklearn 쓸 거라서 정규화는 따로 하지 않음\n",
    "\n",
    "# Data Set\n",
    "x_data = training_data[['Solar.R', 'Wind', 'Temp']].values\n",
    "t_data = training_data[['Ozone']].values.reshape(-1,1)\n",
    "\n",
    "# Train / Validation Data Set으로 분리\n",
    "train_x_data, valid_x_data, train_t_data, valid_t_data = \\\n",
    "train_test_split(x_data,\n",
    "                 t_data,\n",
    "                 test_size=0.3,\n",
    "                 random_state=2) # random_state은 seed 역할\n",
    "\n",
    "# Model\n",
    "model = linear_model.LinearRegression()\n",
    "\n",
    "# Model 학습\n",
    "model.fit(train_x_data, train_t_data)\n",
    "\n",
    "# 예측값. 정답은 valid_t_data\n",
    "predict_value = model.predict(valid_x_data)"
   ]
  },
  {
   "cell_type": "code",
   "execution_count": 72,
   "id": "177537f2",
   "metadata": {},
   "outputs": [
    {
     "name": "stdout",
     "output_type": "stream",
     "text": [
      "13.924465776324642\n"
     ]
    }
   ],
   "source": [
    "from sklearn.metrics import mean_absolute_error # MAE\n",
    "\n",
    "print(mean_absolute_error(valid_t_data, predict_value)) # 13.924465776324642"
   ]
  },
  {
   "cell_type": "code",
   "execution_count": 73,
   "id": "ffc75478",
   "metadata": {},
   "outputs": [
    {
     "name": "stdout",
     "output_type": "stream",
     "text": [
      "271.5671192367061\n"
     ]
    }
   ],
   "source": [
    "from sklearn.metrics import mean_squared_error # MSE\n",
    "\n",
    "print(mean_squared_error(valid_t_data, predict_value)) # 271.5671192367061"
   ]
  },
  {
   "cell_type": "code",
   "execution_count": 74,
   "id": "eab979e1",
   "metadata": {
    "scrolled": true
   },
   "outputs": [
    {
     "name": "stdout",
     "output_type": "stream",
     "text": [
      "0.3734728354920861\n"
     ]
    }
   ],
   "source": [
    "from sklearn.metrics import r2_score # R-Squared\n",
    "\n",
    "print(r2_score(valid_t_data, predict_value)) # 0.3734728354920861"
   ]
  }
 ],
 "metadata": {
  "kernelspec": {
   "display_name": "Python [conda env:machine_TF15] *",
   "language": "python",
   "name": "conda-env-machine_TF15-py"
  },
  "language_info": {
   "codemirror_mode": {
    "name": "ipython",
    "version": 3
   },
   "file_extension": ".py",
   "mimetype": "text/x-python",
   "name": "python",
   "nbconvert_exporter": "python",
   "pygments_lexer": "ipython3",
   "version": "3.7.13"
  }
 },
 "nbformat": 4,
 "nbformat_minor": 5
}
