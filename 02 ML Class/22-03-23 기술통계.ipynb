{
 "cells": [
  {
   "cell_type": "code",
   "execution_count": 17,
   "id": "7955a4f1",
   "metadata": {
    "scrolled": true
   },
   "outputs": [
    {
     "name": "stdout",
     "output_type": "stream",
     "text": [
      "55.0\n",
      "55.0\n",
      "english    55.0\n",
      "dtype: float64\n",
      "56.5\n",
      "0    1\n",
      "dtype: int64\n"
     ]
    }
   ],
   "source": [
    "import numpy as np\n",
    "import pandas as pd\n",
    "import matplotlib.pyplot as plt\n",
    "\n",
    "df = pd.read_csv('./data/student_scores_em.csv',\n",
    "                index_col='student number')\n",
    "\n",
    "# print(df.shape)\n",
    "# display(df.head(3))\n",
    "\n",
    "scores = df['english'][:10] # 영어 성적 상단 10개만 슬라이싱\n",
    "\n",
    "scores_df = pd.DataFrame(scores) # Series\n",
    "# display(scores_df)\n",
    "\n",
    "print(scores.mean())     # 55.0. Series의 메서드. 평균\n",
    "print(np.mean(scores))   # 55.0. Numpy의 함수\n",
    "print(scores_df.mean())  # 55.0. Pandas(DataFrame)의 메서드. 결과는 Series\n",
    "\n",
    "print(np.median(scores)) # 56.5. Numpy의 함수. 중위값\n",
    "\n",
    "print(pd.Series([1,1,1,2,2,3]).mode()) # 1. Pandas의 함수. 최빈값"
   ]
  },
  {
   "cell_type": "code",
   "execution_count": 39,
   "id": "07ad3f1a",
   "metadata": {},
   "outputs": [
    {
     "name": "stdout",
     "output_type": "stream",
     "text": [
      "student number\n",
      "1    -13.0\n",
      "2     14.0\n",
      "3      1.0\n",
      "4    -14.0\n",
      "5      2.0\n",
      "6     -7.0\n",
      "7     10.0\n",
      "8     -6.0\n",
      "9     10.0\n",
      "10     3.0\n",
      "Name: english, dtype: float64\n",
      "0.0\n",
      "86.0\n",
      "86.0\n",
      "english    95.555556\n",
      "dtype: float64\n",
      "english    86.0\n",
      "dtype: float64\n",
      "9.273618495495704\n",
      "9.273618495495704\n",
      "15.0\n"
     ]
    }
   ],
   "source": [
    "import numpy as np\n",
    "import pandas as pd\n",
    "import matplotlib.pyplot as plt\n",
    "\n",
    "df = pd.read_csv('./data/student_scores_em.csv',\n",
    "                index_col='student number')\n",
    "\n",
    "scores = df['english'][:10]\n",
    "\n",
    "scores_df = pd.DataFrame(scores)\n",
    "\n",
    "deviation = scores - np.mean(scores) # 편차. Series - Scala(broadcasting). 값이 여러개라 활용하기 어려움\n",
    "print(deviation)\n",
    "\n",
    "print(deviation.mean())              # 0. 편차의 평균(합)\n",
    "\n",
    "print(np.mean(deviation ** 2))       # 86.0. 분산, 편차의 제곱의 평균\n",
    "print(np.var(deviation))             # 86.0. Numpy의 함수. 분산\n",
    "print(scores_df.var())               # 95.555556. Pandas(DataFrame)의 메서드. 모든 컬럼에 대한 분산을 구함\n",
    "\n",
    "# 왜 Numpy / Pandas의 분산 값이 다를까?\n",
    "# 표본분산 : Numpy, 통상적)\n",
    "# 불편분산 : Pandas, 편차의 제곱의 합을 n으로 나누는 것이 아닌 n-1로 나눔. 분모가 작아서 값이 커짐!\n",
    "\n",
    "print(scores_df.var(ddof=0))        # 86.0. ddof=0 옵션을 줘서 표본분산을 구함\n",
    "\n",
    "print(np.sqrt(np.var(scores)))      # 9.273618495495704. Numpy의 함수. 표준편차. 분산에 루트를 씌워서 제곱근을 구하라\n",
    "print(np.std(scores))               # 9.273618495495704. Numpy의 함수. 표준편차. Series의 표준편차를 구하라\n",
    "\n",
    "# 사분위 값을 구하는 Numpy의 함수. 사분위 범위(IQR)\n",
    "Q1 = np.percentile(scores, 25) # Numpy의 함수. 1사분위(Q1, 25%)\n",
    "Q2 = np.percentile(scores, 50) # 2사분위(Q2, 50%) = 중위값(median)\n",
    "Q3 = np.percentile(scores, 75) # 3사분위(Q3, 75%)\n",
    "\n",
    "IQR = Q3 - Q1\n",
    "print(IQR) # 15.0. 사분위 범위(IQR)"
   ]
  },
  {
   "cell_type": "code",
   "execution_count": 54,
   "id": "24b3a233",
   "metadata": {
    "scrolled": false
   },
   "outputs": [
    {
     "name": "stdout",
     "output_type": "stream",
     "text": [
      "[42 69 56 41 57 48 65 49 65 58 70 47 51 64 62 70 71 68 73 37 65 65 61 52\n",
      " 57 57 75 61 47 54 66 54 54 42 37 79 56 62 62 55 63 57 57 67 55 45 66 55\n",
      " 64 66]\n",
      "[  0.  10.  20.  30.  40.  50.  60.  70.  80.  90. 100.]\n",
      "[ 0  0  0  2  8 16 18  6  0  0]\n"
     ]
    },
    {
     "data": {
      "text/html": [
       "<div>\n",
       "<style scoped>\n",
       "    .dataframe tbody tr th:only-of-type {\n",
       "        vertical-align: middle;\n",
       "    }\n",
       "\n",
       "    .dataframe tbody tr th {\n",
       "        vertical-align: top;\n",
       "    }\n",
       "\n",
       "    .dataframe thead th {\n",
       "        text-align: right;\n",
       "    }\n",
       "</style>\n",
       "<table border=\"1\" class=\"dataframe\">\n",
       "  <thead>\n",
       "    <tr style=\"text-align: right;\">\n",
       "      <th></th>\n",
       "      <th>Frequency</th>\n",
       "    </tr>\n",
       "  </thead>\n",
       "  <tbody>\n",
       "    <tr>\n",
       "      <th>0~10</th>\n",
       "      <td>0</td>\n",
       "    </tr>\n",
       "    <tr>\n",
       "      <th>10~20</th>\n",
       "      <td>0</td>\n",
       "    </tr>\n",
       "    <tr>\n",
       "      <th>20~30</th>\n",
       "      <td>0</td>\n",
       "    </tr>\n",
       "    <tr>\n",
       "      <th>30~40</th>\n",
       "      <td>2</td>\n",
       "    </tr>\n",
       "    <tr>\n",
       "      <th>40~50</th>\n",
       "      <td>8</td>\n",
       "    </tr>\n",
       "    <tr>\n",
       "      <th>50~60</th>\n",
       "      <td>16</td>\n",
       "    </tr>\n",
       "    <tr>\n",
       "      <th>60~70</th>\n",
       "      <td>18</td>\n",
       "    </tr>\n",
       "    <tr>\n",
       "      <th>70~80</th>\n",
       "      <td>6</td>\n",
       "    </tr>\n",
       "    <tr>\n",
       "      <th>80~90</th>\n",
       "      <td>0</td>\n",
       "    </tr>\n",
       "    <tr>\n",
       "      <th>90~100</th>\n",
       "      <td>0</td>\n",
       "    </tr>\n",
       "  </tbody>\n",
       "</table>\n",
       "</div>"
      ],
      "text/plain": [
       "        Frequency\n",
       "0~10            0\n",
       "10~20           0\n",
       "20~30           0\n",
       "30~40           2\n",
       "40~50           8\n",
       "50~60          16\n",
       "60~70          18\n",
       "70~80           6\n",
       "80~90           0\n",
       "90~100          0"
      ]
     },
     "metadata": {},
     "output_type": "display_data"
    }
   ],
   "source": [
    "df = pd.read_csv('./data/student_scores_em.csv',\n",
    "                index_col='student number')\n",
    "\n",
    "scores = df['english'].values # 영어성적을 가지고 ndarray 생성\n",
    "print(scores)\n",
    "\n",
    "freq, tmp = np.histogram(scores, bins=10, range=(0, 100)) # 경계값과 데이터 범위를 지정\n",
    "print(tmp) # 경계값 구함\n",
    "print(freq) # 각 구간에 몇 개의 데이터가 들어가 있는지(frequency, 도수)\n",
    "\n",
    "# 단변수(1차원) 데이터의 도수분포표를 DataFrame으로 만들기\n",
    "freq_class = [str(i) + '~' + str(i+10) for i in range(0, 100, 10)] # 행 index부터 만들기(list comprehension)\n",
    "print(freq_class)\n",
    "freq_dist_df = pd.DataFrame({'Frequency':freq}, index=freq_class)\n",
    "display(freq_dist_df)"
   ]
  },
  {
   "cell_type": "code",
   "execution_count": 64,
   "id": "1294686e",
   "metadata": {
    "scrolled": true
   },
   "outputs": [
    {
     "data": {
      "text/html": [
       "<div>\n",
       "<style scoped>\n",
       "    .dataframe tbody tr th:only-of-type {\n",
       "        vertical-align: middle;\n",
       "    }\n",
       "\n",
       "    .dataframe tbody tr th {\n",
       "        vertical-align: top;\n",
       "    }\n",
       "\n",
       "    .dataframe thead th {\n",
       "        text-align: right;\n",
       "    }\n",
       "</style>\n",
       "<table border=\"1\" class=\"dataframe\">\n",
       "  <thead>\n",
       "    <tr style=\"text-align: right;\">\n",
       "      <th></th>\n",
       "      <th>Frequency</th>\n",
       "      <th>class_mark</th>\n",
       "      <th>rel_freq</th>\n",
       "      <th>cum_rel_freq</th>\n",
       "    </tr>\n",
       "  </thead>\n",
       "  <tbody>\n",
       "    <tr>\n",
       "      <th>0~10</th>\n",
       "      <td>0</td>\n",
       "      <td>5.0</td>\n",
       "      <td>0.00</td>\n",
       "      <td>0.00</td>\n",
       "    </tr>\n",
       "    <tr>\n",
       "      <th>10~20</th>\n",
       "      <td>0</td>\n",
       "      <td>15.0</td>\n",
       "      <td>0.00</td>\n",
       "      <td>0.00</td>\n",
       "    </tr>\n",
       "    <tr>\n",
       "      <th>20~30</th>\n",
       "      <td>0</td>\n",
       "      <td>25.0</td>\n",
       "      <td>0.00</td>\n",
       "      <td>0.00</td>\n",
       "    </tr>\n",
       "    <tr>\n",
       "      <th>30~40</th>\n",
       "      <td>2</td>\n",
       "      <td>35.0</td>\n",
       "      <td>0.04</td>\n",
       "      <td>0.04</td>\n",
       "    </tr>\n",
       "    <tr>\n",
       "      <th>40~50</th>\n",
       "      <td>8</td>\n",
       "      <td>45.0</td>\n",
       "      <td>0.16</td>\n",
       "      <td>0.20</td>\n",
       "    </tr>\n",
       "    <tr>\n",
       "      <th>50~60</th>\n",
       "      <td>16</td>\n",
       "      <td>55.0</td>\n",
       "      <td>0.32</td>\n",
       "      <td>0.52</td>\n",
       "    </tr>\n",
       "    <tr>\n",
       "      <th>60~70</th>\n",
       "      <td>18</td>\n",
       "      <td>65.0</td>\n",
       "      <td>0.36</td>\n",
       "      <td>0.88</td>\n",
       "    </tr>\n",
       "    <tr>\n",
       "      <th>70~80</th>\n",
       "      <td>6</td>\n",
       "      <td>75.0</td>\n",
       "      <td>0.12</td>\n",
       "      <td>1.00</td>\n",
       "    </tr>\n",
       "    <tr>\n",
       "      <th>80~90</th>\n",
       "      <td>0</td>\n",
       "      <td>85.0</td>\n",
       "      <td>0.00</td>\n",
       "      <td>1.00</td>\n",
       "    </tr>\n",
       "    <tr>\n",
       "      <th>90~100</th>\n",
       "      <td>0</td>\n",
       "      <td>95.0</td>\n",
       "      <td>0.00</td>\n",
       "      <td>1.00</td>\n",
       "    </tr>\n",
       "  </tbody>\n",
       "</table>\n",
       "</div>"
      ],
      "text/plain": [
       "        Frequency  class_mark  rel_freq  cum_rel_freq\n",
       "0~10            0         5.0      0.00          0.00\n",
       "10~20           0        15.0      0.00          0.00\n",
       "20~30           0        25.0      0.00          0.00\n",
       "30~40           2        35.0      0.04          0.04\n",
       "40~50           8        45.0      0.16          0.20\n",
       "50~60          16        55.0      0.32          0.52\n",
       "60~70          18        65.0      0.36          0.88\n",
       "70~80           6        75.0      0.12          1.00\n",
       "80~90           0        85.0      0.00          1.00\n",
       "90~100          0        95.0      0.00          1.00"
      ]
     },
     "metadata": {},
     "output_type": "display_data"
    }
   ],
   "source": [
    "df = pd.read_csv('./data/student_scores_em.csv',\n",
    "                index_col='student number')\n",
    "\n",
    "scores = df['english'].values\n",
    "# print(scores)\n",
    "\n",
    "freq, tmp = np.histogram(scores, bins=10, range=(0, 100))\n",
    "\n",
    "# 도수분포표\n",
    "freq_class = [str(i) + '~' + str(i+10) for i in range(0, 100, 10)]\n",
    "\n",
    "freq_dist_df = pd.DataFrame({'Frequency':freq}, index=freq_class)\n",
    "\n",
    "# class mark(계급값). class(구간)를 값으로 표현\n",
    "class_mark = [(i + (i+10)) / 2 for i in range(0,100,10)]\n",
    "freq_dist_df['class_mark'] = class_mark\n",
    "\n",
    "# relative frequensy(상대도수). 전체 데이터에 대해 해당 class의 도수가 얼마 만큼의 비율을 차지하고 있는지\n",
    "rel_freq = freq / freq.sum()\n",
    "freq_dist_df['rel_freq'] = rel_freq\n",
    "\n",
    "# cumulative relative frequency(누적 상대도수). 해당 class까지 상대도수의 누적\n",
    "# print(rel_freq)\n",
    "# print(np.cumsum(rel_freq)) # Numpy의 함수. 누적 상대도수\n",
    "freq_dist_df['cum_rel_freq'] = np.cumsum(rel_freq)\n",
    "\n",
    "display(freq_dist_df)"
   ]
  },
  {
   "cell_type": "code",
   "execution_count": 75,
   "id": "51591f3c",
   "metadata": {
    "scrolled": false
   },
   "outputs": [
    {
     "data": {
      "image/png": "[encoded data removed]",
      "text/plain": [
       "<Figure size 720x432 with 1 Axes>"
      ]
     },
     "metadata": {
      "needs_background": "light"
     },
     "output_type": "display_data"
    }
   ],
   "source": [
    "# Histogram\n",
    "import matplotlib.pyplot as plt\n",
    "\n",
    "df = pd.read_csv('./data/student_scores_em.csv',\n",
    "                index_col='student number')\n",
    "\n",
    "scores = df['english'].values\n",
    "\n",
    "figure = plt.figure(figsize=(10,6))\n",
    "ax = figure.add_subplot(1,1,1)\n",
    "\n",
    "ax.hist(scores, bins=10, range=(1,100))\n",
    "plt.show()"
   ]
  },
  {
   "cell_type": "code",
   "execution_count": 90,
   "id": "c34c774b",
   "metadata": {
    "scrolled": false
   },
   "outputs": [
    {
     "data": {
      "image/png": "[encoded data removed]",
      "text/plain": [
       "<Figure size 720x432 with 1 Axes>"
      ]
     },
     "metadata": {
      "needs_background": "light"
     },
     "output_type": "display_data"
    }
   ],
   "source": [
    "import matplotlib.pyplot as plt\n",
    "\n",
    "df = pd.read_csv('./data/student_scores_em.csv',\n",
    "                index_col='student number')\n",
    "\n",
    "scores = df['english'].values\n",
    "\n",
    "fig = plt.figure(figsize=(10,6))\n",
    "ax = fig.add_subplot(1,1,1)\n",
    "\n",
    "ax.boxplot(scores)\n",
    "plt.show()\n",
    "\n",
    "# display(df.sort_values(by='english', ascending=True))"
   ]
  },
  {
   "cell_type": "code",
   "execution_count": 101,
   "id": "e09f01b1",
   "metadata": {},
   "outputs": [
    {
     "data": {
      "image/png": "[encoded data removed]",
      "text/plain": [
       "<Figure size 288x288 with 1 Axes>"
      ]
     },
     "metadata": {
      "needs_background": "light"
     },
     "output_type": "display_data"
    },
    {
     "name": "stdout",
     "output_type": "stream",
     "text": [
      "55.0 71.4\n"
     ]
    }
   ],
   "source": [
    "# 2차원 데이터의 수치지표과 시작적 표현\n",
    "df = pd.read_csv('./data/student_scores_em.csv',\n",
    "                index_col='student number')\n",
    "\n",
    "en_scores = df['english'][:10]\n",
    "ma_scores = df['mathematics'][:10]\n",
    "scores_df = pd.DataFrame({'english': en_scores.values,\n",
    "                         'mathematics': ma_scores.values},\n",
    "                        index=['A', 'B', 'C', 'D', 'E', 'F', 'G','H', 'I', 'J'])\n",
    "# display(scores_df)\n",
    "fig = plt.figure(figsize=(4,4))\n",
    "ax = fig.add_subplot(1,1,1)\n",
    "\n",
    "ax.scatter(en_scores,ma_scores)\n",
    "ax.set_xlabel('english')\n",
    "ax.set_ylabel('mathematics')\n",
    "plt.show()\n",
    "\n",
    "print(en_scores.mean(), ma_scores.mean()) # 55.0 71.4"
   ]
  }
 ],
 "metadata": {
  "kernelspec": {
   "display_name": "Python [conda env:machine] *",
   "language": "python",
   "name": "conda-env-machine-py"
  },
  "language_info": {
   "codemirror_mode": {
    "name": "ipython",
    "version": 3
   },
   "file_extension": ".py",
   "mimetype": "text/x-python",
   "name": "python",
   "nbconvert_exporter": "python",
   "pygments_lexer": "ipython3",
   "version": "3.8.12"
  }
 },
 "nbformat": 4,
 "nbformat_minor": 5
}
