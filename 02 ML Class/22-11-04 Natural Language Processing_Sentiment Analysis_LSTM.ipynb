{
 "cells": [
  {
   "cell_type": "markdown",
   "metadata": {},
   "source": [
    "### 데이터 준비"
   ]
  },
  {
   "cell_type": "code",
   "execution_count": 9,
   "metadata": {},
   "outputs": [],
   "source": [
    "import requests\n",
    "\n",
    "res = requests.get('https://github.com/euphoris/datasets/raw/master/imdb.zip')\n",
    "\n",
    "with open('imdb.zip', 'wb') as f:\n",
    "  f.write(res.content)"
   ]
  },
  {
   "cell_type": "code",
   "execution_count": 1,
   "metadata": {},
   "outputs": [],
   "source": [
    "import pandas as pd\n",
    "\n",
    "df = pd.read_csv('imdb.zip')"
   ]
  },
  {
   "cell_type": "code",
   "execution_count": 2,
   "metadata": {},
   "outputs": [
    {
     "name": "stderr",
     "output_type": "stream",
     "text": [
      "2022-11-07 09:40:30.062000: W tensorflow/stream_executor/platform/default/dso_loader.cc:64] Could not load dynamic library 'libcudart.so.11.0'; dlerror: libcudart.so.11.0: cannot open shared object file: No such file or directory\n",
      "2022-11-07 09:40:30.062033: I tensorflow/stream_executor/cuda/cudart_stub.cc:29] Ignore above cudart dlerror if you do not have a GPU set up on your machine.\n"
     ]
    }
   ],
   "source": [
    "import tensorflow as tf\n",
    "\n",
    "tk = tf.keras.preprocessing.text.Tokenizer(num_words=2000, oov_token='<unk>')"
   ]
  },
  {
   "cell_type": "code",
   "execution_count": 3,
   "metadata": {},
   "outputs": [],
   "source": [
    "tk.fit_on_texts(df['review'])"
   ]
  },
  {
   "cell_type": "code",
   "execution_count": 4,
   "metadata": {},
   "outputs": [
    {
     "data": {
      "text/plain": [
       "['tokenizer.pkl']"
      ]
     },
     "execution_count": 4,
     "metadata": {},
     "output_type": "execute_result"
    }
   ],
   "source": [
    "import joblib\n",
    "\n",
    "joblib.dump(tk, 'tokenizer.pkl')"
   ]
  },
  {
   "cell_type": "code",
   "execution_count": 5,
   "metadata": {},
   "outputs": [],
   "source": [
    "import joblib\n",
    "\n",
    "tk = joblib.load('tokenizer.pkl')"
   ]
  },
  {
   "cell_type": "code",
   "execution_count": 6,
   "metadata": {},
   "outputs": [],
   "source": [
    "from sklearn.model_selection import train_test_split\n",
    "\n",
    "review_train, review_test, y_train, y_test = train_test_split(df['review'], \\\n",
    "    df['sentiment'], test_size=0.2, random_state=42)"
   ]
  },
  {
   "cell_type": "code",
   "execution_count": 7,
   "metadata": {},
   "outputs": [],
   "source": [
    "seqs = tk.texts_to_sequences(review_train)"
   ]
  },
  {
   "cell_type": "code",
   "execution_count": null,
   "metadata": {},
   "outputs": [],
   "source": [
    "seqs_test = tk.texts_to_sequences(review_test)"
   ]
  },
  {
   "cell_type": "code",
   "execution_count": 8,
   "metadata": {},
   "outputs": [
    {
     "data": {
      "text/plain": [
       "'It is an insane game.'"
      ]
     },
     "execution_count": 8,
     "metadata": {},
     "output_type": "execute_result"
    }
   ],
   "source": [
    "review_train.iloc[0]"
   ]
  },
  {
   "cell_type": "code",
   "execution_count": 9,
   "metadata": {},
   "outputs": [
    {
     "data": {
      "text/plain": [
       "[[9, 6, 33, 1258, 214],\n",
       " [178, 5, 28, 35, 23, 168, 713, 591, 3, 713, 1, 10, 1, 280],\n",
       " [206, 336, 4]]"
      ]
     },
     "execution_count": 9,
     "metadata": {},
     "output_type": "execute_result"
    }
   ],
   "source": [
    "seqs[:3]"
   ]
  },
  {
   "cell_type": "markdown",
   "metadata": {},
   "source": [
    "### 순방향 순환신경망"
   ]
  },
  {
   "cell_type": "code",
   "execution_count": 39,
   "metadata": {},
   "outputs": [],
   "source": [
    "# maxlen: None(기본값), 10일 경우 10으로 문장의 길이를 잘라서 패딩 처리\n",
    "# padding: pre(기본값), post(뒤쪽에 0 패딩 처리), pre를 권장\n",
    "# truncating: pre(기본값), maxlen 값이 설정되어 있어야 동작함. 성능 테스트 후 적당한 걸 선택\n",
    "\n",
    "import tensorflow as tf\n",
    "\n",
    "pads = tf.keras.preprocessing.sequence.pad_sequences(seqs, maxlen = None, \\\n",
    "    padding = 'pre', truncating = 'pre')"
   ]
  },
  {
   "cell_type": "code",
   "execution_count": null,
   "metadata": {},
   "outputs": [],
   "source": [
    "pads_test = tf.keras.preprocessing.sequence.pad_sequences(seqs_test, maxlen=None, \\\n",
    "    padding = 'pre', truncating = 'pre')"
   ]
  },
  {
   "cell_type": "code",
   "execution_count": 11,
   "metadata": {},
   "outputs": [
    {
     "data": {
      "text/plain": [
       "(800, (800, 73))"
      ]
     },
     "execution_count": 11,
     "metadata": {},
     "output_type": "execute_result"
    }
   ],
   "source": [
    "len(pads), pads.shape"
   ]
  },
  {
   "cell_type": "code",
   "execution_count": 12,
   "metadata": {},
   "outputs": [],
   "source": [
    "NUM_WORDS = tk.num_words + 1"
   ]
  },
  {
   "cell_type": "code",
   "execution_count": 27,
   "metadata": {},
   "outputs": [],
   "source": [
    "model = tf.keras.Sequential([\n",
    "    tf.keras.layers.Embedding(NUM_WORDS, 8, mask_zero = True), # mask_zero는 0으로 되어있는 패딩을 무시하라\n",
    "    tf.keras.layers.LSTM(8),\n",
    "    tf.keras.layers.Dense(1, activation = 'sigmoid')\n",
    "])"
   ]
  },
  {
   "cell_type": "code",
   "execution_count": 28,
   "metadata": {},
   "outputs": [
    {
     "name": "stdout",
     "output_type": "stream",
     "text": [
      "Model: \"sequential_3\"\n",
      "_________________________________________________________________\n",
      " Layer (type)                Output Shape              Param #   \n",
      "=================================================================\n",
      " embedding_3 (Embedding)     (None, None, 8)           16008     \n",
      "                                                                 \n",
      " lstm_3 (LSTM)               (None, 8)                 544       \n",
      "                                                                 \n",
      " dense_3 (Dense)             (None, 1)                 9         \n",
      "                                                                 \n",
      "=================================================================\n",
      "Total params: 16,561\n",
      "Trainable params: 16,561\n",
      "Non-trainable params: 0\n",
      "_________________________________________________________________\n"
     ]
    }
   ],
   "source": [
    "model.summary()"
   ]
  },
  {
   "cell_type": "code",
   "execution_count": 29,
   "metadata": {},
   "outputs": [],
   "source": [
    "model.compile(loss = 'binary_crossentropy', optimizer='adam', metrics='accuracy')"
   ]
  },
  {
   "cell_type": "code",
   "execution_count": 30,
   "metadata": {},
   "outputs": [
    {
     "name": "stdout",
     "output_type": "stream",
     "text": [
      "Epoch 1/10\n",
      "25/25 [==============================] - 3s 18ms/step - loss: 0.6927 - accuracy: 0.5400\n",
      "Epoch 2/10\n",
      "25/25 [==============================] - 0s 18ms/step - loss: 0.6887 - accuracy: 0.7212\n",
      "Epoch 3/10\n",
      "25/25 [==============================] - 0s 18ms/step - loss: 0.6761 - accuracy: 0.7538\n",
      "Epoch 4/10\n",
      "25/25 [==============================] - 0s 18ms/step - loss: 0.6295 - accuracy: 0.7887\n",
      "Epoch 5/10\n",
      "25/25 [==============================] - 0s 18ms/step - loss: 0.5377 - accuracy: 0.8587\n",
      "Epoch 6/10\n",
      "25/25 [==============================] - 0s 18ms/step - loss: 0.4418 - accuracy: 0.9038\n",
      "Epoch 7/10\n",
      "25/25 [==============================] - 0s 18ms/step - loss: 0.3792 - accuracy: 0.9225\n",
      "Epoch 8/10\n",
      "25/25 [==============================] - 0s 18ms/step - loss: 0.3341 - accuracy: 0.9362\n",
      "Epoch 9/10\n",
      "25/25 [==============================] - 0s 18ms/step - loss: 0.2959 - accuracy: 0.9413\n",
      "Epoch 10/10\n",
      "25/25 [==============================] - 0s 18ms/step - loss: 0.2660 - accuracy: 0.9525\n"
     ]
    },
    {
     "data": {
      "text/plain": [
       "<keras.callbacks.History at 0x7f431d088e20>"
      ]
     },
     "execution_count": 30,
     "metadata": {},
     "output_type": "execute_result"
    }
   ],
   "source": [
    "model.fit(pads, y_train.values, epochs=10)"
   ]
  },
  {
   "cell_type": "code",
   "execution_count": null,
   "metadata": {},
   "outputs": [],
   "source": [
    "model.evaluate(pads_test, y_test.values)"
   ]
  },
  {
   "cell_type": "markdown",
   "metadata": {},
   "source": [
    "### 역방향 순환신경망\n",
    "역방향 순환신경망일 경우 패딩을 post로 처리하는 것이 좋음. 순방향일 경우는 pre"
   ]
  },
  {
   "cell_type": "markdown",
   "metadata": {},
   "source": [
    "#### padding = 'pre'"
   ]
  },
  {
   "cell_type": "code",
   "execution_count": 40,
   "metadata": {},
   "outputs": [],
   "source": [
    "model = tf.keras.Sequential([\n",
    "    tf.keras.layers.Embedding(NUM_WORDS, 8, mask_zero = True),\n",
    "    tf.keras.layers.LSTM(8, go_backwards = True), # go_backwards는 역방향 설정\n",
    "    tf.keras.layers.Dense(1, activation = 'sigmoid')\n",
    "])"
   ]
  },
  {
   "cell_type": "code",
   "execution_count": 41,
   "metadata": {},
   "outputs": [],
   "source": [
    "model.compile(loss = 'binary_crossentropy', optimizer='adam', metrics='accuracy')"
   ]
  },
  {
   "cell_type": "code",
   "execution_count": 42,
   "metadata": {},
   "outputs": [
    {
     "name": "stdout",
     "output_type": "stream",
     "text": [
      "Epoch 1/10\n",
      "25/25 [==============================] - 4s 21ms/step - loss: 0.6931 - accuracy: 0.5000\n",
      "Epoch 2/10\n",
      "25/25 [==============================] - 0s 18ms/step - loss: 0.6895 - accuracy: 0.5362\n",
      "Epoch 3/10\n",
      "25/25 [==============================] - 0s 18ms/step - loss: 0.6794 - accuracy: 0.7500\n",
      "Epoch 4/10\n",
      "25/25 [==============================] - 0s 19ms/step - loss: 0.6439 - accuracy: 0.8338\n",
      "Epoch 5/10\n",
      "25/25 [==============================] - 0s 19ms/step - loss: 0.5431 - accuracy: 0.8550\n",
      "Epoch 6/10\n",
      "25/25 [==============================] - 0s 18ms/step - loss: 0.4325 - accuracy: 0.8838\n",
      "Epoch 7/10\n",
      "25/25 [==============================] - 0s 18ms/step - loss: 0.3450 - accuracy: 0.9275\n",
      "Epoch 8/10\n",
      "25/25 [==============================] - 0s 18ms/step - loss: 0.2870 - accuracy: 0.9388\n",
      "Epoch 9/10\n",
      "25/25 [==============================] - 0s 18ms/step - loss: 0.2397 - accuracy: 0.9525\n",
      "Epoch 10/10\n",
      "25/25 [==============================] - 0s 18ms/step - loss: 0.2188 - accuracy: 0.9513\n"
     ]
    },
    {
     "data": {
      "text/plain": [
       "<keras.callbacks.History at 0x7f42ec4d61a0>"
      ]
     },
     "execution_count": 42,
     "metadata": {},
     "output_type": "execute_result"
    }
   ],
   "source": [
    "model.fit(pads, y_train.values, epochs=10)"
   ]
  },
  {
   "cell_type": "markdown",
   "metadata": {},
   "source": [
    "#### padding = 'post'"
   ]
  },
  {
   "cell_type": "code",
   "execution_count": 44,
   "metadata": {},
   "outputs": [],
   "source": [
    "import tensorflow as tf\n",
    "\n",
    "pads = tf.keras.preprocessing.sequence.pad_sequences(seqs, padding = 'post')"
   ]
  },
  {
   "cell_type": "code",
   "execution_count": 45,
   "metadata": {},
   "outputs": [],
   "source": [
    "model = tf.keras.Sequential([\n",
    "    tf.keras.layers.Embedding(NUM_WORDS, 8, mask_zero = True),\n",
    "    tf.keras.layers.LSTM(8, go_backwards = True),\n",
    "    tf.keras.layers.Dense(1, activation = 'sigmoid')\n",
    "])"
   ]
  },
  {
   "cell_type": "code",
   "execution_count": 46,
   "metadata": {},
   "outputs": [],
   "source": [
    "model.compile(loss = 'binary_crossentropy', optimizer='adam', metrics='accuracy')"
   ]
  },
  {
   "cell_type": "code",
   "execution_count": 47,
   "metadata": {},
   "outputs": [
    {
     "name": "stdout",
     "output_type": "stream",
     "text": [
      "Epoch 1/10\n",
      "25/25 [==============================] - 4s 18ms/step - loss: 0.6926 - accuracy: 0.5400\n",
      "Epoch 2/10\n",
      "25/25 [==============================] - 0s 18ms/step - loss: 0.6890 - accuracy: 0.6463\n",
      "Epoch 3/10\n",
      "25/25 [==============================] - 0s 18ms/step - loss: 0.6783 - accuracy: 0.7663\n",
      "Epoch 4/10\n",
      "25/25 [==============================] - 0s 18ms/step - loss: 0.6368 - accuracy: 0.8125\n",
      "Epoch 5/10\n",
      "25/25 [==============================] - 0s 19ms/step - loss: 0.5451 - accuracy: 0.8650\n",
      "Epoch 6/10\n",
      "25/25 [==============================] - 0s 19ms/step - loss: 0.4314 - accuracy: 0.9237\n",
      "Epoch 7/10\n",
      "25/25 [==============================] - 0s 18ms/step - loss: 0.3574 - accuracy: 0.9225\n",
      "Epoch 8/10\n",
      "25/25 [==============================] - 0s 18ms/step - loss: 0.2924 - accuracy: 0.9350\n",
      "Epoch 9/10\n",
      "25/25 [==============================] - 0s 18ms/step - loss: 0.2623 - accuracy: 0.9425\n",
      "Epoch 10/10\n",
      "25/25 [==============================] - 0s 18ms/step - loss: 0.2502 - accuracy: 0.9413\n"
     ]
    },
    {
     "data": {
      "text/plain": [
       "<keras.callbacks.History at 0x7f42cb484e80>"
      ]
     },
     "execution_count": 47,
     "metadata": {},
     "output_type": "execute_result"
    }
   ],
   "source": [
    "model.fit(pads, y_train.values, epochs=10)"
   ]
  },
  {
   "cell_type": "markdown",
   "metadata": {},
   "source": [
    "### 양방향 순환신경망"
   ]
  },
  {
   "cell_type": "code",
   "execution_count": 48,
   "metadata": {},
   "outputs": [],
   "source": [
    "model = tf.keras.Sequential([\n",
    "    tf.keras.layers.Embedding(NUM_WORDS, 8, mask_zero = True),\n",
    "    tf.keras.layers.Bidirectional(tf.keras.layers.LSTM(8)),\n",
    "    tf.keras.layers.Dense(1, activation = 'sigmoid')\n",
    "])"
   ]
  },
  {
   "cell_type": "code",
   "execution_count": 49,
   "metadata": {},
   "outputs": [
    {
     "name": "stdout",
     "output_type": "stream",
     "text": [
      "Model: \"sequential_8\"\n",
      "_________________________________________________________________\n",
      " Layer (type)                Output Shape              Param #   \n",
      "=================================================================\n",
      " embedding_8 (Embedding)     (None, None, 8)           16008     \n",
      "                                                                 \n",
      " bidirectional (Bidirectiona  (None, 16)               1088      \n",
      " l)                                                              \n",
      "                                                                 \n",
      " dense_8 (Dense)             (None, 1)                 17        \n",
      "                                                                 \n",
      "=================================================================\n",
      "Total params: 17,113\n",
      "Trainable params: 17,113\n",
      "Non-trainable params: 0\n",
      "_________________________________________________________________\n"
     ]
    }
   ],
   "source": [
    "model.summary()"
   ]
  },
  {
   "cell_type": "code",
   "execution_count": 52,
   "metadata": {},
   "outputs": [],
   "source": [
    "model.compile(loss = 'binary_crossentropy', optimizer='adam', metrics=['accuracy'])"
   ]
  },
  {
   "cell_type": "code",
   "execution_count": 53,
   "metadata": {},
   "outputs": [
    {
     "name": "stdout",
     "output_type": "stream",
     "text": [
      "Epoch 1/10\n",
      "25/25 [==============================] - 6s 22ms/step - loss: 0.1153 - accuracy: 0.9775\n",
      "Epoch 2/10\n",
      "25/25 [==============================] - 1s 22ms/step - loss: 0.0975 - accuracy: 0.9800\n",
      "Epoch 3/10\n",
      "25/25 [==============================] - 1s 23ms/step - loss: 0.0834 - accuracy: 0.9850\n",
      "Epoch 4/10\n",
      "25/25 [==============================] - 1s 22ms/step - loss: 0.0726 - accuracy: 0.9862\n",
      "Epoch 5/10\n",
      "25/25 [==============================] - 1s 23ms/step - loss: 0.0662 - accuracy: 0.9887\n",
      "Epoch 6/10\n",
      "25/25 [==============================] - 1s 22ms/step - loss: 0.0579 - accuracy: 0.9912\n",
      "Epoch 7/10\n",
      "25/25 [==============================] - 1s 22ms/step - loss: 0.0532 - accuracy: 0.9887\n",
      "Epoch 8/10\n",
      "25/25 [==============================] - 1s 22ms/step - loss: 0.0508 - accuracy: 0.9887\n",
      "Epoch 9/10\n",
      "25/25 [==============================] - 1s 30ms/step - loss: 0.0459 - accuracy: 0.9925\n",
      "Epoch 10/10\n",
      "25/25 [==============================] - 1s 26ms/step - loss: 0.0420 - accuracy: 0.9950\n"
     ]
    },
    {
     "data": {
      "text/plain": [
       "<keras.callbacks.History at 0x7f42c87f3d60>"
      ]
     },
     "execution_count": 53,
     "metadata": {},
     "output_type": "execute_result"
    }
   ],
   "source": [
    "model.fit(pads, y_train.values, epochs=10)"
   ]
  }
 ],
 "metadata": {
  "kernelspec": {
   "display_name": "Python 3.10.6 ('study')",
   "language": "python",
   "name": "python3"
  },
  "language_info": {
   "codemirror_mode": {
    "name": "ipython",
    "version": 3
   },
   "file_extension": ".py",
   "mimetype": "text/x-python",
   "name": "python",
   "nbconvert_exporter": "python",
   "pygments_lexer": "ipython3",
   "version": "3.10.6"
  },
  "orig_nbformat": 4,
  "vscode": {
   "interpreter": {
    "hash": "7686ba3900ac7c249b87df7ba5470728244e461a13fc76511b10ac837ea0b4fa"
   }
  }
 },
 "nbformat": 4,
 "nbformat_minor": 2
}
