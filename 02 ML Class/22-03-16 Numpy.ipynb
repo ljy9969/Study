{
 "cells": [
  {
   "cell_type": "code",
   "execution_count": 4,
   "id": "e6f241ed",
   "metadata": {
    "scrolled": true
   },
   "outputs": [
    {
     "name": "stdout",
     "output_type": "stream",
     "text": [
      "[[ 40  46]\n",
      " [ 94 109]]\n"
     ]
    }
   ],
   "source": [
    "import numpy as np\n",
    "\n",
    "arr1 = np.array([[1,2,3], [4,5,6]])  # (2,3)\n",
    "arr2 = np.array([[4,5],[6,7],[8,9]]) # (3,2)\n",
    "print(np.matmul(arr1, arr2))         # 행렬곱연산. matmul() 함수 사용해서 계산. 결과는 (2,2)\n",
    "# [[ 40  46]\n",
    "#  [ 94 109]]"
   ]
  },
  {
   "cell_type": "code",
   "execution_count": 5,
   "id": "3e76cf2e",
   "metadata": {
    "scrolled": true
   },
   "outputs": [
    {
     "name": "stdout",
     "output_type": "stream",
     "text": [
      "[[1 2 3]\n",
      " [4 5 6]]\n",
      "[[1 4]\n",
      " [2 5]\n",
      " [3 6]]\n"
     ]
    }
   ],
   "source": [
    "# 전치행렬(transpose). 행은 열로, 열은 행으로 바꿔줌\n",
    "arr = np.array([[1,2,3], [4,5,6]])   #(2,3)\n",
    "print(arr)\n",
    "print(arr.T) # T라는 속성을 사용. (3,2)"
   ]
  },
  {
   "cell_type": "code",
   "execution_count": 20,
   "id": "47ce9f3a",
   "metadata": {
    "scrolled": true
   },
   "outputs": [
    {
     "name": "stdout",
     "output_type": "stream",
     "text": [
      "1\n",
      "2\n",
      "3\n",
      "4\n",
      "5\n"
     ]
    }
   ],
   "source": [
    "# iterator(반복자)를 이용한 반복문 처리. ndarray는 python의 for문과 달리 while문과 iterator를 이용\n",
    "arr = np.array([1,2,3,4,5]) # (5,)\n",
    "\n",
    "# for tmp in arr: # python의 for문\n",
    "#     print(tmp)\n",
    "\n",
    "my_iter = np.nditer(arr, flags=['c_index']) # iterator 객체를 얻어옮. 변수 넣고 flags라는 속성으로 차원 정해줌. 1차원\n",
    "# print(my_iter)           # <numpy.nditer object at 0x0000019C75B253F0> 인덱스 값 출력\n",
    "\n",
    "while not my_iter.finished: # my_iter의 iterator가 가르치는 값이 끝이 아니면 계속 반복(True)\n",
    "    idx = my_iter.index\n",
    "    print(arr[idx])         # index의 요소 출력\n",
    "    my_iter.iternext()      # iterator 다음으로 이동\n",
    "# 1\n",
    "# 2\n",
    "# 3\n",
    "# 4\n",
    "# 5"
   ]
  },
  {
   "cell_type": "code",
   "execution_count": 34,
   "id": "a13edd08",
   "metadata": {
    "scrolled": true
   },
   "outputs": [
    {
     "name": "stdout",
     "output_type": "stream",
     "text": [
      "1 (0, 0)\n",
      "2 (0, 1)\n",
      "3 (0, 2)\n",
      "4 (1, 0)\n",
      "5 (1, 1)\n",
      "6 (1, 2)\n"
     ]
    }
   ],
   "source": [
    "arr = np.array([[1,2,3],[4,5,6]])                # (2,3)\n",
    "\n",
    "# for tmp1 in range(arr.shape[0]):               # 행에 대한 range. range(2). 2차원이니까 for문 2번\n",
    "#     for tmp2 in range(arr.shape[1]):           # 열에 대한 range. range(3)\n",
    "#         print(arr[tmp1, tmp2])\n",
    "\n",
    "my_iter = np.nditer(arr, flags=['multi_index']) # flags 속성은 다차원\n",
    "while not my_iter.finished:\n",
    "    idx = my_iter.multi_index                   # 다차원에서는 multi_index 메서드 사용\n",
    "#     print(idx)\n",
    "    print(arr[idx], idx)\n",
    "    my_iter.iternext()\n",
    "# 1 (0, 0)\n",
    "# 2 (0, 1)\n",
    "# 3 (0, 2)\n",
    "# 4 (1, 0)\n",
    "# 5 (1, 1)\n",
    "# 6 (1, 2)"
   ]
  },
  {
   "cell_type": "code",
   "execution_count": 41,
   "id": "3691e7d6",
   "metadata": {
    "scrolled": false
   },
   "outputs": [
    {
     "name": "stdout",
     "output_type": "stream",
     "text": [
      "[[1 2 3]\n",
      " [4 5 6]]\n",
      "21\n",
      "21\n",
      "3.5\n",
      "6\n",
      "1\n",
      "5\n",
      "1.707825127659933\n"
     ]
    }
   ],
   "source": [
    "# 집계함수\n",
    "arr = np.arange(1,7,1).reshape(2,3) # reshape로 원본 ndarray의 view를 2행 3열로 만듦\n",
    "print(arr)          # [[1 2 3]\n",
    "                    # [4 5 6]]\n",
    "    \n",
    "print(np.sum(arr))  # 21. 모든 요소의 합. Numpy가 제공하는 함수\n",
    "print(arr.sum())    # 21. ndarray가 가진 메서드\n",
    "print(arr.mean())   # 3.5. 평균\n",
    "print(arr.max())    # 6. 최대값\n",
    "print(arr.min())    # 1. 최소값\n",
    "print(arr.argmax()) # 5. 가장 큰 값의 인덱스\n",
    "print(arr.std())    # 1.707825127659933. 표준편차"
   ]
  },
  {
   "cell_type": "code",
   "execution_count": 44,
   "id": "1ea122e2",
   "metadata": {
    "scrolled": true
   },
   "outputs": [
    {
     "name": "stdout",
     "output_type": "stream",
     "text": [
      "[[1 2 3]\n",
      " [4 5 6]]\n",
      "[5 7 9]\n",
      "[ 6 15]\n"
     ]
    }
   ],
   "source": [
    "# axis(축) 개념. 0부터 시작하는 축을 숫자로 표현. ndarray는 축을 지정해주지 않으면 전체에 대해 연산함. 다차원에서는 axis가 바뀜\n",
    "\n",
    "arr = np.arange(1,7,1).reshape(2,3)\n",
    "print(arr)             # [[1 2 3]\n",
    "                       # [4 5 6]]\n",
    "print(arr.sum(axis=0)) # [5 7 9]. 행 방향 axis를 부여해서 열끼리 합을 구함\n",
    "print(arr.sum(axis=1)) # [ 6 15]. 열 방향 axis를 부여해서 행끼리 합을 구함"
   ]
  },
  {
   "cell_type": "code",
   "execution_count": 65,
   "id": "0b3a2abd",
   "metadata": {
    "scrolled": true
   },
   "outputs": [
    {
     "name": "stdout",
     "output_type": "stream",
     "text": [
      "[[ 1  2  3  4]\n",
      " [ 5  6  7  8]\n",
      " [ 9 10 11 12]\n",
      " [13 14 15 16]]\n",
      "6\n",
      "6\n",
      "[[False False False False]\n",
      " [False False False False]\n",
      " [False False  True  True]\n",
      " [ True  True  True  True]]\n",
      "6\n"
     ]
    }
   ],
   "source": [
    "# 연습문제. 이 안에 10보다 큰 수는 몇 개? 6개! cf) Boolean indexing\n",
    "arr = np.arange(1, 17, 1).reshape(4,4)\n",
    "print(arr)\n",
    "\n",
    "my_mask = (arr > 10)\n",
    "# print(arr[my_mask])\n",
    "print(len(arr[my_mask]))\n",
    "print(my_mask.sum())\n",
    "\n",
    "print((arr > 10))       # Boolean indexing\n",
    "print((arr > 10).sum()) # True = 1. True를 모두 더해라!"
   ]
  }
 ],
 "metadata": {
  "kernelspec": {
   "display_name": "Python [conda env:machine] *",
   "language": "python",
   "name": "conda-env-machine-py"
  },
  "language_info": {
   "codemirror_mode": {
    "name": "ipython",
    "version": 3
   },
   "file_extension": ".py",
   "mimetype": "text/x-python",
   "name": "python",
   "nbconvert_exporter": "python",
   "pygments_lexer": "ipython3",
   "version": "3.8.12"
  }
 },
 "nbformat": 4,
 "nbformat_minor": 5
}
