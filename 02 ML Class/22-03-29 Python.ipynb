{
  "nbformat": 4,
  "nbformat_minor": 0,
  "metadata": {
    "colab": {
      "name": "22-03-29 Python.ipynb",
      "provenance": [],
      "authorship_tag": "ABX9TyOi86fHCQIJLWGkzau9ezxN",
      "include_colab_link": true
    },
    "kernelspec": {
      "name": "python3",
      "display_name": "Python 3"
    },
    "language_info": {
      "name": "python"
    }
  },
  "cells": [
    {
      "cell_type": "markdown",
      "metadata": {
        "id": "view-in-github",
        "colab_type": "text"
      },
      "source": [
        "<a href=\"https://colab.research.google.com/github/ljy9969/Study/blob/master/22-03-29%20Python.ipynb\" target=\"_parent\"><img src=\"https://colab.research.google.com/assets/colab-badge.svg\" alt=\"Open In Colab\"/></a>"
      ]
    },
    {
      "cell_type": "markdown",
      "source": [
        "평균은 넘겠지\n",
        "\n",
        "첫째 줄에는 테스트 케이스의 개수 C가 주어진다.\n",
        "\n",
        "둘째 줄부터 각 테스트 케이스마다 학생의 수 N(1 ≤ N ≤ 1000, N은 정수)이 첫 수로 주어지고, 이어서 N명의 점수가 주어진다. 점수는 0보다 크거나 같고, 100보다 작거나 같은 정수이다.\n",
        "\n",
        "각 케이스마다 한 줄씩 평균을 넘는 학생들의 비율을 반올림하여 소수점 셋째 자리까지 출력한다."
      ],
      "metadata": {
        "id": "i7W0u4kKLgTu"
      }
    },
    {
      "cell_type": "code",
      "execution_count": null,
      "metadata": {
        "id": "6WcSOauCLaIq"
      },
      "outputs": [],
      "source": [
        "N = int(input())\n",
        "for i in range(N):\n",
        "  T = list(map(int, input().split()))\n",
        "  A1 = T.pop(0)\n",
        "  A = sum(T) / A1\n",
        "  B = 0\n",
        "  for j in T:\n",
        "    if j > A:\n",
        "      B += 1\n",
        "    C = round(B/A1*100, 3)\n",
        "  print('%.3f'%C + '%')"
      ]
    }
  ]
}
