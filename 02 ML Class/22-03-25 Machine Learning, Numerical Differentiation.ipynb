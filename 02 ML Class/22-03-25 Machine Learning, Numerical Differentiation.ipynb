{
 "cells": [
  {
   "cell_type": "code",
   "execution_count": 11,
   "id": "4cdca332",
   "metadata": {},
   "outputs": [
    {
     "name": "stdout",
     "output_type": "stream",
     "text": [
      "Hello\n",
      "<function my_func at 0x000001BDE34994C0>\n",
      "30\n",
      "50\n"
     ]
    }
   ],
   "source": [
    "def my_func(): # Python의 함수는 변수에 저장되는 개념. 함수 이름이 변수\n",
    "    print('Hello')\n",
    "   \n",
    "my_func()      # Hello\n",
    "print(my_func) # <function my_func at 0x000001BDE34994C0>\n",
    "\n",
    "# 일급함수(first-classes function)를 지원하는 프로그래밍 언어들(Javascript, Python)이 있음. C 언어는 일급함수를 지원하지 않음\n",
    "# 함수 이름이 변수 이름이기 때문에, 변수(다른 함수의 인자로)처럼 사용할 수 있음\n",
    "\n",
    "def my_func2(x): # 파라미터로 변수를 넘김\n",
    "    print(x + 10)\n",
    "\n",
    "tmp = 20\n",
    "my_func2(tmp) # 30\n",
    "\n",
    "def my_func3(x):\n",
    "    x(20)\n",
    "\n",
    "def my_func4(x):\n",
    "    print(x + 30)\n",
    "    \n",
    "my_func3(my_func4) # 50"
   ]
  },
  {
   "cell_type": "code",
   "execution_count": 1,
   "id": "d7a6571b",
   "metadata": {
    "scrolled": true
   },
   "outputs": [
    {
     "name": "stdout",
     "output_type": "stream",
     "text": [
      "9.999999999976694\n"
     ]
    }
   ],
   "source": [
    "# Python으로 일(단)변수 함수의 수치미분(중앙차분 이용) 코드를 만들고 미분값을 구해보자\n",
    "# f(x) = x^2\n",
    "# f'(x) = 2x\n",
    "# f'(5) = 10 # 해석미분\n",
    "\n",
    "def my_func(x): # 우리가 가지고 있는 함수 f(x)\n",
    "    return x ** 2\n",
    "\n",
    "def numerical_derivative(f,x): # 미분을 수행하는 함수\n",
    "    \n",
    "    delta_x = 1e-4 # 극한에 해당하는 값. 너무 작은 값을 사용하면 실수 계산 오류 발생\n",
    "    # 1e-4 정도의 값을 이용하면, 적당한 수치미분 값(근사값)을 구할 수 있음\n",
    "    \n",
    "    return (f(x + delta_x) - f(x - delta_x)) / (2 * delta_x)\n",
    "\n",
    "# f'(5)\n",
    "result = numerical_derivative(my_func, 5)\n",
    "print(result) # 9.999999999976694"
   ]
  },
  {
   "cell_type": "code",
   "execution_count": 3,
   "id": "b5b77437",
   "metadata": {
    "scrolled": true
   },
   "outputs": [
    {
     "name": "stdout",
     "output_type": "stream",
     "text": [
      "[ 8.         15.00000001]\n"
     ]
    }
   ],
   "source": [
    "# Python으로 다변수 함수의 수치미분(중앙차분 이용) 코드를 만들고 미분값을 구해보자\n",
    "# f(x,y) = 2x + 3xy + y^3 # 2변수 함수\n",
    "# f'(1.0, 2.0) = ??\n",
    "# f(a, b, c) = 3a + 3bc + b^2 + c^3 # 3변수 함수\n",
    "\n",
    "import numpy as np\n",
    "\n",
    "# def my_func(x,y): # 이렇게 구현하면, 다변수 함수의 수치미분 코드를 3변수 이상에 대해서 각각 구현해야함\n",
    "#     return 2 * x + 3 * x * y + y ** 3\n",
    "\n",
    "# print(my_func(1.0, 2.0)) # 16.0\n",
    "\n",
    "def my_func(input_value): # input_value = [x,y] 리스트로 값이 2개 넘어온다. ndarray로 들어올 경우 [x y]\n",
    "    x = input_value[0]\n",
    "    y = input_value[1]\n",
    "    return 2 * x + 3 * x * y + y ** 3\n",
    "\n",
    "# x : [1.0, 2.0] → 결과 : [8.0, 15.0] / x : [1.0, 2.0, 3.0] → 결과 : [8.0, 15.0, 20]\n",
    "\n",
    "def numerical_derivative(f,x): # 다변수 함수의 수치미분 코드. input_value = [x y] ndarray로 값이 2개 넘어온다\n",
    "# x : [[1.0 2.0]\n",
    "#      [3.0 4.0]]\n",
    "# → 결과 : [[8.0 15.0]\n",
    "#            [20.0 30.0]]\n",
    "    delta_x = 1e-4\n",
    "    derivative_x = np.zeros_like(x) # derivative_x : [0.0 0.0]. x의 shape과 같도록 ndarray 만듦\n",
    "\n",
    "# iterator를 이용해서 입력변수 x에 대한 편미분을 수행\n",
    "    it = np.nditer(x, flags=['multi_index']) # iterator 객체를 얻어 변수 넣고 flags라는 속성으로 차원 정해주고 반복~\n",
    "\n",
    "    while not it.finished:\n",
    "        idx = it.multi_index\n",
    "        tmp = x[idx] # tmp : 1.0\n",
    "\n",
    "        x[idx] = tmp + delta_x # x : ndarray [1.0001 2.0]\n",
    "        fx_plus_delta = f(x)\n",
    "\n",
    "        x[idx] = tmp - delta_x # x : ndarray [0.9999 2.0]\n",
    "        fx_minus_delta = f(x)\n",
    "\n",
    "        derivative_x[idx] = (fx_plus_delta - fx_minus_delta) / (2 * delta_x)\n",
    "\n",
    "        x[idx] = tmp # x : ndarray [1.0 2.0]\n",
    "        it.iternext()\n",
    "    return derivative_x\n",
    "\n",
    "result = numerical_derivative(my_func, np.array([1.0, 2.0]))\n",
    "print(result) # [ 8.         15.00000001]"
   ]
  },
  {
   "cell_type": "code",
   "execution_count": 4,
   "id": "958475c4",
   "metadata": {},
   "outputs": [
    {
     "name": "stdout",
     "output_type": "stream",
     "text": [
      "[[ 5. 13.]\n",
      " [32. 15.]]\n"
     ]
    }
   ],
   "source": [
    "# Python으로 4변수 함수의 수치미분(중앙차분 이용) 코드를 만들고 미분값을 구해보자\n",
    "\n",
    "# f(w,x,y,z) = wx + xyz + 3w + zy^2\n",
    "# 수치미분\n",
    "# f'(1.0, 2.0, 3.0, 4.0) = ?\n",
    "\n",
    "def my_func(input_value): # [[1.0 2.0\n",
    "                          #  3.0 4.0]]\n",
    "    w = input_value[0,0]\n",
    "    x = input_value[0,1]\n",
    "    y = input_value[1,0]\n",
    "    z = input_value[1,1]\n",
    "    \n",
    "    return (w*x) + (x*y*z) + (3*w) + (z*(y**2))\n",
    "\n",
    "result = numerical_derivative(my_func, np.array([[1.0, 2.0], [3.0, 4.0]]))\n",
    "print(result)\n",
    "# [[ 5. 13.]\n",
    "#  [32. 15.]]"
   ]
  }
 ],
 "metadata": {
  "kernelspec": {
   "display_name": "Python [conda env:machine] *",
   "language": "python",
   "name": "conda-env-machine-py"
  },
  "language_info": {
   "codemirror_mode": {
    "name": "ipython",
    "version": 3
   },
   "file_extension": ".py",
   "mimetype": "text/x-python",
   "name": "python",
   "nbconvert_exporter": "python",
   "pygments_lexer": "ipython3",
   "version": "3.8.12"
  }
 },
 "nbformat": 4,
 "nbformat_minor": 5
}
