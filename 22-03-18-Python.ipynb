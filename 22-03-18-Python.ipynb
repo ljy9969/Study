{
  "nbformat": 4,
  "nbformat_minor": 0,
  "metadata": {
    "colab": {
      "name": "22-03-18 Python.ipynb",
      "provenance": [],
      "collapsed_sections": [],
      "authorship_tag": "ABX9TyPcKJ3R8oFzcG8dxrXyAWK0",
      "include_colab_link": true
    },
    "kernelspec": {
      "name": "python3",
      "display_name": "Python 3"
    },
    "language_info": {
      "name": "python"
    }
  },
  "cells": [
    {
      "cell_type": "markdown",
      "metadata": {
        "id": "view-in-github",
        "colab_type": "text"
      },
      "source": [
        "<a href=\"https://colab.research.google.com/github/ljy9969/Study/blob/master/22-03-18-Python.ipynb\" target=\"_parent\"><img src=\"https://colab.research.google.com/assets/colab-badge.svg\" alt=\"Open In Colab\"/></a>"
      ]
    },
    {
      "cell_type": "code",
      "execution_count": null,
      "metadata": {
        "id": "hEWWWBfqDn6s"
      },
      "outputs": [],
      "source": [
        "a, b = map(int, input().split())\n",
        "print(a + b)"
      ]
    },
    {
      "cell_type": "code",
      "source": [
        "a = map(int, input().split())\n",
        "b = inp\n",
        "print(float(a + b))"
      ],
      "metadata": {
        "id": "5-NAOo8AdmJr"
      },
      "execution_count": null,
      "outputs": []
    }
  ]
}