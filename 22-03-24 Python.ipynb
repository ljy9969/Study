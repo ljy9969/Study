{
  "nbformat": 4,
  "nbformat_minor": 0,
  "metadata": {
    "colab": {
      "name": "22-03-24 Python.ipynb",
      "provenance": [],
      "authorship_tag": "ABX9TyPfbacNkO26rlxzyyV3bQux",
      "include_colab_link": true
    },
    "kernelspec": {
      "name": "python3",
      "display_name": "Python 3"
    },
    "language_info": {
      "name": "python"
    }
  },
  "cells": [
    {
      "cell_type": "markdown",
      "metadata": {
        "id": "view-in-github",
        "colab_type": "text"
      },
      "source": [
        "<a href=\"https://colab.research.google.com/github/ljy9969/Study/blob/master/22-03-24%20Python.ipynb\" target=\"_parent\"><img src=\"https://colab.research.google.com/assets/colab-badge.svg\" alt=\"Open In Colab\"/></a>"
      ]
    },
    {
      "cell_type": "markdown",
      "source": [
        "2의 거듭제곱 배로 곱해 출력하기"
      ],
      "metadata": {
        "id": "He7idNf8Yjrl"
      }
    },
    {
      "cell_type": "code",
      "source": [
        "a, b = map(int, input().split())\n",
        "print(a << b)"
      ],
      "metadata": {
        "id": "cMPCbC7VYkEl"
      },
      "execution_count": null,
      "outputs": []
    },
    {
      "cell_type": "markdown",
      "source": [
        "정수 2개 입력받아 비교하기1"
      ],
      "metadata": {
        "id": "5Pl7QY6QYkSN"
      }
    },
    {
      "cell_type": "code",
      "source": [
        "a, b = map(int, input().split())\n",
        "print(a < b)"
      ],
      "metadata": {
        "colab": {
          "base_uri": "https://localhost:8080/"
        },
        "id": "zxwS8WG_YkZ9",
        "outputId": "342c06cf-2c04-45b9-c6f6-ff70b3f544ae"
      },
      "execution_count": 2,
      "outputs": [
        {
          "output_type": "stream",
          "name": "stdout",
          "text": [
            "456 123\n",
            "False\n"
          ]
        }
      ]
    },
    {
      "cell_type": "markdown",
      "source": [
        "정수 2개 입력받아 비교하기2"
      ],
      "metadata": {
        "id": "xU_qaQNLYkmW"
      }
    },
    {
      "cell_type": "code",
      "source": [
        "a, b = map(int, input().split())\n",
        "print(a == b)"
      ],
      "metadata": {
        "colab": {
          "base_uri": "https://localhost:8080/"
        },
        "id": "Jvi87DgZYktG",
        "outputId": "11b6fc25-899d-46cc-b08e-3652907d1b20"
      },
      "execution_count": 4,
      "outputs": [
        {
          "output_type": "stream",
          "name": "stdout",
          "text": [
            "123 111\n",
            "False\n"
          ]
        }
      ]
    },
    {
      "cell_type": "markdown",
      "source": [
        "정수 2개 입력받아 비교하기3\n",
        "\n",
        "b의 값이 a의 값 보다 크거나 같으면 True 를, 같지 않으면 False"
      ],
      "metadata": {
        "id": "65BXc-OZnWwo"
      }
    },
    {
      "cell_type": "code",
      "source": [
        "a, b = map(int, input().split())\n",
        "print(a <= b)"
      ],
      "metadata": {
        "id": "3ReEsRpnnW5O"
      },
      "execution_count": null,
      "outputs": []
    },
    {
      "cell_type": "markdown",
      "source": [
        "정수 2개 입력받아 비교하기4\n",
        "\n",
        "a의 값이 b의 값과 서로 다르면 True 를, 같으면 False"
      ],
      "metadata": {
        "id": "CZcxMSbknnFn"
      }
    },
    {
      "cell_type": "code",
      "source": [
        "a, b = map(int, input().split())\n",
        "print(a != b)"
      ],
      "metadata": {
        "id": "S3JEfOPhnnMZ"
      },
      "execution_count": null,
      "outputs": []
    },
    {
      "cell_type": "markdown",
      "source": [
        "정수 입력받아 참 거짓 평가하기\n",
        "\n",
        "0은 실수"
      ],
      "metadata": {
        "id": "Hm_qWejOn7Ry"
      }
    },
    {
      "cell_type": "code",
      "source": [
        "n = int(input())\n",
        "print(bool(n))"
      ],
      "metadata": {
        "colab": {
          "base_uri": "https://localhost:8080/"
        },
        "id": "1K3q3x1un7aB",
        "outputId": "b885ac8e-4470-4113-f312-1c4230cec241"
      },
      "execution_count": 7,
      "outputs": [
        {
          "output_type": "stream",
          "name": "stdout",
          "text": [
            "0\n",
            "False\n"
          ]
        }
      ]
    },
    {
      "cell_type": "markdown",
      "source": [
        "참 거짓 바꾸기"
      ],
      "metadata": {
        "id": "IbAwfvW2oNej"
      }
    },
    {
      "cell_type": "code",
      "source": [
        "a = bool(int(input()))\n",
        "print(not a)"
      ],
      "metadata": {
        "colab": {
          "base_uri": "https://localhost:8080/"
        },
        "id": "ASNYQYxyoOkb",
        "outputId": "e4373e7d-52ca-4586-96b4-a25b05189bbf"
      },
      "execution_count": 8,
      "outputs": [
        {
          "output_type": "stream",
          "name": "stdout",
          "text": [
            "0\n",
            "True\n"
          ]
        }
      ]
    },
    {
      "cell_type": "markdown",
      "source": [
        "둘 다 참일 경우만 참 출력하기"
      ],
      "metadata": {
        "id": "3dfcGfjWoa_m"
      }
    },
    {
      "cell_type": "code",
      "source": [
        "a, b = input().split()\n",
        "print(bool(int(a)) and bool(int(b)))"
      ],
      "metadata": {
        "colab": {
          "base_uri": "https://localhost:8080/"
        },
        "id": "uWCX-U9ZobIj",
        "outputId": "7f8c947b-a814-462b-c061-863c2f9ab763"
      },
      "execution_count": 11,
      "outputs": [
        {
          "output_type": "stream",
          "name": "stdout",
          "text": [
            "0 1\n",
            "False\n"
          ]
        }
      ]
    },
    {
      "cell_type": "markdown",
      "source": [
        "하나라도 참이면 참 출력하기"
      ],
      "metadata": {
        "id": "i-7hx3pqo4Di"
      }
    },
    {
      "cell_type": "code",
      "source": [
        "a, b = input().split()\n",
        "print(bool(int(a)) or bool(int(b)))"
      ],
      "metadata": {
        "colab": {
          "base_uri": "https://localhost:8080/"
        },
        "id": "qIlEqVvJo4NL",
        "outputId": "f340c807-7cd5-408a-da24-52c309aea4f8"
      },
      "execution_count": 12,
      "outputs": [
        {
          "output_type": "stream",
          "name": "stdout",
          "text": [
            "0 1\n",
            "True\n"
          ]
        }
      ]
    },
    {
      "cell_type": "markdown",
      "source": [
        "참/거짓이 서로 다를 때에만 참 출력하기"
      ],
      "metadata": {
        "id": "exETEp65pCdP"
      }
    },
    {
      "cell_type": "code",
      "source": [
        "a, b = input().split()\n",
        "c = bool(int(a))\n",
        "d = bool(int(b))\n",
        "print((c and (not d)) or ((not c) and d))"
      ],
      "metadata": {
        "colab": {
          "base_uri": "https://localhost:8080/"
        },
        "id": "h_JQqQjgpCmp",
        "outputId": "748a88f5-fc8a-4d22-ca7b-bc91c4b8f7ab"
      },
      "execution_count": 18,
      "outputs": [
        {
          "output_type": "stream",
          "name": "stdout",
          "text": [
            "0 65\n",
            "True\n"
          ]
        }
      ]
    }
  ]
}