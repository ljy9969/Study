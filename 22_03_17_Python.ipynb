{
  "nbformat": 4,
  "nbformat_minor": 0,
  "metadata": {
    "colab": {
      "name": "22_03_17_Python.ipynb",
      "provenance": [],
      "collapsed_sections": [],
      "authorship_tag": "ABX9TyOglTxACkNldMDr6s9YXLX6",
      "include_colab_link": true
    },
    "kernelspec": {
      "name": "python3",
      "display_name": "Python 3"
    },
    "language_info": {
      "name": "python"
    }
  },
  "cells": [
    {
      "cell_type": "markdown",
      "metadata": {
        "id": "view-in-github",
        "colab_type": "text"
      },
      "source": [
        "<a href=\"https://colab.research.google.com/github/ljy9969/Study/blob/master/22_03_17_Python.ipynb\" target=\"_parent\"><img src=\"https://colab.research.google.com/assets/colab-badge.svg\" alt=\"Open In Colab\"/></a>"
      ]
    },
    {
      "cell_type": "code",
      "execution_count": null,
      "metadata": {
        "id": "QKvMXLchNaMe"
      },
      "outputs": [],
      "source": [
        "a, b = input().split()\n",
        "print(a)\n",
        "print(b)"
      ]
    },
    {
      "cell_type": "code",
      "source": [
        "a, b = input().split()\n",
        "print(b)\n",
        "print(a)"
      ],
      "metadata": {
        "id": "xuurqm0NNp0g"
      },
      "execution_count": null,
      "outputs": []
    },
    {
      "cell_type": "code",
      "source": [
        "s = input()\n",
        "print(s, s, s)"
      ],
      "metadata": {
        "id": "z9c2PieBN7yv"
      },
      "execution_count": null,
      "outputs": []
    },
    {
      "cell_type": "code",
      "source": [
        "a, b = input().split(':')\n",
        "print(a, b, sep=':')"
      ],
      "metadata": {
        "colab": {
          "base_uri": "https://localhost:8080/"
        },
        "id": "TmfoCe7OOHfP",
        "outputId": "28d95594-b541-472c-c053-a832fa5ecd36"
      },
      "execution_count": null,
      "outputs": [
        {
          "output_type": "stream",
          "name": "stdout",
          "text": [
            "4:50\n",
            "4:50\n"
          ]
        }
      ]
    },
    {
      "cell_type": "code",
      "source": [
        "y, m, d = input().split('.')\n",
        "print(d + '-' + m + '-' + y)"
      ],
      "metadata": {
        "id": "7pExFLuxQwNg",
        "colab": {
          "base_uri": "https://localhost:8080/"
        },
        "outputId": "9bc04259-c0a3-4d84-c704-9af2677e8d15"
      },
      "execution_count": 2,
      "outputs": [
        {
          "output_type": "stream",
          "name": "stdout",
          "text": [
            "2022.3.17\n",
            "17-3-2022\n"
          ]
        }
      ]
    },
    {
      "cell_type": "code",
      "source": [
        "a, b = input().split('-')\n",
        "print(a+''+b)\n",
        "print(a+b)\n",
        "print(type(a), type(b)) # input()으로 입력 받은 것은 무조건 문자열임을 기억하자!"
      ],
      "metadata": {
        "colab": {
          "base_uri": "https://localhost:8080/"
        },
        "id": "PZvBNTfP81ko",
        "outputId": "12598955-419a-45a3-9e7a-f31d7537f9a6"
      },
      "execution_count": 5,
      "outputs": [
        {
          "output_type": "stream",
          "name": "stdout",
          "text": [
            "900112-2079837\n",
            "9001122079837\n",
            "9001122079837\n",
            "<class 'str'> <class 'str'>\n"
          ]
        }
      ]
    },
    {
      "cell_type": "code",
      "source": [
        "a = input()\n",
        "for i in range(5):\n",
        "  print(a[i])\n",
        "\n",
        "print(a[0])\n",
        "print(a[1])\n",
        "print(a[2])\n",
        "print(a[3])\n",
        "print(a[4])"
      ],
      "metadata": {
        "colab": {
          "base_uri": "https://localhost:8080/"
        },
        "id": "V9mm-Ort-ME2",
        "outputId": "51874608-eb7c-4ff9-c4f6-e2f37c0668cb"
      },
      "execution_count": 11,
      "outputs": [
        {
          "output_type": "stream",
          "name": "stdout",
          "text": [
            "Hello\n",
            "H\n",
            "e\n",
            "l\n",
            "l\n",
            "o\n",
            "H\n",
            "e\n",
            "l\n",
            "l\n",
            "o\n"
          ]
        }
      ]
    },
    {
      "cell_type": "code",
      "source": [
        "a = input()\n",
        "print(a[0:2] + ' ' + a[2:4] + ' ' + a[4:6])\n",
        "print(a[0:2],a[2:4],a[4:6])"
      ],
      "metadata": {
        "colab": {
          "base_uri": "https://localhost:8080/"
        },
        "id": "uYI3Lm3n_XxG",
        "outputId": "f66735d6-a048-445d-f521-d66e072ad53b"
      },
      "execution_count": 15,
      "outputs": [
        {
          "output_type": "stream",
          "name": "stdout",
          "text": [
            "220317\n",
            "22 03 17\n",
            "22 03 17\n"
          ]
        }
      ]
    },
    {
      "cell_type": "code",
      "source": [
        "a = input()\n",
        "print(a[3:5]) # 시/분이 두 자리가 아닌 한 자리만 들어오면 슬라이싱 하는 인덱스가 바뀌어서 오답 ex) 01:01:01 이렇게 들어오는 것이 아닌 1:1:1\n",
        "\n",
        "b = a.split(':')\n",
        "print(b[1])"
      ],
      "metadata": {
        "colab": {
          "base_uri": "https://localhost:8080/"
        },
        "id": "XBmUdPUVAWMH",
        "outputId": "236a566d-b00e-47e2-c823-16297ede0392"
      },
      "execution_count": 22,
      "outputs": [
        {
          "output_type": "stream",
          "name": "stdout",
          "text": [
            "22:13:40\n",
            "13\n",
            "13\n"
          ]
        }
      ]
    },
    {
      "cell_type": "code",
      "source": [
        "w1, w2 = input().split(' ') # 공백문자로 구분된 문장에서 단어를 잘라내기 위해서는 공백문자(' ')를 기준으로 .split()\n",
        "s = w1 + w2\n",
        "print(s)"
      ],
      "metadata": {
        "colab": {
          "base_uri": "https://localhost:8080/"
        },
        "id": "GDeY_9bFBztx",
        "outputId": "bc28a595-4b47-4d6e-8c9b-3bdd5efec293"
      },
      "execution_count": 25,
      "outputs": [
        {
          "output_type": "stream",
          "name": "stdout",
          "text": [
            "안녕 하세요\n",
            "안녕하세요\n"
          ]
        }
      ]
    }
  ]
}